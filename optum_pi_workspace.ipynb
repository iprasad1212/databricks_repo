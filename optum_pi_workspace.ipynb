{
 "cells": [
  {
   "cell_type": "code",
   "execution_count": 0,
   "metadata": {
    "application/vnd.databricks.v1+cell": {
     "cellMetadata": {},
     "inputWidgets": {},
     "nuid": "36372775-2417-48f0-b6df-57372a4021e2",
     "showTitle": false,
     "tableResultSettingsMap": {},
     "title": ""
    }
   },
   "outputs": [],
   "source": [
    "spark.conf.set(\n",
    "    \"fs.azure.account.key.<storage-account>.dfs.core.windows.net\",\n",
    "    dbutils.secrets.get(scope=\"<scope>\", key=\"<storage-account-access-key>\"))"
   ]
  },
  {
   "cell_type": "code",
   "execution_count": 0,
   "metadata": {
    "application/vnd.databricks.v1+cell": {
     "cellMetadata": {
      "byteLimit": 2048000,
      "rowLimit": 10000
     },
     "inputWidgets": {},
     "nuid": "39dee11a-fc76-45c0-83c7-365e7f94a9c3",
     "showTitle": false,
     "tableResultSettingsMap": {},
     "title": ""
    }
   },
   "outputs": [
    {
     "output_type": "display_data",
     "data": {
      "text/html": [
       "<div class = \"ansiout\">\n",
       "This module provides various utilities for users to interact with the rest of Databricks.\n",
       "  <h3></h3><b>credentials: DatabricksCredentialUtils</b> -> Utilities for interacting with credentials within notebooks<br /><b>data: DataUtils</b> -> Utilities for understanding and interacting with datasets (EXPERIMENTAL)<br /><b>fs: DbfsUtils</b> -> Manipulates the Databricks filesystem (DBFS) from the console<br /><b>jobs: JobsUtils</b> -> Utilities for leveraging jobs features<br /><b>library: LibraryUtils</b> -> Utilities for session isolated libraries<br /><b>meta: MetaUtils</b> -> Methods to hook into the compiler (EXPERIMENTAL)<br /><b>notebook: NotebookUtils</b> -> Utilities for the control flow of a notebook (EXPERIMENTAL)<br /><b>preview: Preview</b> -> Utilities under preview category<br /><b>secrets: SecretUtils</b> -> Provides utilities for leveraging secrets within notebooks<br /><b>widgets: WidgetsUtils</b> -> Methods to create and get bound value of input widgets inside notebooks<br /><br /></div>"
      ]
     },
     "metadata": {},
     "output_type": "display_data"
    }
   ],
   "source": [
    "dbutils.help()"
   ]
  },
  {
   "cell_type": "code",
   "execution_count": 0,
   "metadata": {
    "application/vnd.databricks.v1+cell": {
     "cellMetadata": {
      "byteLimit": 2048000,
      "rowLimit": 10000
     },
     "inputWidgets": {},
     "nuid": "12b386d0-1f51-4872-9897-ca911613f0f8",
     "showTitle": false,
     "tableResultSettingsMap": {},
     "title": ""
    }
   },
   "outputs": [
    {
     "output_type": "display_data",
     "data": {
      "text/html": [
       "<div class = \"ansiout\">\n",
       "Provides utilities for leveraging secrets within notebooks.\n",
       "Databricks documentation for more info.\n",
       "    <h3></h3><b>get(scope: String, key: String): String</b> -> Gets the string representation of a secret value with scope and key<br /><b>getBytes(scope: String, key: String): byte[]</b> -> Gets the bytes representation of a secret value with scope and key<br /><b>list(scope: String): Seq</b> -> Lists secret metadata for secrets within a scope<br /><b>listScopes: Seq</b> -> Lists secret scopes<br /><br /></div>"
      ]
     },
     "metadata": {},
     "output_type": "display_data"
    }
   ],
   "source": [
    "dbutils.secrets.help()"
   ]
  },
  {
   "cell_type": "code",
   "execution_count": 0,
   "metadata": {
    "application/vnd.databricks.v1+cell": {
     "cellMetadata": {
      "byteLimit": 2048000,
      "rowLimit": 10000
     },
     "inputWidgets": {},
     "nuid": "5664b797-3411-492b-8e9a-7e74273fe711",
     "showTitle": false,
     "tableResultSettingsMap": {},
     "title": ""
    }
   },
   "outputs": [
    {
     "output_type": "display_data",
     "data": {
      "text/html": [
       "<style scoped>\n",
       "  .table-result-container {\n",
       "    max-height: 300px;\n",
       "    overflow: auto;\n",
       "  }\n",
       "  table, th, td {\n",
       "    border: 1px solid black;\n",
       "    border-collapse: collapse;\n",
       "  }\n",
       "  th, td {\n",
       "    padding: 5px;\n",
       "  }\n",
       "  th {\n",
       "    text-align: left;\n",
       "  }\n",
       "</style><div class='table-result-container'><table class='table-result'><thead style='background-color: white'><tr><th>name</th></tr></thead><tbody><tr><td>optumscope</td></tr></tbody></table></div>"
      ]
     },
     "metadata": {
      "application/vnd.databricks.v1+output": {
       "addedWidgets": {},
       "aggData": [],
       "aggError": "",
       "aggOverflow": false,
       "aggSchema": [],
       "aggSeriesLimitReached": false,
       "aggType": "",
       "arguments": {},
       "columnCustomDisplayInfos": {},
       "data": [
        [
         "optumscope"
        ]
       ],
       "datasetInfos": [],
       "dbfsResultPath": null,
       "isJsonSchema": true,
       "metadata": {},
       "overflow": false,
       "plotOptions": {
        "customPlotOptions": {},
        "displayType": "table",
        "pivotAggregation": null,
        "pivotColumns": null,
        "xColumns": null,
        "yColumns": null
       },
       "removedWidgets": [],
       "schema": [
        {
         "metadata": "{}",
         "name": "name",
         "type": "\"string\""
        }
       ],
       "type": "table"
      }
     },
     "output_type": "display_data"
    }
   ],
   "source": [
    "scopes = dbutils.secrets.listScopes()\n",
    "display(scopes)"
   ]
  },
  {
   "cell_type": "code",
   "execution_count": 0,
   "metadata": {
    "application/vnd.databricks.v1+cell": {
     "cellMetadata": {
      "byteLimit": 2048000,
      "rowLimit": 10000
     },
     "inputWidgets": {},
     "nuid": "0e7374b5-3683-44ea-a3ba-a4d88fe3d17f",
     "showTitle": false,
     "tableResultSettingsMap": {},
     "title": ""
    }
   },
   "outputs": [
    {
     "output_type": "display_data",
     "data": {
      "text/html": [
       "<style scoped>\n",
       "  .table-result-container {\n",
       "    max-height: 300px;\n",
       "    overflow: auto;\n",
       "  }\n",
       "  table, th, td {\n",
       "    border: 1px solid black;\n",
       "    border-collapse: collapse;\n",
       "  }\n",
       "  th, td {\n",
       "    padding: 5px;\n",
       "  }\n",
       "  th {\n",
       "    text-align: left;\n",
       "  }\n",
       "</style><div class='table-result-container'><table class='table-result'><thead style='background-color: white'><tr><th>key</th></tr></thead><tbody><tr><td>optum-adlskey</td></tr><tr><td>optum-blobkey</td></tr><tr><td>optum-blobstring</td></tr></tbody></table></div>"
      ]
     },
     "metadata": {
      "application/vnd.databricks.v1+output": {
       "addedWidgets": {},
       "aggData": [],
       "aggError": "",
       "aggOverflow": false,
       "aggSchema": [],
       "aggSeriesLimitReached": false,
       "aggType": "",
       "arguments": {},
       "columnCustomDisplayInfos": {},
       "data": [
        [
         "optum-adlskey"
        ],
        [
         "optum-blobkey"
        ],
        [
         "optum-blobstring"
        ]
       ],
       "datasetInfos": [],
       "dbfsResultPath": null,
       "isJsonSchema": true,
       "metadata": {},
       "overflow": false,
       "plotOptions": {
        "customPlotOptions": {},
        "displayType": "table",
        "pivotAggregation": null,
        "pivotColumns": null,
        "xColumns": null,
        "yColumns": null
       },
       "removedWidgets": [],
       "schema": [
        {
         "metadata": "{}",
         "name": "key",
         "type": "\"string\""
        }
       ],
       "type": "table"
      }
     },
     "output_type": "display_data"
    }
   ],
   "source": [
    "keys = dbutils.secrets.list(\"optumscope\")\n",
    "display(keys)"
   ]
  },
  {
   "cell_type": "code",
   "execution_count": 0,
   "metadata": {
    "application/vnd.databricks.v1+cell": {
     "cellMetadata": {},
     "inputWidgets": {},
     "nuid": "174fbdd7-a456-4749-b62b-bd191ff4c459",
     "showTitle": false,
     "tableResultSettingsMap": {},
     "title": ""
    }
   },
   "outputs": [],
   "source": [
    "# spark.conf.set(\n",
    "#     \"fs.azure.account.key.<storage-account>.dfs.core.windows.net\",\n",
    "#     dbutils.secrets.get(scope=\"<scope>\", key=\"<storage-account-access-key>\"))"
   ]
  },
  {
   "cell_type": "code",
   "execution_count": 0,
   "metadata": {
    "application/vnd.databricks.v1+cell": {
     "cellMetadata": {
      "byteLimit": 2048000,
      "rowLimit": 10000
     },
     "inputWidgets": {},
     "nuid": "cb0f6436-d5d3-44d7-b7be-64a1d67b4e4d",
     "showTitle": false,
     "tableResultSettingsMap": {},
     "title": ""
    }
   },
   "outputs": [],
   "source": [
    "spark.conf.set(\n",
    "    \"fs.azure.account.key.optumadlsstrg.dfs.core.windows.net\",\n",
    "    dbutils.secrets.get(scope=\"optumscope\", key=\"optum-adlskey\"))"
   ]
  },
  {
   "cell_type": "code",
   "execution_count": 0,
   "metadata": {
    "application/vnd.databricks.v1+cell": {
     "cellMetadata": {
      "byteLimit": 2048000,
      "rowLimit": 10000
     },
     "inputWidgets": {},
     "nuid": "2b5cbfef-19b9-41af-bd9d-33c2a297dde4",
     "showTitle": false,
     "tableResultSettingsMap": {},
     "title": ""
    }
   },
   "outputs": [
    {
     "output_type": "execute_result",
     "data": {
      "text/plain": [
       "[FileInfo(path='abfss://optum@optumadlsstrg.dfs.core.windows.net/bronze/', name='bronze/', size=0, modificationTime=1742050324000),\n",
       " FileInfo(path='abfss://optum@optumadlsstrg.dfs.core.windows.net/gold/', name='gold/', size=0, modificationTime=1742050341000),\n",
       " FileInfo(path='abfss://optum@optumadlsstrg.dfs.core.windows.net/silver/', name='silver/', size=0, modificationTime=1742050334000)]"
      ]
     },
     "execution_count": 8,
     "metadata": {},
     "output_type": "execute_result"
    }
   ],
   "source": [
    "dbutils.fs.ls(\"abfss://optum@optumadlsstrg.dfs.core.windows.net\")"
   ]
  },
  {
   "cell_type": "code",
   "execution_count": 0,
   "metadata": {
    "application/vnd.databricks.v1+cell": {
     "cellMetadata": {
      "byteLimit": 2048000,
      "rowLimit": 10000
     },
     "inputWidgets": {},
     "nuid": "a78fde4b-0975-449f-9e67-991f9532d852",
     "showTitle": false,
     "tableResultSettingsMap": {},
     "title": ""
    }
   },
   "outputs": [
    {
     "output_type": "display_data",
     "data": {
      "text/html": [
       "<style scoped>\n",
       "  .table-result-container {\n",
       "    max-height: 300px;\n",
       "    overflow: auto;\n",
       "  }\n",
       "  table, th, td {\n",
       "    border: 1px solid black;\n",
       "    border-collapse: collapse;\n",
       "  }\n",
       "  th, td {\n",
       "    padding: 5px;\n",
       "  }\n",
       "  th {\n",
       "    text-align: left;\n",
       "  }\n",
       "</style><div class='table-result-container'><table class='table-result'><thead style='background-color: white'><tr><th>path</th><th>name</th><th>size</th><th>modificationTime</th></tr></thead><tbody><tr><td>abfss://optum@optumadlsstrg.dfs.core.windows.net/bronze/</td><td>bronze/</td><td>0</td><td>1742050324000</td></tr><tr><td>abfss://optum@optumadlsstrg.dfs.core.windows.net/gold/</td><td>gold/</td><td>0</td><td>1742050341000</td></tr><tr><td>abfss://optum@optumadlsstrg.dfs.core.windows.net/silver/</td><td>silver/</td><td>0</td><td>1742050334000</td></tr></tbody></table></div>"
      ]
     },
     "metadata": {
      "application/vnd.databricks.v1+output": {
       "addedWidgets": {},
       "aggData": [],
       "aggError": "",
       "aggOverflow": false,
       "aggSchema": [],
       "aggSeriesLimitReached": false,
       "aggType": "",
       "arguments": {},
       "columnCustomDisplayInfos": {},
       "data": [
        [
         "abfss://optum@optumadlsstrg.dfs.core.windows.net/bronze/",
         "bronze/",
         0,
         1742050324000
        ],
        [
         "abfss://optum@optumadlsstrg.dfs.core.windows.net/gold/",
         "gold/",
         0,
         1742050341000
        ],
        [
         "abfss://optum@optumadlsstrg.dfs.core.windows.net/silver/",
         "silver/",
         0,
         1742050334000
        ]
       ],
       "datasetInfos": [],
       "dbfsResultPath": null,
       "isJsonSchema": true,
       "metadata": {},
       "overflow": false,
       "plotOptions": {
        "customPlotOptions": {},
        "displayType": "table",
        "pivotAggregation": null,
        "pivotColumns": null,
        "xColumns": null,
        "yColumns": null
       },
       "removedWidgets": [],
       "schema": [
        {
         "metadata": "{}",
         "name": "path",
         "type": "\"string\""
        },
        {
         "metadata": "{}",
         "name": "name",
         "type": "\"string\""
        },
        {
         "metadata": "{}",
         "name": "size",
         "type": "\"long\""
        },
        {
         "metadata": "{}",
         "name": "modificationTime",
         "type": "\"long\""
        }
       ],
       "type": "table"
      }
     },
     "output_type": "display_data"
    }
   ],
   "source": [
    "display(dbutils.fs.ls(\"abfss://optum@optumadlsstrg.dfs.core.windows.net\"))"
   ]
  },
  {
   "cell_type": "code",
   "execution_count": 0,
   "metadata": {
    "application/vnd.databricks.v1+cell": {
     "cellMetadata": {
      "byteLimit": 2048000,
      "rowLimit": 10000
     },
     "inputWidgets": {},
     "nuid": "08e473b3-0fb0-49e7-a6aa-a441622c33b9",
     "showTitle": false,
     "tableResultSettingsMap": {},
     "title": ""
    }
   },
   "outputs": [
    {
     "output_type": "display_data",
     "data": {
      "text/html": [
       "<style scoped>\n",
       "  .table-result-container {\n",
       "    max-height: 300px;\n",
       "    overflow: auto;\n",
       "  }\n",
       "  table, th, td {\n",
       "    border: 1px solid black;\n",
       "    border-collapse: collapse;\n",
       "  }\n",
       "  th, td {\n",
       "    padding: 5px;\n",
       "  }\n",
       "  th {\n",
       "    text-align: left;\n",
       "  }\n",
       "</style><div class='table-result-container'><table class='table-result'><thead style='background-color: white'><tr><th>path</th><th>name</th><th>size</th><th>modificationTime</th></tr></thead><tbody><tr><td>abfss://optum@optumadlsstrg.dfs.core.windows.net/bronze/Patient_records.csv</td><td>Patient_records.csv</td><td>5110</td><td>1742106535000</td></tr><tr><td>abfss://optum@optumadlsstrg.dfs.core.windows.net/bronze/claims.json</td><td>claims.json</td><td>16385</td><td>1742106535000</td></tr><tr><td>abfss://optum@optumadlsstrg.dfs.core.windows.net/bronze/disease.csv</td><td>disease.csv</td><td>1489</td><td>1742106535000</td></tr><tr><td>abfss://optum@optumadlsstrg.dfs.core.windows.net/bronze/group.csv</td><td>group.csv</td><td>4390</td><td>1742106535000</td></tr><tr><td>abfss://optum@optumadlsstrg.dfs.core.windows.net/bronze/hospital.csv</td><td>hospital.csv</td><td>1328</td><td>1742106535000</td></tr><tr><td>abfss://optum@optumadlsstrg.dfs.core.windows.net/bronze/subgroup.csv</td><td>subgroup.csv</td><td>561</td><td>1742106535000</td></tr><tr><td>abfss://optum@optumadlsstrg.dfs.core.windows.net/bronze/subscriber.csv</td><td>subscriber.csv</td><td>12061</td><td>1742106535000</td></tr></tbody></table></div>"
      ]
     },
     "metadata": {
      "application/vnd.databricks.v1+output": {
       "addedWidgets": {},
       "aggData": [],
       "aggError": "",
       "aggOverflow": false,
       "aggSchema": [],
       "aggSeriesLimitReached": false,
       "aggType": "",
       "arguments": {},
       "columnCustomDisplayInfos": {},
       "data": [
        [
         "abfss://optum@optumadlsstrg.dfs.core.windows.net/bronze/Patient_records.csv",
         "Patient_records.csv",
         5110,
         1742106535000
        ],
        [
         "abfss://optum@optumadlsstrg.dfs.core.windows.net/bronze/claims.json",
         "claims.json",
         16385,
         1742106535000
        ],
        [
         "abfss://optum@optumadlsstrg.dfs.core.windows.net/bronze/disease.csv",
         "disease.csv",
         1489,
         1742106535000
        ],
        [
         "abfss://optum@optumadlsstrg.dfs.core.windows.net/bronze/group.csv",
         "group.csv",
         4390,
         1742106535000
        ],
        [
         "abfss://optum@optumadlsstrg.dfs.core.windows.net/bronze/hospital.csv",
         "hospital.csv",
         1328,
         1742106535000
        ],
        [
         "abfss://optum@optumadlsstrg.dfs.core.windows.net/bronze/subgroup.csv",
         "subgroup.csv",
         561,
         1742106535000
        ],
        [
         "abfss://optum@optumadlsstrg.dfs.core.windows.net/bronze/subscriber.csv",
         "subscriber.csv",
         12061,
         1742106535000
        ]
       ],
       "datasetInfos": [],
       "dbfsResultPath": null,
       "isJsonSchema": true,
       "metadata": {},
       "overflow": false,
       "plotOptions": {
        "customPlotOptions": {},
        "displayType": "table",
        "pivotAggregation": null,
        "pivotColumns": null,
        "xColumns": null,
        "yColumns": null
       },
       "removedWidgets": [],
       "schema": [
        {
         "metadata": "{}",
         "name": "path",
         "type": "\"string\""
        },
        {
         "metadata": "{}",
         "name": "name",
         "type": "\"string\""
        },
        {
         "metadata": "{}",
         "name": "size",
         "type": "\"long\""
        },
        {
         "metadata": "{}",
         "name": "modificationTime",
         "type": "\"long\""
        }
       ],
       "type": "table"
      }
     },
     "output_type": "display_data"
    }
   ],
   "source": [
    "display(dbutils.fs.ls(\"abfss://optum@optumadlsstrg.dfs.core.windows.net/bronze\"))"
   ]
  },
  {
   "cell_type": "markdown",
   "metadata": {
    "application/vnd.databricks.v1+cell": {
     "cellMetadata": {},
     "inputWidgets": {},
     "nuid": "a454166b-8835-45d3-9ade-b67c916b2fb8",
     "showTitle": false,
     "tableResultSettingsMap": {},
     "title": ""
    }
   },
   "source": [
    "# Connector code"
   ]
  },
  {
   "cell_type": "code",
   "execution_count": 0,
   "metadata": {
    "application/vnd.databricks.v1+cell": {
     "cellMetadata": {
      "byteLimit": 2048000,
      "rowLimit": 10000
     },
     "inputWidgets": {},
     "nuid": "ad737ad8-8fd2-44ba-9109-79a87e885786",
     "showTitle": false,
     "tableResultSettingsMap": {},
     "title": ""
    }
   },
   "outputs": [],
   "source": [
    "def adlsconnector():\n",
    "    spark.conf.set(\"fs.azure.account.key.optumadlsstrg.dfs.core.windows.net\",\n",
    "    dbutils.secrets.get(scope=\"optumscope\", key=\"optum-adlskey\"))\n",
    "    print(\"adls connection successful\")"
   ]
  },
  {
   "cell_type": "code",
   "execution_count": 0,
   "metadata": {
    "application/vnd.databricks.v1+cell": {
     "cellMetadata": {
      "byteLimit": 2048000,
      "rowLimit": 10000
     },
     "inputWidgets": {},
     "nuid": "8da40b4d-58f4-4a42-b94b-8b6c952a0c86",
     "showTitle": false,
     "tableResultSettingsMap": {},
     "title": ""
    }
   },
   "outputs": [],
   "source": [
    "def readbronzedata(fn):\n",
    "    adlsconnector()\n",
    "    df = spark.read.format(\"csv\").option(\"header\", \"true\").load(\"abfss://optum@optumadlsstrg.dfs.core.windows.net/bronze/\"+fn)\n",
    "    return(df)"
   ]
  },
  {
   "cell_type": "code",
   "execution_count": 0,
   "metadata": {
    "application/vnd.databricks.v1+cell": {
     "cellMetadata": {
      "byteLimit": 2048000,
      "rowLimit": 10000
     },
     "inputWidgets": {},
     "nuid": "26d2f48c-eca4-4278-b15c-1a0fc080a67c",
     "showTitle": false,
     "tableResultSettingsMap": {},
     "title": ""
    }
   },
   "outputs": [
    {
     "output_type": "stream",
     "name": "stdout",
     "output_type": "stream",
     "text": [
      "adls connection successful\n+-----------+-----------------------------------------------------------------+----------+----------+-------+\n|Hospital_id|Hospital_name                                                    |city      |state     |country|\n+-----------+-----------------------------------------------------------------+----------+----------+-------+\n|H1000      |All India Institute of Medical Sciences                          |New Delhi |NaN       |India  |\n|H1001      |Medanta The Medicity                                             |Gurgaon   |Haryana   |India  |\n|H1002      |The Christian Medical College                                    |Vellore   |Tamil Nadu|India  |\n|H1003      |PGIMER - Postgraduate Institute of Medical Education and Research|Chandigarh|Haryana   |India  |\n|H1004      |Apollo Hospital - Chennai                                        |Chennai   |Tamil Nadu|India  |\n+-----------+-----------------------------------------------------------------+----------+----------+-------+\nonly showing top 5 rows\n"
     ]
    }
   ],
   "source": [
    "df = readbronzedata(\"hospital.csv\")\n",
    "df.show(5,False)"
   ]
  },
  {
   "cell_type": "markdown",
   "metadata": {
    "application/vnd.databricks.v1+cell": {
     "cellMetadata": {},
     "inputWidgets": {},
     "nuid": "0db25a76-645f-43b7-8e29-8e85732c2166",
     "showTitle": false,
     "tableResultSettingsMap": {},
     "title": ""
    }
   },
   "source": [
    "## Hospital Transformations"
   ]
  },
  {
   "cell_type": "code",
   "execution_count": 0,
   "metadata": {
    "application/vnd.databricks.v1+cell": {
     "cellMetadata": {
      "byteLimit": 2048000,
      "rowLimit": 10000
     },
     "inputWidgets": {},
     "nuid": "643a3496-d4ee-4d93-8270-8862838acc02",
     "showTitle": false,
     "tableResultSettingsMap": {},
     "title": ""
    }
   },
   "outputs": [],
   "source": [
    "%run \"/Workspace/Shared/Optum_Project/connectors\""
   ]
  },
  {
   "cell_type": "code",
   "execution_count": 0,
   "metadata": {
    "application/vnd.databricks.v1+cell": {
     "cellMetadata": {
      "byteLimit": 2048000,
      "rowLimit": 10000
     },
     "inputWidgets": {},
     "nuid": "9a01c3fb-a62c-4cca-a951-f3c77e40855e",
     "showTitle": false,
     "tableResultSettingsMap": {},
     "title": ""
    }
   },
   "outputs": [],
   "source": [
    "%run \"/Workspace/Shared/Optum_Project/dataprecheck\""
   ]
  },
  {
   "cell_type": "code",
   "execution_count": 0,
   "metadata": {
    "application/vnd.databricks.v1+cell": {
     "cellMetadata": {
      "byteLimit": 2048000,
      "rowLimit": 10000
     },
     "inputWidgets": {},
     "nuid": "7fce4d6d-e434-4e27-b301-d3b9e6824c11",
     "showTitle": false,
     "tableResultSettingsMap": {},
     "title": ""
    }
   },
   "outputs": [
    {
     "output_type": "stream",
     "name": "stdout",
     "output_type": "stream",
     "text": [
      "adls connection successful\n"
     ]
    },
    {
     "output_type": "display_data",
     "data": {
      "text/html": [
       "<style scoped>\n",
       "  .table-result-container {\n",
       "    max-height: 300px;\n",
       "    overflow: auto;\n",
       "  }\n",
       "  table, th, td {\n",
       "    border: 1px solid black;\n",
       "    border-collapse: collapse;\n",
       "  }\n",
       "  th, td {\n",
       "    padding: 5px;\n",
       "  }\n",
       "  th {\n",
       "    text-align: left;\n",
       "  }\n",
       "</style><div class='table-result-container'><table class='table-result'><thead style='background-color: white'><tr><th>Hospital_id</th><th>Hospital_name</th><th>city</th><th>state</th><th>country</th></tr></thead><tbody><tr><td>H1000</td><td>All India Institute of Medical Sciences</td><td>New Delhi</td><td>NaN</td><td>India</td></tr><tr><td>H1001</td><td>Medanta The Medicity</td><td>Gurgaon</td><td>Haryana</td><td>India</td></tr><tr><td>H1002</td><td>The Christian Medical College</td><td>Vellore</td><td>Tamil Nadu</td><td>India</td></tr><tr><td>H1003</td><td>PGIMER - Postgraduate Institute of Medical Education and Research</td><td>Chandigarh</td><td>Haryana</td><td>India</td></tr><tr><td>H1004</td><td>Apollo Hospital - Chennai</td><td>Chennai</td><td>Tamil Nadu</td><td>India</td></tr><tr><td>H1005</td><td>P. D. Hinduja National Hospital & Medical Research Centre</td><td>Mumbai</td><td>Maharashtra</td><td>India</td></tr><tr><td>H1006</td><td>Breach Candy Hospital</td><td>Mumbai</td><td>Maharashtra</td><td>India</td></tr><tr><td>H1007</td><td>Fortis Flt. Lt. Rajan Dhall Hospital</td><td>New Delhi</td><td>NaN</td><td>India</td></tr><tr><td>H1008</td><td>King Edward Memorial Hospital</td><td>Mumbai</td><td>Maharashtra</td><td>India</td></tr><tr><td>H1009</td><td>Indraprastha Apollo Hospital</td><td>Delhi</td><td>NaN</td><td>India</td></tr><tr><td>H1010</td><td>Lilavati Hospital And Research Centre</td><td>Mumbai</td><td>Maharashtra</td><td>India</td></tr><tr><td>H1011</td><td>Sir Ganga Ram Hospital</td><td>Delhi</td><td>NaN</td><td>India</td></tr><tr><td>H1012</td><td>Bombay Hospital & Medical Research Centre</td><td>Mumbai</td><td>Maharashtra</td><td>India</td></tr><tr><td>H1013</td><td>Apollo Health City - Jubilee Hills</td><td>Hyderabad</td><td>Telangana</td><td>India</td></tr><tr><td>H1014</td><td>Fortis Hiranandani Hospital</td><td>Mumbai</td><td>Maharashtra</td><td>India</td></tr><tr><td>H1015</td><td>Fortis Hospital Mulund</td><td>Mumbai</td><td>Maharashtra</td><td>India</td></tr><tr><td>H1016</td><td>Jaslok Hospital and Research Centre</td><td>Mumbai</td><td>Maharashtra</td><td>India</td></tr><tr><td>H1017</td><td>Manipal Hospitals</td><td>Bengaluru</td><td>Karnataka</td><td>India</td></tr><tr><td>H1018</td><td>Yashoda Hospital Secunderabad</td><td>Hyderabad</td><td>Telangana</td><td>India</td></tr><tr><td>H1019</td><td>Apollo Hospitals - Bannerghatta Road</td><td>Bengaluru</td><td>Karnataka</td><td>India</td></tr></tbody></table></div>"
      ]
     },
     "metadata": {
      "application/vnd.databricks.v1+output": {
       "addedWidgets": {},
       "aggData": [],
       "aggError": "",
       "aggOverflow": false,
       "aggSchema": [],
       "aggSeriesLimitReached": false,
       "aggType": "",
       "arguments": {},
       "columnCustomDisplayInfos": {},
       "data": [
        [
         "H1000",
         "All India Institute of Medical Sciences",
         "New Delhi",
         "NaN",
         "India"
        ],
        [
         "H1001",
         "Medanta The Medicity",
         "Gurgaon",
         "Haryana",
         "India"
        ],
        [
         "H1002",
         "The Christian Medical College",
         "Vellore",
         "Tamil Nadu",
         "India"
        ],
        [
         "H1003",
         "PGIMER - Postgraduate Institute of Medical Education and Research",
         "Chandigarh",
         "Haryana",
         "India"
        ],
        [
         "H1004",
         "Apollo Hospital - Chennai",
         "Chennai",
         "Tamil Nadu",
         "India"
        ],
        [
         "H1005",
         "P. D. Hinduja National Hospital & Medical Research Centre",
         "Mumbai",
         "Maharashtra",
         "India"
        ],
        [
         "H1006",
         "Breach Candy Hospital",
         "Mumbai",
         "Maharashtra",
         "India"
        ],
        [
         "H1007",
         "Fortis Flt. Lt. Rajan Dhall Hospital",
         "New Delhi",
         "NaN",
         "India"
        ],
        [
         "H1008",
         "King Edward Memorial Hospital",
         "Mumbai",
         "Maharashtra",
         "India"
        ],
        [
         "H1009",
         "Indraprastha Apollo Hospital",
         "Delhi",
         "NaN",
         "India"
        ],
        [
         "H1010",
         "Lilavati Hospital And Research Centre",
         "Mumbai",
         "Maharashtra",
         "India"
        ],
        [
         "H1011",
         "Sir Ganga Ram Hospital",
         "Delhi",
         "NaN",
         "India"
        ],
        [
         "H1012",
         "Bombay Hospital & Medical Research Centre",
         "Mumbai",
         "Maharashtra",
         "India"
        ],
        [
         "H1013",
         "Apollo Health City - Jubilee Hills",
         "Hyderabad",
         "Telangana",
         "India"
        ],
        [
         "H1014",
         "Fortis Hiranandani Hospital",
         "Mumbai",
         "Maharashtra",
         "India"
        ],
        [
         "H1015",
         "Fortis Hospital Mulund",
         "Mumbai",
         "Maharashtra",
         "India"
        ],
        [
         "H1016",
         "Jaslok Hospital and Research Centre",
         "Mumbai",
         "Maharashtra",
         "India"
        ],
        [
         "H1017",
         "Manipal Hospitals",
         "Bengaluru",
         "Karnataka",
         "India"
        ],
        [
         "H1018",
         "Yashoda Hospital Secunderabad",
         "Hyderabad",
         "Telangana",
         "India"
        ],
        [
         "H1019",
         "Apollo Hospitals - Bannerghatta Road",
         "Bengaluru",
         "Karnataka",
         "India"
        ]
       ],
       "datasetInfos": [],
       "dbfsResultPath": null,
       "isJsonSchema": true,
       "metadata": {},
       "overflow": false,
       "plotOptions": {
        "customPlotOptions": {},
        "displayType": "table",
        "pivotAggregation": null,
        "pivotColumns": null,
        "xColumns": null,
        "yColumns": null
       },
       "removedWidgets": [],
       "schema": [
        {
         "metadata": "{}",
         "name": "Hospital_id",
         "type": "\"string\""
        },
        {
         "metadata": "{}",
         "name": "Hospital_name",
         "type": "\"string\""
        },
        {
         "metadata": "{}",
         "name": "city",
         "type": "\"string\""
        },
        {
         "metadata": "{}",
         "name": "state",
         "type": "\"string\""
        },
        {
         "metadata": "{}",
         "name": "country",
         "type": "\"string\""
        }
       ],
       "type": "table"
      }
     },
     "output_type": "display_data"
    }
   ],
   "source": [
    "df = readbronzedata(\"hospital.csv\")\n",
    "df.display()"
   ]
  },
  {
   "cell_type": "code",
   "execution_count": 0,
   "metadata": {
    "application/vnd.databricks.v1+cell": {
     "cellMetadata": {
      "byteLimit": 2048000,
      "rowLimit": 10000
     },
     "inputWidgets": {},
     "nuid": "fc918cfe-daa3-4ba0-906a-90c893c45ee5",
     "showTitle": false,
     "tableResultSettingsMap": {},
     "title": ""
    }
   },
   "outputs": [
    {
     "output_type": "stream",
     "name": "stdout",
     "output_type": "stream",
     "text": [
      "+-----------+-------------+----+-----+-------+\n|Hospital_id|Hospital_name|city|state|country|\n+-----------+-------------+----+-----+-------+\n|          0|            0|   0|    4|      0|\n+-----------+-------------+----+-----+-------+\n\n"
     ]
    }
   ],
   "source": [
    "missingvaluecheck(df)"
   ]
  },
  {
   "cell_type": "code",
   "execution_count": 0,
   "metadata": {
    "application/vnd.databricks.v1+cell": {
     "cellMetadata": {
      "byteLimit": 2048000,
      "rowLimit": 10000
     },
     "inputWidgets": {},
     "nuid": "6a34e91f-d5ce-4c63-bd06-ec75b86bce0b",
     "showTitle": false,
     "tableResultSettingsMap": {},
     "title": ""
    }
   },
   "outputs": [
    {
     "output_type": "stream",
     "name": "stdout",
     "output_type": "stream",
     "text": [
      "+-----------+--------------------+----------+----------+-------+\n|Hospital_id|       Hospital_name|      city|     state|country|\n+-----------+--------------------+----------+----------+-------+\n|      H1000|All India Institu...| New Delhi|      NULL|  India|\n|      H1001|Medanta The Medicity|   Gurgaon|   Haryana|  India|\n|      H1002|The Christian Med...|   Vellore|Tamil Nadu|  India|\n|      H1003|PGIMER - Postgrad...|Chandigarh|   Haryana|  India|\n|      H1004|Apollo Hospital -...|   Chennai|Tamil Nadu|  India|\n+-----------+--------------------+----------+----------+-------+\nonly showing top 5 rows\n"
     ]
    }
   ],
   "source": [
    "df = df.replace(\"NaN\", None)       # first replace the NaN with None i.e. null so that we can handle null values\n",
    "df.show(5)"
   ]
  },
  {
   "cell_type": "code",
   "execution_count": 0,
   "metadata": {
    "application/vnd.databricks.v1+cell": {
     "cellMetadata": {
      "byteLimit": 2048000,
      "rowLimit": 10000
     },
     "inputWidgets": {},
     "nuid": "991564ce-6139-4ecc-b307-75387ee139d3",
     "showTitle": false,
     "tableResultSettingsMap": {},
     "title": ""
    }
   },
   "outputs": [
    {
     "output_type": "stream",
     "name": "stdout",
     "output_type": "stream",
     "text": [
      "+-----------+-----------------------------------------------------------------+----------+----------+-------+\n|Hospital_id|Hospital_name                                                    |city      |state     |country|\n+-----------+-----------------------------------------------------------------+----------+----------+-------+\n|H1000      |All India Institute of Medical Sciences                          |New Delhi |UT        |India  |\n|H1001      |Medanta The Medicity                                             |Gurgaon   |Haryana   |India  |\n|H1002      |The Christian Medical College                                    |Vellore   |Tamil Nadu|India  |\n|H1003      |PGIMER - Postgraduate Institute of Medical Education and Research|Chandigarh|Haryana   |India  |\n|H1004      |Apollo Hospital - Chennai                                        |Chennai   |Tamil Nadu|India  |\n+-----------+-----------------------------------------------------------------+----------+----------+-------+\nonly showing top 5 rows\n"
     ]
    }
   ],
   "source": [
    "df = df.fillna({'state':'UT'})\n",
    "df.show(5,False)"
   ]
  },
  {
   "cell_type": "code",
   "execution_count": 0,
   "metadata": {
    "application/vnd.databricks.v1+cell": {
     "cellMetadata": {
      "byteLimit": 2048000,
      "rowLimit": 10000
     },
     "inputWidgets": {},
     "nuid": "91c67b53-948f-45d5-b12b-0ed5128ad461",
     "showTitle": false,
     "tableResultSettingsMap": {},
     "title": ""
    }
   },
   "outputs": [
    {
     "output_type": "stream",
     "name": "stdout",
     "output_type": "stream",
     "text": [
      "+-----------+--------------------+----------+----------+-------+\n|Hospital_id|       Hospital_name|      city|     state|country|\n+-----------+--------------------+----------+----------+-------+\n|      H1000|All India Institu...|     Delhi|        UT|  India|\n|      H1001|Medanta The Medicity|   Gurgaon|   Haryana|  India|\n|      H1002|The Christian Med...|   Vellore|Tamil Nadu|  India|\n|      H1003|PGIMER - Postgrad...|Chandigarh|   Haryana|  India|\n|      H1004|Apollo Hospital -...|   Chennai|Tamil Nadu|  India|\n+-----------+--------------------+----------+----------+-------+\nonly showing top 5 rows\n"
     ]
    }
   ],
   "source": [
    "df = df.replace(\"New Delhi\", \"Delhi\")\n",
    "df.show(5)"
   ]
  },
  {
   "cell_type": "markdown",
   "metadata": {
    "application/vnd.databricks.v1+cell": {
     "cellMetadata": {},
     "inputWidgets": {},
     "nuid": "2383aa15-17cd-4fc0-871c-2bb8a9eaffac",
     "showTitle": false,
     "tableResultSettingsMap": {},
     "title": ""
    }
   },
   "source": [
    "## Group Transformation"
   ]
  },
  {
   "cell_type": "code",
   "execution_count": 0,
   "metadata": {
    "application/vnd.databricks.v1+cell": {
     "cellMetadata": {
      "byteLimit": 2048000,
      "rowLimit": 10000
     },
     "inputWidgets": {},
     "nuid": "208ce409-8ef2-4ae1-b9b5-05ff4d74e3ab",
     "showTitle": false,
     "tableResultSettingsMap": {},
     "title": ""
    }
   },
   "outputs": [
    {
     "output_type": "stream",
     "name": "stdout",
     "output_type": "stream",
     "text": [
      "adls connection successful\n"
     ]
    },
    {
     "output_type": "display_data",
     "data": {
      "text/html": [
       "<style scoped>\n",
       "  .table-result-container {\n",
       "    max-height: 300px;\n",
       "    overflow: auto;\n",
       "  }\n",
       "  table, th, td {\n",
       "    border: 1px solid black;\n",
       "    border-collapse: collapse;\n",
       "  }\n",
       "  th, td {\n",
       "    padding: 5px;\n",
       "  }\n",
       "  th {\n",
       "    text-align: left;\n",
       "  }\n",
       "</style><div class='table-result-container'><table class='table-result'><thead style='background-color: white'><tr><th>country</th><th>premium_written</th><th>zip_code</th><th>grp_id</th><th>grp_name</th><th>grp_type</th><th>city</th></tr></thead><tbody><tr><td>India</td><td>72000</td><td>482018</td><td>GRP101</td><td>Life Insurance Corporation of India</td><td>Govt.</td><td>Mumbai</td></tr><tr><td>India</td><td>45000</td><td>482049</td><td>GRP102</td><td>HDFC Standard Life Insurance Co. Ltd.</td><td>Private</td><td>Mumbai</td></tr><tr><td>India</td><td>64000</td><td>482030</td><td>GRP103</td><td>Max Life Insurance Co. Ltd.</td><td>Private</td><td>Delhi</td></tr><tr><td>India</td><td>59000</td><td>482028</td><td>GRP104</td><td>ICICI Prudential Life Insurance Co. Ltd.</td><td>Private</td><td>Mumbai</td></tr><tr><td>India</td><td>37000</td><td>482014</td><td>GRP105</td><td>Kotak Mahindra Life Insurance Co. Ltd.</td><td>Private</td><td>Mumbai</td></tr><tr><td>India</td><td>89000</td><td>482011</td><td>GRP106</td><td>Aditya Birla Sun Life Insurance Co. Ltd.</td><td>Private</td><td>Mumbai</td></tr><tr><td>India</td><td>70000</td><td>482006</td><td>GRP107</td><td>TATA AIG Life Insurance Co. Ltd.</td><td>Private</td><td>Mumbai</td></tr><tr><td>India</td><td>52000</td><td>482034</td><td>GRP108</td><td>SBI Life Insurance Co. Ltd.</td><td>Private</td><td>Mumbai</td></tr><tr><td>India</td><td>78000</td><td>482032</td><td>GRP109</td><td>Exide Life Insurance Co. Ltd.</td><td>Private</td><td>Bangalore</td></tr><tr><td>India</td><td>48000</td><td>482015</td><td>GRP110</td><td>Bajaj Allianz Life Insurance Co. Ltd.</td><td>Private</td><td>Pune</td></tr><tr><td>India</td><td>57000</td><td>482011</td><td>GRP111</td><td>PNB MetLife India Insurance Co. Ltd.</td><td>Private</td><td>Mumbai</td></tr><tr><td>India</td><td>57000</td><td>482022</td><td>GRP112</td><td>Reliance Nippon Life Insurance Company</td><td>Private</td><td>Mumbai</td></tr><tr><td>India</td><td>64000</td><td>482009</td><td>GRP113</td><td>Aviva Life Insurance Company India Ltd.</td><td>Private</td><td>Gurugram</td></tr><tr><td>India</td><td>33000</td><td>482043</td><td>GRP114</td><td>Sahara India Life Insurance Co. Ltd.</td><td>Private</td><td>Lucknow</td></tr><tr><td>India</td><td>79000</td><td>482036</td><td>GRP115</td><td>Shriram Life Insurance Co. Ltd.</td><td>Private</td><td>Hyderabad</td></tr><tr><td>India</td><td>32000</td><td>482002</td><td>GRP116</td><td>Bharti AXA Life Insurance Co. Ltd.</td><td>Private</td><td>Mumbai</td></tr><tr><td>India</td><td>59000</td><td>482017</td><td>GRP117</td><td>Future Generali India Life Insurance Co. Ltd.</td><td>Private</td><td>Mumbai</td></tr><tr><td>India</td><td>97000</td><td>482023</td><td>GRP118</td><td>IDBI Federal Life Insurance Co. Ltd.</td><td>Private</td><td>Mumbai</td></tr><tr><td>India</td><td>47000</td><td>482046</td><td>GRP119</td><td>Canara HSBC Oriental Bank of Commerce Life Insurance Co. Ltd.</td><td>Private</td><td>Gurugram</td></tr><tr><td>India</td><td>50000</td><td>482017</td><td>GRP120</td><td>Aegon Life Insurance Co. Ltd.</td><td>Private</td><td>Mumbai</td></tr><tr><td>India</td><td>78000</td><td>482039</td><td>GRP121</td><td>Pramerica Life Insurance Co. Ltd.</td><td>Private</td><td>Mumbai</td></tr><tr><td>India</td><td>79000</td><td>482027</td><td>GRP122</td><td>Star Union Dai-Ichi Life Insurance Co. Ltd.</td><td>Private</td><td>Mumbai</td></tr><tr><td>India</td><td>99000</td><td>482040</td><td>GRP123</td><td>IndiaFirst Life Insurance Co. Ltd.</td><td>Private</td><td>Mumbai</td></tr><tr><td>India</td><td>81000</td><td>482033</td><td>GRP124</td><td>Edelweiss Tokio Life Insurance Co. Ltd.</td><td>Private</td><td>Mumbai</td></tr><tr><td>India</td><td>60000</td><td>482006</td><td>GRP125</td><td>Acko General Insurance</td><td>Private</td><td>Mumbai</td></tr><tr><td>India</td><td>42000</td><td>482035</td><td>GRP126</td><td>Aditya Birla Health Insurance</td><td>Private</td><td>Mumbai</td></tr><tr><td>India</td><td>60000</td><td>482020</td><td>GRP127</td><td>Agriculture Insurance Company of India</td><td>Govt.</td><td>New Delhi</td></tr><tr><td>India</td><td>50000</td><td>482039</td><td>GRP128</td><td>Apollo Munich Health Insurance</td><td>Private</td><td>Gurgaon</td></tr><tr><td>India</td><td>88000</td><td>482003</td><td>GRP129</td><td>Bajaj Allianz General Insurance</td><td>Private</td><td>Pune</td></tr><tr><td>India</td><td>42000</td><td>482036</td><td>GRP130</td><td>Bharti AXA General Insurance</td><td>Private</td><td>Mumbai</td></tr><tr><td>India</td><td>99000</td><td>482005</td><td>GRP131</td><td>Cholamandalam MS General Insurance</td><td>Private</td><td>Chennai</td></tr><tr><td>India</td><td>57000</td><td>482048</td><td>GRP132</td><td>Cigna TTK</td><td>Private</td><td>Mumbai</td></tr><tr><td>India</td><td>93000</td><td>482046</td><td>GRP133</td><td>DHFL General Insurance</td><td>Private</td><td>Mumbai</td></tr><tr><td>India</td><td>90000</td><td>482019</td><td>GRP134</td><td>Digit Insurance</td><td>Private</td><td>Pune</td></tr><tr><td>India</td><td>39000</td><td>482024</td><td>GRP135</td><td>Edelweiss General Insurance</td><td>Private</td><td>Mumbai</td></tr><tr><td>India</td><td>34000</td><td>482005</td><td>GRP136</td><td>Export Credit Guarantee Corporation of India</td><td>Govt.</td><td>Mumbai</td></tr><tr><td>India</td><td>47000</td><td>482015</td><td>GRP137</td><td>Future Generali India Insurance</td><td>Private</td><td>Mumbai</td></tr><tr><td>India</td><td>32000</td><td>482029</td><td>GRP138</td><td>HDFC ERGO General Insurance Company</td><td>Private</td><td>Mumbai</td></tr><tr><td>India</td><td>71000</td><td>482009</td><td>GRP139</td><td>ICICI Lombard</td><td>Private</td><td>Mumbai</td></tr><tr><td>India</td><td>54000</td><td>482022</td><td>GRP140</td><td>IFFCO TOKIO General Insurance</td><td>Private</td><td>Gurugram</td></tr><tr><td>India</td><td>71000</td><td>482049</td><td>GRP141</td><td>Kotak Mahindra General Insurance</td><td>Private</td><td>Mumbai</td></tr><tr><td>India</td><td>60000</td><td>482012</td><td>GRP142</td><td>Liberty General Insurance</td><td>Private</td><td>Mumbai</td></tr><tr><td>India</td><td>90000</td><td>482009</td><td>GRP143</td><td>Magma HDI General Insurance</td><td>Private</td><td>Mumbai</td></tr><tr><td>India</td><td>44000</td><td>482046</td><td>GRP144</td><td>Max Bupa Health Insurance</td><td>Private</td><td>New Delhi</td></tr><tr><td>India</td><td>63000</td><td>482043</td><td>GRP145</td><td>National Insurance Company</td><td>Govt.</td><td>Kolkata</td></tr><tr><td>India</td><td>46000</td><td>482030</td><td>GRP146</td><td>New India Assurance</td><td>Govt.</td><td>Mumbai</td></tr><tr><td>India</td><td>99000</td><td>482040</td><td>GRP147</td><td>Raheja QBE General Insurance</td><td>Private</td><td>Mumbai</td></tr><tr><td>India</td><td>67000</td><td>482031</td><td>GRP148</td><td>Reliance General Insurance</td><td>Private</td><td>Mumbai</td></tr><tr><td>India</td><td>34000</td><td>482049</td><td>GRP149</td><td>Reliance Health Insurance</td><td>Private</td><td>Mumbai</td></tr><tr><td>India</td><td>84000</td><td>482038</td><td>GRP150</td><td>Religare Health Insurance Company Limited</td><td>Private</td><td>Gurgaon</td></tr><tr><td>India</td><td>31000</td><td>482044</td><td>GRP151</td><td>Royal Sundaram General Insurance</td><td>Private</td><td>Chennai</td></tr><tr><td>India</td><td>87000</td><td>482017</td><td>GRP152</td><td>SBI General Insurance</td><td>Private</td><td>Mumbai</td></tr><tr><td>India</td><td>86000</td><td>482004</td><td>GRP153</td><td>Shriram General Insurance</td><td>Private</td><td>Jaipur</td></tr><tr><td>India</td><td>95000</td><td>482003</td><td>GRP154</td><td>Star Health and Allied Insurance</td><td>Private</td><td>Chennai</td></tr><tr><td>India</td><td>41000</td><td>482043</td><td>GRP155</td><td>Tata AIG General Insurance</td><td>Private</td><td>Mumbai</td></tr><tr><td>India</td><td>67000</td><td>482048</td><td>GRP156</td><td>The Oriental Insurance Company</td><td>Govt.</td><td>New Delhi</td></tr><tr><td>India</td><td>92000</td><td>482019</td><td>GRP157</td><td>United India Insurance Company</td><td>Govt.</td><td>Chennai</td></tr><tr><td>India</td><td>47000</td><td>482042</td><td>GRP158</td><td>Universal Sompo General Insurance Company</td><td>Private</td><td>Mumbai</td></tr></tbody></table></div>"
      ]
     },
     "metadata": {
      "application/vnd.databricks.v1+output": {
       "addedWidgets": {},
       "aggData": [],
       "aggError": "",
       "aggOverflow": false,
       "aggSchema": [],
       "aggSeriesLimitReached": false,
       "aggType": "",
       "arguments": {},
       "columnCustomDisplayInfos": {},
       "data": [
        [
         "India",
         72000,
         482018,
         "GRP101",
         "Life Insurance Corporation of India",
         "Govt.",
         "Mumbai"
        ],
        [
         "India",
         45000,
         482049,
         "GRP102",
         "HDFC Standard Life Insurance Co. Ltd.",
         "Private",
         "Mumbai"
        ],
        [
         "India",
         64000,
         482030,
         "GRP103",
         "Max Life Insurance Co. Ltd.",
         "Private",
         "Delhi"
        ],
        [
         "India",
         59000,
         482028,
         "GRP104",
         "ICICI Prudential Life Insurance Co. Ltd.",
         "Private",
         "Mumbai"
        ],
        [
         "India",
         37000,
         482014,
         "GRP105",
         "Kotak Mahindra Life Insurance Co. Ltd.",
         "Private",
         "Mumbai"
        ],
        [
         "India",
         89000,
         482011,
         "GRP106",
         "Aditya Birla Sun Life Insurance Co. Ltd.",
         "Private",
         "Mumbai"
        ],
        [
         "India",
         70000,
         482006,
         "GRP107",
         "TATA AIG Life Insurance Co. Ltd.",
         "Private",
         "Mumbai"
        ],
        [
         "India",
         52000,
         482034,
         "GRP108",
         "SBI Life Insurance Co. Ltd.",
         "Private",
         "Mumbai"
        ],
        [
         "India",
         78000,
         482032,
         "GRP109",
         "Exide Life Insurance Co. Ltd.",
         "Private",
         "Bangalore"
        ],
        [
         "India",
         48000,
         482015,
         "GRP110",
         "Bajaj Allianz Life Insurance Co. Ltd.",
         "Private",
         "Pune"
        ],
        [
         "India",
         57000,
         482011,
         "GRP111",
         "PNB MetLife India Insurance Co. Ltd.",
         "Private",
         "Mumbai"
        ],
        [
         "India",
         57000,
         482022,
         "GRP112",
         "Reliance Nippon Life Insurance Company",
         "Private",
         "Mumbai"
        ],
        [
         "India",
         64000,
         482009,
         "GRP113",
         "Aviva Life Insurance Company India Ltd.",
         "Private",
         "Gurugram"
        ],
        [
         "India",
         33000,
         482043,
         "GRP114",
         "Sahara India Life Insurance Co. Ltd.",
         "Private",
         "Lucknow"
        ],
        [
         "India",
         79000,
         482036,
         "GRP115",
         "Shriram Life Insurance Co. Ltd.",
         "Private",
         "Hyderabad"
        ],
        [
         "India",
         32000,
         482002,
         "GRP116",
         "Bharti AXA Life Insurance Co. Ltd.",
         "Private",
         "Mumbai"
        ],
        [
         "India",
         59000,
         482017,
         "GRP117",
         "Future Generali India Life Insurance Co. Ltd.",
         "Private",
         "Mumbai"
        ],
        [
         "India",
         97000,
         482023,
         "GRP118",
         "IDBI Federal Life Insurance Co. Ltd.",
         "Private",
         "Mumbai"
        ],
        [
         "India",
         47000,
         482046,
         "GRP119",
         "Canara HSBC Oriental Bank of Commerce Life Insurance Co. Ltd.",
         "Private",
         "Gurugram"
        ],
        [
         "India",
         50000,
         482017,
         "GRP120",
         "Aegon Life Insurance Co. Ltd.",
         "Private",
         "Mumbai"
        ],
        [
         "India",
         78000,
         482039,
         "GRP121",
         "Pramerica Life Insurance Co. Ltd.",
         "Private",
         "Mumbai"
        ],
        [
         "India",
         79000,
         482027,
         "GRP122",
         "Star Union Dai-Ichi Life Insurance Co. Ltd.",
         "Private",
         "Mumbai"
        ],
        [
         "India",
         99000,
         482040,
         "GRP123",
         "IndiaFirst Life Insurance Co. Ltd.",
         "Private",
         "Mumbai"
        ],
        [
         "India",
         81000,
         482033,
         "GRP124",
         "Edelweiss Tokio Life Insurance Co. Ltd.",
         "Private",
         "Mumbai"
        ],
        [
         "India",
         60000,
         482006,
         "GRP125",
         "Acko General Insurance",
         "Private",
         "Mumbai"
        ],
        [
         "India",
         42000,
         482035,
         "GRP126",
         "Aditya Birla Health Insurance",
         "Private",
         "Mumbai"
        ],
        [
         "India",
         60000,
         482020,
         "GRP127",
         "Agriculture Insurance Company of India",
         "Govt.",
         "New Delhi"
        ],
        [
         "India",
         50000,
         482039,
         "GRP128",
         "Apollo Munich Health Insurance",
         "Private",
         "Gurgaon"
        ],
        [
         "India",
         88000,
         482003,
         "GRP129",
         "Bajaj Allianz General Insurance",
         "Private",
         "Pune"
        ],
        [
         "India",
         42000,
         482036,
         "GRP130",
         "Bharti AXA General Insurance",
         "Private",
         "Mumbai"
        ],
        [
         "India",
         99000,
         482005,
         "GRP131",
         "Cholamandalam MS General Insurance",
         "Private",
         "Chennai"
        ],
        [
         "India",
         57000,
         482048,
         "GRP132",
         "Cigna TTK",
         "Private",
         "Mumbai"
        ],
        [
         "India",
         93000,
         482046,
         "GRP133",
         "DHFL General Insurance",
         "Private",
         "Mumbai"
        ],
        [
         "India",
         90000,
         482019,
         "GRP134",
         "Digit Insurance",
         "Private",
         "Pune"
        ],
        [
         "India",
         39000,
         482024,
         "GRP135",
         "Edelweiss General Insurance",
         "Private",
         "Mumbai"
        ],
        [
         "India",
         34000,
         482005,
         "GRP136",
         "Export Credit Guarantee Corporation of India",
         "Govt.",
         "Mumbai"
        ],
        [
         "India",
         47000,
         482015,
         "GRP137",
         "Future Generali India Insurance",
         "Private",
         "Mumbai"
        ],
        [
         "India",
         32000,
         482029,
         "GRP138",
         "HDFC ERGO General Insurance Company",
         "Private",
         "Mumbai"
        ],
        [
         "India",
         71000,
         482009,
         "GRP139",
         "ICICI Lombard",
         "Private",
         "Mumbai"
        ],
        [
         "India",
         54000,
         482022,
         "GRP140",
         "IFFCO TOKIO General Insurance",
         "Private",
         "Gurugram"
        ],
        [
         "India",
         71000,
         482049,
         "GRP141",
         "Kotak Mahindra General Insurance",
         "Private",
         "Mumbai"
        ],
        [
         "India",
         60000,
         482012,
         "GRP142",
         "Liberty General Insurance",
         "Private",
         "Mumbai"
        ],
        [
         "India",
         90000,
         482009,
         "GRP143",
         "Magma HDI General Insurance",
         "Private",
         "Mumbai"
        ],
        [
         "India",
         44000,
         482046,
         "GRP144",
         "Max Bupa Health Insurance",
         "Private",
         "New Delhi"
        ],
        [
         "India",
         63000,
         482043,
         "GRP145",
         "National Insurance Company",
         "Govt.",
         "Kolkata"
        ],
        [
         "India",
         46000,
         482030,
         "GRP146",
         "New India Assurance",
         "Govt.",
         "Mumbai"
        ],
        [
         "India",
         99000,
         482040,
         "GRP147",
         "Raheja QBE General Insurance",
         "Private",
         "Mumbai"
        ],
        [
         "India",
         67000,
         482031,
         "GRP148",
         "Reliance General Insurance",
         "Private",
         "Mumbai"
        ],
        [
         "India",
         34000,
         482049,
         "GRP149",
         "Reliance Health Insurance",
         "Private",
         "Mumbai"
        ],
        [
         "India",
         84000,
         482038,
         "GRP150",
         "Religare Health Insurance Company Limited",
         "Private",
         "Gurgaon"
        ],
        [
         "India",
         31000,
         482044,
         "GRP151",
         "Royal Sundaram General Insurance",
         "Private",
         "Chennai"
        ],
        [
         "India",
         87000,
         482017,
         "GRP152",
         "SBI General Insurance",
         "Private",
         "Mumbai"
        ],
        [
         "India",
         86000,
         482004,
         "GRP153",
         "Shriram General Insurance",
         "Private",
         "Jaipur"
        ],
        [
         "India",
         95000,
         482003,
         "GRP154",
         "Star Health and Allied Insurance",
         "Private",
         "Chennai"
        ],
        [
         "India",
         41000,
         482043,
         "GRP155",
         "Tata AIG General Insurance",
         "Private",
         "Mumbai"
        ],
        [
         "India",
         67000,
         482048,
         "GRP156",
         "The Oriental Insurance Company",
         "Govt.",
         "New Delhi"
        ],
        [
         "India",
         92000,
         482019,
         "GRP157",
         "United India Insurance Company",
         "Govt.",
         "Chennai"
        ],
        [
         "India",
         47000,
         482042,
         "GRP158",
         "Universal Sompo General Insurance Company",
         "Private",
         "Mumbai"
        ]
       ],
       "datasetInfos": [],
       "dbfsResultPath": null,
       "isJsonSchema": true,
       "metadata": {},
       "overflow": false,
       "plotOptions": {
        "customPlotOptions": {},
        "displayType": "table",
        "pivotAggregation": null,
        "pivotColumns": null,
        "xColumns": null,
        "yColumns": null
       },
       "removedWidgets": [],
       "schema": [
        {
         "metadata": "{}",
         "name": "country",
         "type": "\"string\""
        },
        {
         "metadata": "{}",
         "name": "premium_written",
         "type": "\"integer\""
        },
        {
         "metadata": "{}",
         "name": "zip_code",
         "type": "\"integer\""
        },
        {
         "metadata": "{}",
         "name": "grp_id",
         "type": "\"string\""
        },
        {
         "metadata": "{}",
         "name": "grp_name",
         "type": "\"string\""
        },
        {
         "metadata": "{}",
         "name": "grp_type",
         "type": "\"string\""
        },
        {
         "metadata": "{}",
         "name": "city",
         "type": "\"string\""
        }
       ],
       "type": "table"
      }
     },
     "output_type": "display_data"
    }
   ],
   "source": [
    "grp_df = readbronzedata(\"group.csv\")\n",
    "grp_df.display()"
   ]
  },
  {
   "cell_type": "code",
   "execution_count": 0,
   "metadata": {
    "application/vnd.databricks.v1+cell": {
     "cellMetadata": {
      "byteLimit": 2048000,
      "rowLimit": 10000
     },
     "inputWidgets": {},
     "nuid": "72cc3fea-5ddd-414d-9e06-929c1e7e50e3",
     "showTitle": false,
     "tableResultSettingsMap": {},
     "title": ""
    }
   },
   "outputs": [
    {
     "output_type": "stream",
     "name": "stdout",
     "output_type": "stream",
     "text": [
      "+-------+---------------+--------+------+--------+--------+----+\n|country|premium_written|zip_code|grp_id|grp_name|grp_type|city|\n+-------+---------------+--------+------+--------+--------+----+\n|      0|              0|       0|     0|       0|       0|   0|\n+-------+---------------+--------+------+--------+--------+----+\n\n"
     ]
    }
   ],
   "source": [
    "missingvaluecheck(grp_df)"
   ]
  },
  {
   "cell_type": "code",
   "execution_count": 0,
   "metadata": {
    "application/vnd.databricks.v1+cell": {
     "cellMetadata": {
      "byteLimit": 2048000,
      "rowLimit": 10000
     },
     "inputWidgets": {},
     "nuid": "8a7ee940-f140-4b1f-9cae-633a4b6a4765",
     "showTitle": false,
     "tableResultSettingsMap": {},
     "title": ""
    }
   },
   "outputs": [
    {
     "output_type": "stream",
     "name": "stdout",
     "output_type": "stream",
     "text": [
      "+-------+---------------+--------+------+--------+--------+----+-----+\n|country|premium_written|zip_code|grp_id|grp_name|grp_type|city|count|\n+-------+---------------+--------+------+--------+--------+----+-----+\n+-------+---------------+--------+------+--------+--------+----+-----+\n\n"
     ]
    }
   ],
   "source": [
    "tocheckduplicates(grp_df)"
   ]
  },
  {
   "cell_type": "markdown",
   "metadata": {
    "application/vnd.databricks.v1+cell": {
     "cellMetadata": {},
     "inputWidgets": {},
     "nuid": "24c7ce9d-a38d-4605-b309-5f92a8d23b24",
     "showTitle": false,
     "tableResultSettingsMap": {},
     "title": ""
    }
   },
   "source": [
    "## Subgroup transformation"
   ]
  },
  {
   "cell_type": "code",
   "execution_count": 0,
   "metadata": {
    "application/vnd.databricks.v1+cell": {
     "cellMetadata": {
      "byteLimit": 2048000,
      "rowLimit": 10000
     },
     "inputWidgets": {},
     "nuid": "807f6fc0-427b-412e-b17a-585bf463e973",
     "showTitle": false,
     "tableResultSettingsMap": {},
     "title": ""
    }
   },
   "outputs": [
    {
     "output_type": "stream",
     "name": "stdout",
     "output_type": "stream",
     "text": [
      "adls connection successful\n"
     ]
    }
   ],
   "source": [
    "subgrp_df = readbronzedata(\"subgroup.csv\")"
   ]
  },
  {
   "cell_type": "code",
   "execution_count": 0,
   "metadata": {
    "application/vnd.databricks.v1+cell": {
     "cellMetadata": {
      "byteLimit": 2048000,
      "rowLimit": 10000
     },
     "inputWidgets": {},
     "nuid": "7a9288cd-3b70-4783-8a98-10681532a5a4",
     "showTitle": false,
     "tableResultSettingsMap": {},
     "title": ""
    }
   },
   "outputs": [
    {
     "output_type": "display_data",
     "data": {
      "text/html": [
       "<style scoped>\n",
       "  .table-result-container {\n",
       "    max-height: 300px;\n",
       "    overflow: auto;\n",
       "  }\n",
       "  table, th, td {\n",
       "    border: 1px solid black;\n",
       "    border-collapse: collapse;\n",
       "  }\n",
       "  th, td {\n",
       "    padding: 5px;\n",
       "  }\n",
       "  th {\n",
       "    text-align: left;\n",
       "  }\n",
       "</style><div class='table-result-container'><table class='table-result'><thead style='background-color: white'><tr><th>subgrp_sk</th><th>subgrp_name</th><th>monthly_premium</th><th>subgrp_id</th></tr></thead><tbody><tr><td>S101</td><td>Deficiency Diseases</td><td>3000</td><td>GRP101,GRP105</td></tr><tr><td>S102</td><td>Accident</td><td>1000</td><td>GRP110,GRP150,GRP136</td></tr><tr><td>S103</td><td>Physiology</td><td>2000</td><td>GRP122,GRP108,GRP138,GRP148</td></tr><tr><td>S104</td><td>Therapy</td><td>1500</td><td>GRP103,GRP113,GRP123,GRP133,GRP143</td></tr><tr><td>S105</td><td>Allergies</td><td>2300</td><td>GRP153,GRP104,GRP114,GRP124</td></tr><tr><td>S106</td><td>Self inflicted</td><td>1200</td><td>GRP117,GRP127,GRP137,GRP147,GRP157</td></tr><tr><td>S107</td><td>Cancer</td><td>3200</td><td>GRP151,GRP131,GRP141,GRP121</td></tr><tr><td>S108</td><td>Infectious disease</td><td>1500</td><td>GRP130,GRP104,GRP109</td></tr><tr><td>S109</td><td>Hereditary</td><td>2000</td><td>GRP102,GRP112,GRP132,GRP142,GRP152</td></tr><tr><td>S110</td><td>Viral</td><td>1000</td><td>GRP143,GRP147,GRP126</td></tr></tbody></table></div>"
      ]
     },
     "metadata": {
      "application/vnd.databricks.v1+output": {
       "addedWidgets": {},
       "aggData": [],
       "aggError": "",
       "aggOverflow": false,
       "aggSchema": [],
       "aggSeriesLimitReached": false,
       "aggType": "",
       "arguments": {},
       "columnCustomDisplayInfos": {},
       "data": [
        [
         "S101",
         "Deficiency Diseases",
         3000,
         "GRP101,GRP105"
        ],
        [
         "S102",
         "Accident",
         1000,
         "GRP110,GRP150,GRP136"
        ],
        [
         "S103",
         "Physiology",
         2000,
         "GRP122,GRP108,GRP138,GRP148"
        ],
        [
         "S104",
         "Therapy",
         1500,
         "GRP103,GRP113,GRP123,GRP133,GRP143"
        ],
        [
         "S105",
         "Allergies",
         2300,
         "GRP153,GRP104,GRP114,GRP124"
        ],
        [
         "S106",
         "Self inflicted",
         1200,
         "GRP117,GRP127,GRP137,GRP147,GRP157"
        ],
        [
         "S107",
         "Cancer",
         3200,
         "GRP151,GRP131,GRP141,GRP121"
        ],
        [
         "S108",
         "Infectious disease",
         1500,
         "GRP130,GRP104,GRP109"
        ],
        [
         "S109",
         "Hereditary",
         2000,
         "GRP102,GRP112,GRP132,GRP142,GRP152"
        ],
        [
         "S110",
         "Viral",
         1000,
         "GRP143,GRP147,GRP126"
        ]
       ],
       "datasetInfos": [],
       "dbfsResultPath": null,
       "isJsonSchema": true,
       "metadata": {},
       "overflow": false,
       "plotOptions": {
        "customPlotOptions": {},
        "displayType": "table",
        "pivotAggregation": null,
        "pivotColumns": null,
        "xColumns": null,
        "yColumns": null
       },
       "removedWidgets": [],
       "schema": [
        {
         "metadata": "{}",
         "name": "subgrp_sk",
         "type": "\"string\""
        },
        {
         "metadata": "{}",
         "name": "subgrp_name",
         "type": "\"string\""
        },
        {
         "metadata": "{}",
         "name": "monthly_premium",
         "type": "\"integer\""
        },
        {
         "metadata": "{}",
         "name": "subgrp_id",
         "type": "\"string\""
        }
       ],
       "type": "table"
      }
     },
     "output_type": "display_data"
    }
   ],
   "source": [
    "subgrp_df.display()"
   ]
  },
  {
   "cell_type": "code",
   "execution_count": 0,
   "metadata": {
    "application/vnd.databricks.v1+cell": {
     "cellMetadata": {
      "byteLimit": 2048000,
      "rowLimit": 10000
     },
     "inputWidgets": {},
     "nuid": "dc92fc85-a375-4a90-90f7-d29b782f8823",
     "showTitle": false,
     "tableResultSettingsMap": {},
     "title": ""
    }
   },
   "outputs": [],
   "source": [
    "subgrp_df = subgrp_df.withColumn(\"subgrp_id\",split(col(\"subgrp_id\"),\",\"))"
   ]
  },
  {
   "cell_type": "code",
   "execution_count": 0,
   "metadata": {
    "application/vnd.databricks.v1+cell": {
     "cellMetadata": {
      "byteLimit": 2048000,
      "rowLimit": 10000
     },
     "inputWidgets": {},
     "nuid": "561f5374-fe70-4b0d-86fe-724afb73b85b",
     "showTitle": false,
     "tableResultSettingsMap": {},
     "title": ""
    }
   },
   "outputs": [
    {
     "output_type": "display_data",
     "data": {
      "text/html": [
       "<style scoped>\n",
       "  .table-result-container {\n",
       "    max-height: 300px;\n",
       "    overflow: auto;\n",
       "  }\n",
       "  table, th, td {\n",
       "    border: 1px solid black;\n",
       "    border-collapse: collapse;\n",
       "  }\n",
       "  th, td {\n",
       "    padding: 5px;\n",
       "  }\n",
       "  th {\n",
       "    text-align: left;\n",
       "  }\n",
       "</style><div class='table-result-container'><table class='table-result'><thead style='background-color: white'><tr><th>subgrp_sk</th><th>subgrp_name</th><th>monthly_premium</th><th>subgrp_id</th></tr></thead><tbody><tr><td>S101</td><td>Deficiency Diseases</td><td>3000</td><td>GRP101</td></tr><tr><td>S101</td><td>Deficiency Diseases</td><td>3000</td><td>GRP105</td></tr><tr><td>S102</td><td>Accident</td><td>1000</td><td>GRP110</td></tr><tr><td>S102</td><td>Accident</td><td>1000</td><td>GRP150</td></tr><tr><td>S102</td><td>Accident</td><td>1000</td><td>GRP136</td></tr><tr><td>S103</td><td>Physiology</td><td>2000</td><td>GRP122</td></tr><tr><td>S103</td><td>Physiology</td><td>2000</td><td>GRP108</td></tr><tr><td>S103</td><td>Physiology</td><td>2000</td><td>GRP138</td></tr><tr><td>S103</td><td>Physiology</td><td>2000</td><td>GRP148</td></tr><tr><td>S104</td><td>Therapy</td><td>1500</td><td>GRP103</td></tr><tr><td>S104</td><td>Therapy</td><td>1500</td><td>GRP113</td></tr><tr><td>S104</td><td>Therapy</td><td>1500</td><td>GRP123</td></tr><tr><td>S104</td><td>Therapy</td><td>1500</td><td>GRP133</td></tr><tr><td>S104</td><td>Therapy</td><td>1500</td><td>GRP143</td></tr><tr><td>S105</td><td>Allergies</td><td>2300</td><td>GRP153</td></tr><tr><td>S105</td><td>Allergies</td><td>2300</td><td>GRP104</td></tr><tr><td>S105</td><td>Allergies</td><td>2300</td><td>GRP114</td></tr><tr><td>S105</td><td>Allergies</td><td>2300</td><td>GRP124</td></tr><tr><td>S106</td><td>Self inflicted</td><td>1200</td><td>GRP117</td></tr><tr><td>S106</td><td>Self inflicted</td><td>1200</td><td>GRP127</td></tr><tr><td>S106</td><td>Self inflicted</td><td>1200</td><td>GRP137</td></tr><tr><td>S106</td><td>Self inflicted</td><td>1200</td><td>GRP147</td></tr><tr><td>S106</td><td>Self inflicted</td><td>1200</td><td>GRP157</td></tr><tr><td>S107</td><td>Cancer</td><td>3200</td><td>GRP151</td></tr><tr><td>S107</td><td>Cancer</td><td>3200</td><td>GRP131</td></tr><tr><td>S107</td><td>Cancer</td><td>3200</td><td>GRP141</td></tr><tr><td>S107</td><td>Cancer</td><td>3200</td><td>GRP121</td></tr><tr><td>S108</td><td>Infectious disease</td><td>1500</td><td>GRP130</td></tr><tr><td>S108</td><td>Infectious disease</td><td>1500</td><td>GRP104</td></tr><tr><td>S108</td><td>Infectious disease</td><td>1500</td><td>GRP109</td></tr><tr><td>S109</td><td>Hereditary</td><td>2000</td><td>GRP102</td></tr><tr><td>S109</td><td>Hereditary</td><td>2000</td><td>GRP112</td></tr><tr><td>S109</td><td>Hereditary</td><td>2000</td><td>GRP132</td></tr><tr><td>S109</td><td>Hereditary</td><td>2000</td><td>GRP142</td></tr><tr><td>S109</td><td>Hereditary</td><td>2000</td><td>GRP152</td></tr><tr><td>S110</td><td>Viral</td><td>1000</td><td>GRP143</td></tr><tr><td>S110</td><td>Viral</td><td>1000</td><td>GRP147</td></tr><tr><td>S110</td><td>Viral</td><td>1000</td><td>GRP126</td></tr></tbody></table></div>"
      ]
     },
     "metadata": {
      "application/vnd.databricks.v1+output": {
       "addedWidgets": {},
       "aggData": [],
       "aggError": "",
       "aggOverflow": false,
       "aggSchema": [],
       "aggSeriesLimitReached": false,
       "aggType": "",
       "arguments": {},
       "columnCustomDisplayInfos": {},
       "data": [
        [
         "S101",
         "Deficiency Diseases",
         3000,
         "GRP101"
        ],
        [
         "S101",
         "Deficiency Diseases",
         3000,
         "GRP105"
        ],
        [
         "S102",
         "Accident",
         1000,
         "GRP110"
        ],
        [
         "S102",
         "Accident",
         1000,
         "GRP150"
        ],
        [
         "S102",
         "Accident",
         1000,
         "GRP136"
        ],
        [
         "S103",
         "Physiology",
         2000,
         "GRP122"
        ],
        [
         "S103",
         "Physiology",
         2000,
         "GRP108"
        ],
        [
         "S103",
         "Physiology",
         2000,
         "GRP138"
        ],
        [
         "S103",
         "Physiology",
         2000,
         "GRP148"
        ],
        [
         "S104",
         "Therapy",
         1500,
         "GRP103"
        ],
        [
         "S104",
         "Therapy",
         1500,
         "GRP113"
        ],
        [
         "S104",
         "Therapy",
         1500,
         "GRP123"
        ],
        [
         "S104",
         "Therapy",
         1500,
         "GRP133"
        ],
        [
         "S104",
         "Therapy",
         1500,
         "GRP143"
        ],
        [
         "S105",
         "Allergies",
         2300,
         "GRP153"
        ],
        [
         "S105",
         "Allergies",
         2300,
         "GRP104"
        ],
        [
         "S105",
         "Allergies",
         2300,
         "GRP114"
        ],
        [
         "S105",
         "Allergies",
         2300,
         "GRP124"
        ],
        [
         "S106",
         "Self inflicted",
         1200,
         "GRP117"
        ],
        [
         "S106",
         "Self inflicted",
         1200,
         "GRP127"
        ],
        [
         "S106",
         "Self inflicted",
         1200,
         "GRP137"
        ],
        [
         "S106",
         "Self inflicted",
         1200,
         "GRP147"
        ],
        [
         "S106",
         "Self inflicted",
         1200,
         "GRP157"
        ],
        [
         "S107",
         "Cancer",
         3200,
         "GRP151"
        ],
        [
         "S107",
         "Cancer",
         3200,
         "GRP131"
        ],
        [
         "S107",
         "Cancer",
         3200,
         "GRP141"
        ],
        [
         "S107",
         "Cancer",
         3200,
         "GRP121"
        ],
        [
         "S108",
         "Infectious disease",
         1500,
         "GRP130"
        ],
        [
         "S108",
         "Infectious disease",
         1500,
         "GRP104"
        ],
        [
         "S108",
         "Infectious disease",
         1500,
         "GRP109"
        ],
        [
         "S109",
         "Hereditary",
         2000,
         "GRP102"
        ],
        [
         "S109",
         "Hereditary",
         2000,
         "GRP112"
        ],
        [
         "S109",
         "Hereditary",
         2000,
         "GRP132"
        ],
        [
         "S109",
         "Hereditary",
         2000,
         "GRP142"
        ],
        [
         "S109",
         "Hereditary",
         2000,
         "GRP152"
        ],
        [
         "S110",
         "Viral",
         1000,
         "GRP143"
        ],
        [
         "S110",
         "Viral",
         1000,
         "GRP147"
        ],
        [
         "S110",
         "Viral",
         1000,
         "GRP126"
        ]
       ],
       "datasetInfos": [],
       "dbfsResultPath": null,
       "isJsonSchema": true,
       "metadata": {},
       "overflow": false,
       "plotOptions": {
        "customPlotOptions": {},
        "displayType": "table",
        "pivotAggregation": null,
        "pivotColumns": null,
        "xColumns": null,
        "yColumns": null
       },
       "removedWidgets": [],
       "schema": [
        {
         "metadata": "{}",
         "name": "subgrp_sk",
         "type": "\"string\""
        },
        {
         "metadata": "{}",
         "name": "subgrp_name",
         "type": "\"string\""
        },
        {
         "metadata": "{}",
         "name": "monthly_premium",
         "type": "\"integer\""
        },
        {
         "metadata": "{}",
         "name": "subgrp_id",
         "type": "\"string\""
        }
       ],
       "type": "table"
      }
     },
     "output_type": "display_data"
    }
   ],
   "source": [
    "subgrp_df.display()"
   ]
  },
  {
   "cell_type": "code",
   "execution_count": 0,
   "metadata": {
    "application/vnd.databricks.v1+cell": {
     "cellMetadata": {
      "byteLimit": 2048000,
      "rowLimit": 10000
     },
     "inputWidgets": {},
     "nuid": "13b0870a-9b0d-43d9-af83-d0ffa25ab78d",
     "showTitle": false,
     "tableResultSettingsMap": {},
     "title": ""
    }
   },
   "outputs": [],
   "source": [
    "# Explode --> Transform each element of the list into new row\n",
    "\n",
    "subgrp_df = subgrp_df.withColumn('subgrp_id', explode(col('subgrp_id')))"
   ]
  },
  {
   "cell_type": "code",
   "execution_count": 0,
   "metadata": {
    "application/vnd.databricks.v1+cell": {
     "cellMetadata": {
      "byteLimit": 2048000,
      "rowLimit": 10000
     },
     "inputWidgets": {},
     "nuid": "fb79d059-ab3a-4328-8201-cae1c2da3983",
     "showTitle": false,
     "tableResultSettingsMap": {},
     "title": ""
    }
   },
   "outputs": [
    {
     "output_type": "display_data",
     "data": {
      "text/html": [
       "<style scoped>\n",
       "  .table-result-container {\n",
       "    max-height: 300px;\n",
       "    overflow: auto;\n",
       "  }\n",
       "  table, th, td {\n",
       "    border: 1px solid black;\n",
       "    border-collapse: collapse;\n",
       "  }\n",
       "  th, td {\n",
       "    padding: 5px;\n",
       "  }\n",
       "  th {\n",
       "    text-align: left;\n",
       "  }\n",
       "</style><div class='table-result-container'><table class='table-result'><thead style='background-color: white'><tr><th>subgrp_sk</th><th>subgrp_name</th><th>monthly_premium</th><th>subgrp_id</th></tr></thead><tbody><tr><td>S101</td><td>Deficiency Diseases</td><td>3000</td><td>GRP101</td></tr><tr><td>S101</td><td>Deficiency Diseases</td><td>3000</td><td>GRP105</td></tr><tr><td>S102</td><td>Accident</td><td>1000</td><td>GRP110</td></tr><tr><td>S102</td><td>Accident</td><td>1000</td><td>GRP150</td></tr><tr><td>S102</td><td>Accident</td><td>1000</td><td>GRP136</td></tr><tr><td>S103</td><td>Physiology</td><td>2000</td><td>GRP122</td></tr><tr><td>S103</td><td>Physiology</td><td>2000</td><td>GRP108</td></tr><tr><td>S103</td><td>Physiology</td><td>2000</td><td>GRP138</td></tr><tr><td>S103</td><td>Physiology</td><td>2000</td><td>GRP148</td></tr><tr><td>S104</td><td>Therapy</td><td>1500</td><td>GRP103</td></tr><tr><td>S104</td><td>Therapy</td><td>1500</td><td>GRP113</td></tr><tr><td>S104</td><td>Therapy</td><td>1500</td><td>GRP123</td></tr><tr><td>S104</td><td>Therapy</td><td>1500</td><td>GRP133</td></tr><tr><td>S104</td><td>Therapy</td><td>1500</td><td>GRP143</td></tr><tr><td>S105</td><td>Allergies</td><td>2300</td><td>GRP153</td></tr><tr><td>S105</td><td>Allergies</td><td>2300</td><td>GRP104</td></tr><tr><td>S105</td><td>Allergies</td><td>2300</td><td>GRP114</td></tr><tr><td>S105</td><td>Allergies</td><td>2300</td><td>GRP124</td></tr><tr><td>S106</td><td>Self inflicted</td><td>1200</td><td>GRP117</td></tr><tr><td>S106</td><td>Self inflicted</td><td>1200</td><td>GRP127</td></tr><tr><td>S106</td><td>Self inflicted</td><td>1200</td><td>GRP137</td></tr><tr><td>S106</td><td>Self inflicted</td><td>1200</td><td>GRP147</td></tr><tr><td>S106</td><td>Self inflicted</td><td>1200</td><td>GRP157</td></tr><tr><td>S107</td><td>Cancer</td><td>3200</td><td>GRP151</td></tr><tr><td>S107</td><td>Cancer</td><td>3200</td><td>GRP131</td></tr><tr><td>S107</td><td>Cancer</td><td>3200</td><td>GRP141</td></tr><tr><td>S107</td><td>Cancer</td><td>3200</td><td>GRP121</td></tr><tr><td>S108</td><td>Infectious disease</td><td>1500</td><td>GRP130</td></tr><tr><td>S108</td><td>Infectious disease</td><td>1500</td><td>GRP104</td></tr><tr><td>S108</td><td>Infectious disease</td><td>1500</td><td>GRP109</td></tr><tr><td>S109</td><td>Hereditary</td><td>2000</td><td>GRP102</td></tr><tr><td>S109</td><td>Hereditary</td><td>2000</td><td>GRP112</td></tr><tr><td>S109</td><td>Hereditary</td><td>2000</td><td>GRP132</td></tr><tr><td>S109</td><td>Hereditary</td><td>2000</td><td>GRP142</td></tr><tr><td>S109</td><td>Hereditary</td><td>2000</td><td>GRP152</td></tr><tr><td>S110</td><td>Viral</td><td>1000</td><td>GRP143</td></tr><tr><td>S110</td><td>Viral</td><td>1000</td><td>GRP147</td></tr><tr><td>S110</td><td>Viral</td><td>1000</td><td>GRP126</td></tr></tbody></table></div>"
      ]
     },
     "metadata": {
      "application/vnd.databricks.v1+output": {
       "addedWidgets": {},
       "aggData": [],
       "aggError": "",
       "aggOverflow": false,
       "aggSchema": [],
       "aggSeriesLimitReached": false,
       "aggType": "",
       "arguments": {},
       "columnCustomDisplayInfos": {},
       "data": [
        [
         "S101",
         "Deficiency Diseases",
         3000,
         "GRP101"
        ],
        [
         "S101",
         "Deficiency Diseases",
         3000,
         "GRP105"
        ],
        [
         "S102",
         "Accident",
         1000,
         "GRP110"
        ],
        [
         "S102",
         "Accident",
         1000,
         "GRP150"
        ],
        [
         "S102",
         "Accident",
         1000,
         "GRP136"
        ],
        [
         "S103",
         "Physiology",
         2000,
         "GRP122"
        ],
        [
         "S103",
         "Physiology",
         2000,
         "GRP108"
        ],
        [
         "S103",
         "Physiology",
         2000,
         "GRP138"
        ],
        [
         "S103",
         "Physiology",
         2000,
         "GRP148"
        ],
        [
         "S104",
         "Therapy",
         1500,
         "GRP103"
        ],
        [
         "S104",
         "Therapy",
         1500,
         "GRP113"
        ],
        [
         "S104",
         "Therapy",
         1500,
         "GRP123"
        ],
        [
         "S104",
         "Therapy",
         1500,
         "GRP133"
        ],
        [
         "S104",
         "Therapy",
         1500,
         "GRP143"
        ],
        [
         "S105",
         "Allergies",
         2300,
         "GRP153"
        ],
        [
         "S105",
         "Allergies",
         2300,
         "GRP104"
        ],
        [
         "S105",
         "Allergies",
         2300,
         "GRP114"
        ],
        [
         "S105",
         "Allergies",
         2300,
         "GRP124"
        ],
        [
         "S106",
         "Self inflicted",
         1200,
         "GRP117"
        ],
        [
         "S106",
         "Self inflicted",
         1200,
         "GRP127"
        ],
        [
         "S106",
         "Self inflicted",
         1200,
         "GRP137"
        ],
        [
         "S106",
         "Self inflicted",
         1200,
         "GRP147"
        ],
        [
         "S106",
         "Self inflicted",
         1200,
         "GRP157"
        ],
        [
         "S107",
         "Cancer",
         3200,
         "GRP151"
        ],
        [
         "S107",
         "Cancer",
         3200,
         "GRP131"
        ],
        [
         "S107",
         "Cancer",
         3200,
         "GRP141"
        ],
        [
         "S107",
         "Cancer",
         3200,
         "GRP121"
        ],
        [
         "S108",
         "Infectious disease",
         1500,
         "GRP130"
        ],
        [
         "S108",
         "Infectious disease",
         1500,
         "GRP104"
        ],
        [
         "S108",
         "Infectious disease",
         1500,
         "GRP109"
        ],
        [
         "S109",
         "Hereditary",
         2000,
         "GRP102"
        ],
        [
         "S109",
         "Hereditary",
         2000,
         "GRP112"
        ],
        [
         "S109",
         "Hereditary",
         2000,
         "GRP132"
        ],
        [
         "S109",
         "Hereditary",
         2000,
         "GRP142"
        ],
        [
         "S109",
         "Hereditary",
         2000,
         "GRP152"
        ],
        [
         "S110",
         "Viral",
         1000,
         "GRP143"
        ],
        [
         "S110",
         "Viral",
         1000,
         "GRP147"
        ],
        [
         "S110",
         "Viral",
         1000,
         "GRP126"
        ]
       ],
       "datasetInfos": [],
       "dbfsResultPath": null,
       "isJsonSchema": true,
       "metadata": {},
       "overflow": false,
       "plotOptions": {
        "customPlotOptions": {},
        "displayType": "table",
        "pivotAggregation": null,
        "pivotColumns": null,
        "xColumns": null,
        "yColumns": null
       },
       "removedWidgets": [],
       "schema": [
        {
         "metadata": "{}",
         "name": "subgrp_sk",
         "type": "\"string\""
        },
        {
         "metadata": "{}",
         "name": "subgrp_name",
         "type": "\"string\""
        },
        {
         "metadata": "{}",
         "name": "monthly_premium",
         "type": "\"integer\""
        },
        {
         "metadata": "{}",
         "name": "subgrp_id",
         "type": "\"string\""
        }
       ],
       "type": "table"
      }
     },
     "output_type": "display_data"
    }
   ],
   "source": [
    "subgrp_df.display()"
   ]
  },
  {
   "cell_type": "markdown",
   "metadata": {
    "application/vnd.databricks.v1+cell": {
     "cellMetadata": {},
     "inputWidgets": {},
     "nuid": "700c93a0-f5a0-4701-a0d6-2eb3bb49a6f3",
     "showTitle": false,
     "tableResultSettingsMap": {},
     "title": ""
    }
   },
   "source": [
    "## Disease Transformation"
   ]
  },
  {
   "cell_type": "code",
   "execution_count": 0,
   "metadata": {
    "application/vnd.databricks.v1+cell": {
     "cellMetadata": {
      "byteLimit": 2048000,
      "rowLimit": 10000
     },
     "inputWidgets": {},
     "nuid": "537f43a3-0d05-4039-a9d6-a7b87bbf2485",
     "showTitle": false,
     "tableResultSettingsMap": {},
     "title": ""
    }
   },
   "outputs": [
    {
     "output_type": "stream",
     "name": "stdout",
     "output_type": "stream",
     "text": [
      "adls connection successful\n"
     ]
    }
   ],
   "source": [
    "ds_df = readbronzedata(\"disease.csv\")"
   ]
  },
  {
   "cell_type": "code",
   "execution_count": 0,
   "metadata": {
    "application/vnd.databricks.v1+cell": {
     "cellMetadata": {
      "byteLimit": 2048000,
      "rowLimit": 10000
     },
     "inputWidgets": {},
     "nuid": "31a7aa58-89c6-4b98-88a4-23ebe5e7d868",
     "showTitle": false,
     "tableResultSettingsMap": {},
     "title": ""
    }
   },
   "outputs": [
    {
     "output_type": "display_data",
     "data": {
      "text/html": [
       "<style scoped>\n",
       "  .table-result-container {\n",
       "    max-height: 300px;\n",
       "    overflow: auto;\n",
       "  }\n",
       "  table, th, td {\n",
       "    border: 1px solid black;\n",
       "    border-collapse: collapse;\n",
       "  }\n",
       "  th, td {\n",
       "    padding: 5px;\n",
       "  }\n",
       "  th {\n",
       "    text-align: left;\n",
       "  }\n",
       "</style><div class='table-result-container'><table class='table-result'><thead style='background-color: white'><tr><th>subgrp_id</th><th>disease_id</th><th>disease_name</th></tr></thead><tbody><tr><td>S101</td><td>110001</td><td>Beriberi</td></tr><tr><td>S101</td><td>110002</td><td>Scurvy</td></tr><tr><td>S101</td><td>110003</td><td>Goitre</td></tr><tr><td>S101</td><td>110004</td><td>Osteoporosis</td></tr><tr><td>S101</td><td>110005</td><td>Rickets</td></tr><tr><td>S101</td><td>110006</td><td>Anaemia</td></tr><tr><td>S102</td><td>110007</td><td>Fractures</td></tr><tr><td>S102</td><td>110008</td><td>Heart Attack</td></tr><tr><td>S102</td><td>110009</td><td>Burns</td></tr><tr><td>S102</td><td>110010</td><td>Choking</td></tr><tr><td>S102</td><td>110011</td><td>Stroke</td></tr><tr><td>S102</td><td>110012</td><td>Food Poisoning</td></tr><tr><td>S103</td><td>110013</td><td>Asthma</td></tr><tr><td>S103</td><td>110014</td><td>Glaucoma</td></tr><tr><td>S103</td><td>110015</td><td>Diabetes</td></tr><tr><td>S103</td><td>110016</td><td>Amnesia</td></tr><tr><td>S103</td><td>110017</td><td>Parasomnias</td></tr><tr><td>S103</td><td>110018</td><td>Neurocognitive disorders</td></tr><tr><td>S104</td><td>110019</td><td>Vertigo</td></tr><tr><td>S104</td><td>110020</td><td>Lymphedema</td></tr><tr><td>S104</td><td>110021</td><td>Concussion</td></tr><tr><td>S104</td><td>110022</td><td>Arthritis</td></tr><tr><td>S104</td><td>110023</td><td>Whiplash</td></tr><tr><td>S104</td><td>110024</td><td>Parkinson's disease</td></tr><tr><td>S105</td><td>110025</td><td>Insecy allergy</td></tr><tr><td>S105</td><td>110026</td><td>Mold allergy</td></tr><tr><td>S105</td><td>110027</td><td>Pet allergy</td></tr><tr><td>S105</td><td>110028</td><td>Pollen allergy</td></tr><tr><td>S105</td><td>110029</td><td>Drug allergy</td></tr><tr><td>S105</td><td>110030</td><td>Food allergy</td></tr><tr><td>S106</td><td>110031</td><td>Suicide</td></tr><tr><td>S106</td><td>110032</td><td>Smoking</td></tr><tr><td>S106</td><td>110033</td><td>Sunbathing</td></tr><tr><td>S106</td><td>110034</td><td>Alcohol consumption</td></tr><tr><td>S106</td><td>110035</td><td>Head banging</td></tr><tr><td>S106</td><td>110036</td><td>Drug consumption</td></tr><tr><td>S107</td><td>110037</td><td>Kidney cancer</td></tr><tr><td>S107</td><td>110038</td><td>Colorectal cancer</td></tr><tr><td>S107</td><td>110039</td><td>Bladder cancer</td></tr><tr><td>S107</td><td>110040</td><td>Melanoma</td></tr><tr><td>S107</td><td>110041</td><td>Lung cancer</td></tr><tr><td>S107</td><td>110042</td><td>Breast cancer</td></tr><tr><td>S108</td><td>110043</td><td>Measles</td></tr><tr><td>S108</td><td>110044</td><td>Dengue</td></tr><tr><td>S108</td><td>110045</td><td>Smallpox</td></tr><tr><td>S108</td><td>110046</td><td>Anthrax</td></tr><tr><td>S108</td><td>110047</td><td>Cholera</td></tr><tr><td>S108</td><td>110048</td><td>Malaria</td></tr><tr><td>S109</td><td>110049</td><td>Cystic fibrosis</td></tr><tr><td>S109</td><td>110050</td><td>Fanconi anaemia</td></tr><tr><td>S109</td><td>110051</td><td>Phenylketonuria</td></tr><tr><td>S109</td><td>110052</td><td>Galactosemia</td></tr><tr><td>S109</td><td>110053</td><td>Rett Syndrome</td></tr><tr><td>S109</td><td>110054</td><td>Hemophilia</td></tr><tr><td>S110</td><td>110055</td><td>Hepatitis</td></tr><tr><td>S110</td><td>110056</td><td>Mumps</td></tr><tr><td>S110</td><td>110057</td><td>Pneumonia</td></tr><tr><td>S110</td><td>110058</td><td>Shingles</td></tr><tr><td>S110</td><td>110059</td><td>Flu</td></tr><tr><td>S110</td><td>110060</td><td>Chickenpox</td></tr></tbody></table></div>"
      ]
     },
     "metadata": {
      "application/vnd.databricks.v1+output": {
       "addedWidgets": {},
       "aggData": [],
       "aggError": "",
       "aggOverflow": false,
       "aggSchema": [],
       "aggSeriesLimitReached": false,
       "aggType": "",
       "arguments": {},
       "columnCustomDisplayInfos": {},
       "data": [
        [
         "S101",
         110001,
         "Beriberi"
        ],
        [
         "S101",
         110002,
         "Scurvy"
        ],
        [
         "S101",
         110003,
         "Goitre"
        ],
        [
         "S101",
         110004,
         "Osteoporosis"
        ],
        [
         "S101",
         110005,
         "Rickets"
        ],
        [
         "S101",
         110006,
         "Anaemia"
        ],
        [
         "S102",
         110007,
         "Fractures"
        ],
        [
         "S102",
         110008,
         "Heart Attack"
        ],
        [
         "S102",
         110009,
         "Burns"
        ],
        [
         "S102",
         110010,
         "Choking"
        ],
        [
         "S102",
         110011,
         "Stroke"
        ],
        [
         "S102",
         110012,
         "Food Poisoning"
        ],
        [
         "S103",
         110013,
         "Asthma"
        ],
        [
         "S103",
         110014,
         "Glaucoma"
        ],
        [
         "S103",
         110015,
         "Diabetes"
        ],
        [
         "S103",
         110016,
         "Amnesia"
        ],
        [
         "S103",
         110017,
         "Parasomnias"
        ],
        [
         "S103",
         110018,
         "Neurocognitive disorders"
        ],
        [
         "S104",
         110019,
         "Vertigo"
        ],
        [
         "S104",
         110020,
         "Lymphedema"
        ],
        [
         "S104",
         110021,
         "Concussion"
        ],
        [
         "S104",
         110022,
         "Arthritis"
        ],
        [
         "S104",
         110023,
         "Whiplash"
        ],
        [
         "S104",
         110024,
         "Parkinson's disease"
        ],
        [
         "S105",
         110025,
         "Insecy allergy"
        ],
        [
         "S105",
         110026,
         "Mold allergy"
        ],
        [
         "S105",
         110027,
         "Pet allergy"
        ],
        [
         "S105",
         110028,
         "Pollen allergy"
        ],
        [
         "S105",
         110029,
         "Drug allergy"
        ],
        [
         "S105",
         110030,
         "Food allergy"
        ],
        [
         "S106",
         110031,
         "Suicide"
        ],
        [
         "S106",
         110032,
         "Smoking"
        ],
        [
         "S106",
         110033,
         "Sunbathing"
        ],
        [
         "S106",
         110034,
         "Alcohol consumption"
        ],
        [
         "S106",
         110035,
         "Head banging"
        ],
        [
         "S106",
         110036,
         "Drug consumption"
        ],
        [
         "S107",
         110037,
         "Kidney cancer"
        ],
        [
         "S107",
         110038,
         "Colorectal cancer"
        ],
        [
         "S107",
         110039,
         "Bladder cancer"
        ],
        [
         "S107",
         110040,
         "Melanoma"
        ],
        [
         "S107",
         110041,
         "Lung cancer"
        ],
        [
         "S107",
         110042,
         "Breast cancer"
        ],
        [
         "S108",
         110043,
         "Measles"
        ],
        [
         "S108",
         110044,
         "Dengue"
        ],
        [
         "S108",
         110045,
         "Smallpox"
        ],
        [
         "S108",
         110046,
         "Anthrax"
        ],
        [
         "S108",
         110047,
         "Cholera"
        ],
        [
         "S108",
         110048,
         "Malaria"
        ],
        [
         "S109",
         110049,
         "Cystic fibrosis"
        ],
        [
         "S109",
         110050,
         "Fanconi anaemia"
        ],
        [
         "S109",
         110051,
         "Phenylketonuria"
        ],
        [
         "S109",
         110052,
         "Galactosemia"
        ],
        [
         "S109",
         110053,
         "Rett Syndrome"
        ],
        [
         "S109",
         110054,
         "Hemophilia"
        ],
        [
         "S110",
         110055,
         "Hepatitis"
        ],
        [
         "S110",
         110056,
         "Mumps"
        ],
        [
         "S110",
         110057,
         "Pneumonia"
        ],
        [
         "S110",
         110058,
         "Shingles"
        ],
        [
         "S110",
         110059,
         "Flu"
        ],
        [
         "S110",
         110060,
         "Chickenpox"
        ]
       ],
       "datasetInfos": [],
       "dbfsResultPath": null,
       "isJsonSchema": true,
       "metadata": {},
       "overflow": false,
       "plotOptions": {
        "customPlotOptions": {},
        "displayType": "table",
        "pivotAggregation": null,
        "pivotColumns": null,
        "xColumns": null,
        "yColumns": null
       },
       "removedWidgets": [],
       "schema": [
        {
         "metadata": "{}",
         "name": "subgrp_id",
         "type": "\"string\""
        },
        {
         "metadata": "{}",
         "name": "disease_id",
         "type": "\"integer\""
        },
        {
         "metadata": "{}",
         "name": "disease_name",
         "type": "\"string\""
        }
       ],
       "type": "table"
      }
     },
     "output_type": "display_data"
    }
   ],
   "source": [
    "ds_df.display()"
   ]
  },
  {
   "cell_type": "code",
   "execution_count": 0,
   "metadata": {
    "application/vnd.databricks.v1+cell": {
     "cellMetadata": {
      "byteLimit": 2048000,
      "rowLimit": 10000
     },
     "inputWidgets": {},
     "nuid": "3a10e809-33c1-422e-aabd-e6d256fb379a",
     "showTitle": false,
     "tableResultSettingsMap": {},
     "title": ""
    }
   },
   "outputs": [
    {
     "output_type": "stream",
     "name": "stdout",
     "output_type": "stream",
     "text": [
      "+---------+----------+------------+-----+\n|subgrp_id|disease_id|disease_name|count|\n+---------+----------+------------+-----+\n+---------+----------+------------+-----+\n\n"
     ]
    }
   ],
   "source": [
    "tocheckduplicates(ds_df)"
   ]
  },
  {
   "cell_type": "code",
   "execution_count": 0,
   "metadata": {
    "application/vnd.databricks.v1+cell": {
     "cellMetadata": {
      "byteLimit": 2048000,
      "rowLimit": 10000
     },
     "inputWidgets": {},
     "nuid": "e8568679-2f47-4b3d-ad5c-42fc816e1887",
     "showTitle": false,
     "tableResultSettingsMap": {},
     "title": ""
    }
   },
   "outputs": [
    {
     "output_type": "stream",
     "name": "stdout",
     "output_type": "stream",
     "text": [
      "+---------+----------+------------+\n|subgrp_id|disease_id|disease_name|\n+---------+----------+------------+\n|        0|         0|           0|\n+---------+----------+------------+\n\n"
     ]
    }
   ],
   "source": [
    "missingvaluecheck(ds_df)"
   ]
  },
  {
   "cell_type": "markdown",
   "metadata": {
    "application/vnd.databricks.v1+cell": {
     "cellMetadata": {},
     "inputWidgets": {},
     "nuid": "bd51a7db-660a-4a25-9dd1-f4d0c3b73a3f",
     "showTitle": false,
     "tableResultSettingsMap": {},
     "title": ""
    }
   },
   "source": [
    "## Patient Records Transformation"
   ]
  },
  {
   "cell_type": "code",
   "execution_count": 0,
   "metadata": {
    "application/vnd.databricks.v1+cell": {
     "cellMetadata": {
      "byteLimit": 2048000,
      "rowLimit": 10000
     },
     "inputWidgets": {},
     "nuid": "d8c1008f-4c74-46dc-820e-21c418b0cb5c",
     "showTitle": false,
     "tableResultSettingsMap": {},
     "title": ""
    }
   },
   "outputs": [
    {
     "output_type": "stream",
     "name": "stdout",
     "output_type": "stream",
     "text": [
      "adls connection successful\n"
     ]
    }
   ],
   "source": [
    "pr_df = readbronzedata(\"Patient_records.csv\")"
   ]
  },
  {
   "cell_type": "code",
   "execution_count": 0,
   "metadata": {
    "application/vnd.databricks.v1+cell": {
     "cellMetadata": {
      "byteLimit": 2048000,
      "rowLimit": 10000
     },
     "inputWidgets": {},
     "nuid": "11621e49-52ea-4f0b-b78b-e29f8c2296d8",
     "showTitle": false,
     "tableResultSettingsMap": {},
     "title": ""
    }
   },
   "outputs": [
    {
     "output_type": "display_data",
     "data": {
      "text/html": [
       "<style scoped>\n",
       "  .table-result-container {\n",
       "    max-height: 300px;\n",
       "    overflow: auto;\n",
       "  }\n",
       "  table, th, td {\n",
       "    border: 1px solid black;\n",
       "    border-collapse: collapse;\n",
       "  }\n",
       "  th, td {\n",
       "    padding: 5px;\n",
       "  }\n",
       "  th {\n",
       "    text-align: left;\n",
       "  }\n",
       "</style><div class='table-result-container'><table class='table-result'><thead style='background-color: white'><tr><th>Patient_id</th><th>Patient_name</th><th>patient_gender</th><th>patient_birth_date</th><th>patient_phone</th><th>disease_name</th><th>city</th><th>hospital_id</th></tr></thead><tbody><tr><td>187158</td><td>Harbir</td><td>Female</td><td>1924-06-30</td><td>+91 0112009318</td><td>Galactosemia</td><td>Rourkela</td><td>H1001</td></tr><tr><td>112766</td><td>Brahmdev</td><td>Female</td><td>1948-12-20</td><td>+91 1727749552</td><td>Bladder cancer</td><td>Tiruvottiyur</td><td>H1016</td></tr><tr><td>199252</td><td>Ujjawal</td><td>Male</td><td>1980-04-16</td><td>+91 8547451606</td><td>Kidney cancer</td><td>Berhampur</td><td>H1009</td></tr><tr><td>133424</td><td>Ballari</td><td>Female</td><td>1969-09-25</td><td>+91 0106026841</td><td>Suicide</td><td>Bihar Sharif</td><td>H1017</td></tr><tr><td>172579</td><td>Devnath</td><td>Female</td><td>1946-05-01</td><td>+91 1868774631</td><td>Food allergy</td><td>Bidhannagar</td><td>H1019</td></tr><tr><td>171320</td><td>Atasi</td><td>Male</td><td>1967-10-02</td><td>+91 9747336855</td><td>Whiplash</td><td>Amravati</td><td>H1013</td></tr><tr><td>107794</td><td>Manish</td><td>Male</td><td>1967-06-06</td><td>+91 4354294043</td><td>Sunbathing</td><td>Panvel</td><td>H1004</td></tr><tr><td>130339</td><td>Aakar</td><td>Female</td><td>1925-03-05</td><td>+91 2777633911</td><td>Drug consumption</td><td>Bihar Sharif</td><td>H1000</td></tr><tr><td>110377</td><td>Gurudas</td><td>Male</td><td>1945-05-06</td><td>+91 1232859381</td><td>Dengue</td><td>Kamarhati</td><td>H1001</td></tr><tr><td>149367</td><td>null</td><td>Male</td><td>1925-06-12</td><td>+91 1780763280</td><td>Head banging</td><td>Bangalore</td><td>H1013</td></tr><tr><td>156168</td><td>null</td><td>Male</td><td>1976-02-03</td><td>+91 5586075345</td><td>Fanconi anaemia</td><td>Rajkot</td><td>H1004</td></tr><tr><td>114241</td><td>null</td><td>Female</td><td>1955-01-22</td><td>+91 4146391938</td><td>Breast cancer</td><td>Ghaziabad</td><td>H1015</td></tr><tr><td>146382</td><td>Dharmadaas</td><td>Male</td><td>1964-04-29</td><td>+91 6345482027</td><td>Anthrax</td><td>Bhalswa Jahangir Pur</td><td>H1019</td></tr><tr><td>132748</td><td>Brahmvir</td><td>Male</td><td>1991-11-11</td><td>+91 7316972612</td><td>Cystic fibrosis</td><td>Ambala</td><td>H1018</td></tr><tr><td>167340</td><td>null</td><td>Female</td><td>1981-01-25</td><td>+91 2960004518</td><td>Galactosemia</td><td>Surendranagar Dudhrej</td><td>H1003</td></tr><tr><td>135184</td><td>Bhagvan</td><td>Female</td><td>1966-07-24</td><td>+91 0297693485</td><td>Dengue</td><td>Bhimavaram</td><td>H1018</td></tr><tr><td>179662</td><td>Amritkala</td><td>Female</td><td>1933-11-20</td><td>+91 0537157280</td><td>Smallpox</td><td>Meerut</td><td>H1018</td></tr><tr><td>184479</td><td>Bandhu</td><td>Male</td><td>1996-10-15</td><td>+91 0695289163</td><td>Pollen allergy</td><td>Chinsurah</td><td>H1010</td></tr><tr><td>156988</td><td>Bhagavaana</td><td>Female</td><td>1935-09-16</td><td>+91 6071745855</td><td>Breast cancer</td><td>Shahjahanpur</td><td>H1012</td></tr><tr><td>132870</td><td>null</td><td>Female</td><td>1924-11-09</td><td>+91 8906694405</td><td>Glaucoma</td><td>Jabalpur</td><td>H1017</td></tr><tr><td>148137</td><td>Umang</td><td>Female</td><td>1963-07-14</td><td>+91 9485838770</td><td>Pet allergy</td><td>Haridwar</td><td>H1002</td></tr><tr><td>113280</td><td>Darsana</td><td>Male</td><td>1932-05-29</td><td>+91 7676311811</td><td>Rett Syndrome</td><td>Dibrugarh</td><td>H1019</td></tr><tr><td>134184</td><td>Prakash</td><td>Female</td><td>1923-09-15</td><td>+91 9268324471</td><td>Flu</td><td>Kottayam</td><td>H1001</td></tr><tr><td>122592</td><td>Vaijayanti</td><td>Male</td><td>1920-11-13</td><td>+91 9358851649</td><td>Cholera</td><td>Mira-Bhayandar</td><td>H1009</td></tr><tr><td>154439</td><td>Menakshi</td><td>Male</td><td>1987-03-06</td><td>+91 0531676556</td><td>Scurvy</td><td>Kamarhati</td><td>H1016</td></tr><tr><td>117945</td><td>null</td><td>Male</td><td>1955-12-24</td><td>+91 2416747182</td><td>Glaucoma</td><td>Karimnagar</td><td>H1009</td></tr><tr><td>189996</td><td>Ekant</td><td>Male</td><td>1943-08-13</td><td>+91 7686951174</td><td>Measles</td><td>Berhampore</td><td>H1003</td></tr><tr><td>146540</td><td>Chancharik</td><td>Male</td><td>1983-09-05</td><td>+91 5309364825</td><td>Scurvy</td><td>Chapra</td><td>H1012</td></tr><tr><td>156434</td><td>Pushti</td><td>Female</td><td>1935-10-15</td><td>+91 7093722203</td><td>Flu</td><td>Morbi</td><td>H1019</td></tr><tr><td>197352</td><td>Swati</td><td>Female</td><td>1987-12-11</td><td>+91 1028477510</td><td>Pet allergy</td><td>Amravati</td><td>H1019</td></tr><tr><td>138778</td><td>Upasana</td><td>Male</td><td>1956-06-01</td><td>+91 0548234943</td><td>Lymphedema</td><td>Hyderabad</td><td>H1005</td></tr><tr><td>162665</td><td>Kanhaiya</td><td>Female</td><td>1954-10-19</td><td>+91 0788738026</td><td>Alcohol consumption</td><td>Mysore</td><td>H1009</td></tr><tr><td>197503</td><td>null</td><td>Female</td><td>1968-07-02</td><td>+91 2599794460</td><td>Stroke</td><td>Gwalior</td><td>H1009</td></tr><tr><td>113476</td><td>Gensho</td><td>Male</td><td>1992-06-06</td><td>+91 4834040556</td><td>Galactosemia</td><td>Ludhiana</td><td>H1016</td></tr><tr><td>195876</td><td>Gopal</td><td>Male</td><td>1986-05-14</td><td>+91 1181471524</td><td>Vertigo</td><td>Raebareli</td><td>H1017</td></tr><tr><td>150189</td><td>Dheeman</td><td>Male</td><td>1945-05-04</td><td>+91 8239321466</td><td>Measles</td><td>Mysore</td><td>H1017</td></tr><tr><td>138861</td><td>Upasana</td><td>Female</td><td>1927-10-03</td><td>null</td><td>Heart Attack</td><td>Ratlam</td><td>H1004</td></tr><tr><td>146555</td><td>null</td><td>Male</td><td>1948-11-10</td><td>+91 8390195092</td><td>Phenylketonuria</td><td>Vadodara</td><td>H1007</td></tr><tr><td>199114</td><td>null</td><td>Female</td><td>1955-04-07</td><td>+91 7434031446</td><td>Phenylketonuria</td><td>Vijayawada</td><td>H1017</td></tr><tr><td>105758</td><td>Madhubala</td><td>Male</td><td>1937-01-11</td><td>+91 8498685882</td><td>Head banging</td><td>Jaunpur</td><td>H1003</td></tr><tr><td>109251</td><td>Anjushree</td><td>Male</td><td>1976-07-04</td><td>+91 5322869455</td><td>Choking</td><td>Ghaziabad</td><td>H1001</td></tr><tr><td>156223</td><td>null</td><td>Female</td><td>1930-11-25</td><td>null</td><td>Fanconi anaemia</td><td>Agartala</td><td>H1012</td></tr><tr><td>108576</td><td>Chakrika</td><td>Male</td><td>1964-08-05</td><td>+91 8185162879</td><td>Stroke</td><td>Ranchi</td><td>H1003</td></tr><tr><td>132947</td><td>Saroj</td><td>Female</td><td>1942-08-26</td><td>+91 5690408243</td><td>Anaemia</td><td>Muzaffarpur</td><td>H1016</td></tr><tr><td>148674</td><td>Ayushmati</td><td>Male</td><td>1932-09-20</td><td>+91 3683223970</td><td>Diabetes</td><td>Satna</td><td>H1016</td></tr><tr><td>133107</td><td>Drashti</td><td>Male</td><td>1926-07-03</td><td>+91 9447269993</td><td>Lymphedema</td><td>Saharsa</td><td>H1019</td></tr><tr><td>193137</td><td>Aayushmaan</td><td>Female</td><td>1983-11-14</td><td>+91 4464709769</td><td>Phenylketonuria</td><td>Mehsana</td><td>H1014</td></tr><tr><td>196369</td><td>null</td><td>Male</td><td>1931-02-04</td><td>+91 2973105946</td><td>Choking</td><td>Shivpuri</td><td>H1017</td></tr><tr><td>109342</td><td>Chitranjan</td><td>Female</td><td>1925-09-09</td><td>+91 5176024720</td><td>Asthma</td><td>Morbi</td><td>H1011</td></tr><tr><td>121783</td><td>Paridhi</td><td>Female</td><td>1959-03-27</td><td>+91 2139280879</td><td>Bladder cancer</td><td>Jabalpur</td><td>H1013</td></tr><tr><td>197441</td><td>Deependu</td><td>Female</td><td>1952-02-13</td><td>+91 5674176644</td><td>Lung cancer</td><td>Bareilly</td><td>H1001</td></tr><tr><td>194166</td><td>null</td><td>Male</td><td>1946-10-17</td><td>+91 9887324437</td><td>Colorectal cancer</td><td>Baranagar</td><td>H1015</td></tr><tr><td>110690</td><td>Laksman</td><td>Female</td><td>1939-05-26</td><td>+91 4504120828</td><td>Food Poisoning</td><td>Ahmednagar</td><td>H1001</td></tr><tr><td>180709</td><td>null</td><td>Male</td><td>1988-06-27</td><td>+91 6877897646</td><td>Anthrax</td><td>Pali</td><td>H1017</td></tr><tr><td>119268</td><td>Shivakari</td><td>Female</td><td>1944-11-02</td><td>+91 3740484063</td><td>Mold allergy</td><td>Hapur</td><td>H1008</td></tr><tr><td>163148</td><td>Madhu</td><td>Male</td><td>1984-10-23</td><td>+91 8367885507</td><td>Beriberi</td><td>Udaipur</td><td>H1008</td></tr><tr><td>118913</td><td>Chanak</td><td>Male</td><td>1954-08-27</td><td>+91 5093121123</td><td>Malaria</td><td>Jalandhar</td><td>H1004</td></tr><tr><td>167423</td><td>Chittesh</td><td>Male</td><td>1949-10-17</td><td>+91 1378163498</td><td>Asthma</td><td>Thoothukudi</td><td>H1019</td></tr><tr><td>141703</td><td>Nawal</td><td>Male</td><td>1940-01-22</td><td>+91 1885105576</td><td>Fractures</td><td>Bhopal</td><td>H1006</td></tr><tr><td>173518</td><td>Gajabahu</td><td>Male</td><td>1959-03-15</td><td>+91 1207869436</td><td>Malaria</td><td>Udupi</td><td>H1015</td></tr><tr><td>140394</td><td>Jitesh</td><td>Male</td><td>1983-02-03</td><td>+91 6515468035</td><td>Anthrax</td><td>Karimnagar</td><td>H1010</td></tr><tr><td>164524</td><td>null</td><td>Female</td><td>1966-09-25</td><td>+91 6477918745</td><td>Mold allergy</td><td>Kharagpur</td><td>H1015</td></tr><tr><td>198182</td><td>Lalit</td><td>Female</td><td>1924-02-15</td><td>+91 4647833992</td><td>Head banging</td><td>Tinsukia</td><td>H1017</td></tr><tr><td>115143</td><td>Anshuk</td><td>Male</td><td>1991-06-17</td><td>+91 9764690642</td><td>Drug consumption</td><td>Uluberia</td><td>H1001</td></tr><tr><td>156364</td><td>null</td><td>Male</td><td>1994-01-13</td><td>+91 8444537013</td><td>Cholera</td><td>Panihati</td><td>H1019</td></tr><tr><td>191132</td><td>Dipesh</td><td>Female</td><td>1949-04-01</td><td>+91 5851958964</td><td>Glaucoma</td><td>Kochi</td><td>H1016</td></tr><tr><td>105686</td><td>null</td><td>Male</td><td>1930-09-01</td><td>+91 7061843400</td><td>Hepatitis</td><td>Kolhapur</td><td>H1008</td></tr><tr><td>160140</td><td>Kishan</td><td>Male</td><td>1923-05-12</td><td>+91 9067652693</td><td>Rett Syndrome</td><td>Srikakulam</td><td>H1002</td></tr><tr><td>114252</td><td>null</td><td>Female</td><td>1927-02-26</td><td>+91 4984346995</td><td>Diabetes</td><td>Ambarnath</td><td>H1014</td></tr><tr><td>188365</td><td>Bhageeratha</td><td>Male</td><td>1973-03-21</td><td>+91 0590662722</td><td>Pet allergy</td><td>Sonipat</td><td>H1017</td></tr></tbody></table></div>"
      ]
     },
     "metadata": {
      "application/vnd.databricks.v1+output": {
       "addedWidgets": {},
       "aggData": [],
       "aggError": "",
       "aggOverflow": false,
       "aggSchema": [],
       "aggSeriesLimitReached": false,
       "aggType": "",
       "arguments": {},
       "columnCustomDisplayInfos": {},
       "data": [
        [
         187158,
         "Harbir",
         "Female",
         "1924-06-30",
         "+91 0112009318",
         "Galactosemia",
         "Rourkela",
         "H1001"
        ],
        [
         112766,
         "Brahmdev",
         "Female",
         "1948-12-20",
         "+91 1727749552",
         "Bladder cancer",
         "Tiruvottiyur",
         "H1016"
        ],
        [
         199252,
         "Ujjawal",
         "Male",
         "1980-04-16",
         "+91 8547451606",
         "Kidney cancer",
         "Berhampur",
         "H1009"
        ],
        [
         133424,
         "Ballari",
         "Female",
         "1969-09-25",
         "+91 0106026841",
         "Suicide",
         "Bihar Sharif",
         "H1017"
        ],
        [
         172579,
         "Devnath",
         "Female",
         "1946-05-01",
         "+91 1868774631",
         "Food allergy",
         "Bidhannagar",
         "H1019"
        ],
        [
         171320,
         "Atasi",
         "Male",
         "1967-10-02",
         "+91 9747336855",
         "Whiplash",
         "Amravati",
         "H1013"
        ],
        [
         107794,
         "Manish",
         "Male",
         "1967-06-06",
         "+91 4354294043",
         "Sunbathing",
         "Panvel",
         "H1004"
        ],
        [
         130339,
         "Aakar",
         "Female",
         "1925-03-05",
         "+91 2777633911",
         "Drug consumption",
         "Bihar Sharif",
         "H1000"
        ],
        [
         110377,
         "Gurudas",
         "Male",
         "1945-05-06",
         "+91 1232859381",
         "Dengue",
         "Kamarhati",
         "H1001"
        ],
        [
         149367,
         null,
         "Male",
         "1925-06-12",
         "+91 1780763280",
         "Head banging",
         "Bangalore",
         "H1013"
        ],
        [
         156168,
         null,
         "Male",
         "1976-02-03",
         "+91 5586075345",
         "Fanconi anaemia",
         "Rajkot",
         "H1004"
        ],
        [
         114241,
         null,
         "Female",
         "1955-01-22",
         "+91 4146391938",
         "Breast cancer",
         "Ghaziabad",
         "H1015"
        ],
        [
         146382,
         "Dharmadaas",
         "Male",
         "1964-04-29",
         "+91 6345482027",
         "Anthrax",
         "Bhalswa Jahangir Pur",
         "H1019"
        ],
        [
         132748,
         "Brahmvir",
         "Male",
         "1991-11-11",
         "+91 7316972612",
         "Cystic fibrosis",
         "Ambala",
         "H1018"
        ],
        [
         167340,
         null,
         "Female",
         "1981-01-25",
         "+91 2960004518",
         "Galactosemia",
         "Surendranagar Dudhrej",
         "H1003"
        ],
        [
         135184,
         "Bhagvan",
         "Female",
         "1966-07-24",
         "+91 0297693485",
         "Dengue",
         "Bhimavaram",
         "H1018"
        ],
        [
         179662,
         "Amritkala",
         "Female",
         "1933-11-20",
         "+91 0537157280",
         "Smallpox",
         "Meerut",
         "H1018"
        ],
        [
         184479,
         "Bandhu",
         "Male",
         "1996-10-15",
         "+91 0695289163",
         "Pollen allergy",
         "Chinsurah",
         "H1010"
        ],
        [
         156988,
         "Bhagavaana",
         "Female",
         "1935-09-16",
         "+91 6071745855",
         "Breast cancer",
         "Shahjahanpur",
         "H1012"
        ],
        [
         132870,
         null,
         "Female",
         "1924-11-09",
         "+91 8906694405",
         "Glaucoma",
         "Jabalpur",
         "H1017"
        ],
        [
         148137,
         "Umang",
         "Female",
         "1963-07-14",
         "+91 9485838770",
         "Pet allergy",
         "Haridwar",
         "H1002"
        ],
        [
         113280,
         "Darsana",
         "Male",
         "1932-05-29",
         "+91 7676311811",
         "Rett Syndrome",
         "Dibrugarh",
         "H1019"
        ],
        [
         134184,
         "Prakash",
         "Female",
         "1923-09-15",
         "+91 9268324471",
         "Flu",
         "Kottayam",
         "H1001"
        ],
        [
         122592,
         "Vaijayanti",
         "Male",
         "1920-11-13",
         "+91 9358851649",
         "Cholera",
         "Mira-Bhayandar",
         "H1009"
        ],
        [
         154439,
         "Menakshi",
         "Male",
         "1987-03-06",
         "+91 0531676556",
         "Scurvy",
         "Kamarhati",
         "H1016"
        ],
        [
         117945,
         null,
         "Male",
         "1955-12-24",
         "+91 2416747182",
         "Glaucoma",
         "Karimnagar",
         "H1009"
        ],
        [
         189996,
         "Ekant",
         "Male",
         "1943-08-13",
         "+91 7686951174",
         "Measles",
         "Berhampore",
         "H1003"
        ],
        [
         146540,
         "Chancharik",
         "Male",
         "1983-09-05",
         "+91 5309364825",
         "Scurvy",
         "Chapra",
         "H1012"
        ],
        [
         156434,
         "Pushti",
         "Female",
         "1935-10-15",
         "+91 7093722203",
         "Flu",
         "Morbi",
         "H1019"
        ],
        [
         197352,
         "Swati",
         "Female",
         "1987-12-11",
         "+91 1028477510",
         "Pet allergy",
         "Amravati",
         "H1019"
        ],
        [
         138778,
         "Upasana",
         "Male",
         "1956-06-01",
         "+91 0548234943",
         "Lymphedema",
         "Hyderabad",
         "H1005"
        ],
        [
         162665,
         "Kanhaiya",
         "Female",
         "1954-10-19",
         "+91 0788738026",
         "Alcohol consumption",
         "Mysore",
         "H1009"
        ],
        [
         197503,
         null,
         "Female",
         "1968-07-02",
         "+91 2599794460",
         "Stroke",
         "Gwalior",
         "H1009"
        ],
        [
         113476,
         "Gensho",
         "Male",
         "1992-06-06",
         "+91 4834040556",
         "Galactosemia",
         "Ludhiana",
         "H1016"
        ],
        [
         195876,
         "Gopal",
         "Male",
         "1986-05-14",
         "+91 1181471524",
         "Vertigo",
         "Raebareli",
         "H1017"
        ],
        [
         150189,
         "Dheeman",
         "Male",
         "1945-05-04",
         "+91 8239321466",
         "Measles",
         "Mysore",
         "H1017"
        ],
        [
         138861,
         "Upasana",
         "Female",
         "1927-10-03",
         null,
         "Heart Attack",
         "Ratlam",
         "H1004"
        ],
        [
         146555,
         null,
         "Male",
         "1948-11-10",
         "+91 8390195092",
         "Phenylketonuria",
         "Vadodara",
         "H1007"
        ],
        [
         199114,
         null,
         "Female",
         "1955-04-07",
         "+91 7434031446",
         "Phenylketonuria",
         "Vijayawada",
         "H1017"
        ],
        [
         105758,
         "Madhubala",
         "Male",
         "1937-01-11",
         "+91 8498685882",
         "Head banging",
         "Jaunpur",
         "H1003"
        ],
        [
         109251,
         "Anjushree",
         "Male",
         "1976-07-04",
         "+91 5322869455",
         "Choking",
         "Ghaziabad",
         "H1001"
        ],
        [
         156223,
         null,
         "Female",
         "1930-11-25",
         null,
         "Fanconi anaemia",
         "Agartala",
         "H1012"
        ],
        [
         108576,
         "Chakrika",
         "Male",
         "1964-08-05",
         "+91 8185162879",
         "Stroke",
         "Ranchi",
         "H1003"
        ],
        [
         132947,
         "Saroj",
         "Female",
         "1942-08-26",
         "+91 5690408243",
         "Anaemia",
         "Muzaffarpur",
         "H1016"
        ],
        [
         148674,
         "Ayushmati",
         "Male",
         "1932-09-20",
         "+91 3683223970",
         "Diabetes",
         "Satna",
         "H1016"
        ],
        [
         133107,
         "Drashti",
         "Male",
         "1926-07-03",
         "+91 9447269993",
         "Lymphedema",
         "Saharsa",
         "H1019"
        ],
        [
         193137,
         "Aayushmaan",
         "Female",
         "1983-11-14",
         "+91 4464709769",
         "Phenylketonuria",
         "Mehsana",
         "H1014"
        ],
        [
         196369,
         null,
         "Male",
         "1931-02-04",
         "+91 2973105946",
         "Choking",
         "Shivpuri",
         "H1017"
        ],
        [
         109342,
         "Chitranjan",
         "Female",
         "1925-09-09",
         "+91 5176024720",
         "Asthma",
         "Morbi",
         "H1011"
        ],
        [
         121783,
         "Paridhi",
         "Female",
         "1959-03-27",
         "+91 2139280879",
         "Bladder cancer",
         "Jabalpur",
         "H1013"
        ],
        [
         197441,
         "Deependu",
         "Female",
         "1952-02-13",
         "+91 5674176644",
         "Lung cancer",
         "Bareilly",
         "H1001"
        ],
        [
         194166,
         null,
         "Male",
         "1946-10-17",
         "+91 9887324437",
         "Colorectal cancer",
         "Baranagar",
         "H1015"
        ],
        [
         110690,
         "Laksman",
         "Female",
         "1939-05-26",
         "+91 4504120828",
         "Food Poisoning",
         "Ahmednagar",
         "H1001"
        ],
        [
         180709,
         null,
         "Male",
         "1988-06-27",
         "+91 6877897646",
         "Anthrax",
         "Pali",
         "H1017"
        ],
        [
         119268,
         "Shivakari",
         "Female",
         "1944-11-02",
         "+91 3740484063",
         "Mold allergy",
         "Hapur",
         "H1008"
        ],
        [
         163148,
         "Madhu",
         "Male",
         "1984-10-23",
         "+91 8367885507",
         "Beriberi",
         "Udaipur",
         "H1008"
        ],
        [
         118913,
         "Chanak",
         "Male",
         "1954-08-27",
         "+91 5093121123",
         "Malaria",
         "Jalandhar",
         "H1004"
        ],
        [
         167423,
         "Chittesh",
         "Male",
         "1949-10-17",
         "+91 1378163498",
         "Asthma",
         "Thoothukudi",
         "H1019"
        ],
        [
         141703,
         "Nawal",
         "Male",
         "1940-01-22",
         "+91 1885105576",
         "Fractures",
         "Bhopal",
         "H1006"
        ],
        [
         173518,
         "Gajabahu",
         "Male",
         "1959-03-15",
         "+91 1207869436",
         "Malaria",
         "Udupi",
         "H1015"
        ],
        [
         140394,
         "Jitesh",
         "Male",
         "1983-02-03",
         "+91 6515468035",
         "Anthrax",
         "Karimnagar",
         "H1010"
        ],
        [
         164524,
         null,
         "Female",
         "1966-09-25",
         "+91 6477918745",
         "Mold allergy",
         "Kharagpur",
         "H1015"
        ],
        [
         198182,
         "Lalit",
         "Female",
         "1924-02-15",
         "+91 4647833992",
         "Head banging",
         "Tinsukia",
         "H1017"
        ],
        [
         115143,
         "Anshuk",
         "Male",
         "1991-06-17",
         "+91 9764690642",
         "Drug consumption",
         "Uluberia",
         "H1001"
        ],
        [
         156364,
         null,
         "Male",
         "1994-01-13",
         "+91 8444537013",
         "Cholera",
         "Panihati",
         "H1019"
        ],
        [
         191132,
         "Dipesh",
         "Female",
         "1949-04-01",
         "+91 5851958964",
         "Glaucoma",
         "Kochi",
         "H1016"
        ],
        [
         105686,
         null,
         "Male",
         "1930-09-01",
         "+91 7061843400",
         "Hepatitis",
         "Kolhapur",
         "H1008"
        ],
        [
         160140,
         "Kishan",
         "Male",
         "1923-05-12",
         "+91 9067652693",
         "Rett Syndrome",
         "Srikakulam",
         "H1002"
        ],
        [
         114252,
         null,
         "Female",
         "1927-02-26",
         "+91 4984346995",
         "Diabetes",
         "Ambarnath",
         "H1014"
        ],
        [
         188365,
         "Bhageeratha",
         "Male",
         "1973-03-21",
         "+91 0590662722",
         "Pet allergy",
         "Sonipat",
         "H1017"
        ]
       ],
       "datasetInfos": [],
       "dbfsResultPath": null,
       "isJsonSchema": true,
       "metadata": {},
       "overflow": false,
       "plotOptions": {
        "customPlotOptions": {},
        "displayType": "table",
        "pivotAggregation": null,
        "pivotColumns": null,
        "xColumns": null,
        "yColumns": null
       },
       "removedWidgets": [],
       "schema": [
        {
         "metadata": "{}",
         "name": "Patient_id",
         "type": "\"integer\""
        },
        {
         "metadata": "{}",
         "name": "Patient_name",
         "type": "\"string\""
        },
        {
         "metadata": "{}",
         "name": "patient_gender",
         "type": "\"string\""
        },
        {
         "metadata": "{\"__detected_date_formats\":\"yyyy-M-d\"}",
         "name": "patient_birth_date",
         "type": "\"date\""
        },
        {
         "metadata": "{}",
         "name": "patient_phone",
         "type": "\"string\""
        },
        {
         "metadata": "{}",
         "name": "disease_name",
         "type": "\"string\""
        },
        {
         "metadata": "{}",
         "name": "city",
         "type": "\"string\""
        },
        {
         "metadata": "{}",
         "name": "hospital_id",
         "type": "\"string\""
        }
       ],
       "type": "table"
      }
     },
     "output_type": "display_data"
    }
   ],
   "source": [
    "pr_df.display()"
   ]
  },
  {
   "cell_type": "code",
   "execution_count": 0,
   "metadata": {
    "application/vnd.databricks.v1+cell": {
     "cellMetadata": {
      "byteLimit": 2048000,
      "rowLimit": 10000
     },
     "inputWidgets": {},
     "nuid": "aa9c578e-f4e6-4679-923b-ee172d710e5c",
     "showTitle": false,
     "tableResultSettingsMap": {},
     "title": ""
    }
   },
   "outputs": [
    {
     "output_type": "execute_result",
     "data": {
      "text/plain": [
       "['Patient_id',\n",
       " 'Patient_name',\n",
       " 'patient_gender',\n",
       " 'patient_birth_date',\n",
       " 'patient_phone',\n",
       " 'disease_name',\n",
       " 'city',\n",
       " 'hospital_id']"
      ]
     },
     "execution_count": 45,
     "metadata": {},
     "output_type": "execute_result"
    }
   ],
   "source": [
    "list(pr_df.columns)"
   ]
  },
  {
   "cell_type": "code",
   "execution_count": 0,
   "metadata": {
    "application/vnd.databricks.v1+cell": {
     "cellMetadata": {
      "byteLimit": 2048000,
      "rowLimit": 10000
     },
     "inputWidgets": {},
     "nuid": "41ec2ea3-9ee7-47a7-b57f-62f766673f76",
     "showTitle": false,
     "tableResultSettingsMap": {},
     "title": ""
    }
   },
   "outputs": [
    {
     "output_type": "display_data",
     "data": {
      "text/html": [
       "<style scoped>\n",
       "  .table-result-container {\n",
       "    max-height: 300px;\n",
       "    overflow: auto;\n",
       "  }\n",
       "  table, th, td {\n",
       "    border: 1px solid black;\n",
       "    border-collapse: collapse;\n",
       "  }\n",
       "  th, td {\n",
       "    padding: 5px;\n",
       "  }\n",
       "  th {\n",
       "    text-align: left;\n",
       "  }\n",
       "</style><div class='table-result-container'><table class='table-result'><thead style='background-color: white'><tr><th>Patient_id</th><th>Patient_name</th><th>patient_gender</th><th>patient_phone</th><th>disease_name</th><th>city</th><th>hospital_id</th></tr></thead><tbody><tr><td>187158</td><td>Harbir</td><td>Female</td><td>+91 0112009318</td><td>Galactosemia</td><td>Rourkela</td><td>H1001</td></tr><tr><td>112766</td><td>Brahmdev</td><td>Female</td><td>+91 1727749552</td><td>Bladder cancer</td><td>Tiruvottiyur</td><td>H1016</td></tr><tr><td>199252</td><td>Ujjawal</td><td>Male</td><td>+91 8547451606</td><td>Kidney cancer</td><td>Berhampur</td><td>H1009</td></tr><tr><td>133424</td><td>Ballari</td><td>Female</td><td>+91 0106026841</td><td>Suicide</td><td>Bihar Sharif</td><td>H1017</td></tr><tr><td>172579</td><td>Devnath</td><td>Female</td><td>+91 1868774631</td><td>Food allergy</td><td>Bidhannagar</td><td>H1019</td></tr><tr><td>171320</td><td>Atasi</td><td>Male</td><td>+91 9747336855</td><td>Whiplash</td><td>Amravati</td><td>H1013</td></tr><tr><td>107794</td><td>Manish</td><td>Male</td><td>+91 4354294043</td><td>Sunbathing</td><td>Panvel</td><td>H1004</td></tr><tr><td>130339</td><td>Aakar</td><td>Female</td><td>+91 2777633911</td><td>Drug consumption</td><td>Bihar Sharif</td><td>H1000</td></tr><tr><td>110377</td><td>Gurudas</td><td>Male</td><td>+91 1232859381</td><td>Dengue</td><td>Kamarhati</td><td>H1001</td></tr><tr><td>149367</td><td>null</td><td>Male</td><td>+91 1780763280</td><td>Head banging</td><td>Bangalore</td><td>H1013</td></tr><tr><td>156168</td><td>null</td><td>Male</td><td>+91 5586075345</td><td>Fanconi anaemia</td><td>Rajkot</td><td>H1004</td></tr><tr><td>114241</td><td>null</td><td>Female</td><td>+91 4146391938</td><td>Breast cancer</td><td>Ghaziabad</td><td>H1015</td></tr><tr><td>146382</td><td>Dharmadaas</td><td>Male</td><td>+91 6345482027</td><td>Anthrax</td><td>Bhalswa Jahangir Pur</td><td>H1019</td></tr><tr><td>132748</td><td>Brahmvir</td><td>Male</td><td>+91 7316972612</td><td>Cystic fibrosis</td><td>Ambala</td><td>H1018</td></tr><tr><td>167340</td><td>null</td><td>Female</td><td>+91 2960004518</td><td>Galactosemia</td><td>Surendranagar Dudhrej</td><td>H1003</td></tr><tr><td>135184</td><td>Bhagvan</td><td>Female</td><td>+91 0297693485</td><td>Dengue</td><td>Bhimavaram</td><td>H1018</td></tr><tr><td>179662</td><td>Amritkala</td><td>Female</td><td>+91 0537157280</td><td>Smallpox</td><td>Meerut</td><td>H1018</td></tr><tr><td>184479</td><td>Bandhu</td><td>Male</td><td>+91 0695289163</td><td>Pollen allergy</td><td>Chinsurah</td><td>H1010</td></tr><tr><td>156988</td><td>Bhagavaana</td><td>Female</td><td>+91 6071745855</td><td>Breast cancer</td><td>Shahjahanpur</td><td>H1012</td></tr><tr><td>132870</td><td>null</td><td>Female</td><td>+91 8906694405</td><td>Glaucoma</td><td>Jabalpur</td><td>H1017</td></tr><tr><td>148137</td><td>Umang</td><td>Female</td><td>+91 9485838770</td><td>Pet allergy</td><td>Haridwar</td><td>H1002</td></tr><tr><td>113280</td><td>Darsana</td><td>Male</td><td>+91 7676311811</td><td>Rett Syndrome</td><td>Dibrugarh</td><td>H1019</td></tr><tr><td>134184</td><td>Prakash</td><td>Female</td><td>+91 9268324471</td><td>Flu</td><td>Kottayam</td><td>H1001</td></tr><tr><td>122592</td><td>Vaijayanti</td><td>Male</td><td>+91 9358851649</td><td>Cholera</td><td>Mira-Bhayandar</td><td>H1009</td></tr><tr><td>154439</td><td>Menakshi</td><td>Male</td><td>+91 0531676556</td><td>Scurvy</td><td>Kamarhati</td><td>H1016</td></tr><tr><td>117945</td><td>null</td><td>Male</td><td>+91 2416747182</td><td>Glaucoma</td><td>Karimnagar</td><td>H1009</td></tr><tr><td>189996</td><td>Ekant</td><td>Male</td><td>+91 7686951174</td><td>Measles</td><td>Berhampore</td><td>H1003</td></tr><tr><td>146540</td><td>Chancharik</td><td>Male</td><td>+91 5309364825</td><td>Scurvy</td><td>Chapra</td><td>H1012</td></tr><tr><td>156434</td><td>Pushti</td><td>Female</td><td>+91 7093722203</td><td>Flu</td><td>Morbi</td><td>H1019</td></tr><tr><td>197352</td><td>Swati</td><td>Female</td><td>+91 1028477510</td><td>Pet allergy</td><td>Amravati</td><td>H1019</td></tr><tr><td>138778</td><td>Upasana</td><td>Male</td><td>+91 0548234943</td><td>Lymphedema</td><td>Hyderabad</td><td>H1005</td></tr><tr><td>162665</td><td>Kanhaiya</td><td>Female</td><td>+91 0788738026</td><td>Alcohol consumption</td><td>Mysore</td><td>H1009</td></tr><tr><td>197503</td><td>null</td><td>Female</td><td>+91 2599794460</td><td>Stroke</td><td>Gwalior</td><td>H1009</td></tr><tr><td>113476</td><td>Gensho</td><td>Male</td><td>+91 4834040556</td><td>Galactosemia</td><td>Ludhiana</td><td>H1016</td></tr><tr><td>195876</td><td>Gopal</td><td>Male</td><td>+91 1181471524</td><td>Vertigo</td><td>Raebareli</td><td>H1017</td></tr><tr><td>150189</td><td>Dheeman</td><td>Male</td><td>+91 8239321466</td><td>Measles</td><td>Mysore</td><td>H1017</td></tr><tr><td>138861</td><td>Upasana</td><td>Female</td><td>null</td><td>Heart Attack</td><td>Ratlam</td><td>H1004</td></tr><tr><td>146555</td><td>null</td><td>Male</td><td>+91 8390195092</td><td>Phenylketonuria</td><td>Vadodara</td><td>H1007</td></tr><tr><td>199114</td><td>null</td><td>Female</td><td>+91 7434031446</td><td>Phenylketonuria</td><td>Vijayawada</td><td>H1017</td></tr><tr><td>105758</td><td>Madhubala</td><td>Male</td><td>+91 8498685882</td><td>Head banging</td><td>Jaunpur</td><td>H1003</td></tr><tr><td>109251</td><td>Anjushree</td><td>Male</td><td>+91 5322869455</td><td>Choking</td><td>Ghaziabad</td><td>H1001</td></tr><tr><td>156223</td><td>null</td><td>Female</td><td>null</td><td>Fanconi anaemia</td><td>Agartala</td><td>H1012</td></tr><tr><td>108576</td><td>Chakrika</td><td>Male</td><td>+91 8185162879</td><td>Stroke</td><td>Ranchi</td><td>H1003</td></tr><tr><td>132947</td><td>Saroj</td><td>Female</td><td>+91 5690408243</td><td>Anaemia</td><td>Muzaffarpur</td><td>H1016</td></tr><tr><td>148674</td><td>Ayushmati</td><td>Male</td><td>+91 3683223970</td><td>Diabetes</td><td>Satna</td><td>H1016</td></tr><tr><td>133107</td><td>Drashti</td><td>Male</td><td>+91 9447269993</td><td>Lymphedema</td><td>Saharsa</td><td>H1019</td></tr><tr><td>193137</td><td>Aayushmaan</td><td>Female</td><td>+91 4464709769</td><td>Phenylketonuria</td><td>Mehsana</td><td>H1014</td></tr><tr><td>196369</td><td>null</td><td>Male</td><td>+91 2973105946</td><td>Choking</td><td>Shivpuri</td><td>H1017</td></tr><tr><td>109342</td><td>Chitranjan</td><td>Female</td><td>+91 5176024720</td><td>Asthma</td><td>Morbi</td><td>H1011</td></tr><tr><td>121783</td><td>Paridhi</td><td>Female</td><td>+91 2139280879</td><td>Bladder cancer</td><td>Jabalpur</td><td>H1013</td></tr><tr><td>197441</td><td>Deependu</td><td>Female</td><td>+91 5674176644</td><td>Lung cancer</td><td>Bareilly</td><td>H1001</td></tr><tr><td>194166</td><td>null</td><td>Male</td><td>+91 9887324437</td><td>Colorectal cancer</td><td>Baranagar</td><td>H1015</td></tr><tr><td>110690</td><td>Laksman</td><td>Female</td><td>+91 4504120828</td><td>Food Poisoning</td><td>Ahmednagar</td><td>H1001</td></tr><tr><td>180709</td><td>null</td><td>Male</td><td>+91 6877897646</td><td>Anthrax</td><td>Pali</td><td>H1017</td></tr><tr><td>119268</td><td>Shivakari</td><td>Female</td><td>+91 3740484063</td><td>Mold allergy</td><td>Hapur</td><td>H1008</td></tr><tr><td>163148</td><td>Madhu</td><td>Male</td><td>+91 8367885507</td><td>Beriberi</td><td>Udaipur</td><td>H1008</td></tr><tr><td>118913</td><td>Chanak</td><td>Male</td><td>+91 5093121123</td><td>Malaria</td><td>Jalandhar</td><td>H1004</td></tr><tr><td>167423</td><td>Chittesh</td><td>Male</td><td>+91 1378163498</td><td>Asthma</td><td>Thoothukudi</td><td>H1019</td></tr><tr><td>141703</td><td>Nawal</td><td>Male</td><td>+91 1885105576</td><td>Fractures</td><td>Bhopal</td><td>H1006</td></tr><tr><td>173518</td><td>Gajabahu</td><td>Male</td><td>+91 1207869436</td><td>Malaria</td><td>Udupi</td><td>H1015</td></tr><tr><td>140394</td><td>Jitesh</td><td>Male</td><td>+91 6515468035</td><td>Anthrax</td><td>Karimnagar</td><td>H1010</td></tr><tr><td>164524</td><td>null</td><td>Female</td><td>+91 6477918745</td><td>Mold allergy</td><td>Kharagpur</td><td>H1015</td></tr><tr><td>198182</td><td>Lalit</td><td>Female</td><td>+91 4647833992</td><td>Head banging</td><td>Tinsukia</td><td>H1017</td></tr><tr><td>115143</td><td>Anshuk</td><td>Male</td><td>+91 9764690642</td><td>Drug consumption</td><td>Uluberia</td><td>H1001</td></tr><tr><td>156364</td><td>null</td><td>Male</td><td>+91 8444537013</td><td>Cholera</td><td>Panihati</td><td>H1019</td></tr><tr><td>191132</td><td>Dipesh</td><td>Female</td><td>+91 5851958964</td><td>Glaucoma</td><td>Kochi</td><td>H1016</td></tr><tr><td>105686</td><td>null</td><td>Male</td><td>+91 7061843400</td><td>Hepatitis</td><td>Kolhapur</td><td>H1008</td></tr><tr><td>160140</td><td>Kishan</td><td>Male</td><td>+91 9067652693</td><td>Rett Syndrome</td><td>Srikakulam</td><td>H1002</td></tr><tr><td>114252</td><td>null</td><td>Female</td><td>+91 4984346995</td><td>Diabetes</td><td>Ambarnath</td><td>H1014</td></tr><tr><td>188365</td><td>Bhageeratha</td><td>Male</td><td>+91 0590662722</td><td>Pet allergy</td><td>Sonipat</td><td>H1017</td></tr></tbody></table></div>"
      ]
     },
     "metadata": {
      "application/vnd.databricks.v1+output": {
       "addedWidgets": {},
       "aggData": [],
       "aggError": "",
       "aggOverflow": false,
       "aggSchema": [],
       "aggSeriesLimitReached": false,
       "aggType": "",
       "arguments": {},
       "columnCustomDisplayInfos": {},
       "data": [
        [
         187158,
         "Harbir",
         "Female",
         "+91 0112009318",
         "Galactosemia",
         "Rourkela",
         "H1001"
        ],
        [
         112766,
         "Brahmdev",
         "Female",
         "+91 1727749552",
         "Bladder cancer",
         "Tiruvottiyur",
         "H1016"
        ],
        [
         199252,
         "Ujjawal",
         "Male",
         "+91 8547451606",
         "Kidney cancer",
         "Berhampur",
         "H1009"
        ],
        [
         133424,
         "Ballari",
         "Female",
         "+91 0106026841",
         "Suicide",
         "Bihar Sharif",
         "H1017"
        ],
        [
         172579,
         "Devnath",
         "Female",
         "+91 1868774631",
         "Food allergy",
         "Bidhannagar",
         "H1019"
        ],
        [
         171320,
         "Atasi",
         "Male",
         "+91 9747336855",
         "Whiplash",
         "Amravati",
         "H1013"
        ],
        [
         107794,
         "Manish",
         "Male",
         "+91 4354294043",
         "Sunbathing",
         "Panvel",
         "H1004"
        ],
        [
         130339,
         "Aakar",
         "Female",
         "+91 2777633911",
         "Drug consumption",
         "Bihar Sharif",
         "H1000"
        ],
        [
         110377,
         "Gurudas",
         "Male",
         "+91 1232859381",
         "Dengue",
         "Kamarhati",
         "H1001"
        ],
        [
         149367,
         null,
         "Male",
         "+91 1780763280",
         "Head banging",
         "Bangalore",
         "H1013"
        ],
        [
         156168,
         null,
         "Male",
         "+91 5586075345",
         "Fanconi anaemia",
         "Rajkot",
         "H1004"
        ],
        [
         114241,
         null,
         "Female",
         "+91 4146391938",
         "Breast cancer",
         "Ghaziabad",
         "H1015"
        ],
        [
         146382,
         "Dharmadaas",
         "Male",
         "+91 6345482027",
         "Anthrax",
         "Bhalswa Jahangir Pur",
         "H1019"
        ],
        [
         132748,
         "Brahmvir",
         "Male",
         "+91 7316972612",
         "Cystic fibrosis",
         "Ambala",
         "H1018"
        ],
        [
         167340,
         null,
         "Female",
         "+91 2960004518",
         "Galactosemia",
         "Surendranagar Dudhrej",
         "H1003"
        ],
        [
         135184,
         "Bhagvan",
         "Female",
         "+91 0297693485",
         "Dengue",
         "Bhimavaram",
         "H1018"
        ],
        [
         179662,
         "Amritkala",
         "Female",
         "+91 0537157280",
         "Smallpox",
         "Meerut",
         "H1018"
        ],
        [
         184479,
         "Bandhu",
         "Male",
         "+91 0695289163",
         "Pollen allergy",
         "Chinsurah",
         "H1010"
        ],
        [
         156988,
         "Bhagavaana",
         "Female",
         "+91 6071745855",
         "Breast cancer",
         "Shahjahanpur",
         "H1012"
        ],
        [
         132870,
         null,
         "Female",
         "+91 8906694405",
         "Glaucoma",
         "Jabalpur",
         "H1017"
        ],
        [
         148137,
         "Umang",
         "Female",
         "+91 9485838770",
         "Pet allergy",
         "Haridwar",
         "H1002"
        ],
        [
         113280,
         "Darsana",
         "Male",
         "+91 7676311811",
         "Rett Syndrome",
         "Dibrugarh",
         "H1019"
        ],
        [
         134184,
         "Prakash",
         "Female",
         "+91 9268324471",
         "Flu",
         "Kottayam",
         "H1001"
        ],
        [
         122592,
         "Vaijayanti",
         "Male",
         "+91 9358851649",
         "Cholera",
         "Mira-Bhayandar",
         "H1009"
        ],
        [
         154439,
         "Menakshi",
         "Male",
         "+91 0531676556",
         "Scurvy",
         "Kamarhati",
         "H1016"
        ],
        [
         117945,
         null,
         "Male",
         "+91 2416747182",
         "Glaucoma",
         "Karimnagar",
         "H1009"
        ],
        [
         189996,
         "Ekant",
         "Male",
         "+91 7686951174",
         "Measles",
         "Berhampore",
         "H1003"
        ],
        [
         146540,
         "Chancharik",
         "Male",
         "+91 5309364825",
         "Scurvy",
         "Chapra",
         "H1012"
        ],
        [
         156434,
         "Pushti",
         "Female",
         "+91 7093722203",
         "Flu",
         "Morbi",
         "H1019"
        ],
        [
         197352,
         "Swati",
         "Female",
         "+91 1028477510",
         "Pet allergy",
         "Amravati",
         "H1019"
        ],
        [
         138778,
         "Upasana",
         "Male",
         "+91 0548234943",
         "Lymphedema",
         "Hyderabad",
         "H1005"
        ],
        [
         162665,
         "Kanhaiya",
         "Female",
         "+91 0788738026",
         "Alcohol consumption",
         "Mysore",
         "H1009"
        ],
        [
         197503,
         null,
         "Female",
         "+91 2599794460",
         "Stroke",
         "Gwalior",
         "H1009"
        ],
        [
         113476,
         "Gensho",
         "Male",
         "+91 4834040556",
         "Galactosemia",
         "Ludhiana",
         "H1016"
        ],
        [
         195876,
         "Gopal",
         "Male",
         "+91 1181471524",
         "Vertigo",
         "Raebareli",
         "H1017"
        ],
        [
         150189,
         "Dheeman",
         "Male",
         "+91 8239321466",
         "Measles",
         "Mysore",
         "H1017"
        ],
        [
         138861,
         "Upasana",
         "Female",
         null,
         "Heart Attack",
         "Ratlam",
         "H1004"
        ],
        [
         146555,
         null,
         "Male",
         "+91 8390195092",
         "Phenylketonuria",
         "Vadodara",
         "H1007"
        ],
        [
         199114,
         null,
         "Female",
         "+91 7434031446",
         "Phenylketonuria",
         "Vijayawada",
         "H1017"
        ],
        [
         105758,
         "Madhubala",
         "Male",
         "+91 8498685882",
         "Head banging",
         "Jaunpur",
         "H1003"
        ],
        [
         109251,
         "Anjushree",
         "Male",
         "+91 5322869455",
         "Choking",
         "Ghaziabad",
         "H1001"
        ],
        [
         156223,
         null,
         "Female",
         null,
         "Fanconi anaemia",
         "Agartala",
         "H1012"
        ],
        [
         108576,
         "Chakrika",
         "Male",
         "+91 8185162879",
         "Stroke",
         "Ranchi",
         "H1003"
        ],
        [
         132947,
         "Saroj",
         "Female",
         "+91 5690408243",
         "Anaemia",
         "Muzaffarpur",
         "H1016"
        ],
        [
         148674,
         "Ayushmati",
         "Male",
         "+91 3683223970",
         "Diabetes",
         "Satna",
         "H1016"
        ],
        [
         133107,
         "Drashti",
         "Male",
         "+91 9447269993",
         "Lymphedema",
         "Saharsa",
         "H1019"
        ],
        [
         193137,
         "Aayushmaan",
         "Female",
         "+91 4464709769",
         "Phenylketonuria",
         "Mehsana",
         "H1014"
        ],
        [
         196369,
         null,
         "Male",
         "+91 2973105946",
         "Choking",
         "Shivpuri",
         "H1017"
        ],
        [
         109342,
         "Chitranjan",
         "Female",
         "+91 5176024720",
         "Asthma",
         "Morbi",
         "H1011"
        ],
        [
         121783,
         "Paridhi",
         "Female",
         "+91 2139280879",
         "Bladder cancer",
         "Jabalpur",
         "H1013"
        ],
        [
         197441,
         "Deependu",
         "Female",
         "+91 5674176644",
         "Lung cancer",
         "Bareilly",
         "H1001"
        ],
        [
         194166,
         null,
         "Male",
         "+91 9887324437",
         "Colorectal cancer",
         "Baranagar",
         "H1015"
        ],
        [
         110690,
         "Laksman",
         "Female",
         "+91 4504120828",
         "Food Poisoning",
         "Ahmednagar",
         "H1001"
        ],
        [
         180709,
         null,
         "Male",
         "+91 6877897646",
         "Anthrax",
         "Pali",
         "H1017"
        ],
        [
         119268,
         "Shivakari",
         "Female",
         "+91 3740484063",
         "Mold allergy",
         "Hapur",
         "H1008"
        ],
        [
         163148,
         "Madhu",
         "Male",
         "+91 8367885507",
         "Beriberi",
         "Udaipur",
         "H1008"
        ],
        [
         118913,
         "Chanak",
         "Male",
         "+91 5093121123",
         "Malaria",
         "Jalandhar",
         "H1004"
        ],
        [
         167423,
         "Chittesh",
         "Male",
         "+91 1378163498",
         "Asthma",
         "Thoothukudi",
         "H1019"
        ],
        [
         141703,
         "Nawal",
         "Male",
         "+91 1885105576",
         "Fractures",
         "Bhopal",
         "H1006"
        ],
        [
         173518,
         "Gajabahu",
         "Male",
         "+91 1207869436",
         "Malaria",
         "Udupi",
         "H1015"
        ],
        [
         140394,
         "Jitesh",
         "Male",
         "+91 6515468035",
         "Anthrax",
         "Karimnagar",
         "H1010"
        ],
        [
         164524,
         null,
         "Female",
         "+91 6477918745",
         "Mold allergy",
         "Kharagpur",
         "H1015"
        ],
        [
         198182,
         "Lalit",
         "Female",
         "+91 4647833992",
         "Head banging",
         "Tinsukia",
         "H1017"
        ],
        [
         115143,
         "Anshuk",
         "Male",
         "+91 9764690642",
         "Drug consumption",
         "Uluberia",
         "H1001"
        ],
        [
         156364,
         null,
         "Male",
         "+91 8444537013",
         "Cholera",
         "Panihati",
         "H1019"
        ],
        [
         191132,
         "Dipesh",
         "Female",
         "+91 5851958964",
         "Glaucoma",
         "Kochi",
         "H1016"
        ],
        [
         105686,
         null,
         "Male",
         "+91 7061843400",
         "Hepatitis",
         "Kolhapur",
         "H1008"
        ],
        [
         160140,
         "Kishan",
         "Male",
         "+91 9067652693",
         "Rett Syndrome",
         "Srikakulam",
         "H1002"
        ],
        [
         114252,
         null,
         "Female",
         "+91 4984346995",
         "Diabetes",
         "Ambarnath",
         "H1014"
        ],
        [
         188365,
         "Bhageeratha",
         "Male",
         "+91 0590662722",
         "Pet allergy",
         "Sonipat",
         "H1017"
        ]
       ],
       "datasetInfos": [],
       "dbfsResultPath": null,
       "isJsonSchema": true,
       "metadata": {},
       "overflow": false,
       "plotOptions": {
        "customPlotOptions": {},
        "displayType": "table",
        "pivotAggregation": null,
        "pivotColumns": null,
        "xColumns": null,
        "yColumns": null
       },
       "removedWidgets": [],
       "schema": [
        {
         "metadata": "{}",
         "name": "Patient_id",
         "type": "\"integer\""
        },
        {
         "metadata": "{}",
         "name": "Patient_name",
         "type": "\"string\""
        },
        {
         "metadata": "{}",
         "name": "patient_gender",
         "type": "\"string\""
        },
        {
         "metadata": "{}",
         "name": "patient_phone",
         "type": "\"string\""
        },
        {
         "metadata": "{}",
         "name": "disease_name",
         "type": "\"string\""
        },
        {
         "metadata": "{}",
         "name": "city",
         "type": "\"string\""
        },
        {
         "metadata": "{}",
         "name": "hospital_id",
         "type": "\"string\""
        }
       ],
       "type": "table"
      }
     },
     "output_type": "display_data"
    }
   ],
   "source": [
    "sel_col = ['Patient_id',\n",
    " 'Patient_name',\n",
    " 'patient_gender',\n",
    " 'patient_phone',\n",
    " 'disease_name',\n",
    " 'city',\n",
    " 'hospital_id']\n",
    "\n",
    "sel_pr_df = pr_df.select(sel_col)\n",
    "display(sel_pr_df)"
   ]
  },
  {
   "cell_type": "code",
   "execution_count": 0,
   "metadata": {
    "application/vnd.databricks.v1+cell": {
     "cellMetadata": {
      "byteLimit": 2048000,
      "rowLimit": 10000
     },
     "inputWidgets": {},
     "nuid": "d72e8555-3e6c-4c7e-b3cb-d542baee5170",
     "showTitle": false,
     "tableResultSettingsMap": {},
     "title": ""
    }
   },
   "outputs": [
    {
     "output_type": "stream",
     "name": "stdout",
     "output_type": "stream",
     "text": [
      "+----------+------------+--------------+-------------+------------+----+-----------+\n|Patient_id|Patient_name|patient_gender|patient_phone|disease_name|city|hospital_id|\n+----------+------------+--------------+-------------+------------+----+-----------+\n|         0|          17|             0|            2|           0|   0|          0|\n+----------+------------+--------------+-------------+------------+----+-----------+\n\n"
     ]
    }
   ],
   "source": [
    "missingvaluecheck(sel_pr_df)"
   ]
  },
  {
   "cell_type": "code",
   "execution_count": 0,
   "metadata": {
    "application/vnd.databricks.v1+cell": {
     "cellMetadata": {
      "byteLimit": 2048000,
      "rowLimit": 10000
     },
     "inputWidgets": {},
     "nuid": "b2638723-3e5e-4304-b1c6-251280984a97",
     "showTitle": false,
     "tableResultSettingsMap": {},
     "title": ""
    }
   },
   "outputs": [
    {
     "output_type": "execute_result",
     "data": {
      "text/plain": [
       "0"
      ]
     },
     "execution_count": 55,
     "metadata": {},
     "output_type": "execute_result"
    }
   ],
   "source": [
    "pr_df.filter(pr_df['patient_birth_date'].isNull()).count()"
   ]
  },
  {
   "cell_type": "code",
   "execution_count": 0,
   "metadata": {
    "application/vnd.databricks.v1+cell": {
     "cellMetadata": {
      "byteLimit": 2048000,
      "rowLimit": 10000
     },
     "inputWidgets": {},
     "nuid": "288290e7-ee58-4bde-b4c9-4599e4657281",
     "showTitle": false,
     "tableResultSettingsMap": {},
     "title": ""
    }
   },
   "outputs": [
    {
     "output_type": "display_data",
     "data": {
      "text/html": [
       "<style scoped>\n",
       "  .table-result-container {\n",
       "    max-height: 300px;\n",
       "    overflow: auto;\n",
       "  }\n",
       "  table, th, td {\n",
       "    border: 1px solid black;\n",
       "    border-collapse: collapse;\n",
       "  }\n",
       "  th, td {\n",
       "    padding: 5px;\n",
       "  }\n",
       "  th {\n",
       "    text-align: left;\n",
       "  }\n",
       "</style><div class='table-result-container'><table class='table-result'><thead style='background-color: white'><tr><th>Patient_id</th><th>Patient_name</th><th>patient_gender</th><th>patient_birth_date</th><th>patient_phone</th><th>disease_name</th><th>city</th><th>hospital_id</th></tr></thead><tbody><tr><td>187158</td><td>Harbir</td><td>Female</td><td>1924-06-30</td><td>+91 0112009318</td><td>Galactosemia</td><td>Rourkela</td><td>H1001</td></tr><tr><td>112766</td><td>Brahmdev</td><td>Female</td><td>1948-12-20</td><td>+91 1727749552</td><td>Bladder cancer</td><td>Tiruvottiyur</td><td>H1016</td></tr><tr><td>199252</td><td>Ujjawal</td><td>Male</td><td>1980-04-16</td><td>+91 8547451606</td><td>Kidney cancer</td><td>Berhampur</td><td>H1009</td></tr><tr><td>133424</td><td>Ballari</td><td>Female</td><td>1969-09-25</td><td>+91 0106026841</td><td>Suicide</td><td>Bihar Sharif</td><td>H1017</td></tr><tr><td>172579</td><td>Devnath</td><td>Female</td><td>1946-05-01</td><td>+91 1868774631</td><td>Food allergy</td><td>Bidhannagar</td><td>H1019</td></tr><tr><td>171320</td><td>Atasi</td><td>Male</td><td>1967-10-02</td><td>+91 9747336855</td><td>Whiplash</td><td>Amravati</td><td>H1013</td></tr><tr><td>107794</td><td>Manish</td><td>Male</td><td>1967-06-06</td><td>+91 4354294043</td><td>Sunbathing</td><td>Panvel</td><td>H1004</td></tr><tr><td>130339</td><td>Aakar</td><td>Female</td><td>1925-03-05</td><td>+91 2777633911</td><td>Drug consumption</td><td>Bihar Sharif</td><td>H1000</td></tr><tr><td>110377</td><td>Gurudas</td><td>Male</td><td>1945-05-06</td><td>+91 1232859381</td><td>Dengue</td><td>Kamarhati</td><td>H1001</td></tr><tr><td>149367</td><td>Visitor/NA</td><td>Male</td><td>1925-06-12</td><td>+91 1780763280</td><td>Head banging</td><td>Bangalore</td><td>H1013</td></tr><tr><td>156168</td><td>Visitor/NA</td><td>Male</td><td>1976-02-03</td><td>+91 5586075345</td><td>Fanconi anaemia</td><td>Rajkot</td><td>H1004</td></tr><tr><td>114241</td><td>Visitor/NA</td><td>Female</td><td>1955-01-22</td><td>+91 4146391938</td><td>Breast cancer</td><td>Ghaziabad</td><td>H1015</td></tr><tr><td>146382</td><td>Dharmadaas</td><td>Male</td><td>1964-04-29</td><td>+91 6345482027</td><td>Anthrax</td><td>Bhalswa Jahangir Pur</td><td>H1019</td></tr><tr><td>132748</td><td>Brahmvir</td><td>Male</td><td>1991-11-11</td><td>+91 7316972612</td><td>Cystic fibrosis</td><td>Ambala</td><td>H1018</td></tr><tr><td>167340</td><td>Visitor/NA</td><td>Female</td><td>1981-01-25</td><td>+91 2960004518</td><td>Galactosemia</td><td>Surendranagar Dudhrej</td><td>H1003</td></tr><tr><td>135184</td><td>Bhagvan</td><td>Female</td><td>1966-07-24</td><td>+91 0297693485</td><td>Dengue</td><td>Bhimavaram</td><td>H1018</td></tr><tr><td>179662</td><td>Amritkala</td><td>Female</td><td>1933-11-20</td><td>+91 0537157280</td><td>Smallpox</td><td>Meerut</td><td>H1018</td></tr><tr><td>184479</td><td>Bandhu</td><td>Male</td><td>1996-10-15</td><td>+91 0695289163</td><td>Pollen allergy</td><td>Chinsurah</td><td>H1010</td></tr><tr><td>156988</td><td>Bhagavaana</td><td>Female</td><td>1935-09-16</td><td>+91 6071745855</td><td>Breast cancer</td><td>Shahjahanpur</td><td>H1012</td></tr><tr><td>132870</td><td>Visitor/NA</td><td>Female</td><td>1924-11-09</td><td>+91 8906694405</td><td>Glaucoma</td><td>Jabalpur</td><td>H1017</td></tr><tr><td>148137</td><td>Umang</td><td>Female</td><td>1963-07-14</td><td>+91 9485838770</td><td>Pet allergy</td><td>Haridwar</td><td>H1002</td></tr><tr><td>113280</td><td>Darsana</td><td>Male</td><td>1932-05-29</td><td>+91 7676311811</td><td>Rett Syndrome</td><td>Dibrugarh</td><td>H1019</td></tr><tr><td>134184</td><td>Prakash</td><td>Female</td><td>1923-09-15</td><td>+91 9268324471</td><td>Flu</td><td>Kottayam</td><td>H1001</td></tr><tr><td>122592</td><td>Vaijayanti</td><td>Male</td><td>1920-11-13</td><td>+91 9358851649</td><td>Cholera</td><td>Mira-Bhayandar</td><td>H1009</td></tr><tr><td>154439</td><td>Menakshi</td><td>Male</td><td>1987-03-06</td><td>+91 0531676556</td><td>Scurvy</td><td>Kamarhati</td><td>H1016</td></tr><tr><td>117945</td><td>Visitor/NA</td><td>Male</td><td>1955-12-24</td><td>+91 2416747182</td><td>Glaucoma</td><td>Karimnagar</td><td>H1009</td></tr><tr><td>189996</td><td>Ekant</td><td>Male</td><td>1943-08-13</td><td>+91 7686951174</td><td>Measles</td><td>Berhampore</td><td>H1003</td></tr><tr><td>146540</td><td>Chancharik</td><td>Male</td><td>1983-09-05</td><td>+91 5309364825</td><td>Scurvy</td><td>Chapra</td><td>H1012</td></tr><tr><td>156434</td><td>Pushti</td><td>Female</td><td>1935-10-15</td><td>+91 7093722203</td><td>Flu</td><td>Morbi</td><td>H1019</td></tr><tr><td>197352</td><td>Swati</td><td>Female</td><td>1987-12-11</td><td>+91 1028477510</td><td>Pet allergy</td><td>Amravati</td><td>H1019</td></tr><tr><td>138778</td><td>Upasana</td><td>Male</td><td>1956-06-01</td><td>+91 0548234943</td><td>Lymphedema</td><td>Hyderabad</td><td>H1005</td></tr><tr><td>162665</td><td>Kanhaiya</td><td>Female</td><td>1954-10-19</td><td>+91 0788738026</td><td>Alcohol consumption</td><td>Mysore</td><td>H1009</td></tr><tr><td>197503</td><td>Visitor/NA</td><td>Female</td><td>1968-07-02</td><td>+91 2599794460</td><td>Stroke</td><td>Gwalior</td><td>H1009</td></tr><tr><td>113476</td><td>Gensho</td><td>Male</td><td>1992-06-06</td><td>+91 4834040556</td><td>Galactosemia</td><td>Ludhiana</td><td>H1016</td></tr><tr><td>195876</td><td>Gopal</td><td>Male</td><td>1986-05-14</td><td>+91 1181471524</td><td>Vertigo</td><td>Raebareli</td><td>H1017</td></tr><tr><td>150189</td><td>Dheeman</td><td>Male</td><td>1945-05-04</td><td>+91 8239321466</td><td>Measles</td><td>Mysore</td><td>H1017</td></tr><tr><td>138861</td><td>Upasana</td><td>Female</td><td>1927-10-03</td><td>null</td><td>Heart Attack</td><td>Ratlam</td><td>H1004</td></tr><tr><td>146555</td><td>Visitor/NA</td><td>Male</td><td>1948-11-10</td><td>+91 8390195092</td><td>Phenylketonuria</td><td>Vadodara</td><td>H1007</td></tr><tr><td>199114</td><td>Visitor/NA</td><td>Female</td><td>1955-04-07</td><td>+91 7434031446</td><td>Phenylketonuria</td><td>Vijayawada</td><td>H1017</td></tr><tr><td>105758</td><td>Madhubala</td><td>Male</td><td>1937-01-11</td><td>+91 8498685882</td><td>Head banging</td><td>Jaunpur</td><td>H1003</td></tr><tr><td>109251</td><td>Anjushree</td><td>Male</td><td>1976-07-04</td><td>+91 5322869455</td><td>Choking</td><td>Ghaziabad</td><td>H1001</td></tr><tr><td>156223</td><td>Visitor/NA</td><td>Female</td><td>1930-11-25</td><td>null</td><td>Fanconi anaemia</td><td>Agartala</td><td>H1012</td></tr><tr><td>108576</td><td>Chakrika</td><td>Male</td><td>1964-08-05</td><td>+91 8185162879</td><td>Stroke</td><td>Ranchi</td><td>H1003</td></tr><tr><td>132947</td><td>Saroj</td><td>Female</td><td>1942-08-26</td><td>+91 5690408243</td><td>Anaemia</td><td>Muzaffarpur</td><td>H1016</td></tr><tr><td>148674</td><td>Ayushmati</td><td>Male</td><td>1932-09-20</td><td>+91 3683223970</td><td>Diabetes</td><td>Satna</td><td>H1016</td></tr><tr><td>133107</td><td>Drashti</td><td>Male</td><td>1926-07-03</td><td>+91 9447269993</td><td>Lymphedema</td><td>Saharsa</td><td>H1019</td></tr><tr><td>193137</td><td>Aayushmaan</td><td>Female</td><td>1983-11-14</td><td>+91 4464709769</td><td>Phenylketonuria</td><td>Mehsana</td><td>H1014</td></tr><tr><td>196369</td><td>Visitor/NA</td><td>Male</td><td>1931-02-04</td><td>+91 2973105946</td><td>Choking</td><td>Shivpuri</td><td>H1017</td></tr><tr><td>109342</td><td>Chitranjan</td><td>Female</td><td>1925-09-09</td><td>+91 5176024720</td><td>Asthma</td><td>Morbi</td><td>H1011</td></tr><tr><td>121783</td><td>Paridhi</td><td>Female</td><td>1959-03-27</td><td>+91 2139280879</td><td>Bladder cancer</td><td>Jabalpur</td><td>H1013</td></tr><tr><td>197441</td><td>Deependu</td><td>Female</td><td>1952-02-13</td><td>+91 5674176644</td><td>Lung cancer</td><td>Bareilly</td><td>H1001</td></tr><tr><td>194166</td><td>Visitor/NA</td><td>Male</td><td>1946-10-17</td><td>+91 9887324437</td><td>Colorectal cancer</td><td>Baranagar</td><td>H1015</td></tr><tr><td>110690</td><td>Laksman</td><td>Female</td><td>1939-05-26</td><td>+91 4504120828</td><td>Food Poisoning</td><td>Ahmednagar</td><td>H1001</td></tr><tr><td>180709</td><td>Visitor/NA</td><td>Male</td><td>1988-06-27</td><td>+91 6877897646</td><td>Anthrax</td><td>Pali</td><td>H1017</td></tr><tr><td>119268</td><td>Shivakari</td><td>Female</td><td>1944-11-02</td><td>+91 3740484063</td><td>Mold allergy</td><td>Hapur</td><td>H1008</td></tr><tr><td>163148</td><td>Madhu</td><td>Male</td><td>1984-10-23</td><td>+91 8367885507</td><td>Beriberi</td><td>Udaipur</td><td>H1008</td></tr><tr><td>118913</td><td>Chanak</td><td>Male</td><td>1954-08-27</td><td>+91 5093121123</td><td>Malaria</td><td>Jalandhar</td><td>H1004</td></tr><tr><td>167423</td><td>Chittesh</td><td>Male</td><td>1949-10-17</td><td>+91 1378163498</td><td>Asthma</td><td>Thoothukudi</td><td>H1019</td></tr><tr><td>141703</td><td>Nawal</td><td>Male</td><td>1940-01-22</td><td>+91 1885105576</td><td>Fractures</td><td>Bhopal</td><td>H1006</td></tr><tr><td>173518</td><td>Gajabahu</td><td>Male</td><td>1959-03-15</td><td>+91 1207869436</td><td>Malaria</td><td>Udupi</td><td>H1015</td></tr><tr><td>140394</td><td>Jitesh</td><td>Male</td><td>1983-02-03</td><td>+91 6515468035</td><td>Anthrax</td><td>Karimnagar</td><td>H1010</td></tr><tr><td>164524</td><td>Visitor/NA</td><td>Female</td><td>1966-09-25</td><td>+91 6477918745</td><td>Mold allergy</td><td>Kharagpur</td><td>H1015</td></tr><tr><td>198182</td><td>Lalit</td><td>Female</td><td>1924-02-15</td><td>+91 4647833992</td><td>Head banging</td><td>Tinsukia</td><td>H1017</td></tr><tr><td>115143</td><td>Anshuk</td><td>Male</td><td>1991-06-17</td><td>+91 9764690642</td><td>Drug consumption</td><td>Uluberia</td><td>H1001</td></tr><tr><td>156364</td><td>Visitor/NA</td><td>Male</td><td>1994-01-13</td><td>+91 8444537013</td><td>Cholera</td><td>Panihati</td><td>H1019</td></tr><tr><td>191132</td><td>Dipesh</td><td>Female</td><td>1949-04-01</td><td>+91 5851958964</td><td>Glaucoma</td><td>Kochi</td><td>H1016</td></tr><tr><td>105686</td><td>Visitor/NA</td><td>Male</td><td>1930-09-01</td><td>+91 7061843400</td><td>Hepatitis</td><td>Kolhapur</td><td>H1008</td></tr><tr><td>160140</td><td>Kishan</td><td>Male</td><td>1923-05-12</td><td>+91 9067652693</td><td>Rett Syndrome</td><td>Srikakulam</td><td>H1002</td></tr><tr><td>114252</td><td>Visitor/NA</td><td>Female</td><td>1927-02-26</td><td>+91 4984346995</td><td>Diabetes</td><td>Ambarnath</td><td>H1014</td></tr><tr><td>188365</td><td>Bhageeratha</td><td>Male</td><td>1973-03-21</td><td>+91 0590662722</td><td>Pet allergy</td><td>Sonipat</td><td>H1017</td></tr></tbody></table></div>"
      ]
     },
     "metadata": {
      "application/vnd.databricks.v1+output": {
       "addedWidgets": {},
       "aggData": [],
       "aggError": "",
       "aggOverflow": false,
       "aggSchema": [],
       "aggSeriesLimitReached": false,
       "aggType": "",
       "arguments": {},
       "columnCustomDisplayInfos": {},
       "data": [
        [
         187158,
         "Harbir",
         "Female",
         "1924-06-30",
         "+91 0112009318",
         "Galactosemia",
         "Rourkela",
         "H1001"
        ],
        [
         112766,
         "Brahmdev",
         "Female",
         "1948-12-20",
         "+91 1727749552",
         "Bladder cancer",
         "Tiruvottiyur",
         "H1016"
        ],
        [
         199252,
         "Ujjawal",
         "Male",
         "1980-04-16",
         "+91 8547451606",
         "Kidney cancer",
         "Berhampur",
         "H1009"
        ],
        [
         133424,
         "Ballari",
         "Female",
         "1969-09-25",
         "+91 0106026841",
         "Suicide",
         "Bihar Sharif",
         "H1017"
        ],
        [
         172579,
         "Devnath",
         "Female",
         "1946-05-01",
         "+91 1868774631",
         "Food allergy",
         "Bidhannagar",
         "H1019"
        ],
        [
         171320,
         "Atasi",
         "Male",
         "1967-10-02",
         "+91 9747336855",
         "Whiplash",
         "Amravati",
         "H1013"
        ],
        [
         107794,
         "Manish",
         "Male",
         "1967-06-06",
         "+91 4354294043",
         "Sunbathing",
         "Panvel",
         "H1004"
        ],
        [
         130339,
         "Aakar",
         "Female",
         "1925-03-05",
         "+91 2777633911",
         "Drug consumption",
         "Bihar Sharif",
         "H1000"
        ],
        [
         110377,
         "Gurudas",
         "Male",
         "1945-05-06",
         "+91 1232859381",
         "Dengue",
         "Kamarhati",
         "H1001"
        ],
        [
         149367,
         "Visitor/NA",
         "Male",
         "1925-06-12",
         "+91 1780763280",
         "Head banging",
         "Bangalore",
         "H1013"
        ],
        [
         156168,
         "Visitor/NA",
         "Male",
         "1976-02-03",
         "+91 5586075345",
         "Fanconi anaemia",
         "Rajkot",
         "H1004"
        ],
        [
         114241,
         "Visitor/NA",
         "Female",
         "1955-01-22",
         "+91 4146391938",
         "Breast cancer",
         "Ghaziabad",
         "H1015"
        ],
        [
         146382,
         "Dharmadaas",
         "Male",
         "1964-04-29",
         "+91 6345482027",
         "Anthrax",
         "Bhalswa Jahangir Pur",
         "H1019"
        ],
        [
         132748,
         "Brahmvir",
         "Male",
         "1991-11-11",
         "+91 7316972612",
         "Cystic fibrosis",
         "Ambala",
         "H1018"
        ],
        [
         167340,
         "Visitor/NA",
         "Female",
         "1981-01-25",
         "+91 2960004518",
         "Galactosemia",
         "Surendranagar Dudhrej",
         "H1003"
        ],
        [
         135184,
         "Bhagvan",
         "Female",
         "1966-07-24",
         "+91 0297693485",
         "Dengue",
         "Bhimavaram",
         "H1018"
        ],
        [
         179662,
         "Amritkala",
         "Female",
         "1933-11-20",
         "+91 0537157280",
         "Smallpox",
         "Meerut",
         "H1018"
        ],
        [
         184479,
         "Bandhu",
         "Male",
         "1996-10-15",
         "+91 0695289163",
         "Pollen allergy",
         "Chinsurah",
         "H1010"
        ],
        [
         156988,
         "Bhagavaana",
         "Female",
         "1935-09-16",
         "+91 6071745855",
         "Breast cancer",
         "Shahjahanpur",
         "H1012"
        ],
        [
         132870,
         "Visitor/NA",
         "Female",
         "1924-11-09",
         "+91 8906694405",
         "Glaucoma",
         "Jabalpur",
         "H1017"
        ],
        [
         148137,
         "Umang",
         "Female",
         "1963-07-14",
         "+91 9485838770",
         "Pet allergy",
         "Haridwar",
         "H1002"
        ],
        [
         113280,
         "Darsana",
         "Male",
         "1932-05-29",
         "+91 7676311811",
         "Rett Syndrome",
         "Dibrugarh",
         "H1019"
        ],
        [
         134184,
         "Prakash",
         "Female",
         "1923-09-15",
         "+91 9268324471",
         "Flu",
         "Kottayam",
         "H1001"
        ],
        [
         122592,
         "Vaijayanti",
         "Male",
         "1920-11-13",
         "+91 9358851649",
         "Cholera",
         "Mira-Bhayandar",
         "H1009"
        ],
        [
         154439,
         "Menakshi",
         "Male",
         "1987-03-06",
         "+91 0531676556",
         "Scurvy",
         "Kamarhati",
         "H1016"
        ],
        [
         117945,
         "Visitor/NA",
         "Male",
         "1955-12-24",
         "+91 2416747182",
         "Glaucoma",
         "Karimnagar",
         "H1009"
        ],
        [
         189996,
         "Ekant",
         "Male",
         "1943-08-13",
         "+91 7686951174",
         "Measles",
         "Berhampore",
         "H1003"
        ],
        [
         146540,
         "Chancharik",
         "Male",
         "1983-09-05",
         "+91 5309364825",
         "Scurvy",
         "Chapra",
         "H1012"
        ],
        [
         156434,
         "Pushti",
         "Female",
         "1935-10-15",
         "+91 7093722203",
         "Flu",
         "Morbi",
         "H1019"
        ],
        [
         197352,
         "Swati",
         "Female",
         "1987-12-11",
         "+91 1028477510",
         "Pet allergy",
         "Amravati",
         "H1019"
        ],
        [
         138778,
         "Upasana",
         "Male",
         "1956-06-01",
         "+91 0548234943",
         "Lymphedema",
         "Hyderabad",
         "H1005"
        ],
        [
         162665,
         "Kanhaiya",
         "Female",
         "1954-10-19",
         "+91 0788738026",
         "Alcohol consumption",
         "Mysore",
         "H1009"
        ],
        [
         197503,
         "Visitor/NA",
         "Female",
         "1968-07-02",
         "+91 2599794460",
         "Stroke",
         "Gwalior",
         "H1009"
        ],
        [
         113476,
         "Gensho",
         "Male",
         "1992-06-06",
         "+91 4834040556",
         "Galactosemia",
         "Ludhiana",
         "H1016"
        ],
        [
         195876,
         "Gopal",
         "Male",
         "1986-05-14",
         "+91 1181471524",
         "Vertigo",
         "Raebareli",
         "H1017"
        ],
        [
         150189,
         "Dheeman",
         "Male",
         "1945-05-04",
         "+91 8239321466",
         "Measles",
         "Mysore",
         "H1017"
        ],
        [
         138861,
         "Upasana",
         "Female",
         "1927-10-03",
         null,
         "Heart Attack",
         "Ratlam",
         "H1004"
        ],
        [
         146555,
         "Visitor/NA",
         "Male",
         "1948-11-10",
         "+91 8390195092",
         "Phenylketonuria",
         "Vadodara",
         "H1007"
        ],
        [
         199114,
         "Visitor/NA",
         "Female",
         "1955-04-07",
         "+91 7434031446",
         "Phenylketonuria",
         "Vijayawada",
         "H1017"
        ],
        [
         105758,
         "Madhubala",
         "Male",
         "1937-01-11",
         "+91 8498685882",
         "Head banging",
         "Jaunpur",
         "H1003"
        ],
        [
         109251,
         "Anjushree",
         "Male",
         "1976-07-04",
         "+91 5322869455",
         "Choking",
         "Ghaziabad",
         "H1001"
        ],
        [
         156223,
         "Visitor/NA",
         "Female",
         "1930-11-25",
         null,
         "Fanconi anaemia",
         "Agartala",
         "H1012"
        ],
        [
         108576,
         "Chakrika",
         "Male",
         "1964-08-05",
         "+91 8185162879",
         "Stroke",
         "Ranchi",
         "H1003"
        ],
        [
         132947,
         "Saroj",
         "Female",
         "1942-08-26",
         "+91 5690408243",
         "Anaemia",
         "Muzaffarpur",
         "H1016"
        ],
        [
         148674,
         "Ayushmati",
         "Male",
         "1932-09-20",
         "+91 3683223970",
         "Diabetes",
         "Satna",
         "H1016"
        ],
        [
         133107,
         "Drashti",
         "Male",
         "1926-07-03",
         "+91 9447269993",
         "Lymphedema",
         "Saharsa",
         "H1019"
        ],
        [
         193137,
         "Aayushmaan",
         "Female",
         "1983-11-14",
         "+91 4464709769",
         "Phenylketonuria",
         "Mehsana",
         "H1014"
        ],
        [
         196369,
         "Visitor/NA",
         "Male",
         "1931-02-04",
         "+91 2973105946",
         "Choking",
         "Shivpuri",
         "H1017"
        ],
        [
         109342,
         "Chitranjan",
         "Female",
         "1925-09-09",
         "+91 5176024720",
         "Asthma",
         "Morbi",
         "H1011"
        ],
        [
         121783,
         "Paridhi",
         "Female",
         "1959-03-27",
         "+91 2139280879",
         "Bladder cancer",
         "Jabalpur",
         "H1013"
        ],
        [
         197441,
         "Deependu",
         "Female",
         "1952-02-13",
         "+91 5674176644",
         "Lung cancer",
         "Bareilly",
         "H1001"
        ],
        [
         194166,
         "Visitor/NA",
         "Male",
         "1946-10-17",
         "+91 9887324437",
         "Colorectal cancer",
         "Baranagar",
         "H1015"
        ],
        [
         110690,
         "Laksman",
         "Female",
         "1939-05-26",
         "+91 4504120828",
         "Food Poisoning",
         "Ahmednagar",
         "H1001"
        ],
        [
         180709,
         "Visitor/NA",
         "Male",
         "1988-06-27",
         "+91 6877897646",
         "Anthrax",
         "Pali",
         "H1017"
        ],
        [
         119268,
         "Shivakari",
         "Female",
         "1944-11-02",
         "+91 3740484063",
         "Mold allergy",
         "Hapur",
         "H1008"
        ],
        [
         163148,
         "Madhu",
         "Male",
         "1984-10-23",
         "+91 8367885507",
         "Beriberi",
         "Udaipur",
         "H1008"
        ],
        [
         118913,
         "Chanak",
         "Male",
         "1954-08-27",
         "+91 5093121123",
         "Malaria",
         "Jalandhar",
         "H1004"
        ],
        [
         167423,
         "Chittesh",
         "Male",
         "1949-10-17",
         "+91 1378163498",
         "Asthma",
         "Thoothukudi",
         "H1019"
        ],
        [
         141703,
         "Nawal",
         "Male",
         "1940-01-22",
         "+91 1885105576",
         "Fractures",
         "Bhopal",
         "H1006"
        ],
        [
         173518,
         "Gajabahu",
         "Male",
         "1959-03-15",
         "+91 1207869436",
         "Malaria",
         "Udupi",
         "H1015"
        ],
        [
         140394,
         "Jitesh",
         "Male",
         "1983-02-03",
         "+91 6515468035",
         "Anthrax",
         "Karimnagar",
         "H1010"
        ],
        [
         164524,
         "Visitor/NA",
         "Female",
         "1966-09-25",
         "+91 6477918745",
         "Mold allergy",
         "Kharagpur",
         "H1015"
        ],
        [
         198182,
         "Lalit",
         "Female",
         "1924-02-15",
         "+91 4647833992",
         "Head banging",
         "Tinsukia",
         "H1017"
        ],
        [
         115143,
         "Anshuk",
         "Male",
         "1991-06-17",
         "+91 9764690642",
         "Drug consumption",
         "Uluberia",
         "H1001"
        ],
        [
         156364,
         "Visitor/NA",
         "Male",
         "1994-01-13",
         "+91 8444537013",
         "Cholera",
         "Panihati",
         "H1019"
        ],
        [
         191132,
         "Dipesh",
         "Female",
         "1949-04-01",
         "+91 5851958964",
         "Glaucoma",
         "Kochi",
         "H1016"
        ],
        [
         105686,
         "Visitor/NA",
         "Male",
         "1930-09-01",
         "+91 7061843400",
         "Hepatitis",
         "Kolhapur",
         "H1008"
        ],
        [
         160140,
         "Kishan",
         "Male",
         "1923-05-12",
         "+91 9067652693",
         "Rett Syndrome",
         "Srikakulam",
         "H1002"
        ],
        [
         114252,
         "Visitor/NA",
         "Female",
         "1927-02-26",
         "+91 4984346995",
         "Diabetes",
         "Ambarnath",
         "H1014"
        ],
        [
         188365,
         "Bhageeratha",
         "Male",
         "1973-03-21",
         "+91 0590662722",
         "Pet allergy",
         "Sonipat",
         "H1017"
        ]
       ],
       "datasetInfos": [],
       "dbfsResultPath": null,
       "isJsonSchema": true,
       "metadata": {},
       "overflow": false,
       "plotOptions": {
        "customPlotOptions": {},
        "displayType": "table",
        "pivotAggregation": null,
        "pivotColumns": null,
        "xColumns": null,
        "yColumns": null
       },
       "removedWidgets": [],
       "schema": [
        {
         "metadata": "{}",
         "name": "Patient_id",
         "type": "\"integer\""
        },
        {
         "metadata": "{}",
         "name": "Patient_name",
         "type": "\"string\""
        },
        {
         "metadata": "{}",
         "name": "patient_gender",
         "type": "\"string\""
        },
        {
         "metadata": "{\"__detected_date_formats\":\"yyyy-M-d\"}",
         "name": "patient_birth_date",
         "type": "\"date\""
        },
        {
         "metadata": "{}",
         "name": "patient_phone",
         "type": "\"string\""
        },
        {
         "metadata": "{}",
         "name": "disease_name",
         "type": "\"string\""
        },
        {
         "metadata": "{}",
         "name": "city",
         "type": "\"string\""
        },
        {
         "metadata": "{}",
         "name": "hospital_id",
         "type": "\"string\""
        }
       ],
       "type": "table"
      }
     },
     "output_type": "display_data"
    }
   ],
   "source": [
    "pr_df = pr_df.fillna({\"Patient_name\": \"Visitor/NA\"})\n",
    "pr_df.display()"
   ]
  },
  {
   "cell_type": "code",
   "execution_count": 0,
   "metadata": {
    "application/vnd.databricks.v1+cell": {
     "cellMetadata": {
      "byteLimit": 2048000,
      "rowLimit": 10000
     },
     "inputWidgets": {},
     "nuid": "9d8ea48b-062e-46b4-b086-cff20ebe6cb0",
     "showTitle": false,
     "tableResultSettingsMap": {},
     "title": ""
    }
   },
   "outputs": [],
   "source": [
    "pr_df= pr_df.drop(\"patient_phone\")"
   ]
  },
  {
   "cell_type": "code",
   "execution_count": 0,
   "metadata": {
    "application/vnd.databricks.v1+cell": {
     "cellMetadata": {
      "byteLimit": 2048000,
      "rowLimit": 10000
     },
     "inputWidgets": {},
     "nuid": "32e3ce8b-2001-44eb-bb58-b6c23a38f793",
     "showTitle": false,
     "tableResultSettingsMap": {},
     "title": ""
    }
   },
   "outputs": [],
   "source": [
    "pr_df = pr_df.withColumn('patient_age', round(months_between(current_date(), pr_df.patient_birth_date)/12,0).cast('integer'))"
   ]
  },
  {
   "cell_type": "code",
   "execution_count": 0,
   "metadata": {
    "application/vnd.databricks.v1+cell": {
     "cellMetadata": {
      "byteLimit": 2048000,
      "rowLimit": 10000
     },
     "inputWidgets": {},
     "nuid": "bdfdfceb-025e-49fb-aeb5-ca79e9938f97",
     "showTitle": false,
     "tableResultSettingsMap": {},
     "title": ""
    }
   },
   "outputs": [
    {
     "output_type": "display_data",
     "data": {
      "text/html": [
       "<style scoped>\n",
       "  .table-result-container {\n",
       "    max-height: 300px;\n",
       "    overflow: auto;\n",
       "  }\n",
       "  table, th, td {\n",
       "    border: 1px solid black;\n",
       "    border-collapse: collapse;\n",
       "  }\n",
       "  th, td {\n",
       "    padding: 5px;\n",
       "  }\n",
       "  th {\n",
       "    text-align: left;\n",
       "  }\n",
       "</style><div class='table-result-container'><table class='table-result'><thead style='background-color: white'><tr><th>Patient_id</th><th>Patient_name</th><th>patient_gender</th><th>patient_birth_date</th><th>disease_name</th><th>city</th><th>hospital_id</th><th>patient_age</th></tr></thead><tbody><tr><td>187158</td><td>Harbir</td><td>Female</td><td>1924-06-30</td><td>Galactosemia</td><td>Rourkela</td><td>H1001</td><td>101</td></tr><tr><td>112766</td><td>Brahmdev</td><td>Female</td><td>1948-12-20</td><td>Bladder cancer</td><td>Tiruvottiyur</td><td>H1016</td><td>76</td></tr><tr><td>199252</td><td>Ujjawal</td><td>Male</td><td>1980-04-16</td><td>Kidney cancer</td><td>Berhampur</td><td>H1009</td><td>45</td></tr><tr><td>133424</td><td>Ballari</td><td>Female</td><td>1969-09-25</td><td>Suicide</td><td>Bihar Sharif</td><td>H1017</td><td>55</td></tr><tr><td>172579</td><td>Devnath</td><td>Female</td><td>1946-05-01</td><td>Food allergy</td><td>Bidhannagar</td><td>H1019</td><td>79</td></tr><tr><td>171320</td><td>Atasi</td><td>Male</td><td>1967-10-02</td><td>Whiplash</td><td>Amravati</td><td>H1013</td><td>57</td></tr><tr><td>107794</td><td>Manish</td><td>Male</td><td>1967-06-06</td><td>Sunbathing</td><td>Panvel</td><td>H1004</td><td>58</td></tr><tr><td>130339</td><td>Aakar</td><td>Female</td><td>1925-03-05</td><td>Drug consumption</td><td>Bihar Sharif</td><td>H1000</td><td>100</td></tr><tr><td>110377</td><td>Gurudas</td><td>Male</td><td>1945-05-06</td><td>Dengue</td><td>Kamarhati</td><td>H1001</td><td>80</td></tr><tr><td>149367</td><td>Visitor/NA</td><td>Male</td><td>1925-06-12</td><td>Head banging</td><td>Bangalore</td><td>H1013</td><td>100</td></tr><tr><td>156168</td><td>Visitor/NA</td><td>Male</td><td>1976-02-03</td><td>Fanconi anaemia</td><td>Rajkot</td><td>H1004</td><td>49</td></tr><tr><td>114241</td><td>Visitor/NA</td><td>Female</td><td>1955-01-22</td><td>Breast cancer</td><td>Ghaziabad</td><td>H1015</td><td>70</td></tr><tr><td>146382</td><td>Dharmadaas</td><td>Male</td><td>1964-04-29</td><td>Anthrax</td><td>Bhalswa Jahangir Pur</td><td>H1019</td><td>61</td></tr><tr><td>132748</td><td>Brahmvir</td><td>Male</td><td>1991-11-11</td><td>Cystic fibrosis</td><td>Ambala</td><td>H1018</td><td>33</td></tr><tr><td>167340</td><td>Visitor/NA</td><td>Female</td><td>1981-01-25</td><td>Galactosemia</td><td>Surendranagar Dudhrej</td><td>H1003</td><td>44</td></tr><tr><td>135184</td><td>Bhagvan</td><td>Female</td><td>1966-07-24</td><td>Dengue</td><td>Bhimavaram</td><td>H1018</td><td>59</td></tr><tr><td>179662</td><td>Amritkala</td><td>Female</td><td>1933-11-20</td><td>Smallpox</td><td>Meerut</td><td>H1018</td><td>91</td></tr><tr><td>184479</td><td>Bandhu</td><td>Male</td><td>1996-10-15</td><td>Pollen allergy</td><td>Chinsurah</td><td>H1010</td><td>28</td></tr><tr><td>156988</td><td>Bhagavaana</td><td>Female</td><td>1935-09-16</td><td>Breast cancer</td><td>Shahjahanpur</td><td>H1012</td><td>90</td></tr><tr><td>132870</td><td>Visitor/NA</td><td>Female</td><td>1924-11-09</td><td>Glaucoma</td><td>Jabalpur</td><td>H1017</td><td>100</td></tr><tr><td>148137</td><td>Umang</td><td>Female</td><td>1963-07-14</td><td>Pet allergy</td><td>Haridwar</td><td>H1002</td><td>62</td></tr><tr><td>113280</td><td>Darsana</td><td>Male</td><td>1932-05-29</td><td>Rett Syndrome</td><td>Dibrugarh</td><td>H1019</td><td>93</td></tr><tr><td>134184</td><td>Prakash</td><td>Female</td><td>1923-09-15</td><td>Flu</td><td>Kottayam</td><td>H1001</td><td>102</td></tr><tr><td>122592</td><td>Vaijayanti</td><td>Male</td><td>1920-11-13</td><td>Cholera</td><td>Mira-Bhayandar</td><td>H1009</td><td>104</td></tr><tr><td>154439</td><td>Menakshi</td><td>Male</td><td>1987-03-06</td><td>Scurvy</td><td>Kamarhati</td><td>H1016</td><td>38</td></tr><tr><td>117945</td><td>Visitor/NA</td><td>Male</td><td>1955-12-24</td><td>Glaucoma</td><td>Karimnagar</td><td>H1009</td><td>69</td></tr><tr><td>189996</td><td>Ekant</td><td>Male</td><td>1943-08-13</td><td>Measles</td><td>Berhampore</td><td>H1003</td><td>82</td></tr><tr><td>146540</td><td>Chancharik</td><td>Male</td><td>1983-09-05</td><td>Scurvy</td><td>Chapra</td><td>H1012</td><td>42</td></tr><tr><td>156434</td><td>Pushti</td><td>Female</td><td>1935-10-15</td><td>Flu</td><td>Morbi</td><td>H1019</td><td>89</td></tr><tr><td>197352</td><td>Swati</td><td>Female</td><td>1987-12-11</td><td>Pet allergy</td><td>Amravati</td><td>H1019</td><td>37</td></tr><tr><td>138778</td><td>Upasana</td><td>Male</td><td>1956-06-01</td><td>Lymphedema</td><td>Hyderabad</td><td>H1005</td><td>69</td></tr><tr><td>162665</td><td>Kanhaiya</td><td>Female</td><td>1954-10-19</td><td>Alcohol consumption</td><td>Mysore</td><td>H1009</td><td>70</td></tr><tr><td>197503</td><td>Visitor/NA</td><td>Female</td><td>1968-07-02</td><td>Stroke</td><td>Gwalior</td><td>H1009</td><td>57</td></tr><tr><td>113476</td><td>Gensho</td><td>Male</td><td>1992-06-06</td><td>Galactosemia</td><td>Ludhiana</td><td>H1016</td><td>33</td></tr><tr><td>195876</td><td>Gopal</td><td>Male</td><td>1986-05-14</td><td>Vertigo</td><td>Raebareli</td><td>H1017</td><td>39</td></tr><tr><td>150189</td><td>Dheeman</td><td>Male</td><td>1945-05-04</td><td>Measles</td><td>Mysore</td><td>H1017</td><td>80</td></tr><tr><td>138861</td><td>Upasana</td><td>Female</td><td>1927-10-03</td><td>Heart Attack</td><td>Ratlam</td><td>H1004</td><td>97</td></tr><tr><td>146555</td><td>Visitor/NA</td><td>Male</td><td>1948-11-10</td><td>Phenylketonuria</td><td>Vadodara</td><td>H1007</td><td>76</td></tr><tr><td>199114</td><td>Visitor/NA</td><td>Female</td><td>1955-04-07</td><td>Phenylketonuria</td><td>Vijayawada</td><td>H1017</td><td>70</td></tr><tr><td>105758</td><td>Madhubala</td><td>Male</td><td>1937-01-11</td><td>Head banging</td><td>Jaunpur</td><td>H1003</td><td>88</td></tr><tr><td>109251</td><td>Anjushree</td><td>Male</td><td>1976-07-04</td><td>Choking</td><td>Ghaziabad</td><td>H1001</td><td>49</td></tr><tr><td>156223</td><td>Visitor/NA</td><td>Female</td><td>1930-11-25</td><td>Fanconi anaemia</td><td>Agartala</td><td>H1012</td><td>94</td></tr><tr><td>108576</td><td>Chakrika</td><td>Male</td><td>1964-08-05</td><td>Stroke</td><td>Ranchi</td><td>H1003</td><td>61</td></tr><tr><td>132947</td><td>Saroj</td><td>Female</td><td>1942-08-26</td><td>Anaemia</td><td>Muzaffarpur</td><td>H1016</td><td>83</td></tr><tr><td>148674</td><td>Ayushmati</td><td>Male</td><td>1932-09-20</td><td>Diabetes</td><td>Satna</td><td>H1016</td><td>92</td></tr><tr><td>133107</td><td>Drashti</td><td>Male</td><td>1926-07-03</td><td>Lymphedema</td><td>Saharsa</td><td>H1019</td><td>99</td></tr><tr><td>193137</td><td>Aayushmaan</td><td>Female</td><td>1983-11-14</td><td>Phenylketonuria</td><td>Mehsana</td><td>H1014</td><td>41</td></tr><tr><td>196369</td><td>Visitor/NA</td><td>Male</td><td>1931-02-04</td><td>Choking</td><td>Shivpuri</td><td>H1017</td><td>94</td></tr><tr><td>109342</td><td>Chitranjan</td><td>Female</td><td>1925-09-09</td><td>Asthma</td><td>Morbi</td><td>H1011</td><td>100</td></tr><tr><td>121783</td><td>Paridhi</td><td>Female</td><td>1959-03-27</td><td>Bladder cancer</td><td>Jabalpur</td><td>H1013</td><td>66</td></tr><tr><td>197441</td><td>Deependu</td><td>Female</td><td>1952-02-13</td><td>Lung cancer</td><td>Bareilly</td><td>H1001</td><td>73</td></tr><tr><td>194166</td><td>Visitor/NA</td><td>Male</td><td>1946-10-17</td><td>Colorectal cancer</td><td>Baranagar</td><td>H1015</td><td>78</td></tr><tr><td>110690</td><td>Laksman</td><td>Female</td><td>1939-05-26</td><td>Food Poisoning</td><td>Ahmednagar</td><td>H1001</td><td>86</td></tr><tr><td>180709</td><td>Visitor/NA</td><td>Male</td><td>1988-06-27</td><td>Anthrax</td><td>Pali</td><td>H1017</td><td>37</td></tr><tr><td>119268</td><td>Shivakari</td><td>Female</td><td>1944-11-02</td><td>Mold allergy</td><td>Hapur</td><td>H1008</td><td>80</td></tr><tr><td>163148</td><td>Madhu</td><td>Male</td><td>1984-10-23</td><td>Beriberi</td><td>Udaipur</td><td>H1008</td><td>40</td></tr><tr><td>118913</td><td>Chanak</td><td>Male</td><td>1954-08-27</td><td>Malaria</td><td>Jalandhar</td><td>H1004</td><td>71</td></tr><tr><td>167423</td><td>Chittesh</td><td>Male</td><td>1949-10-17</td><td>Asthma</td><td>Thoothukudi</td><td>H1019</td><td>75</td></tr><tr><td>141703</td><td>Nawal</td><td>Male</td><td>1940-01-22</td><td>Fractures</td><td>Bhopal</td><td>H1006</td><td>85</td></tr><tr><td>173518</td><td>Gajabahu</td><td>Male</td><td>1959-03-15</td><td>Malaria</td><td>Udupi</td><td>H1015</td><td>66</td></tr><tr><td>140394</td><td>Jitesh</td><td>Male</td><td>1983-02-03</td><td>Anthrax</td><td>Karimnagar</td><td>H1010</td><td>42</td></tr><tr><td>164524</td><td>Visitor/NA</td><td>Female</td><td>1966-09-25</td><td>Mold allergy</td><td>Kharagpur</td><td>H1015</td><td>58</td></tr><tr><td>198182</td><td>Lalit</td><td>Female</td><td>1924-02-15</td><td>Head banging</td><td>Tinsukia</td><td>H1017</td><td>101</td></tr><tr><td>115143</td><td>Anshuk</td><td>Male</td><td>1991-06-17</td><td>Drug consumption</td><td>Uluberia</td><td>H1001</td><td>34</td></tr><tr><td>156364</td><td>Visitor/NA</td><td>Male</td><td>1994-01-13</td><td>Cholera</td><td>Panihati</td><td>H1019</td><td>31</td></tr><tr><td>191132</td><td>Dipesh</td><td>Female</td><td>1949-04-01</td><td>Glaucoma</td><td>Kochi</td><td>H1016</td><td>76</td></tr><tr><td>105686</td><td>Visitor/NA</td><td>Male</td><td>1930-09-01</td><td>Hepatitis</td><td>Kolhapur</td><td>H1008</td><td>95</td></tr><tr><td>160140</td><td>Kishan</td><td>Male</td><td>1923-05-12</td><td>Rett Syndrome</td><td>Srikakulam</td><td>H1002</td><td>102</td></tr><tr><td>114252</td><td>Visitor/NA</td><td>Female</td><td>1927-02-26</td><td>Diabetes</td><td>Ambarnath</td><td>H1014</td><td>98</td></tr><tr><td>188365</td><td>Bhageeratha</td><td>Male</td><td>1973-03-21</td><td>Pet allergy</td><td>Sonipat</td><td>H1017</td><td>52</td></tr></tbody></table></div>"
      ]
     },
     "metadata": {
      "application/vnd.databricks.v1+output": {
       "addedWidgets": {},
       "aggData": [],
       "aggError": "",
       "aggOverflow": false,
       "aggSchema": [],
       "aggSeriesLimitReached": false,
       "aggType": "",
       "arguments": {},
       "columnCustomDisplayInfos": {},
       "data": [
        [
         187158,
         "Harbir",
         "Female",
         "1924-06-30",
         "Galactosemia",
         "Rourkela",
         "H1001",
         101
        ],
        [
         112766,
         "Brahmdev",
         "Female",
         "1948-12-20",
         "Bladder cancer",
         "Tiruvottiyur",
         "H1016",
         76
        ],
        [
         199252,
         "Ujjawal",
         "Male",
         "1980-04-16",
         "Kidney cancer",
         "Berhampur",
         "H1009",
         45
        ],
        [
         133424,
         "Ballari",
         "Female",
         "1969-09-25",
         "Suicide",
         "Bihar Sharif",
         "H1017",
         55
        ],
        [
         172579,
         "Devnath",
         "Female",
         "1946-05-01",
         "Food allergy",
         "Bidhannagar",
         "H1019",
         79
        ],
        [
         171320,
         "Atasi",
         "Male",
         "1967-10-02",
         "Whiplash",
         "Amravati",
         "H1013",
         57
        ],
        [
         107794,
         "Manish",
         "Male",
         "1967-06-06",
         "Sunbathing",
         "Panvel",
         "H1004",
         58
        ],
        [
         130339,
         "Aakar",
         "Female",
         "1925-03-05",
         "Drug consumption",
         "Bihar Sharif",
         "H1000",
         100
        ],
        [
         110377,
         "Gurudas",
         "Male",
         "1945-05-06",
         "Dengue",
         "Kamarhati",
         "H1001",
         80
        ],
        [
         149367,
         "Visitor/NA",
         "Male",
         "1925-06-12",
         "Head banging",
         "Bangalore",
         "H1013",
         100
        ],
        [
         156168,
         "Visitor/NA",
         "Male",
         "1976-02-03",
         "Fanconi anaemia",
         "Rajkot",
         "H1004",
         49
        ],
        [
         114241,
         "Visitor/NA",
         "Female",
         "1955-01-22",
         "Breast cancer",
         "Ghaziabad",
         "H1015",
         70
        ],
        [
         146382,
         "Dharmadaas",
         "Male",
         "1964-04-29",
         "Anthrax",
         "Bhalswa Jahangir Pur",
         "H1019",
         61
        ],
        [
         132748,
         "Brahmvir",
         "Male",
         "1991-11-11",
         "Cystic fibrosis",
         "Ambala",
         "H1018",
         33
        ],
        [
         167340,
         "Visitor/NA",
         "Female",
         "1981-01-25",
         "Galactosemia",
         "Surendranagar Dudhrej",
         "H1003",
         44
        ],
        [
         135184,
         "Bhagvan",
         "Female",
         "1966-07-24",
         "Dengue",
         "Bhimavaram",
         "H1018",
         59
        ],
        [
         179662,
         "Amritkala",
         "Female",
         "1933-11-20",
         "Smallpox",
         "Meerut",
         "H1018",
         91
        ],
        [
         184479,
         "Bandhu",
         "Male",
         "1996-10-15",
         "Pollen allergy",
         "Chinsurah",
         "H1010",
         28
        ],
        [
         156988,
         "Bhagavaana",
         "Female",
         "1935-09-16",
         "Breast cancer",
         "Shahjahanpur",
         "H1012",
         90
        ],
        [
         132870,
         "Visitor/NA",
         "Female",
         "1924-11-09",
         "Glaucoma",
         "Jabalpur",
         "H1017",
         100
        ],
        [
         148137,
         "Umang",
         "Female",
         "1963-07-14",
         "Pet allergy",
         "Haridwar",
         "H1002",
         62
        ],
        [
         113280,
         "Darsana",
         "Male",
         "1932-05-29",
         "Rett Syndrome",
         "Dibrugarh",
         "H1019",
         93
        ],
        [
         134184,
         "Prakash",
         "Female",
         "1923-09-15",
         "Flu",
         "Kottayam",
         "H1001",
         102
        ],
        [
         122592,
         "Vaijayanti",
         "Male",
         "1920-11-13",
         "Cholera",
         "Mira-Bhayandar",
         "H1009",
         104
        ],
        [
         154439,
         "Menakshi",
         "Male",
         "1987-03-06",
         "Scurvy",
         "Kamarhati",
         "H1016",
         38
        ],
        [
         117945,
         "Visitor/NA",
         "Male",
         "1955-12-24",
         "Glaucoma",
         "Karimnagar",
         "H1009",
         69
        ],
        [
         189996,
         "Ekant",
         "Male",
         "1943-08-13",
         "Measles",
         "Berhampore",
         "H1003",
         82
        ],
        [
         146540,
         "Chancharik",
         "Male",
         "1983-09-05",
         "Scurvy",
         "Chapra",
         "H1012",
         42
        ],
        [
         156434,
         "Pushti",
         "Female",
         "1935-10-15",
         "Flu",
         "Morbi",
         "H1019",
         89
        ],
        [
         197352,
         "Swati",
         "Female",
         "1987-12-11",
         "Pet allergy",
         "Amravati",
         "H1019",
         37
        ],
        [
         138778,
         "Upasana",
         "Male",
         "1956-06-01",
         "Lymphedema",
         "Hyderabad",
         "H1005",
         69
        ],
        [
         162665,
         "Kanhaiya",
         "Female",
         "1954-10-19",
         "Alcohol consumption",
         "Mysore",
         "H1009",
         70
        ],
        [
         197503,
         "Visitor/NA",
         "Female",
         "1968-07-02",
         "Stroke",
         "Gwalior",
         "H1009",
         57
        ],
        [
         113476,
         "Gensho",
         "Male",
         "1992-06-06",
         "Galactosemia",
         "Ludhiana",
         "H1016",
         33
        ],
        [
         195876,
         "Gopal",
         "Male",
         "1986-05-14",
         "Vertigo",
         "Raebareli",
         "H1017",
         39
        ],
        [
         150189,
         "Dheeman",
         "Male",
         "1945-05-04",
         "Measles",
         "Mysore",
         "H1017",
         80
        ],
        [
         138861,
         "Upasana",
         "Female",
         "1927-10-03",
         "Heart Attack",
         "Ratlam",
         "H1004",
         97
        ],
        [
         146555,
         "Visitor/NA",
         "Male",
         "1948-11-10",
         "Phenylketonuria",
         "Vadodara",
         "H1007",
         76
        ],
        [
         199114,
         "Visitor/NA",
         "Female",
         "1955-04-07",
         "Phenylketonuria",
         "Vijayawada",
         "H1017",
         70
        ],
        [
         105758,
         "Madhubala",
         "Male",
         "1937-01-11",
         "Head banging",
         "Jaunpur",
         "H1003",
         88
        ],
        [
         109251,
         "Anjushree",
         "Male",
         "1976-07-04",
         "Choking",
         "Ghaziabad",
         "H1001",
         49
        ],
        [
         156223,
         "Visitor/NA",
         "Female",
         "1930-11-25",
         "Fanconi anaemia",
         "Agartala",
         "H1012",
         94
        ],
        [
         108576,
         "Chakrika",
         "Male",
         "1964-08-05",
         "Stroke",
         "Ranchi",
         "H1003",
         61
        ],
        [
         132947,
         "Saroj",
         "Female",
         "1942-08-26",
         "Anaemia",
         "Muzaffarpur",
         "H1016",
         83
        ],
        [
         148674,
         "Ayushmati",
         "Male",
         "1932-09-20",
         "Diabetes",
         "Satna",
         "H1016",
         92
        ],
        [
         133107,
         "Drashti",
         "Male",
         "1926-07-03",
         "Lymphedema",
         "Saharsa",
         "H1019",
         99
        ],
        [
         193137,
         "Aayushmaan",
         "Female",
         "1983-11-14",
         "Phenylketonuria",
         "Mehsana",
         "H1014",
         41
        ],
        [
         196369,
         "Visitor/NA",
         "Male",
         "1931-02-04",
         "Choking",
         "Shivpuri",
         "H1017",
         94
        ],
        [
         109342,
         "Chitranjan",
         "Female",
         "1925-09-09",
         "Asthma",
         "Morbi",
         "H1011",
         100
        ],
        [
         121783,
         "Paridhi",
         "Female",
         "1959-03-27",
         "Bladder cancer",
         "Jabalpur",
         "H1013",
         66
        ],
        [
         197441,
         "Deependu",
         "Female",
         "1952-02-13",
         "Lung cancer",
         "Bareilly",
         "H1001",
         73
        ],
        [
         194166,
         "Visitor/NA",
         "Male",
         "1946-10-17",
         "Colorectal cancer",
         "Baranagar",
         "H1015",
         78
        ],
        [
         110690,
         "Laksman",
         "Female",
         "1939-05-26",
         "Food Poisoning",
         "Ahmednagar",
         "H1001",
         86
        ],
        [
         180709,
         "Visitor/NA",
         "Male",
         "1988-06-27",
         "Anthrax",
         "Pali",
         "H1017",
         37
        ],
        [
         119268,
         "Shivakari",
         "Female",
         "1944-11-02",
         "Mold allergy",
         "Hapur",
         "H1008",
         80
        ],
        [
         163148,
         "Madhu",
         "Male",
         "1984-10-23",
         "Beriberi",
         "Udaipur",
         "H1008",
         40
        ],
        [
         118913,
         "Chanak",
         "Male",
         "1954-08-27",
         "Malaria",
         "Jalandhar",
         "H1004",
         71
        ],
        [
         167423,
         "Chittesh",
         "Male",
         "1949-10-17",
         "Asthma",
         "Thoothukudi",
         "H1019",
         75
        ],
        [
         141703,
         "Nawal",
         "Male",
         "1940-01-22",
         "Fractures",
         "Bhopal",
         "H1006",
         85
        ],
        [
         173518,
         "Gajabahu",
         "Male",
         "1959-03-15",
         "Malaria",
         "Udupi",
         "H1015",
         66
        ],
        [
         140394,
         "Jitesh",
         "Male",
         "1983-02-03",
         "Anthrax",
         "Karimnagar",
         "H1010",
         42
        ],
        [
         164524,
         "Visitor/NA",
         "Female",
         "1966-09-25",
         "Mold allergy",
         "Kharagpur",
         "H1015",
         58
        ],
        [
         198182,
         "Lalit",
         "Female",
         "1924-02-15",
         "Head banging",
         "Tinsukia",
         "H1017",
         101
        ],
        [
         115143,
         "Anshuk",
         "Male",
         "1991-06-17",
         "Drug consumption",
         "Uluberia",
         "H1001",
         34
        ],
        [
         156364,
         "Visitor/NA",
         "Male",
         "1994-01-13",
         "Cholera",
         "Panihati",
         "H1019",
         31
        ],
        [
         191132,
         "Dipesh",
         "Female",
         "1949-04-01",
         "Glaucoma",
         "Kochi",
         "H1016",
         76
        ],
        [
         105686,
         "Visitor/NA",
         "Male",
         "1930-09-01",
         "Hepatitis",
         "Kolhapur",
         "H1008",
         95
        ],
        [
         160140,
         "Kishan",
         "Male",
         "1923-05-12",
         "Rett Syndrome",
         "Srikakulam",
         "H1002",
         102
        ],
        [
         114252,
         "Visitor/NA",
         "Female",
         "1927-02-26",
         "Diabetes",
         "Ambarnath",
         "H1014",
         98
        ],
        [
         188365,
         "Bhageeratha",
         "Male",
         "1973-03-21",
         "Pet allergy",
         "Sonipat",
         "H1017",
         52
        ]
       ],
       "datasetInfos": [],
       "dbfsResultPath": null,
       "isJsonSchema": true,
       "metadata": {},
       "overflow": false,
       "plotOptions": {
        "customPlotOptions": {},
        "displayType": "table",
        "pivotAggregation": null,
        "pivotColumns": null,
        "xColumns": null,
        "yColumns": null
       },
       "removedWidgets": [],
       "schema": [
        {
         "metadata": "{}",
         "name": "Patient_id",
         "type": "\"integer\""
        },
        {
         "metadata": "{}",
         "name": "Patient_name",
         "type": "\"string\""
        },
        {
         "metadata": "{}",
         "name": "patient_gender",
         "type": "\"string\""
        },
        {
         "metadata": "{\"__detected_date_formats\":\"yyyy-M-d\"}",
         "name": "patient_birth_date",
         "type": "\"date\""
        },
        {
         "metadata": "{}",
         "name": "disease_name",
         "type": "\"string\""
        },
        {
         "metadata": "{}",
         "name": "city",
         "type": "\"string\""
        },
        {
         "metadata": "{}",
         "name": "hospital_id",
         "type": "\"string\""
        },
        {
         "metadata": "{}",
         "name": "patient_age",
         "type": "\"integer\""
        }
       ],
       "type": "table"
      }
     },
     "output_type": "display_data"
    }
   ],
   "source": [
    "pr_df.display()"
   ]
  },
  {
   "cell_type": "code",
   "execution_count": 0,
   "metadata": {
    "application/vnd.databricks.v1+cell": {
     "cellMetadata": {
      "byteLimit": 2048000,
      "rowLimit": 10000
     },
     "inputWidgets": {},
     "nuid": "e3142bc8-f86f-440f-b3e0-0dadb38fc3dc",
     "showTitle": false,
     "tableResultSettingsMap": {},
     "title": ""
    }
   },
   "outputs": [],
   "source": [
    "pr_df = pr_df.drop(\"patient_birth_date\")"
   ]
  },
  {
   "cell_type": "code",
   "execution_count": 0,
   "metadata": {
    "application/vnd.databricks.v1+cell": {
     "cellMetadata": {
      "byteLimit": 2048000,
      "rowLimit": 10000
     },
     "inputWidgets": {},
     "nuid": "a9c5a314-e7b7-488e-bb8c-1ddb9819f768",
     "showTitle": false,
     "tableResultSettingsMap": {},
     "title": ""
    }
   },
   "outputs": [
    {
     "output_type": "display_data",
     "data": {
      "text/html": [
       "<style scoped>\n",
       "  .table-result-container {\n",
       "    max-height: 300px;\n",
       "    overflow: auto;\n",
       "  }\n",
       "  table, th, td {\n",
       "    border: 1px solid black;\n",
       "    border-collapse: collapse;\n",
       "  }\n",
       "  th, td {\n",
       "    padding: 5px;\n",
       "  }\n",
       "  th {\n",
       "    text-align: left;\n",
       "  }\n",
       "</style><div class='table-result-container'><table class='table-result'><thead style='background-color: white'><tr><th>Patient_id</th><th>Patient_name</th><th>patient_gender</th><th>disease_name</th><th>city</th><th>hospital_id</th><th>patient_age</th></tr></thead><tbody><tr><td>187158</td><td>Harbir</td><td>Female</td><td>Galactosemia</td><td>Rourkela</td><td>H1001</td><td>101</td></tr><tr><td>112766</td><td>Brahmdev</td><td>Female</td><td>Bladder cancer</td><td>Tiruvottiyur</td><td>H1016</td><td>76</td></tr><tr><td>199252</td><td>Ujjawal</td><td>Male</td><td>Kidney cancer</td><td>Berhampur</td><td>H1009</td><td>45</td></tr><tr><td>133424</td><td>Ballari</td><td>Female</td><td>Suicide</td><td>Bihar Sharif</td><td>H1017</td><td>55</td></tr><tr><td>172579</td><td>Devnath</td><td>Female</td><td>Food allergy</td><td>Bidhannagar</td><td>H1019</td><td>79</td></tr><tr><td>171320</td><td>Atasi</td><td>Male</td><td>Whiplash</td><td>Amravati</td><td>H1013</td><td>57</td></tr><tr><td>107794</td><td>Manish</td><td>Male</td><td>Sunbathing</td><td>Panvel</td><td>H1004</td><td>58</td></tr><tr><td>130339</td><td>Aakar</td><td>Female</td><td>Drug consumption</td><td>Bihar Sharif</td><td>H1000</td><td>100</td></tr><tr><td>110377</td><td>Gurudas</td><td>Male</td><td>Dengue</td><td>Kamarhati</td><td>H1001</td><td>80</td></tr><tr><td>149367</td><td>Visitor/NA</td><td>Male</td><td>Head banging</td><td>Bangalore</td><td>H1013</td><td>100</td></tr><tr><td>156168</td><td>Visitor/NA</td><td>Male</td><td>Fanconi anaemia</td><td>Rajkot</td><td>H1004</td><td>49</td></tr><tr><td>114241</td><td>Visitor/NA</td><td>Female</td><td>Breast cancer</td><td>Ghaziabad</td><td>H1015</td><td>70</td></tr><tr><td>146382</td><td>Dharmadaas</td><td>Male</td><td>Anthrax</td><td>Bhalswa Jahangir Pur</td><td>H1019</td><td>61</td></tr><tr><td>132748</td><td>Brahmvir</td><td>Male</td><td>Cystic fibrosis</td><td>Ambala</td><td>H1018</td><td>33</td></tr><tr><td>167340</td><td>Visitor/NA</td><td>Female</td><td>Galactosemia</td><td>Surendranagar Dudhrej</td><td>H1003</td><td>44</td></tr><tr><td>135184</td><td>Bhagvan</td><td>Female</td><td>Dengue</td><td>Bhimavaram</td><td>H1018</td><td>59</td></tr><tr><td>179662</td><td>Amritkala</td><td>Female</td><td>Smallpox</td><td>Meerut</td><td>H1018</td><td>91</td></tr><tr><td>184479</td><td>Bandhu</td><td>Male</td><td>Pollen allergy</td><td>Chinsurah</td><td>H1010</td><td>28</td></tr><tr><td>156988</td><td>Bhagavaana</td><td>Female</td><td>Breast cancer</td><td>Shahjahanpur</td><td>H1012</td><td>90</td></tr><tr><td>132870</td><td>Visitor/NA</td><td>Female</td><td>Glaucoma</td><td>Jabalpur</td><td>H1017</td><td>100</td></tr><tr><td>148137</td><td>Umang</td><td>Female</td><td>Pet allergy</td><td>Haridwar</td><td>H1002</td><td>62</td></tr><tr><td>113280</td><td>Darsana</td><td>Male</td><td>Rett Syndrome</td><td>Dibrugarh</td><td>H1019</td><td>93</td></tr><tr><td>134184</td><td>Prakash</td><td>Female</td><td>Flu</td><td>Kottayam</td><td>H1001</td><td>102</td></tr><tr><td>122592</td><td>Vaijayanti</td><td>Male</td><td>Cholera</td><td>Mira-Bhayandar</td><td>H1009</td><td>104</td></tr><tr><td>154439</td><td>Menakshi</td><td>Male</td><td>Scurvy</td><td>Kamarhati</td><td>H1016</td><td>38</td></tr><tr><td>117945</td><td>Visitor/NA</td><td>Male</td><td>Glaucoma</td><td>Karimnagar</td><td>H1009</td><td>69</td></tr><tr><td>189996</td><td>Ekant</td><td>Male</td><td>Measles</td><td>Berhampore</td><td>H1003</td><td>82</td></tr><tr><td>146540</td><td>Chancharik</td><td>Male</td><td>Scurvy</td><td>Chapra</td><td>H1012</td><td>42</td></tr><tr><td>156434</td><td>Pushti</td><td>Female</td><td>Flu</td><td>Morbi</td><td>H1019</td><td>89</td></tr><tr><td>197352</td><td>Swati</td><td>Female</td><td>Pet allergy</td><td>Amravati</td><td>H1019</td><td>37</td></tr><tr><td>138778</td><td>Upasana</td><td>Male</td><td>Lymphedema</td><td>Hyderabad</td><td>H1005</td><td>69</td></tr><tr><td>162665</td><td>Kanhaiya</td><td>Female</td><td>Alcohol consumption</td><td>Mysore</td><td>H1009</td><td>70</td></tr><tr><td>197503</td><td>Visitor/NA</td><td>Female</td><td>Stroke</td><td>Gwalior</td><td>H1009</td><td>57</td></tr><tr><td>113476</td><td>Gensho</td><td>Male</td><td>Galactosemia</td><td>Ludhiana</td><td>H1016</td><td>33</td></tr><tr><td>195876</td><td>Gopal</td><td>Male</td><td>Vertigo</td><td>Raebareli</td><td>H1017</td><td>39</td></tr><tr><td>150189</td><td>Dheeman</td><td>Male</td><td>Measles</td><td>Mysore</td><td>H1017</td><td>80</td></tr><tr><td>138861</td><td>Upasana</td><td>Female</td><td>Heart Attack</td><td>Ratlam</td><td>H1004</td><td>97</td></tr><tr><td>146555</td><td>Visitor/NA</td><td>Male</td><td>Phenylketonuria</td><td>Vadodara</td><td>H1007</td><td>76</td></tr><tr><td>199114</td><td>Visitor/NA</td><td>Female</td><td>Phenylketonuria</td><td>Vijayawada</td><td>H1017</td><td>70</td></tr><tr><td>105758</td><td>Madhubala</td><td>Male</td><td>Head banging</td><td>Jaunpur</td><td>H1003</td><td>88</td></tr><tr><td>109251</td><td>Anjushree</td><td>Male</td><td>Choking</td><td>Ghaziabad</td><td>H1001</td><td>49</td></tr><tr><td>156223</td><td>Visitor/NA</td><td>Female</td><td>Fanconi anaemia</td><td>Agartala</td><td>H1012</td><td>94</td></tr><tr><td>108576</td><td>Chakrika</td><td>Male</td><td>Stroke</td><td>Ranchi</td><td>H1003</td><td>61</td></tr><tr><td>132947</td><td>Saroj</td><td>Female</td><td>Anaemia</td><td>Muzaffarpur</td><td>H1016</td><td>83</td></tr><tr><td>148674</td><td>Ayushmati</td><td>Male</td><td>Diabetes</td><td>Satna</td><td>H1016</td><td>92</td></tr><tr><td>133107</td><td>Drashti</td><td>Male</td><td>Lymphedema</td><td>Saharsa</td><td>H1019</td><td>99</td></tr><tr><td>193137</td><td>Aayushmaan</td><td>Female</td><td>Phenylketonuria</td><td>Mehsana</td><td>H1014</td><td>41</td></tr><tr><td>196369</td><td>Visitor/NA</td><td>Male</td><td>Choking</td><td>Shivpuri</td><td>H1017</td><td>94</td></tr><tr><td>109342</td><td>Chitranjan</td><td>Female</td><td>Asthma</td><td>Morbi</td><td>H1011</td><td>100</td></tr><tr><td>121783</td><td>Paridhi</td><td>Female</td><td>Bladder cancer</td><td>Jabalpur</td><td>H1013</td><td>66</td></tr><tr><td>197441</td><td>Deependu</td><td>Female</td><td>Lung cancer</td><td>Bareilly</td><td>H1001</td><td>73</td></tr><tr><td>194166</td><td>Visitor/NA</td><td>Male</td><td>Colorectal cancer</td><td>Baranagar</td><td>H1015</td><td>78</td></tr><tr><td>110690</td><td>Laksman</td><td>Female</td><td>Food Poisoning</td><td>Ahmednagar</td><td>H1001</td><td>86</td></tr><tr><td>180709</td><td>Visitor/NA</td><td>Male</td><td>Anthrax</td><td>Pali</td><td>H1017</td><td>37</td></tr><tr><td>119268</td><td>Shivakari</td><td>Female</td><td>Mold allergy</td><td>Hapur</td><td>H1008</td><td>80</td></tr><tr><td>163148</td><td>Madhu</td><td>Male</td><td>Beriberi</td><td>Udaipur</td><td>H1008</td><td>40</td></tr><tr><td>118913</td><td>Chanak</td><td>Male</td><td>Malaria</td><td>Jalandhar</td><td>H1004</td><td>71</td></tr><tr><td>167423</td><td>Chittesh</td><td>Male</td><td>Asthma</td><td>Thoothukudi</td><td>H1019</td><td>75</td></tr><tr><td>141703</td><td>Nawal</td><td>Male</td><td>Fractures</td><td>Bhopal</td><td>H1006</td><td>85</td></tr><tr><td>173518</td><td>Gajabahu</td><td>Male</td><td>Malaria</td><td>Udupi</td><td>H1015</td><td>66</td></tr><tr><td>140394</td><td>Jitesh</td><td>Male</td><td>Anthrax</td><td>Karimnagar</td><td>H1010</td><td>42</td></tr><tr><td>164524</td><td>Visitor/NA</td><td>Female</td><td>Mold allergy</td><td>Kharagpur</td><td>H1015</td><td>58</td></tr><tr><td>198182</td><td>Lalit</td><td>Female</td><td>Head banging</td><td>Tinsukia</td><td>H1017</td><td>101</td></tr><tr><td>115143</td><td>Anshuk</td><td>Male</td><td>Drug consumption</td><td>Uluberia</td><td>H1001</td><td>34</td></tr><tr><td>156364</td><td>Visitor/NA</td><td>Male</td><td>Cholera</td><td>Panihati</td><td>H1019</td><td>31</td></tr><tr><td>191132</td><td>Dipesh</td><td>Female</td><td>Glaucoma</td><td>Kochi</td><td>H1016</td><td>76</td></tr><tr><td>105686</td><td>Visitor/NA</td><td>Male</td><td>Hepatitis</td><td>Kolhapur</td><td>H1008</td><td>95</td></tr><tr><td>160140</td><td>Kishan</td><td>Male</td><td>Rett Syndrome</td><td>Srikakulam</td><td>H1002</td><td>102</td></tr><tr><td>114252</td><td>Visitor/NA</td><td>Female</td><td>Diabetes</td><td>Ambarnath</td><td>H1014</td><td>98</td></tr><tr><td>188365</td><td>Bhageeratha</td><td>Male</td><td>Pet allergy</td><td>Sonipat</td><td>H1017</td><td>52</td></tr></tbody></table></div>"
      ]
     },
     "metadata": {
      "application/vnd.databricks.v1+output": {
       "addedWidgets": {},
       "aggData": [],
       "aggError": "",
       "aggOverflow": false,
       "aggSchema": [],
       "aggSeriesLimitReached": false,
       "aggType": "",
       "arguments": {},
       "columnCustomDisplayInfos": {},
       "data": [
        [
         187158,
         "Harbir",
         "Female",
         "Galactosemia",
         "Rourkela",
         "H1001",
         101
        ],
        [
         112766,
         "Brahmdev",
         "Female",
         "Bladder cancer",
         "Tiruvottiyur",
         "H1016",
         76
        ],
        [
         199252,
         "Ujjawal",
         "Male",
         "Kidney cancer",
         "Berhampur",
         "H1009",
         45
        ],
        [
         133424,
         "Ballari",
         "Female",
         "Suicide",
         "Bihar Sharif",
         "H1017",
         55
        ],
        [
         172579,
         "Devnath",
         "Female",
         "Food allergy",
         "Bidhannagar",
         "H1019",
         79
        ],
        [
         171320,
         "Atasi",
         "Male",
         "Whiplash",
         "Amravati",
         "H1013",
         57
        ],
        [
         107794,
         "Manish",
         "Male",
         "Sunbathing",
         "Panvel",
         "H1004",
         58
        ],
        [
         130339,
         "Aakar",
         "Female",
         "Drug consumption",
         "Bihar Sharif",
         "H1000",
         100
        ],
        [
         110377,
         "Gurudas",
         "Male",
         "Dengue",
         "Kamarhati",
         "H1001",
         80
        ],
        [
         149367,
         "Visitor/NA",
         "Male",
         "Head banging",
         "Bangalore",
         "H1013",
         100
        ],
        [
         156168,
         "Visitor/NA",
         "Male",
         "Fanconi anaemia",
         "Rajkot",
         "H1004",
         49
        ],
        [
         114241,
         "Visitor/NA",
         "Female",
         "Breast cancer",
         "Ghaziabad",
         "H1015",
         70
        ],
        [
         146382,
         "Dharmadaas",
         "Male",
         "Anthrax",
         "Bhalswa Jahangir Pur",
         "H1019",
         61
        ],
        [
         132748,
         "Brahmvir",
         "Male",
         "Cystic fibrosis",
         "Ambala",
         "H1018",
         33
        ],
        [
         167340,
         "Visitor/NA",
         "Female",
         "Galactosemia",
         "Surendranagar Dudhrej",
         "H1003",
         44
        ],
        [
         135184,
         "Bhagvan",
         "Female",
         "Dengue",
         "Bhimavaram",
         "H1018",
         59
        ],
        [
         179662,
         "Amritkala",
         "Female",
         "Smallpox",
         "Meerut",
         "H1018",
         91
        ],
        [
         184479,
         "Bandhu",
         "Male",
         "Pollen allergy",
         "Chinsurah",
         "H1010",
         28
        ],
        [
         156988,
         "Bhagavaana",
         "Female",
         "Breast cancer",
         "Shahjahanpur",
         "H1012",
         90
        ],
        [
         132870,
         "Visitor/NA",
         "Female",
         "Glaucoma",
         "Jabalpur",
         "H1017",
         100
        ],
        [
         148137,
         "Umang",
         "Female",
         "Pet allergy",
         "Haridwar",
         "H1002",
         62
        ],
        [
         113280,
         "Darsana",
         "Male",
         "Rett Syndrome",
         "Dibrugarh",
         "H1019",
         93
        ],
        [
         134184,
         "Prakash",
         "Female",
         "Flu",
         "Kottayam",
         "H1001",
         102
        ],
        [
         122592,
         "Vaijayanti",
         "Male",
         "Cholera",
         "Mira-Bhayandar",
         "H1009",
         104
        ],
        [
         154439,
         "Menakshi",
         "Male",
         "Scurvy",
         "Kamarhati",
         "H1016",
         38
        ],
        [
         117945,
         "Visitor/NA",
         "Male",
         "Glaucoma",
         "Karimnagar",
         "H1009",
         69
        ],
        [
         189996,
         "Ekant",
         "Male",
         "Measles",
         "Berhampore",
         "H1003",
         82
        ],
        [
         146540,
         "Chancharik",
         "Male",
         "Scurvy",
         "Chapra",
         "H1012",
         42
        ],
        [
         156434,
         "Pushti",
         "Female",
         "Flu",
         "Morbi",
         "H1019",
         89
        ],
        [
         197352,
         "Swati",
         "Female",
         "Pet allergy",
         "Amravati",
         "H1019",
         37
        ],
        [
         138778,
         "Upasana",
         "Male",
         "Lymphedema",
         "Hyderabad",
         "H1005",
         69
        ],
        [
         162665,
         "Kanhaiya",
         "Female",
         "Alcohol consumption",
         "Mysore",
         "H1009",
         70
        ],
        [
         197503,
         "Visitor/NA",
         "Female",
         "Stroke",
         "Gwalior",
         "H1009",
         57
        ],
        [
         113476,
         "Gensho",
         "Male",
         "Galactosemia",
         "Ludhiana",
         "H1016",
         33
        ],
        [
         195876,
         "Gopal",
         "Male",
         "Vertigo",
         "Raebareli",
         "H1017",
         39
        ],
        [
         150189,
         "Dheeman",
         "Male",
         "Measles",
         "Mysore",
         "H1017",
         80
        ],
        [
         138861,
         "Upasana",
         "Female",
         "Heart Attack",
         "Ratlam",
         "H1004",
         97
        ],
        [
         146555,
         "Visitor/NA",
         "Male",
         "Phenylketonuria",
         "Vadodara",
         "H1007",
         76
        ],
        [
         199114,
         "Visitor/NA",
         "Female",
         "Phenylketonuria",
         "Vijayawada",
         "H1017",
         70
        ],
        [
         105758,
         "Madhubala",
         "Male",
         "Head banging",
         "Jaunpur",
         "H1003",
         88
        ],
        [
         109251,
         "Anjushree",
         "Male",
         "Choking",
         "Ghaziabad",
         "H1001",
         49
        ],
        [
         156223,
         "Visitor/NA",
         "Female",
         "Fanconi anaemia",
         "Agartala",
         "H1012",
         94
        ],
        [
         108576,
         "Chakrika",
         "Male",
         "Stroke",
         "Ranchi",
         "H1003",
         61
        ],
        [
         132947,
         "Saroj",
         "Female",
         "Anaemia",
         "Muzaffarpur",
         "H1016",
         83
        ],
        [
         148674,
         "Ayushmati",
         "Male",
         "Diabetes",
         "Satna",
         "H1016",
         92
        ],
        [
         133107,
         "Drashti",
         "Male",
         "Lymphedema",
         "Saharsa",
         "H1019",
         99
        ],
        [
         193137,
         "Aayushmaan",
         "Female",
         "Phenylketonuria",
         "Mehsana",
         "H1014",
         41
        ],
        [
         196369,
         "Visitor/NA",
         "Male",
         "Choking",
         "Shivpuri",
         "H1017",
         94
        ],
        [
         109342,
         "Chitranjan",
         "Female",
         "Asthma",
         "Morbi",
         "H1011",
         100
        ],
        [
         121783,
         "Paridhi",
         "Female",
         "Bladder cancer",
         "Jabalpur",
         "H1013",
         66
        ],
        [
         197441,
         "Deependu",
         "Female",
         "Lung cancer",
         "Bareilly",
         "H1001",
         73
        ],
        [
         194166,
         "Visitor/NA",
         "Male",
         "Colorectal cancer",
         "Baranagar",
         "H1015",
         78
        ],
        [
         110690,
         "Laksman",
         "Female",
         "Food Poisoning",
         "Ahmednagar",
         "H1001",
         86
        ],
        [
         180709,
         "Visitor/NA",
         "Male",
         "Anthrax",
         "Pali",
         "H1017",
         37
        ],
        [
         119268,
         "Shivakari",
         "Female",
         "Mold allergy",
         "Hapur",
         "H1008",
         80
        ],
        [
         163148,
         "Madhu",
         "Male",
         "Beriberi",
         "Udaipur",
         "H1008",
         40
        ],
        [
         118913,
         "Chanak",
         "Male",
         "Malaria",
         "Jalandhar",
         "H1004",
         71
        ],
        [
         167423,
         "Chittesh",
         "Male",
         "Asthma",
         "Thoothukudi",
         "H1019",
         75
        ],
        [
         141703,
         "Nawal",
         "Male",
         "Fractures",
         "Bhopal",
         "H1006",
         85
        ],
        [
         173518,
         "Gajabahu",
         "Male",
         "Malaria",
         "Udupi",
         "H1015",
         66
        ],
        [
         140394,
         "Jitesh",
         "Male",
         "Anthrax",
         "Karimnagar",
         "H1010",
         42
        ],
        [
         164524,
         "Visitor/NA",
         "Female",
         "Mold allergy",
         "Kharagpur",
         "H1015",
         58
        ],
        [
         198182,
         "Lalit",
         "Female",
         "Head banging",
         "Tinsukia",
         "H1017",
         101
        ],
        [
         115143,
         "Anshuk",
         "Male",
         "Drug consumption",
         "Uluberia",
         "H1001",
         34
        ],
        [
         156364,
         "Visitor/NA",
         "Male",
         "Cholera",
         "Panihati",
         "H1019",
         31
        ],
        [
         191132,
         "Dipesh",
         "Female",
         "Glaucoma",
         "Kochi",
         "H1016",
         76
        ],
        [
         105686,
         "Visitor/NA",
         "Male",
         "Hepatitis",
         "Kolhapur",
         "H1008",
         95
        ],
        [
         160140,
         "Kishan",
         "Male",
         "Rett Syndrome",
         "Srikakulam",
         "H1002",
         102
        ],
        [
         114252,
         "Visitor/NA",
         "Female",
         "Diabetes",
         "Ambarnath",
         "H1014",
         98
        ],
        [
         188365,
         "Bhageeratha",
         "Male",
         "Pet allergy",
         "Sonipat",
         "H1017",
         52
        ]
       ],
       "datasetInfos": [],
       "dbfsResultPath": null,
       "isJsonSchema": true,
       "metadata": {},
       "overflow": false,
       "plotOptions": {
        "customPlotOptions": {},
        "displayType": "table",
        "pivotAggregation": null,
        "pivotColumns": null,
        "xColumns": null,
        "yColumns": null
       },
       "removedWidgets": [],
       "schema": [
        {
         "metadata": "{}",
         "name": "Patient_id",
         "type": "\"integer\""
        },
        {
         "metadata": "{}",
         "name": "Patient_name",
         "type": "\"string\""
        },
        {
         "metadata": "{}",
         "name": "patient_gender",
         "type": "\"string\""
        },
        {
         "metadata": "{}",
         "name": "disease_name",
         "type": "\"string\""
        },
        {
         "metadata": "{}",
         "name": "city",
         "type": "\"string\""
        },
        {
         "metadata": "{}",
         "name": "hospital_id",
         "type": "\"string\""
        },
        {
         "metadata": "{}",
         "name": "patient_age",
         "type": "\"integer\""
        }
       ],
       "type": "table"
      }
     },
     "output_type": "display_data"
    }
   ],
   "source": [
    "pr_df.display() "
   ]
  },
  {
   "cell_type": "markdown",
   "metadata": {
    "application/vnd.databricks.v1+cell": {
     "cellMetadata": {},
     "inputWidgets": {},
     "nuid": "461a3fe8-c53c-4f59-a3e9-ca87fd1b60d6",
     "showTitle": false,
     "tableResultSettingsMap": {},
     "title": ""
    }
   },
   "source": [
    "## Claims Transformation"
   ]
  },
  {
   "cell_type": "code",
   "execution_count": 0,
   "metadata": {
    "application/vnd.databricks.v1+cell": {
     "cellMetadata": {
      "byteLimit": 2048000,
      "rowLimit": 10000
     },
     "inputWidgets": {},
     "nuid": "733a499c-e3dc-41a8-8909-27f0b6709041",
     "showTitle": false,
     "tableResultSettingsMap": {},
     "title": ""
    }
   },
   "outputs": [
    {
     "output_type": "stream",
     "name": "stdout",
     "output_type": "stream",
     "text": [
      "adls connection successful\n"
     ]
    }
   ],
   "source": [
    "df = readbronzedata_json(\"claims.json\")"
   ]
  },
  {
   "cell_type": "code",
   "execution_count": 0,
   "metadata": {
    "application/vnd.databricks.v1+cell": {
     "cellMetadata": {
      "byteLimit": 2048000,
      "rowLimit": 10000
     },
     "inputWidgets": {},
     "nuid": "16baceaf-d0a4-4d48-811b-d97575413ae5",
     "showTitle": false,
     "tableResultSettingsMap": {},
     "title": ""
    }
   },
   "outputs": [
    {
     "output_type": "display_data",
     "data": {
      "text/html": [
       "<style scoped>\n",
       "  .table-result-container {\n",
       "    max-height: 300px;\n",
       "    overflow: auto;\n",
       "  }\n",
       "  table, th, td {\n",
       "    border: 1px solid black;\n",
       "    border-collapse: collapse;\n",
       "  }\n",
       "  th, td {\n",
       "    padding: 5px;\n",
       "  }\n",
       "  th {\n",
       "    text-align: left;\n",
       "  }\n",
       "</style><div class='table-result-container'><table class='table-result'><thead style='background-color: white'><tr><th>Claim_Or_Rejected</th><th>SUB_ID</th><th>claim_amount</th><th>claim_date</th><th>claim_id</th><th>claim_type</th><th>disease_name</th><th>patient_id</th></tr></thead><tbody><tr><td>N</td><td>SUBID1000</td><td>79874</td><td>1949-03-14</td><td>0</td><td>claims of value</td><td>Galactosemia</td><td>187158</td></tr><tr><td>N</td><td>SUBID10001</td><td>151142</td><td>1970-03-16</td><td>1</td><td>claims of policy</td><td>Bladder cancer</td><td>112766</td></tr><tr><td>N</td><td>SUBID10002</td><td>59924</td><td>2008-02-03</td><td>2</td><td>claims of value</td><td>Kidney cancer</td><td>199252</td></tr><tr><td>N</td><td>SUBID10003</td><td>143120</td><td>1995-02-08</td><td>3</td><td>claims of fact</td><td>Suicide</td><td>133424</td></tr><tr><td>Y</td><td>SUBID10004</td><td>168634</td><td>1967-05-23</td><td>4</td><td>claims of value</td><td>Food allergy</td><td>172579</td></tr><tr><td>N</td><td>SUBID10005</td><td>64840</td><td>1991-10-04</td><td>5</td><td>claims of policy</td><td>Whiplash</td><td>171320</td></tr><tr><td>N</td><td>SUBID1006</td><td>26800</td><td>1991-03-26</td><td>6</td><td>claims of fact</td><td>Sunbathing</td><td>107794</td></tr><tr><td>N</td><td>SUBID10007</td><td>177186</td><td>1946-09-05</td><td>7</td><td>claims of value</td><td>Drug consumption</td><td>130339</td></tr><tr><td>N</td><td>SUBID10008</td><td>141123</td><td>1966-06-20</td><td>8</td><td>claims of fact</td><td>Dengue</td><td>110377</td></tr><tr><td>N</td><td>SUBID10009</td><td>88540</td><td>1945-12-29</td><td>9</td><td>claims of value</td><td>Head banging</td><td>149367</td></tr><tr><td>N</td><td>SUBID1010</td><td>29150</td><td>1999-01-25</td><td>10</td><td>claims of value</td><td>Fanconi anaemia</td><td>156168</td></tr><tr><td>Y</td><td>SUBID10011</td><td>40897</td><td>1975-02-08</td><td>11</td><td>claims of value</td><td>Breast cancer</td><td>114241</td></tr><tr><td>N</td><td>SUBID10012</td><td>75983</td><td>1985-02-12</td><td>12</td><td>claims of value</td><td>Anthrax</td><td>146382</td></tr><tr><td>N</td><td>SUBID10013</td><td>192340</td><td>2014-07-30</td><td>13</td><td>claims of fact</td><td>Cystic fibrosis</td><td>132748</td></tr><tr><td>N</td><td>SUBID10014</td><td>118628</td><td>2003-12-18</td><td>14</td><td>claims of value</td><td>Galactosemia</td><td>167340</td></tr><tr><td>Y</td><td>SUBID10015</td><td>100224</td><td>1986-08-02</td><td>15</td><td>claims of value</td><td>Dengue</td><td>135184</td></tr><tr><td>N</td><td>SUBID10016</td><td>42860</td><td>1955-01-20</td><td>16</td><td>claims of value</td><td>Smallpox</td><td>179662</td></tr><tr><td>N</td><td>SUBID10017</td><td>161786</td><td>2017-06-01</td><td>17</td><td>claims of policy</td><td>Pollen allergy</td><td>184479</td></tr><tr><td>N</td><td>SUBID10018</td><td>66129</td><td>1956-01-04</td><td>18</td><td>claims of fact</td><td>Breast cancer</td><td>156988</td></tr><tr><td>N</td><td>SUBID10019</td><td>182552</td><td>1948-07-26</td><td>19</td><td>claims of value</td><td>Glaucoma</td><td>132870</td></tr><tr><td>Y</td><td>SUBID1020</td><td>105982</td><td>1984-04-10</td><td>20</td><td>claims of value</td><td>Pet allergy</td><td>148137</td></tr><tr><td>N</td><td>SUBID1021</td><td>55761</td><td>1953-06-24</td><td>21</td><td>claims of fact</td><td>Rett Syndrome</td><td>113280</td></tr><tr><td>Y</td><td>SUBID10022</td><td>34771</td><td>1948-05-23</td><td>22</td><td>claims of value</td><td>Flu</td><td>134184</td></tr><tr><td>N</td><td>SUBID10023</td><td>83642</td><td>1945-03-15</td><td>23</td><td>claims of value</td><td>Cholera</td><td>122592</td></tr><tr><td>N</td><td>SUBID10024</td><td>49129</td><td>2013-08-04</td><td>24</td><td>claims of policy</td><td>Scurvy</td><td>154439</td></tr><tr><td>N</td><td>SUBID10025</td><td>36524</td><td>1976-08-24</td><td>25</td><td>claims of fact</td><td>Glaucoma</td><td>117945</td></tr><tr><td>N</td><td>SUBID10026</td><td>192381</td><td>1966-08-30</td><td>26</td><td>claims of value</td><td>Measles</td><td>189996</td></tr><tr><td>N</td><td>SUBID10027</td><td>188520</td><td>2008-08-26</td><td>27</td><td>claims of fact</td><td>Scurvy</td><td>146540</td></tr><tr><td>N</td><td>SUBID10028</td><td>122806</td><td>1958-08-05</td><td>28</td><td>claims of policy</td><td>Flu</td><td>156434</td></tr><tr><td>N</td><td>SUBID10029</td><td>81651</td><td>2008-02-01</td><td>29</td><td>claims of fact</td><td>Pet allergy</td><td>197352</td></tr><tr><td>N</td><td>SUBID1030</td><td>19899</td><td>1976-09-08</td><td>30</td><td>claims of fact</td><td>Lymphedema</td><td>138778</td></tr><tr><td>N</td><td>SUBID10031</td><td>42968</td><td>1976-01-25</td><td>31</td><td>claims of fact</td><td>Alcohol consumption</td><td>162665</td></tr><tr><td>N</td><td>SUBID1032</td><td>191267</td><td>1988-12-18</td><td>32</td><td>claims of policy</td><td>Stroke</td><td>197503</td></tr><tr><td>N</td><td>SUBID10033</td><td>161199</td><td>2019-11-17</td><td>33</td><td>claims of value</td><td>Galactosemia</td><td>113476</td></tr><tr><td>N</td><td>SUBID1034</td><td>26221</td><td>2008-08-10</td><td>34</td><td>claims of fact</td><td>Vertigo</td><td>195876</td></tr><tr><td>Y</td><td>SUBID10035</td><td>28542</td><td>1973-03-25</td><td>35</td><td>claims of value</td><td>Measles</td><td>150189</td></tr><tr><td>N</td><td>SUBID1036</td><td>62985</td><td>1948-09-27</td><td>36</td><td>claims of policy</td><td>Heart Attack</td><td>138861</td></tr><tr><td>N</td><td>SUBID1037</td><td>19596</td><td>1972-10-11</td><td>37</td><td>claims of policy</td><td>Phenylketonuria</td><td>146555</td></tr><tr><td>Y</td><td>SUBID1038</td><td>25171</td><td>1979-03-11</td><td>38</td><td>claims of fact</td><td>Phenylketonuria</td><td>199114</td></tr><tr><td>N</td><td>SUBID10039</td><td>108526</td><td>1960-05-09</td><td>39</td><td>claims of fact</td><td>Head banging</td><td>105758</td></tr><tr><td>Y</td><td>SUBID10040</td><td>116937</td><td>1998-09-26</td><td>40</td><td>claims of value</td><td>Choking</td><td>109251</td></tr><tr><td>N</td><td>SUBID1041</td><td>118452</td><td>1955-10-11</td><td>41</td><td>claims of fact</td><td>Fanconi anaemia</td><td>156223</td></tr><tr><td>N</td><td>SUBID10042</td><td>188727</td><td>1989-10-28</td><td>42</td><td>claims of fact</td><td>Stroke</td><td>108576</td></tr><tr><td>N</td><td>SUBID1043</td><td>186502</td><td>1962-09-18</td><td>43</td><td>claims of value</td><td>Anaemia</td><td>132947</td></tr><tr><td>Y</td><td>SUBID1044</td><td>173600</td><td>1959-10-19</td><td>44</td><td>claims of policy</td><td>Diabetes</td><td>148674</td></tr><tr><td>Y</td><td>SUBID1045</td><td>160739</td><td>1952-07-29</td><td>45</td><td>claims of policy</td><td>Lymphedema</td><td>133107</td></tr><tr><td>N</td><td>SUBID10046</td><td>25957</td><td>2003-11-29</td><td>46</td><td>claims of fact</td><td>Phenylketonuria</td><td>193137</td></tr><tr><td>N</td><td>SUBID1047</td><td>164159</td><td>1953-06-07</td><td>47</td><td>claims of value</td><td>Choking</td><td>196369</td></tr><tr><td>Y</td><td>SUBID10048</td><td>125727</td><td>1947-04-11</td><td>48</td><td>claims of value</td><td>Asthma</td><td>109342</td></tr><tr><td>N</td><td>SUBID10049</td><td>159815</td><td>1983-06-20</td><td>49</td><td>claims of fact</td><td>Bladder cancer</td><td>121783</td></tr><tr><td>N</td><td>SUBID10050</td><td>156557</td><td>1972-06-19</td><td>50</td><td>claims of policy</td><td>Lung cancer</td><td>197441</td></tr><tr><td>N</td><td>SUBID10051</td><td>193801</td><td>1969-02-01</td><td>51</td><td>claims of value</td><td>Colorectal cancer</td><td>194166</td></tr><tr><td>N</td><td>SUBID10052</td><td>130339</td><td>1959-07-22</td><td>52</td><td>claims of policy</td><td>Food Poisoning</td><td>110690</td></tr><tr><td>Y</td><td>SUBID10053</td><td>87588</td><td>2008-10-17</td><td>53</td><td>claims of fact</td><td>Anthrax</td><td>180709</td></tr><tr><td>N</td><td>SUBID10054</td><td>27404</td><td>1965-01-09</td><td>54</td><td>claims of policy</td><td>Mold allergy</td><td>119268</td></tr><tr><td>Y</td><td>SUBID10055</td><td>44986</td><td>2007-06-22</td><td>55</td><td>claims of policy</td><td>Beriberi</td><td>163148</td></tr><tr><td>N</td><td>SUBID10056</td><td>124734</td><td>1974-12-21</td><td>56</td><td>claims of fact</td><td>Malaria</td><td>118913</td></tr><tr><td>Y</td><td>SUBID10057</td><td>161497</td><td>1974-12-28</td><td>57</td><td>claims of policy</td><td>Asthma</td><td>167423</td></tr><tr><td>Y</td><td>SUBID1058</td><td>20770</td><td>1967-08-28</td><td>58</td><td>claims of policy</td><td>Fractures</td><td>141703</td></tr><tr><td>N</td><td>SUBID10059</td><td>171729</td><td>1983-08-26</td><td>59</td><td>claims of policy</td><td>Malaria</td><td>173518</td></tr><tr><td>N</td><td>SUBID10060</td><td>139755</td><td>2004-01-20</td><td>60</td><td>claims of policy</td><td>Anthrax</td><td>140394</td></tr><tr><td>N</td><td>SUBID10061</td><td>74276</td><td>1991-03-16</td><td>61</td><td>claims of fact</td><td>Mold allergy</td><td>164524</td></tr><tr><td>Y</td><td>SUBID1062</td><td>71703</td><td>1945-10-24</td><td>62</td><td>claims of value</td><td>Head banging</td><td>198182</td></tr><tr><td>Y</td><td>SUBID1063</td><td>158255</td><td>2014-01-10</td><td>63</td><td>claims of policy</td><td>Drug consumption</td><td>115143</td></tr><tr><td>N</td><td>SUBID10064</td><td>154594</td><td>2015-07-08</td><td>64</td><td>claims of policy</td><td>Cholera</td><td>156364</td></tr><tr><td>Y</td><td>SUBID1065</td><td>81980</td><td>1969-05-31</td><td>65</td><td>claims of policy</td><td>Glaucoma</td><td>191132</td></tr><tr><td>N</td><td>SUBID10066</td><td>13667</td><td>1957-09-12</td><td>66</td><td>claims of fact</td><td>Hepatitis</td><td>105686</td></tr><tr><td>N</td><td>SUBID1067</td><td>109433</td><td>1944-12-25</td><td>67</td><td>claims of value</td><td>Rett Syndrome</td><td>160140</td></tr><tr><td>N</td><td>SUBID10068</td><td>152901</td><td>1948-02-13</td><td>68</td><td>claims of policy</td><td>Diabetes</td><td>114252</td></tr><tr><td>N</td><td>SUBID10069</td><td>99313</td><td>1994-08-25</td><td>69</td><td>claims of fact</td><td>Pet allergy</td><td>188365</td></tr></tbody></table></div>"
      ]
     },
     "metadata": {
      "application/vnd.databricks.v1+output": {
       "addedWidgets": {},
       "aggData": [],
       "aggError": "",
       "aggOverflow": false,
       "aggSchema": [],
       "aggSeriesLimitReached": false,
       "aggType": "",
       "arguments": {},
       "columnCustomDisplayInfos": {},
       "data": [
        [
         "N",
         "SUBID1000",
         79874,
         "1949-03-14",
         0,
         "claims of value",
         "Galactosemia",
         187158
        ],
        [
         "N",
         "SUBID10001",
         151142,
         "1970-03-16",
         1,
         "claims of policy",
         "Bladder cancer",
         112766
        ],
        [
         "N",
         "SUBID10002",
         59924,
         "2008-02-03",
         2,
         "claims of value",
         "Kidney cancer",
         199252
        ],
        [
         "N",
         "SUBID10003",
         143120,
         "1995-02-08",
         3,
         "claims of fact",
         "Suicide",
         133424
        ],
        [
         "Y",
         "SUBID10004",
         168634,
         "1967-05-23",
         4,
         "claims of value",
         "Food allergy",
         172579
        ],
        [
         "N",
         "SUBID10005",
         64840,
         "1991-10-04",
         5,
         "claims of policy",
         "Whiplash",
         171320
        ],
        [
         "N",
         "SUBID1006",
         26800,
         "1991-03-26",
         6,
         "claims of fact",
         "Sunbathing",
         107794
        ],
        [
         "N",
         "SUBID10007",
         177186,
         "1946-09-05",
         7,
         "claims of value",
         "Drug consumption",
         130339
        ],
        [
         "N",
         "SUBID10008",
         141123,
         "1966-06-20",
         8,
         "claims of fact",
         "Dengue",
         110377
        ],
        [
         "N",
         "SUBID10009",
         88540,
         "1945-12-29",
         9,
         "claims of value",
         "Head banging",
         149367
        ],
        [
         "N",
         "SUBID1010",
         29150,
         "1999-01-25",
         10,
         "claims of value",
         "Fanconi anaemia",
         156168
        ],
        [
         "Y",
         "SUBID10011",
         40897,
         "1975-02-08",
         11,
         "claims of value",
         "Breast cancer",
         114241
        ],
        [
         "N",
         "SUBID10012",
         75983,
         "1985-02-12",
         12,
         "claims of value",
         "Anthrax",
         146382
        ],
        [
         "N",
         "SUBID10013",
         192340,
         "2014-07-30",
         13,
         "claims of fact",
         "Cystic fibrosis",
         132748
        ],
        [
         "N",
         "SUBID10014",
         118628,
         "2003-12-18",
         14,
         "claims of value",
         "Galactosemia",
         167340
        ],
        [
         "Y",
         "SUBID10015",
         100224,
         "1986-08-02",
         15,
         "claims of value",
         "Dengue",
         135184
        ],
        [
         "N",
         "SUBID10016",
         42860,
         "1955-01-20",
         16,
         "claims of value",
         "Smallpox",
         179662
        ],
        [
         "N",
         "SUBID10017",
         161786,
         "2017-06-01",
         17,
         "claims of policy",
         "Pollen allergy",
         184479
        ],
        [
         "N",
         "SUBID10018",
         66129,
         "1956-01-04",
         18,
         "claims of fact",
         "Breast cancer",
         156988
        ],
        [
         "N",
         "SUBID10019",
         182552,
         "1948-07-26",
         19,
         "claims of value",
         "Glaucoma",
         132870
        ],
        [
         "Y",
         "SUBID1020",
         105982,
         "1984-04-10",
         20,
         "claims of value",
         "Pet allergy",
         148137
        ],
        [
         "N",
         "SUBID1021",
         55761,
         "1953-06-24",
         21,
         "claims of fact",
         "Rett Syndrome",
         113280
        ],
        [
         "Y",
         "SUBID10022",
         34771,
         "1948-05-23",
         22,
         "claims of value",
         "Flu",
         134184
        ],
        [
         "N",
         "SUBID10023",
         83642,
         "1945-03-15",
         23,
         "claims of value",
         "Cholera",
         122592
        ],
        [
         "N",
         "SUBID10024",
         49129,
         "2013-08-04",
         24,
         "claims of policy",
         "Scurvy",
         154439
        ],
        [
         "N",
         "SUBID10025",
         36524,
         "1976-08-24",
         25,
         "claims of fact",
         "Glaucoma",
         117945
        ],
        [
         "N",
         "SUBID10026",
         192381,
         "1966-08-30",
         26,
         "claims of value",
         "Measles",
         189996
        ],
        [
         "N",
         "SUBID10027",
         188520,
         "2008-08-26",
         27,
         "claims of fact",
         "Scurvy",
         146540
        ],
        [
         "N",
         "SUBID10028",
         122806,
         "1958-08-05",
         28,
         "claims of policy",
         "Flu",
         156434
        ],
        [
         "N",
         "SUBID10029",
         81651,
         "2008-02-01",
         29,
         "claims of fact",
         "Pet allergy",
         197352
        ],
        [
         "N",
         "SUBID1030",
         19899,
         "1976-09-08",
         30,
         "claims of fact",
         "Lymphedema",
         138778
        ],
        [
         "N",
         "SUBID10031",
         42968,
         "1976-01-25",
         31,
         "claims of fact",
         "Alcohol consumption",
         162665
        ],
        [
         "N",
         "SUBID1032",
         191267,
         "1988-12-18",
         32,
         "claims of policy",
         "Stroke",
         197503
        ],
        [
         "N",
         "SUBID10033",
         161199,
         "2019-11-17",
         33,
         "claims of value",
         "Galactosemia",
         113476
        ],
        [
         "N",
         "SUBID1034",
         26221,
         "2008-08-10",
         34,
         "claims of fact",
         "Vertigo",
         195876
        ],
        [
         "Y",
         "SUBID10035",
         28542,
         "1973-03-25",
         35,
         "claims of value",
         "Measles",
         150189
        ],
        [
         "N",
         "SUBID1036",
         62985,
         "1948-09-27",
         36,
         "claims of policy",
         "Heart Attack",
         138861
        ],
        [
         "N",
         "SUBID1037",
         19596,
         "1972-10-11",
         37,
         "claims of policy",
         "Phenylketonuria",
         146555
        ],
        [
         "Y",
         "SUBID1038",
         25171,
         "1979-03-11",
         38,
         "claims of fact",
         "Phenylketonuria",
         199114
        ],
        [
         "N",
         "SUBID10039",
         108526,
         "1960-05-09",
         39,
         "claims of fact",
         "Head banging",
         105758
        ],
        [
         "Y",
         "SUBID10040",
         116937,
         "1998-09-26",
         40,
         "claims of value",
         "Choking",
         109251
        ],
        [
         "N",
         "SUBID1041",
         118452,
         "1955-10-11",
         41,
         "claims of fact",
         "Fanconi anaemia",
         156223
        ],
        [
         "N",
         "SUBID10042",
         188727,
         "1989-10-28",
         42,
         "claims of fact",
         "Stroke",
         108576
        ],
        [
         "N",
         "SUBID1043",
         186502,
         "1962-09-18",
         43,
         "claims of value",
         "Anaemia",
         132947
        ],
        [
         "Y",
         "SUBID1044",
         173600,
         "1959-10-19",
         44,
         "claims of policy",
         "Diabetes",
         148674
        ],
        [
         "Y",
         "SUBID1045",
         160739,
         "1952-07-29",
         45,
         "claims of policy",
         "Lymphedema",
         133107
        ],
        [
         "N",
         "SUBID10046",
         25957,
         "2003-11-29",
         46,
         "claims of fact",
         "Phenylketonuria",
         193137
        ],
        [
         "N",
         "SUBID1047",
         164159,
         "1953-06-07",
         47,
         "claims of value",
         "Choking",
         196369
        ],
        [
         "Y",
         "SUBID10048",
         125727,
         "1947-04-11",
         48,
         "claims of value",
         "Asthma",
         109342
        ],
        [
         "N",
         "SUBID10049",
         159815,
         "1983-06-20",
         49,
         "claims of fact",
         "Bladder cancer",
         121783
        ],
        [
         "N",
         "SUBID10050",
         156557,
         "1972-06-19",
         50,
         "claims of policy",
         "Lung cancer",
         197441
        ],
        [
         "N",
         "SUBID10051",
         193801,
         "1969-02-01",
         51,
         "claims of value",
         "Colorectal cancer",
         194166
        ],
        [
         "N",
         "SUBID10052",
         130339,
         "1959-07-22",
         52,
         "claims of policy",
         "Food Poisoning",
         110690
        ],
        [
         "Y",
         "SUBID10053",
         87588,
         "2008-10-17",
         53,
         "claims of fact",
         "Anthrax",
         180709
        ],
        [
         "N",
         "SUBID10054",
         27404,
         "1965-01-09",
         54,
         "claims of policy",
         "Mold allergy",
         119268
        ],
        [
         "Y",
         "SUBID10055",
         44986,
         "2007-06-22",
         55,
         "claims of policy",
         "Beriberi",
         163148
        ],
        [
         "N",
         "SUBID10056",
         124734,
         "1974-12-21",
         56,
         "claims of fact",
         "Malaria",
         118913
        ],
        [
         "Y",
         "SUBID10057",
         161497,
         "1974-12-28",
         57,
         "claims of policy",
         "Asthma",
         167423
        ],
        [
         "Y",
         "SUBID1058",
         20770,
         "1967-08-28",
         58,
         "claims of policy",
         "Fractures",
         141703
        ],
        [
         "N",
         "SUBID10059",
         171729,
         "1983-08-26",
         59,
         "claims of policy",
         "Malaria",
         173518
        ],
        [
         "N",
         "SUBID10060",
         139755,
         "2004-01-20",
         60,
         "claims of policy",
         "Anthrax",
         140394
        ],
        [
         "N",
         "SUBID10061",
         74276,
         "1991-03-16",
         61,
         "claims of fact",
         "Mold allergy",
         164524
        ],
        [
         "Y",
         "SUBID1062",
         71703,
         "1945-10-24",
         62,
         "claims of value",
         "Head banging",
         198182
        ],
        [
         "Y",
         "SUBID1063",
         158255,
         "2014-01-10",
         63,
         "claims of policy",
         "Drug consumption",
         115143
        ],
        [
         "N",
         "SUBID10064",
         154594,
         "2015-07-08",
         64,
         "claims of policy",
         "Cholera",
         156364
        ],
        [
         "Y",
         "SUBID1065",
         81980,
         "1969-05-31",
         65,
         "claims of policy",
         "Glaucoma",
         191132
        ],
        [
         "N",
         "SUBID10066",
         13667,
         "1957-09-12",
         66,
         "claims of fact",
         "Hepatitis",
         105686
        ],
        [
         "N",
         "SUBID1067",
         109433,
         "1944-12-25",
         67,
         "claims of value",
         "Rett Syndrome",
         160140
        ],
        [
         "N",
         "SUBID10068",
         152901,
         "1948-02-13",
         68,
         "claims of policy",
         "Diabetes",
         114252
        ],
        [
         "N",
         "SUBID10069",
         99313,
         "1994-08-25",
         69,
         "claims of fact",
         "Pet allergy",
         188365
        ]
       ],
       "datasetInfos": [],
       "dbfsResultPath": null,
       "isJsonSchema": true,
       "metadata": {},
       "overflow": false,
       "plotOptions": {
        "customPlotOptions": {},
        "displayType": "table",
        "pivotAggregation": null,
        "pivotColumns": null,
        "xColumns": null,
        "yColumns": null
       },
       "removedWidgets": [],
       "schema": [
        {
         "metadata": "{}",
         "name": "Claim_Or_Rejected",
         "type": "\"string\""
        },
        {
         "metadata": "{}",
         "name": "SUB_ID",
         "type": "\"string\""
        },
        {
         "metadata": "{}",
         "name": "claim_amount",
         "type": "\"integer\""
        },
        {
         "metadata": "{}",
         "name": "claim_date",
         "type": "\"date\""
        },
        {
         "metadata": "{}",
         "name": "claim_id",
         "type": "\"long\""
        },
        {
         "metadata": "{}",
         "name": "claim_type",
         "type": "\"string\""
        },
        {
         "metadata": "{}",
         "name": "disease_name",
         "type": "\"string\""
        },
        {
         "metadata": "{}",
         "name": "patient_id",
         "type": "\"long\""
        }
       ],
       "type": "table"
      }
     },
     "output_type": "display_data"
    }
   ],
   "source": [
    "df.display()"
   ]
  },
  {
   "cell_type": "code",
   "execution_count": 0,
   "metadata": {
    "application/vnd.databricks.v1+cell": {
     "cellMetadata": {
      "byteLimit": 2048000,
      "rowLimit": 10000
     },
     "inputWidgets": {},
     "nuid": "3354ff51-becf-4b8a-8414-f4ae329bb777",
     "showTitle": false,
     "tableResultSettingsMap": {},
     "title": ""
    }
   },
   "outputs": [],
   "source": [
    "df = df.drop(\"_id\")"
   ]
  },
  {
   "cell_type": "code",
   "execution_count": 0,
   "metadata": {
    "application/vnd.databricks.v1+cell": {
     "cellMetadata": {
      "byteLimit": 2048000,
      "rowLimit": 10000
     },
     "inputWidgets": {},
     "nuid": "ca5dd1ba-9e5a-439d-b32a-10fef6119980",
     "showTitle": false,
     "tableResultSettingsMap": {},
     "title": ""
    }
   },
   "outputs": [],
   "source": [
    "df = df.replace('NaN', None)\n",
    "df = df.fillna({'claim_or_rejected': 'N'})"
   ]
  },
  {
   "cell_type": "code",
   "execution_count": 0,
   "metadata": {
    "application/vnd.databricks.v1+cell": {
     "cellMetadata": {
      "byteLimit": 2048000,
      "rowLimit": 10000
     },
     "inputWidgets": {},
     "nuid": "258a8ab4-d02b-4f93-bf69-1d014173c023",
     "showTitle": false,
     "tableResultSettingsMap": {},
     "title": ""
    }
   },
   "outputs": [
    {
     "output_type": "stream",
     "name": "stdout",
     "output_type": "stream",
     "text": [
      "+-----------------+------+------------+----------+--------+----------+------------+----------+\n|Claim_Or_Rejected|SUB_ID|claim_amount|claim_date|claim_id|claim_type|disease_name|patient_id|\n+-----------------+------+------------+----------+--------+----------+------------+----------+\n|                0|     0|           0|         0|       0|         0|           0|         0|\n+-----------------+------+------------+----------+--------+----------+------------+----------+\n\n"
     ]
    }
   ],
   "source": [
    "missingvaluecheck(df)"
   ]
  },
  {
   "cell_type": "code",
   "execution_count": 0,
   "metadata": {
    "application/vnd.databricks.v1+cell": {
     "cellMetadata": {
      "byteLimit": 2048000,
      "rowLimit": 10000
     },
     "inputWidgets": {},
     "nuid": "36b727da-811a-474c-aa38-d5ab66d9ec00",
     "showTitle": false,
     "tableResultSettingsMap": {},
     "title": ""
    }
   },
   "outputs": [
    {
     "output_type": "stream",
     "name": "stdout",
     "output_type": "stream",
     "text": [
      "+-----------------+------+------------+----------+--------+----------+------------+----------+-----+\n|Claim_Or_Rejected|SUB_ID|claim_amount|claim_date|claim_id|claim_type|disease_name|patient_id|count|\n+-----------------+------+------------+----------+--------+----------+------------+----------+-----+\n+-----------------+------+------------+----------+--------+----------+------------+----------+-----+\n\n"
     ]
    }
   ],
   "source": [
    "tocheckduplicates(df)"
   ]
  },
  {
   "cell_type": "code",
   "execution_count": 0,
   "metadata": {
    "application/vnd.databricks.v1+cell": {
     "cellMetadata": {
      "byteLimit": 2048000,
      "rowLimit": 10000
     },
     "inputWidgets": {},
     "nuid": "2057c643-edea-49d4-9c90-2e0ab48985ab",
     "showTitle": false,
     "tableResultSettingsMap": {},
     "title": ""
    }
   },
   "outputs": [],
   "source": [
    "df = df.withColumn('claim_amount', df['claim_amount'].cast('integer'))\n",
    "df = df.withColumn('claim_date', to_date(df['claim_date'], 'yyyy-MM-dd'))"
   ]
  },
  {
   "cell_type": "markdown",
   "metadata": {
    "application/vnd.databricks.v1+cell": {
     "cellMetadata": {},
     "inputWidgets": {},
     "nuid": "c79a7956-edff-4f62-87a2-f9c97b00b36f",
     "showTitle": false,
     "tableResultSettingsMap": {},
     "title": ""
    }
   },
   "source": [
    "## Scbscriber Transformation"
   ]
  },
  {
   "cell_type": "code",
   "execution_count": 0,
   "metadata": {
    "application/vnd.databricks.v1+cell": {
     "cellMetadata": {
      "byteLimit": 2048000,
      "rowLimit": 10000
     },
     "inputWidgets": {},
     "nuid": "374b4d20-06b5-486f-83e7-66fcc3c557bc",
     "showTitle": false,
     "tableResultSettingsMap": {},
     "title": ""
    }
   },
   "outputs": [
    {
     "output_type": "stream",
     "name": "stdout",
     "output_type": "stream",
     "text": [
      "adls connection successful\n"
     ]
    }
   ],
   "source": [
    "df = readbronzedata(\"subscriber.csv\")"
   ]
  },
  {
   "cell_type": "code",
   "execution_count": 0,
   "metadata": {
    "application/vnd.databricks.v1+cell": {
     "cellMetadata": {
      "byteLimit": 2048000,
      "rowLimit": 10000
     },
     "inputWidgets": {},
     "nuid": "ed1232e9-e6ed-4058-bda5-2c0071bc6c46",
     "showTitle": false,
     "tableResultSettingsMap": {},
     "title": ""
    }
   },
   "outputs": [
    {
     "output_type": "display_data",
     "data": {
      "text/html": [
       "<style scoped>\n",
       "  .table-result-container {\n",
       "    max-height: 300px;\n",
       "    overflow: auto;\n",
       "  }\n",
       "  table, th, td {\n",
       "    border: 1px solid black;\n",
       "    border-collapse: collapse;\n",
       "  }\n",
       "  th, td {\n",
       "    padding: 5px;\n",
       "  }\n",
       "  th {\n",
       "    text-align: left;\n",
       "  }\n",
       "</style><div class='table-result-container'><table class='table-result'><thead style='background-color: white'><tr><th>sub_id</th><th>first_name</th><th>last_name</th><th>Street</th><th>Birth_date</th><th>Gender</th><th>Phone</th><th>Country</th><th>City</th><th>Zip Code</th><th>Subgrp_id</th><th>Elig_ind</th><th>eff_date</th><th>term_date</th></tr></thead><tbody><tr><td>SUBID10000</td><td>Harbir</td><td>Vishwakarma</td><td>Baria Marg</td><td>1924-06-30</td><td>Female</td><td>+91 0112009318</td><td>India</td><td>Rourkela</td><td>767058</td><td>S107</td><td>Y</td><td>1944-06-30</td><td>1954-01-14</td></tr><tr><td>SUBID10001</td><td>Brahmdev</td><td>Sonkar</td><td>Lala Marg</td><td>1948-12-20</td><td>Female</td><td>+91 1727749552</td><td>India</td><td>Tiruvottiyur</td><td>34639</td><td>S105</td><td>Y</td><td>1968-12-20</td><td>1970-05-16</td></tr><tr><td>SUBID10002</td><td>Ujjawal</td><td>Devi</td><td>Mammen Zila</td><td>1980-04-16</td><td>Male</td><td>+91 8547451606</td><td>India</td><td>Berhampur</td><td>914455</td><td>S106</td><td>N</td><td>2000-04-16</td><td>2008-05-04</td></tr><tr><td>SUBID10003</td><td>Ballari</td><td>Mishra</td><td>Sahni Zila</td><td>1969-09-25</td><td>Female</td><td>+91 0106026841</td><td>India</td><td>Bihar Sharif</td><td>91481</td><td>S104</td><td>N</td><td>1989-09-25</td><td>1995-06-05</td></tr><tr><td>SUBID10004</td><td>Devnath</td><td>Srivastav</td><td>Magar Zila</td><td>1946-05-01</td><td>Female</td><td>+91 1868774631</td><td>India</td><td>Bidhannagar</td><td>531742</td><td>S110</td><td>N</td><td>1966-05-01</td><td>1970-12-09</td></tr><tr><td>SUBID10005</td><td>Atasi</td><td>Seth</td><td>Khatri Nagar</td><td>1967-10-02</td><td>Male</td><td>+91 9747336855</td><td>India</td><td>Amravati</td><td>229062</td><td>S104</td><td>Y</td><td>1987-10-02</td><td>1995-02-13</td></tr><tr><td>SUBID1006</td><td>Manish</td><td>Maurya</td><td>Swaminathan Chowk</td><td>1967-06-06</td><td>Male</td><td>+91 4354294043</td><td>India</td><td>Panvel</td><td>438733</td><td>S109</td><td>null</td><td>1987-06-06</td><td>1995-03-21</td></tr><tr><td>SUBID10007</td><td>Aakar</td><td>Yadav</td><td>Swamy</td><td>1925-03-05</td><td>Female</td><td>+91 2777633911</td><td>India</td><td>Bihar Sharif</td><td>535907</td><td>S104</td><td>N</td><td>1945-03-05</td><td>1946-11-07</td></tr><tr><td>SUBID10008</td><td>Gurudas</td><td>Gupta</td><td>Sarin Nagar</td><td>1945-05-06</td><td>Male</td><td>+91 1232859381</td><td>India</td><td>Kamarhati</td><td>933226</td><td>S103</td><td>Y</td><td>1965-05-06</td><td>1970-09-16</td></tr><tr><td>SUBID10009</td><td>null</td><td>Gupta</td><td>Thakur Circle</td><td>1925-06-12</td><td>Male</td><td>+91 1780763280</td><td>India</td><td>Bangalore</td><td>957469</td><td>S105</td><td>Y</td><td>1945-06-12</td><td>1953-08-30</td></tr><tr><td>SUBID1010</td><td>null</td><td>Divedi</td><td>Dhillon</td><td>1976-02-03</td><td>Male</td><td>+91 5586075345</td><td>India</td><td>Rajkot</td><td>911319</td><td>S102</td><td>Y</td><td>1996-02-03</td><td>2002-01-27</td></tr><tr><td>SUBID10011</td><td>null</td><td>Vishwakarma</td><td>Rajagopalan</td><td>1955-01-22</td><td>Female</td><td>+91 4146391938</td><td>India</td><td>Ghaziabad</td><td>337042</td><td>S106</td><td>N</td><td>1975-01-22</td><td>1978-11-02</td></tr><tr><td>SUBID10012</td><td>Dharmadaas</td><td>Tiwari</td><td>Rama</td><td>1964-04-29</td><td>Male</td><td>+91 6345482027</td><td>India</td><td>Bhalswa Jahangir Pur</td><td>430793</td><td>S103</td><td>N</td><td>1984-04-29</td><td>1988-02-07</td></tr><tr><td>SUBID10013</td><td>Brahmvir</td><td>Rai</td><td>Shah Path</td><td>1991-11-11</td><td>Male</td><td>+91 7316972612</td><td>India</td><td>Ambala</td><td>249898</td><td>S106</td><td>N</td><td>2011-11-11</td><td>2020-05-23</td></tr><tr><td>SUBID10014</td><td>null</td><td>Srivastav</td><td>Chandra Path</td><td>1981-01-25</td><td>Female</td><td>+91 2960004518</td><td>India</td><td>Surendranagar Dudhrej</td><td>111966</td><td>S102</td><td>N</td><td>2001-01-25</td><td>2005-07-13</td></tr><tr><td>SUBID10015</td><td>Bhagvan</td><td>Srivastav</td><td>Edwin</td><td>1966-07-24</td><td>Female</td><td>+91 0297693485</td><td>India</td><td>Bhimavaram</td><td>436513</td><td>S105</td><td>Y</td><td>1986-07-24</td><td>1988-02-04</td></tr><tr><td>SUBID10016</td><td>Amritkala</td><td>Srivastav</td><td>Guha Path</td><td>1933-11-20</td><td>Female</td><td>+91 0537157280</td><td>India</td><td>Meerut</td><td>863467</td><td>S106</td><td>Y</td><td>1953-11-20</td><td>1955-07-29</td></tr><tr><td>SUBID10017</td><td>Bandhu</td><td>Seth</td><td>Varughese</td><td>1996-10-15</td><td>Male</td><td>+91 0695289163</td><td>India</td><td>Chinsurah</td><td>136713</td><td>S108</td><td>N</td><td>2016-10-15</td><td>2018-06-08</td></tr><tr><td>SUBID10018</td><td>Bhagavaana</td><td>Kumar</td><td>Kulkarni Zila</td><td>1935-09-16</td><td>Female</td><td>+91 6071745855</td><td>India</td><td>Shahjahanpur</td><td>597276</td><td>S101</td><td>N</td><td>1955-09-16</td><td>1958-05-31</td></tr><tr><td>SUBID10019</td><td>null</td><td>Maurya</td><td>Sharaf Nagar</td><td>1924-11-09</td><td>Female</td><td>+91 8906694405</td><td>India</td><td>Jabalpur</td><td>958538</td><td>S104</td><td>N</td><td>1944-11-09</td><td>1951-10-14</td></tr><tr><td>SUBID1020</td><td>Umang</td><td>Srivastav</td><td>Balay Chowk</td><td>1963-07-14</td><td>Female</td><td>+91 9485838770</td><td>India</td><td>Haridwar</td><td>181692</td><td>S109</td><td>Y</td><td>1983-07-14</td><td>1986-01-15</td></tr><tr><td>SUBID1021</td><td>Darsana</td><td>Yadav</td><td>Upadhyay Zila</td><td>1932-05-29</td><td>Male</td><td>+91 7676311811</td><td>India</td><td>Dibrugarh</td><td>187414</td><td>S109</td><td>Y</td><td>1952-05-29</td><td>1953-10-14</td></tr><tr><td>SUBID10022</td><td>Prakash</td><td>Rao</td><td>Sachar</td><td>1923-09-15</td><td>Female</td><td>+91 9268324471</td><td>India</td><td>Kottayam</td><td>180680</td><td>null</td><td>N</td><td>1943-09-15</td><td>1948-10-19</td></tr><tr><td>SUBID10023</td><td>Vaijayanti</td><td>Pratap</td><td>Khalsa Nagar</td><td>1920-11-13</td><td>Male</td><td>+91 9358851649</td><td>India</td><td>Mira-Bhayandar</td><td>419190</td><td>S102</td><td>Y</td><td>1940-11-13</td><td>1946-03-10</td></tr><tr><td>SUBID10024</td><td>Menakshi</td><td>Seth</td><td>Wable Street</td><td>1987-03-06</td><td>Male</td><td>+91 0531676556</td><td>India</td><td>Kamarhati</td><td>882577</td><td>S107</td><td>N</td><td>2007-03-06</td><td>2014-02-25</td></tr><tr><td>SUBID10025</td><td>null</td><td>Tiwari</td><td>Sha Chowk</td><td>1955-12-24</td><td>Male</td><td>+91 2416747182</td><td>India</td><td>Karimnagar</td><td>567762</td><td>S106</td><td>N</td><td>1975-12-24</td><td>1983-02-03</td></tr><tr><td>SUBID10026</td><td>Ekant</td><td>Sonkar</td><td>Walla Road</td><td>1943-08-13</td><td>Male</td><td>+91 7686951174</td><td>India</td><td>Berhampore</td><td>948589</td><td>S110</td><td>Y</td><td>1963-08-13</td><td>1967-05-29</td></tr><tr><td>SUBID10027</td><td>Chancharik</td><td>Pandey</td><td>Karan Ganj</td><td>1983-09-05</td><td>Male</td><td>+91 5309364825</td><td>India</td><td>Chapra</td><td>154667</td><td>S109</td><td>N</td><td>2003-09-05</td><td>2011-06-12</td></tr><tr><td>SUBID10028</td><td>Pushti</td><td>Pandit</td><td>Deol Path</td><td>1935-10-15</td><td>Female</td><td>+91 7093722203</td><td>India</td><td>Morbi</td><td>284168</td><td>S106</td><td>N</td><td>1955-10-15</td><td>1959-06-04</td></tr><tr><td>SUBID10029</td><td>Swati</td><td>Seth</td><td>Kant Marg</td><td>1987-12-11</td><td>Female</td><td>+91 1028477510</td><td>India</td><td>Amravati</td><td>932221</td><td>S102</td><td>N</td><td>2007-12-11</td><td>2011-10-17</td></tr><tr><td>SUBID1030</td><td>Upasana</td><td>Pandey</td><td>Seth Chowk</td><td>1956-06-01</td><td>Male</td><td>+91 0548234943</td><td>India</td><td>Hyderabad</td><td>234823</td><td>S102</td><td>N</td><td>1976-06-01</td><td>1981-02-14</td></tr><tr><td>SUBID10031</td><td>Kanhaiya</td><td>Lal</td><td>Savant Nagar</td><td>1954-10-19</td><td>Female</td><td>+91 0788738026</td><td>India</td><td>Mysore</td><td>638433</td><td>S104</td><td>Y</td><td>1974-10-19</td><td>1977-01-03</td></tr><tr><td>SUBID1032</td><td>null</td><td>Seth</td><td>Sandhu Chowk</td><td>1968-07-02</td><td>Female</td><td>+91 2599794460</td><td>India</td><td>Gwalior</td><td>611826</td><td>S110</td><td>N</td><td>1988-07-02</td><td>1991-03-14</td></tr><tr><td>SUBID10033</td><td>Gensho</td><td>Srivastav</td><td>Korpal Ganj</td><td>1992-06-06</td><td>Male</td><td>+91 4834040556</td><td>India</td><td>Ludhiana</td><td>835018</td><td>S101</td><td>N</td><td>2012-06-06</td><td>2022-01-09</td></tr><tr><td>SUBID1034</td><td>Gopal</td><td>Das</td><td>Saini</td><td>1986-05-14</td><td>Male</td><td>+91 1181471524</td><td>India</td><td>Raebareli</td><td>176221</td><td>S101</td><td>N</td><td>2006-05-14</td><td>2011-04-08</td></tr><tr><td>SUBID10035</td><td>Dheeman</td><td>Tiwari</td><td>Dube Marg</td><td>1945-05-04</td><td>Male</td><td>+91 8239321466</td><td>India</td><td>Mysore</td><td>811970</td><td>S101</td><td>Y</td><td>1965-05-04</td><td>1973-11-13</td></tr><tr><td>SUBID1036</td><td>Upasana</td><td>Thakur</td><td>Vasa Ganj</td><td>1927-10-03</td><td>Female</td><td>null</td><td>India</td><td>Ratlam</td><td>326733</td><td>S108</td><td>N</td><td>1947-10-03</td><td>1951-02-20</td></tr><tr><td>SUBID1037</td><td>null</td><td>Rajput</td><td>Shere Chowk</td><td>1948-11-10</td><td>Male</td><td>+91 8390195092</td><td>India</td><td>Vadodara</td><td>877443</td><td>S101</td><td>Y</td><td>1968-11-10</td><td>1973-12-25</td></tr><tr><td>SUBID1038</td><td>null</td><td>Thakur</td><td>Rastogi Street</td><td>1955-04-07</td><td>Female</td><td>+91 7434031446</td><td>India</td><td>Vijayawada</td><td>438940</td><td>S104</td><td>null</td><td>1975-04-07</td><td>1982-01-25</td></tr><tr><td>SUBID10039</td><td>Madhubala</td><td>Yadav</td><td>Sangha Marg</td><td>1937-01-11</td><td>Male</td><td>+91 8498685882</td><td>India</td><td>Jaunpur</td><td>624102</td><td>S104</td><td>Y</td><td>1957-01-11</td><td>1965-10-09</td></tr><tr><td>SUBID10040</td><td>Anjushree</td><td>Pandey</td><td>Vora Ganj</td><td>1976-07-04</td><td>Male</td><td>+91 5322869455</td><td>India</td><td>Ghaziabad</td><td>782221</td><td>S105</td><td>N</td><td>1996-07-04</td><td>1999-02-17</td></tr><tr><td>SUBID1041</td><td>null</td><td>Rajput</td><td>Sinha Path</td><td>1930-11-25</td><td>Female</td><td>null</td><td>India</td><td>Agartala</td><td>303503</td><td>S110</td><td>Y</td><td>1950-11-25</td><td>1957-09-14</td></tr><tr><td>SUBID10042</td><td>Chakrika</td><td>Sonkar</td><td>Bansal Circle</td><td>1964-08-05</td><td>Male</td><td>+91 8185162879</td><td>India</td><td>Ranchi</td><td>503290</td><td>S108</td><td>Y</td><td>1984-08-05</td><td>1992-09-09</td></tr><tr><td>SUBID1043</td><td>Saroj</td><td>Pandit</td><td>Sathe Zila</td><td>1942-08-26</td><td>Female</td><td>+91 5690408243</td><td>India</td><td>Muzaffarpur</td><td>130486</td><td>S103</td><td>Y</td><td>1962-08-26</td><td>1964-08-29</td></tr><tr><td>SUBID1044</td><td>Ayushmati</td><td>Vishwakarma</td><td>Balakrishnan Street</td><td>1932-09-20</td><td>Male</td><td>+91 3683223970</td><td>India</td><td>Satna</td><td>131247</td><td>S108</td><td>N</td><td>1952-09-20</td><td>1961-01-24</td></tr><tr><td>SUBID1045</td><td>Drashti</td><td>Divedi</td><td>Wadhwa</td><td>1926-07-03</td><td>Male</td><td>+91 9447269993</td><td>India</td><td>Saharsa</td><td>581568</td><td>S104</td><td>Y</td><td>1946-07-03</td><td>1952-11-27</td></tr><tr><td>SUBID10046</td><td>Aayushmaan</td><td>Maurya</td><td>Johal Nagar</td><td>1983-11-14</td><td>Female</td><td>+91 4464709769</td><td>India</td><td>Mehsana</td><td>987281</td><td>S104</td><td>Y</td><td>2003-11-14</td><td>2012-10-22</td></tr><tr><td>SUBID1047</td><td>null</td><td>Rai</td><td>Sagar Chowk</td><td>1931-02-04</td><td>Male</td><td>+91 2973105946</td><td>India</td><td>Shivpuri</td><td>794170</td><td>S109</td><td>Y</td><td>1951-02-04</td><td>1955-07-14</td></tr><tr><td>SUBID10048</td><td>Chitranjan</td><td>Mishra</td><td>Madan Nagar</td><td>1925-09-09</td><td>Female</td><td>+91 5176024720</td><td>India</td><td>Morbi</td><td>945697</td><td>S108</td><td>N</td><td>1945-09-09</td><td>1952-06-21</td></tr><tr><td>SUBID10049</td><td>Paridhi</td><td>Yadav</td><td>Sant Path</td><td>1959-03-27</td><td>Female</td><td>+91 2139280879</td><td>India</td><td>Jabalpur</td><td>883754</td><td>null</td><td>N</td><td>1979-03-27</td><td>1985-06-01</td></tr><tr><td>SUBID10050</td><td>Deependu</td><td>Gupta</td><td>Banik Ganj</td><td>1952-02-13</td><td>Female</td><td>+91 5674176644</td><td>India</td><td>Bareilly</td><td>417855</td><td>S102</td><td>Y</td><td>1972-02-13</td><td>1976-08-23</td></tr><tr><td>SUBID10051</td><td>null</td><td>Rajput</td><td>Chauhan Chowk</td><td>1946-10-17</td><td>Male</td><td>+91 9887324437</td><td>India</td><td>Baranagar</td><td>765234</td><td>S103</td><td>Y</td><td>1966-10-17</td><td>1969-06-26</td></tr><tr><td>SUBID10052</td><td>Laksman</td><td>Rao</td><td>Sood Marg</td><td>1939-05-26</td><td>Female</td><td>+91 4504120828</td><td>India</td><td>Ahmednagar</td><td>117923</td><td>S101</td><td>Y</td><td>1959-05-26</td><td>1960-11-07</td></tr><tr><td>SUBID10053</td><td>null</td><td>Sonkar</td><td>Shetty Marg</td><td>1988-06-27</td><td>Male</td><td>+91 6877897646</td><td>India</td><td>Pali</td><td>383290</td><td>S102</td><td>Y</td><td>2008-06-27</td><td>2016-10-30</td></tr><tr><td>SUBID10054</td><td>Shivakari</td><td>Pratap</td><td>Dugar Road</td><td>1944-11-02</td><td>Female</td><td>+91 3740484063</td><td>India</td><td>Hapur</td><td>28202</td><td>S104</td><td>N</td><td>1964-11-02</td><td>1967-06-15</td></tr><tr><td>SUBID10055</td><td>Madhu</td><td>Thakur</td><td>Sule Marg</td><td>1984-10-23</td><td>Male</td><td>+91 8367885507</td><td>India</td><td>Udaipur</td><td>565423</td><td>S107</td><td>N</td><td>2004-10-23</td><td>2008-07-10</td></tr><tr><td>SUBID10056</td><td>Chanak</td><td>Gupta</td><td>Shetty Nagar</td><td>1954-08-27</td><td>Male</td><td>+91 5093121123</td><td>India</td><td>Jalandhar</td><td>602989</td><td>S105</td><td>N</td><td>1974-08-27</td><td>1982-06-15</td></tr><tr><td>SUBID10057</td><td>Chittesh</td><td>Pandey</td><td>Mangal Chowk</td><td>1949-10-17</td><td>Male</td><td>+91 1378163498</td><td>India</td><td>Thoothukudi</td><td>666415</td><td>S109</td><td>Y</td><td>1969-10-17</td><td>1975-10-08</td></tr><tr><td>SUBID1058</td><td>Nawal</td><td>Rajput</td><td>Deol Nagar</td><td>1940-01-22</td><td>Male</td><td>+91 1885105576</td><td>India</td><td>Bhopal</td><td>791168</td><td>S106</td><td>N</td><td>1960-01-22</td><td>1969-04-18</td></tr><tr><td>SUBID10059</td><td>Gajabahu</td><td>Singh</td><td>Kara</td><td>1959-03-15</td><td>Male</td><td>+91 1207869436</td><td>India</td><td>Udupi</td><td>637221</td><td>S101</td><td>Y</td><td>1979-03-15</td><td>1986-07-05</td></tr><tr><td>SUBID10060</td><td>Jitesh</td><td>Vishwakarma</td><td>Gopal Path</td><td>1983-02-03</td><td>Male</td><td>+91 6515468035</td><td>India</td><td>Karimnagar</td><td>124564</td><td>S110</td><td>Y</td><td>2003-02-03</td><td>2008-04-30</td></tr><tr><td>SUBID10061</td><td>null</td><td>Rajput</td><td>Anand Path</td><td>1966-09-25</td><td>Female</td><td>+91 6477918745</td><td>India</td><td>Kharagpur</td><td>934938</td><td>S103</td><td>null</td><td>1986-09-25</td><td>1991-06-03</td></tr><tr><td>SUBID1062</td><td>Lalit</td><td>Mishra</td><td>Comar Street</td><td>1924-02-15</td><td>Female</td><td>+91 4647833992</td><td>India</td><td>Tinsukia</td><td>963770</td><td>S103</td><td>N</td><td>1944-02-15</td><td>1947-09-28</td></tr><tr><td>SUBID1063</td><td>Anshuk</td><td>Srivastav</td><td>Sridhar Path</td><td>1991-06-17</td><td>Male</td><td>+91 9764690642</td><td>India</td><td>Uluberia</td><td>270985</td><td>S105</td><td>N</td><td>2011-06-17</td><td>2014-07-11</td></tr><tr><td>SUBID10064</td><td>null</td><td>Pandey</td><td>Mangat Path</td><td>1994-01-13</td><td>Male</td><td>+91 8444537013</td><td>India</td><td>Panihati</td><td>643791</td><td>S110</td><td>N</td><td>2014-01-13</td><td>2019-02-24</td></tr><tr><td>SUBID1065</td><td>Dipesh</td><td>Mishra</td><td>Char Path</td><td>1949-04-01</td><td>Female</td><td>+91 5851958964</td><td>India</td><td>Kochi</td><td>31269</td><td>S103</td><td>Y</td><td>1969-04-01</td><td>1970-06-02</td></tr><tr><td>SUBID10066</td><td>null</td><td>Seth</td><td>Chaudhuri Marg</td><td>1930-09-01</td><td>Male</td><td>+91 7061843400</td><td>India</td><td>Kolhapur</td><td>597470</td><td>S102</td><td>N</td><td>1950-09-01</td><td>1957-12-01</td></tr><tr><td>SUBID1067</td><td>Kishan</td><td>Rao</td><td>Badal Nagar</td><td>1923-05-12</td><td>Male</td><td>+91 9067652693</td><td>India</td><td>Srikakulam</td><td>703899</td><td>S110</td><td>Y</td><td>1943-05-12</td><td>1946-09-20</td></tr><tr><td>SUBID10068</td><td>null</td><td>Mishra</td><td>Bath Nagar</td><td>1927-02-26</td><td>Female</td><td>+91 4984346995</td><td>India</td><td>Ambarnath</td><td>766224</td><td>S110</td><td>N</td><td>1947-02-26</td><td>1948-03-30</td></tr><tr><td>SUBID10069</td><td>Bhageeratha</td><td>Srivastav</td><td>Das Ganj</td><td>1973-03-21</td><td>Male</td><td>+91 0590662722</td><td>India</td><td>Sonipat</td><td>695316</td><td>S103</td><td>Y</td><td>1993-03-21</td><td>1997-08-01</td></tr><tr><td>SUBID10070</td><td>Balaaditya</td><td>Gupta</td><td>Varty Road</td><td>1923-11-02</td><td>Male</td><td>+91 3871269153</td><td>India</td><td>Hajipur</td><td>3526</td><td>S109</td><td>N</td><td>1943-11-02</td><td>1952-09-24</td></tr><tr><td>SUBID10071</td><td>null</td><td>Rai</td><td>Choudhury Chowk</td><td>1941-12-26</td><td>Female</td><td>+91 9287216619</td><td>India</td><td>Vellore</td><td>239532</td><td>S101</td><td>N</td><td>1961-12-26</td><td>1969-02-23</td></tr><tr><td>SUBID10072</td><td>Gopal</td><td>Srivastav</td><td>Desai Street</td><td>1936-03-11</td><td>Female</td><td>+91 3791210190</td><td>India</td><td>Bidhannagar</td><td>761800</td><td>S103</td><td>Y</td><td>1956-03-11</td><td>1964-07-28</td></tr><tr><td>SUBID1073</td><td>Virender</td><td>Maurrya</td><td>Chakrabarti</td><td>1936-10-27</td><td>Male</td><td>+91 7734026802</td><td>India</td><td>Bhusawal</td><td>374302</td><td>S104</td><td>N</td><td>1956-10-27</td><td>1961-04-27</td></tr><tr><td>SUBID10074</td><td>null</td><td>Singh</td><td>Kalla Path</td><td>1963-11-21</td><td>Male</td><td>+91 7881749363</td><td>India</td><td>Bokaro</td><td>866319</td><td>S105</td><td>Y</td><td>1983-11-21</td><td>1985-09-29</td></tr><tr><td>SUBID10075</td><td>null</td><td>Singh</td><td>Iyengar Nagar</td><td>1956-01-29</td><td>Male</td><td>+91 6891482136</td><td>India</td><td>Navi Mumbai</td><td>836175</td><td>S107</td><td>N</td><td>1976-01-29</td><td>1979-05-25</td></tr><tr><td>SUBID10076</td><td>Mamta</td><td>Tiwari</td><td>Batra</td><td>1964-12-21</td><td>Female</td><td>+91 5559521919</td><td>India</td><td>Secunderabad</td><td>123181</td><td>S104</td><td>N</td><td>1984-12-21</td><td>1987-01-08</td></tr><tr><td>SUBID10077</td><td>Girija</td><td>Maurrya</td><td>Iyengar Road</td><td>1933-04-25</td><td>Male</td><td>+91 1811765039</td><td>India</td><td>Jaipur</td><td>204379</td><td>S105</td><td>N</td><td>1953-04-25</td><td>1963-04-18</td></tr><tr><td>SUBID10078</td><td>Aaraadhana</td><td>Rao</td><td>Raval Nagar</td><td>1980-02-07</td><td>Male</td><td>+91 2432610572</td><td>India</td><td>Jhansi</td><td>429941</td><td>S108</td><td>N</td><td>2000-02-07</td><td>2005-02-06</td></tr><tr><td>SUBID10079</td><td>Shahnawaz</td><td>Mishra</td><td>Agate Path</td><td>1971-06-24</td><td>Female</td><td>+91 4117017589</td><td>India</td><td>Rampur</td><td>528893</td><td>S102</td><td>Y</td><td>1991-06-24</td><td>2000-09-13</td></tr><tr><td>SUBID10080</td><td>Tej</td><td>Sonkar</td><td>Sarraf Chowk</td><td>1942-06-11</td><td>Male</td><td>+91 3450311029</td><td>India</td><td>Haridwar</td><td>506221</td><td>S105</td><td>Y</td><td>1962-06-11</td><td>1964-10-14</td></tr><tr><td>SUBID10081</td><td>Mansi</td><td>Divedi</td><td>Bhattacharyya Road</td><td>1947-03-20</td><td>Female</td><td>+91 1135113927</td><td>India</td><td>Hosur</td><td>995152</td><td>S105</td><td>Y</td><td>1967-03-20</td><td>1971-07-25</td></tr><tr><td>SUBID10082</td><td>Girika</td><td>Thakur</td><td>Sinha Zila</td><td>1968-11-03</td><td>Female</td><td>+91 5601148700</td><td>India</td><td>Hospet</td><td>683614</td><td>S102</td><td>N</td><td>1988-11-03</td><td>1992-01-21</td></tr><tr><td>SUBID10083</td><td>Bhilangana</td><td>Pandit</td><td>Ramachandran Path</td><td>1995-01-04</td><td>Female</td><td>+91 6653069630</td><td>India</td><td>Fatehpur</td><td>359466</td><td>S109</td><td>Y</td><td>2015-01-04</td><td>2017-10-05</td></tr><tr><td>SUBID10084</td><td>null</td><td>Thakur</td><td>Raval Zila</td><td>1924-06-07</td><td>Female</td><td>+91 7367059254</td><td>India</td><td>Bhavnagar</td><td>464111</td><td>S107</td><td>Y</td><td>1944-06-07</td><td>1952-05-22</td></tr><tr><td>SUBID10085</td><td>Sukanya</td><td>Sonkar</td><td>Sangha Street</td><td>1942-01-16</td><td>Female</td><td>+91 5689645499</td><td>India</td><td>Vijayanagaram</td><td>226215</td><td>S101</td><td>N</td><td>1962-01-16</td><td>1967-04-10</td></tr><tr><td>SUBID1086</td><td>Banita</td><td>Rao</td><td>Thakur</td><td>1979-01-28</td><td>Male</td><td>+91 4743834161</td><td>India</td><td>Ghaziabad</td><td>907613</td><td>S109</td><td>N</td><td>1999-01-28</td><td>2000-09-05</td></tr><tr><td>SUBID1087</td><td>null</td><td>Pandit</td><td>Srivastava Path</td><td>1924-12-10</td><td>Female</td><td>+91 9158965227</td><td>India</td><td>Sambhal</td><td>279219</td><td>S103</td><td>N</td><td>1944-12-10</td><td>1951-07-16</td></tr><tr><td>SUBID10088</td><td>null</td><td>Rajput</td><td>Dua Zila</td><td>1922-07-30</td><td>Female</td><td>+91 9523946101</td><td>India</td><td>Tadipatri</td><td>743449</td><td>S110</td><td>N</td><td>1942-07-30</td><td>1949-06-07</td></tr><tr><td>SUBID10089</td><td>Dhuha</td><td>Tiwari</td><td>Aggarwal Street</td><td>1952-08-21</td><td>Male</td><td>+91 3188519840</td><td>India</td><td>Rampur</td><td>492137</td><td>S104</td><td>null</td><td>1972-08-21</td><td>1981-05-13</td></tr><tr><td>SUBID10090</td><td>null</td><td>Mishra</td><td>Chandran Nagar</td><td>1938-06-07</td><td>Female</td><td>+91 6869721169</td><td>India</td><td>Sikar</td><td>564747</td><td>S101</td><td>Y</td><td>1958-06-07</td><td>1967-08-23</td></tr><tr><td>SUBID1091</td><td>null</td><td>Thakur</td><td>Bala</td><td>1930-12-31</td><td>Male</td><td>+91 9664169480</td><td>India</td><td>Kamarhati</td><td>682652</td><td>S110</td><td>Y</td><td>1950-12-31</td><td>1958-06-21</td></tr><tr><td>SUBID10092</td><td>null</td><td>Rai</td><td>Karan Street</td><td>1940-08-22</td><td>Others</td><td>+91 7498206646</td><td>India</td><td>Ghaziabad</td><td>79586</td><td>S108</td><td>N</td><td>1960-08-22</td><td>1966-10-06</td></tr><tr><td>SUBID10093</td><td>Chandavarman</td><td>Singh</td><td>Sarkar Circle</td><td>1997-05-10</td><td>Others</td><td>+91 6559031791</td><td>India</td><td>Navi Mumbai</td><td>83240</td><td>S110</td><td>N</td><td>2017-05-10</td><td>2022-08-27</td></tr><tr><td>SUBID10094</td><td>Charanpal</td><td>Yadav</td><td>Sehgal Circle</td><td>1986-10-12</td><td>Male</td><td>+91 2196055115</td><td>India</td><td>Gurgaon</td><td>640326</td><td>S109</td><td>Y</td><td>2006-10-12</td><td>2016-05-13</td></tr><tr><td>SUBID10095</td><td>Ekaaksh</td><td>Rai</td><td>Bansal Ganj</td><td>1933-12-02</td><td>Others</td><td>null</td><td>India</td><td>Pimpri-Chinchwad</td><td>158186</td><td>S107</td><td>N</td><td>1953-12-02</td><td>1960-07-29</td></tr><tr><td>SUBID10096</td><td>Chanak</td><td>Sonkar</td><td>Kaur</td><td>1959-04-07</td><td>Others</td><td>+91 7284540687</td><td>India</td><td>Raurkela Industrial Township</td><td>899590</td><td>S101</td><td>Y</td><td>1979-04-07</td><td>1986-03-07</td></tr><tr><td>SUBID10097</td><td>null</td><td>Sonkar</td><td>Rana Ganj</td><td>1940-02-04</td><td>Others</td><td>+91 8908240160</td><td>India</td><td>Mira-Bhayandar</td><td>896586</td><td>S107</td><td>Y</td><td>1960-02-04</td><td>1965-01-12</td></tr><tr><td>SUBID1098</td><td>Pushkar</td><td>Kumar</td><td>Sodhi Zila</td><td>1934-10-05</td><td>Others</td><td>+91 8956368286</td><td>India</td><td>Korba</td><td>910732</td><td>S107</td><td>Y</td><td>1954-10-05</td><td>1961-04-05</td></tr><tr><td>SUBID10099</td><td>Shikha</td><td>Srivastav</td><td>Ahuja Road</td><td>1970-09-06</td><td>Others</td><td>+91 3042509956</td><td>India</td><td>Nanded</td><td>101500</td><td>S109</td><td>Y</td><td>1990-09-06</td><td>1997-11-27</td></tr></tbody></table></div>"
      ]
     },
     "metadata": {
      "application/vnd.databricks.v1+output": {
       "addedWidgets": {},
       "aggData": [],
       "aggError": "",
       "aggOverflow": false,
       "aggSchema": [],
       "aggSeriesLimitReached": false,
       "aggType": "",
       "arguments": {},
       "columnCustomDisplayInfos": {},
       "data": [
        [
         "SUBID10000",
         "Harbir",
         "Vishwakarma",
         "Baria Marg",
         "1924-06-30",
         "Female",
         "+91 0112009318",
         "India",
         "Rourkela",
         767058,
         "S107",
         "Y",
         "1944-06-30",
         "1954-01-14"
        ],
        [
         "SUBID10001",
         "Brahmdev",
         "Sonkar",
         "Lala Marg",
         "1948-12-20",
         "Female",
         "+91 1727749552",
         "India",
         "Tiruvottiyur",
         34639,
         "S105",
         "Y",
         "1968-12-20",
         "1970-05-16"
        ],
        [
         "SUBID10002",
         "Ujjawal",
         "Devi",
         "Mammen Zila",
         "1980-04-16",
         "Male",
         "+91 8547451606",
         "India",
         "Berhampur",
         914455,
         "S106",
         "N",
         "2000-04-16",
         "2008-05-04"
        ],
        [
         "SUBID10003",
         "Ballari",
         "Mishra",
         "Sahni Zila",
         "1969-09-25",
         "Female",
         "+91 0106026841",
         "India",
         "Bihar Sharif",
         91481,
         "S104",
         "N",
         "1989-09-25",
         "1995-06-05"
        ],
        [
         "SUBID10004",
         "Devnath",
         "Srivastav",
         "Magar Zila",
         "1946-05-01",
         "Female",
         "+91 1868774631",
         "India",
         "Bidhannagar",
         531742,
         "S110",
         "N",
         "1966-05-01",
         "1970-12-09"
        ],
        [
         "SUBID10005",
         "Atasi",
         "Seth",
         "Khatri Nagar",
         "1967-10-02",
         "Male",
         "+91 9747336855",
         "India",
         "Amravati",
         229062,
         "S104",
         "Y",
         "1987-10-02",
         "1995-02-13"
        ],
        [
         "SUBID1006",
         "Manish",
         "Maurya",
         "Swaminathan Chowk",
         "1967-06-06",
         "Male",
         "+91 4354294043",
         "India",
         "Panvel",
         438733,
         "S109",
         null,
         "1987-06-06",
         "1995-03-21"
        ],
        [
         "SUBID10007",
         "Aakar",
         "Yadav",
         "Swamy",
         "1925-03-05",
         "Female",
         "+91 2777633911",
         "India",
         "Bihar Sharif",
         535907,
         "S104",
         "N",
         "1945-03-05",
         "1946-11-07"
        ],
        [
         "SUBID10008",
         "Gurudas",
         "Gupta",
         "Sarin Nagar",
         "1945-05-06",
         "Male",
         "+91 1232859381",
         "India",
         "Kamarhati",
         933226,
         "S103",
         "Y",
         "1965-05-06",
         "1970-09-16"
        ],
        [
         "SUBID10009",
         null,
         "Gupta",
         "Thakur Circle",
         "1925-06-12",
         "Male",
         "+91 1780763280",
         "India",
         "Bangalore",
         957469,
         "S105",
         "Y",
         "1945-06-12",
         "1953-08-30"
        ],
        [
         "SUBID1010",
         null,
         "Divedi",
         "Dhillon",
         "1976-02-03",
         "Male",
         "+91 5586075345",
         "India",
         "Rajkot",
         911319,
         "S102",
         "Y",
         "1996-02-03",
         "2002-01-27"
        ],
        [
         "SUBID10011",
         null,
         "Vishwakarma",
         "Rajagopalan",
         "1955-01-22",
         "Female",
         "+91 4146391938",
         "India",
         "Ghaziabad",
         337042,
         "S106",
         "N",
         "1975-01-22",
         "1978-11-02"
        ],
        [
         "SUBID10012",
         "Dharmadaas",
         "Tiwari",
         "Rama",
         "1964-04-29",
         "Male",
         "+91 6345482027",
         "India",
         "Bhalswa Jahangir Pur",
         430793,
         "S103",
         "N",
         "1984-04-29",
         "1988-02-07"
        ],
        [
         "SUBID10013",
         "Brahmvir",
         "Rai",
         "Shah Path",
         "1991-11-11",
         "Male",
         "+91 7316972612",
         "India",
         "Ambala",
         249898,
         "S106",
         "N",
         "2011-11-11",
         "2020-05-23"
        ],
        [
         "SUBID10014",
         null,
         "Srivastav",
         "Chandra Path",
         "1981-01-25",
         "Female",
         "+91 2960004518",
         "India",
         "Surendranagar Dudhrej",
         111966,
         "S102",
         "N",
         "2001-01-25",
         "2005-07-13"
        ],
        [
         "SUBID10015",
         "Bhagvan",
         "Srivastav",
         "Edwin",
         "1966-07-24",
         "Female",
         "+91 0297693485",
         "India",
         "Bhimavaram",
         436513,
         "S105",
         "Y",
         "1986-07-24",
         "1988-02-04"
        ],
        [
         "SUBID10016",
         "Amritkala",
         "Srivastav",
         "Guha Path",
         "1933-11-20",
         "Female",
         "+91 0537157280",
         "India",
         "Meerut",
         863467,
         "S106",
         "Y",
         "1953-11-20",
         "1955-07-29"
        ],
        [
         "SUBID10017",
         "Bandhu",
         "Seth",
         "Varughese",
         "1996-10-15",
         "Male",
         "+91 0695289163",
         "India",
         "Chinsurah",
         136713,
         "S108",
         "N",
         "2016-10-15",
         "2018-06-08"
        ],
        [
         "SUBID10018",
         "Bhagavaana",
         "Kumar",
         "Kulkarni Zila",
         "1935-09-16",
         "Female",
         "+91 6071745855",
         "India",
         "Shahjahanpur",
         597276,
         "S101",
         "N",
         "1955-09-16",
         "1958-05-31"
        ],
        [
         "SUBID10019",
         null,
         "Maurya",
         "Sharaf Nagar",
         "1924-11-09",
         "Female",
         "+91 8906694405",
         "India",
         "Jabalpur",
         958538,
         "S104",
         "N",
         "1944-11-09",
         "1951-10-14"
        ],
        [
         "SUBID1020",
         "Umang",
         "Srivastav",
         "Balay Chowk",
         "1963-07-14",
         "Female",
         "+91 9485838770",
         "India",
         "Haridwar",
         181692,
         "S109",
         "Y",
         "1983-07-14",
         "1986-01-15"
        ],
        [
         "SUBID1021",
         "Darsana",
         "Yadav",
         "Upadhyay Zila",
         "1932-05-29",
         "Male",
         "+91 7676311811",
         "India",
         "Dibrugarh",
         187414,
         "S109",
         "Y",
         "1952-05-29",
         "1953-10-14"
        ],
        [
         "SUBID10022",
         "Prakash",
         "Rao",
         "Sachar",
         "1923-09-15",
         "Female",
         "+91 9268324471",
         "India",
         "Kottayam",
         180680,
         null,
         "N",
         "1943-09-15",
         "1948-10-19"
        ],
        [
         "SUBID10023",
         "Vaijayanti",
         "Pratap",
         "Khalsa Nagar",
         "1920-11-13",
         "Male",
         "+91 9358851649",
         "India",
         "Mira-Bhayandar",
         419190,
         "S102",
         "Y",
         "1940-11-13",
         "1946-03-10"
        ],
        [
         "SUBID10024",
         "Menakshi",
         "Seth",
         "Wable Street",
         "1987-03-06",
         "Male",
         "+91 0531676556",
         "India",
         "Kamarhati",
         882577,
         "S107",
         "N",
         "2007-03-06",
         "2014-02-25"
        ],
        [
         "SUBID10025",
         null,
         "Tiwari",
         "Sha Chowk",
         "1955-12-24",
         "Male",
         "+91 2416747182",
         "India",
         "Karimnagar",
         567762,
         "S106",
         "N",
         "1975-12-24",
         "1983-02-03"
        ],
        [
         "SUBID10026",
         "Ekant",
         "Sonkar",
         "Walla Road",
         "1943-08-13",
         "Male",
         "+91 7686951174",
         "India",
         "Berhampore",
         948589,
         "S110",
         "Y",
         "1963-08-13",
         "1967-05-29"
        ],
        [
         "SUBID10027",
         "Chancharik",
         "Pandey",
         "Karan Ganj",
         "1983-09-05",
         "Male",
         "+91 5309364825",
         "India",
         "Chapra",
         154667,
         "S109",
         "N",
         "2003-09-05",
         "2011-06-12"
        ],
        [
         "SUBID10028",
         "Pushti",
         "Pandit",
         "Deol Path",
         "1935-10-15",
         "Female",
         "+91 7093722203",
         "India",
         "Morbi",
         284168,
         "S106",
         "N",
         "1955-10-15",
         "1959-06-04"
        ],
        [
         "SUBID10029",
         "Swati",
         "Seth",
         "Kant Marg",
         "1987-12-11",
         "Female",
         "+91 1028477510",
         "India",
         "Amravati",
         932221,
         "S102",
         "N",
         "2007-12-11",
         "2011-10-17"
        ],
        [
         "SUBID1030",
         "Upasana",
         "Pandey",
         "Seth Chowk",
         "1956-06-01",
         "Male",
         "+91 0548234943",
         "India",
         "Hyderabad",
         234823,
         "S102",
         "N",
         "1976-06-01",
         "1981-02-14"
        ],
        [
         "SUBID10031",
         "Kanhaiya",
         "Lal",
         "Savant Nagar",
         "1954-10-19",
         "Female",
         "+91 0788738026",
         "India",
         "Mysore",
         638433,
         "S104",
         "Y",
         "1974-10-19",
         "1977-01-03"
        ],
        [
         "SUBID1032",
         null,
         "Seth",
         "Sandhu Chowk",
         "1968-07-02",
         "Female",
         "+91 2599794460",
         "India",
         "Gwalior",
         611826,
         "S110",
         "N",
         "1988-07-02",
         "1991-03-14"
        ],
        [
         "SUBID10033",
         "Gensho",
         "Srivastav",
         "Korpal Ganj",
         "1992-06-06",
         "Male",
         "+91 4834040556",
         "India",
         "Ludhiana",
         835018,
         "S101",
         "N",
         "2012-06-06",
         "2022-01-09"
        ],
        [
         "SUBID1034",
         "Gopal",
         "Das",
         "Saini",
         "1986-05-14",
         "Male",
         "+91 1181471524",
         "India",
         "Raebareli",
         176221,
         "S101",
         "N",
         "2006-05-14",
         "2011-04-08"
        ],
        [
         "SUBID10035",
         "Dheeman",
         "Tiwari",
         "Dube Marg",
         "1945-05-04",
         "Male",
         "+91 8239321466",
         "India",
         "Mysore",
         811970,
         "S101",
         "Y",
         "1965-05-04",
         "1973-11-13"
        ],
        [
         "SUBID1036",
         "Upasana",
         "Thakur",
         "Vasa Ganj",
         "1927-10-03",
         "Female",
         null,
         "India",
         "Ratlam",
         326733,
         "S108",
         "N",
         "1947-10-03",
         "1951-02-20"
        ],
        [
         "SUBID1037",
         null,
         "Rajput",
         "Shere Chowk",
         "1948-11-10",
         "Male",
         "+91 8390195092",
         "India",
         "Vadodara",
         877443,
         "S101",
         "Y",
         "1968-11-10",
         "1973-12-25"
        ],
        [
         "SUBID1038",
         null,
         "Thakur",
         "Rastogi Street",
         "1955-04-07",
         "Female",
         "+91 7434031446",
         "India",
         "Vijayawada",
         438940,
         "S104",
         null,
         "1975-04-07",
         "1982-01-25"
        ],
        [
         "SUBID10039",
         "Madhubala",
         "Yadav",
         "Sangha Marg",
         "1937-01-11",
         "Male",
         "+91 8498685882",
         "India",
         "Jaunpur",
         624102,
         "S104",
         "Y",
         "1957-01-11",
         "1965-10-09"
        ],
        [
         "SUBID10040",
         "Anjushree",
         "Pandey",
         "Vora Ganj",
         "1976-07-04",
         "Male",
         "+91 5322869455",
         "India",
         "Ghaziabad",
         782221,
         "S105",
         "N",
         "1996-07-04",
         "1999-02-17"
        ],
        [
         "SUBID1041",
         null,
         "Rajput",
         "Sinha Path",
         "1930-11-25",
         "Female",
         null,
         "India",
         "Agartala",
         303503,
         "S110",
         "Y",
         "1950-11-25",
         "1957-09-14"
        ],
        [
         "SUBID10042",
         "Chakrika",
         "Sonkar",
         "Bansal Circle",
         "1964-08-05",
         "Male",
         "+91 8185162879",
         "India",
         "Ranchi",
         503290,
         "S108",
         "Y",
         "1984-08-05",
         "1992-09-09"
        ],
        [
         "SUBID1043",
         "Saroj",
         "Pandit",
         "Sathe Zila",
         "1942-08-26",
         "Female",
         "+91 5690408243",
         "India",
         "Muzaffarpur",
         130486,
         "S103",
         "Y",
         "1962-08-26",
         "1964-08-29"
        ],
        [
         "SUBID1044",
         "Ayushmati",
         "Vishwakarma",
         "Balakrishnan Street",
         "1932-09-20",
         "Male",
         "+91 3683223970",
         "India",
         "Satna",
         131247,
         "S108",
         "N",
         "1952-09-20",
         "1961-01-24"
        ],
        [
         "SUBID1045",
         "Drashti",
         "Divedi",
         "Wadhwa",
         "1926-07-03",
         "Male",
         "+91 9447269993",
         "India",
         "Saharsa",
         581568,
         "S104",
         "Y",
         "1946-07-03",
         "1952-11-27"
        ],
        [
         "SUBID10046",
         "Aayushmaan",
         "Maurya",
         "Johal Nagar",
         "1983-11-14",
         "Female",
         "+91 4464709769",
         "India",
         "Mehsana",
         987281,
         "S104",
         "Y",
         "2003-11-14",
         "2012-10-22"
        ],
        [
         "SUBID1047",
         null,
         "Rai",
         "Sagar Chowk",
         "1931-02-04",
         "Male",
         "+91 2973105946",
         "India",
         "Shivpuri",
         794170,
         "S109",
         "Y",
         "1951-02-04",
         "1955-07-14"
        ],
        [
         "SUBID10048",
         "Chitranjan",
         "Mishra",
         "Madan Nagar",
         "1925-09-09",
         "Female",
         "+91 5176024720",
         "India",
         "Morbi",
         945697,
         "S108",
         "N",
         "1945-09-09",
         "1952-06-21"
        ],
        [
         "SUBID10049",
         "Paridhi",
         "Yadav",
         "Sant Path",
         "1959-03-27",
         "Female",
         "+91 2139280879",
         "India",
         "Jabalpur",
         883754,
         null,
         "N",
         "1979-03-27",
         "1985-06-01"
        ],
        [
         "SUBID10050",
         "Deependu",
         "Gupta",
         "Banik Ganj",
         "1952-02-13",
         "Female",
         "+91 5674176644",
         "India",
         "Bareilly",
         417855,
         "S102",
         "Y",
         "1972-02-13",
         "1976-08-23"
        ],
        [
         "SUBID10051",
         null,
         "Rajput",
         "Chauhan Chowk",
         "1946-10-17",
         "Male",
         "+91 9887324437",
         "India",
         "Baranagar",
         765234,
         "S103",
         "Y",
         "1966-10-17",
         "1969-06-26"
        ],
        [
         "SUBID10052",
         "Laksman",
         "Rao",
         "Sood Marg",
         "1939-05-26",
         "Female",
         "+91 4504120828",
         "India",
         "Ahmednagar",
         117923,
         "S101",
         "Y",
         "1959-05-26",
         "1960-11-07"
        ],
        [
         "SUBID10053",
         null,
         "Sonkar",
         "Shetty Marg",
         "1988-06-27",
         "Male",
         "+91 6877897646",
         "India",
         "Pali",
         383290,
         "S102",
         "Y",
         "2008-06-27",
         "2016-10-30"
        ],
        [
         "SUBID10054",
         "Shivakari",
         "Pratap",
         "Dugar Road",
         "1944-11-02",
         "Female",
         "+91 3740484063",
         "India",
         "Hapur",
         28202,
         "S104",
         "N",
         "1964-11-02",
         "1967-06-15"
        ],
        [
         "SUBID10055",
         "Madhu",
         "Thakur",
         "Sule Marg",
         "1984-10-23",
         "Male",
         "+91 8367885507",
         "India",
         "Udaipur",
         565423,
         "S107",
         "N",
         "2004-10-23",
         "2008-07-10"
        ],
        [
         "SUBID10056",
         "Chanak",
         "Gupta",
         "Shetty Nagar",
         "1954-08-27",
         "Male",
         "+91 5093121123",
         "India",
         "Jalandhar",
         602989,
         "S105",
         "N",
         "1974-08-27",
         "1982-06-15"
        ],
        [
         "SUBID10057",
         "Chittesh",
         "Pandey",
         "Mangal Chowk",
         "1949-10-17",
         "Male",
         "+91 1378163498",
         "India",
         "Thoothukudi",
         666415,
         "S109",
         "Y",
         "1969-10-17",
         "1975-10-08"
        ],
        [
         "SUBID1058",
         "Nawal",
         "Rajput",
         "Deol Nagar",
         "1940-01-22",
         "Male",
         "+91 1885105576",
         "India",
         "Bhopal",
         791168,
         "S106",
         "N",
         "1960-01-22",
         "1969-04-18"
        ],
        [
         "SUBID10059",
         "Gajabahu",
         "Singh",
         "Kara",
         "1959-03-15",
         "Male",
         "+91 1207869436",
         "India",
         "Udupi",
         637221,
         "S101",
         "Y",
         "1979-03-15",
         "1986-07-05"
        ],
        [
         "SUBID10060",
         "Jitesh",
         "Vishwakarma",
         "Gopal Path",
         "1983-02-03",
         "Male",
         "+91 6515468035",
         "India",
         "Karimnagar",
         124564,
         "S110",
         "Y",
         "2003-02-03",
         "2008-04-30"
        ],
        [
         "SUBID10061",
         null,
         "Rajput",
         "Anand Path",
         "1966-09-25",
         "Female",
         "+91 6477918745",
         "India",
         "Kharagpur",
         934938,
         "S103",
         null,
         "1986-09-25",
         "1991-06-03"
        ],
        [
         "SUBID1062",
         "Lalit",
         "Mishra",
         "Comar Street",
         "1924-02-15",
         "Female",
         "+91 4647833992",
         "India",
         "Tinsukia",
         963770,
         "S103",
         "N",
         "1944-02-15",
         "1947-09-28"
        ],
        [
         "SUBID1063",
         "Anshuk",
         "Srivastav",
         "Sridhar Path",
         "1991-06-17",
         "Male",
         "+91 9764690642",
         "India",
         "Uluberia",
         270985,
         "S105",
         "N",
         "2011-06-17",
         "2014-07-11"
        ],
        [
         "SUBID10064",
         null,
         "Pandey",
         "Mangat Path",
         "1994-01-13",
         "Male",
         "+91 8444537013",
         "India",
         "Panihati",
         643791,
         "S110",
         "N",
         "2014-01-13",
         "2019-02-24"
        ],
        [
         "SUBID1065",
         "Dipesh",
         "Mishra",
         "Char Path",
         "1949-04-01",
         "Female",
         "+91 5851958964",
         "India",
         "Kochi",
         31269,
         "S103",
         "Y",
         "1969-04-01",
         "1970-06-02"
        ],
        [
         "SUBID10066",
         null,
         "Seth",
         "Chaudhuri Marg",
         "1930-09-01",
         "Male",
         "+91 7061843400",
         "India",
         "Kolhapur",
         597470,
         "S102",
         "N",
         "1950-09-01",
         "1957-12-01"
        ],
        [
         "SUBID1067",
         "Kishan",
         "Rao",
         "Badal Nagar",
         "1923-05-12",
         "Male",
         "+91 9067652693",
         "India",
         "Srikakulam",
         703899,
         "S110",
         "Y",
         "1943-05-12",
         "1946-09-20"
        ],
        [
         "SUBID10068",
         null,
         "Mishra",
         "Bath Nagar",
         "1927-02-26",
         "Female",
         "+91 4984346995",
         "India",
         "Ambarnath",
         766224,
         "S110",
         "N",
         "1947-02-26",
         "1948-03-30"
        ],
        [
         "SUBID10069",
         "Bhageeratha",
         "Srivastav",
         "Das Ganj",
         "1973-03-21",
         "Male",
         "+91 0590662722",
         "India",
         "Sonipat",
         695316,
         "S103",
         "Y",
         "1993-03-21",
         "1997-08-01"
        ],
        [
         "SUBID10070",
         "Balaaditya",
         "Gupta",
         "Varty Road",
         "1923-11-02",
         "Male",
         "+91 3871269153",
         "India",
         "Hajipur",
         3526,
         "S109",
         "N",
         "1943-11-02",
         "1952-09-24"
        ],
        [
         "SUBID10071",
         null,
         "Rai",
         "Choudhury Chowk",
         "1941-12-26",
         "Female",
         "+91 9287216619",
         "India",
         "Vellore",
         239532,
         "S101",
         "N",
         "1961-12-26",
         "1969-02-23"
        ],
        [
         "SUBID10072",
         "Gopal",
         "Srivastav",
         "Desai Street",
         "1936-03-11",
         "Female",
         "+91 3791210190",
         "India",
         "Bidhannagar",
         761800,
         "S103",
         "Y",
         "1956-03-11",
         "1964-07-28"
        ],
        [
         "SUBID1073",
         "Virender",
         "Maurrya",
         "Chakrabarti",
         "1936-10-27",
         "Male",
         "+91 7734026802",
         "India",
         "Bhusawal",
         374302,
         "S104",
         "N",
         "1956-10-27",
         "1961-04-27"
        ],
        [
         "SUBID10074",
         null,
         "Singh",
         "Kalla Path",
         "1963-11-21",
         "Male",
         "+91 7881749363",
         "India",
         "Bokaro",
         866319,
         "S105",
         "Y",
         "1983-11-21",
         "1985-09-29"
        ],
        [
         "SUBID10075",
         null,
         "Singh",
         "Iyengar Nagar",
         "1956-01-29",
         "Male",
         "+91 6891482136",
         "India",
         "Navi Mumbai",
         836175,
         "S107",
         "N",
         "1976-01-29",
         "1979-05-25"
        ],
        [
         "SUBID10076",
         "Mamta",
         "Tiwari",
         "Batra",
         "1964-12-21",
         "Female",
         "+91 5559521919",
         "India",
         "Secunderabad",
         123181,
         "S104",
         "N",
         "1984-12-21",
         "1987-01-08"
        ],
        [
         "SUBID10077",
         "Girija",
         "Maurrya",
         "Iyengar Road",
         "1933-04-25",
         "Male",
         "+91 1811765039",
         "India",
         "Jaipur",
         204379,
         "S105",
         "N",
         "1953-04-25",
         "1963-04-18"
        ],
        [
         "SUBID10078",
         "Aaraadhana",
         "Rao",
         "Raval Nagar",
         "1980-02-07",
         "Male",
         "+91 2432610572",
         "India",
         "Jhansi",
         429941,
         "S108",
         "N",
         "2000-02-07",
         "2005-02-06"
        ],
        [
         "SUBID10079",
         "Shahnawaz",
         "Mishra",
         "Agate Path",
         "1971-06-24",
         "Female",
         "+91 4117017589",
         "India",
         "Rampur",
         528893,
         "S102",
         "Y",
         "1991-06-24",
         "2000-09-13"
        ],
        [
         "SUBID10080",
         "Tej",
         "Sonkar",
         "Sarraf Chowk",
         "1942-06-11",
         "Male",
         "+91 3450311029",
         "India",
         "Haridwar",
         506221,
         "S105",
         "Y",
         "1962-06-11",
         "1964-10-14"
        ],
        [
         "SUBID10081",
         "Mansi",
         "Divedi",
         "Bhattacharyya Road",
         "1947-03-20",
         "Female",
         "+91 1135113927",
         "India",
         "Hosur",
         995152,
         "S105",
         "Y",
         "1967-03-20",
         "1971-07-25"
        ],
        [
         "SUBID10082",
         "Girika",
         "Thakur",
         "Sinha Zila",
         "1968-11-03",
         "Female",
         "+91 5601148700",
         "India",
         "Hospet",
         683614,
         "S102",
         "N",
         "1988-11-03",
         "1992-01-21"
        ],
        [
         "SUBID10083",
         "Bhilangana",
         "Pandit",
         "Ramachandran Path",
         "1995-01-04",
         "Female",
         "+91 6653069630",
         "India",
         "Fatehpur",
         359466,
         "S109",
         "Y",
         "2015-01-04",
         "2017-10-05"
        ],
        [
         "SUBID10084",
         null,
         "Thakur",
         "Raval Zila",
         "1924-06-07",
         "Female",
         "+91 7367059254",
         "India",
         "Bhavnagar",
         464111,
         "S107",
         "Y",
         "1944-06-07",
         "1952-05-22"
        ],
        [
         "SUBID10085",
         "Sukanya",
         "Sonkar",
         "Sangha Street",
         "1942-01-16",
         "Female",
         "+91 5689645499",
         "India",
         "Vijayanagaram",
         226215,
         "S101",
         "N",
         "1962-01-16",
         "1967-04-10"
        ],
        [
         "SUBID1086",
         "Banita",
         "Rao",
         "Thakur",
         "1979-01-28",
         "Male",
         "+91 4743834161",
         "India",
         "Ghaziabad",
         907613,
         "S109",
         "N",
         "1999-01-28",
         "2000-09-05"
        ],
        [
         "SUBID1087",
         null,
         "Pandit",
         "Srivastava Path",
         "1924-12-10",
         "Female",
         "+91 9158965227",
         "India",
         "Sambhal",
         279219,
         "S103",
         "N",
         "1944-12-10",
         "1951-07-16"
        ],
        [
         "SUBID10088",
         null,
         "Rajput",
         "Dua Zila",
         "1922-07-30",
         "Female",
         "+91 9523946101",
         "India",
         "Tadipatri",
         743449,
         "S110",
         "N",
         "1942-07-30",
         "1949-06-07"
        ],
        [
         "SUBID10089",
         "Dhuha",
         "Tiwari",
         "Aggarwal Street",
         "1952-08-21",
         "Male",
         "+91 3188519840",
         "India",
         "Rampur",
         492137,
         "S104",
         null,
         "1972-08-21",
         "1981-05-13"
        ],
        [
         "SUBID10090",
         null,
         "Mishra",
         "Chandran Nagar",
         "1938-06-07",
         "Female",
         "+91 6869721169",
         "India",
         "Sikar",
         564747,
         "S101",
         "Y",
         "1958-06-07",
         "1967-08-23"
        ],
        [
         "SUBID1091",
         null,
         "Thakur",
         "Bala",
         "1930-12-31",
         "Male",
         "+91 9664169480",
         "India",
         "Kamarhati",
         682652,
         "S110",
         "Y",
         "1950-12-31",
         "1958-06-21"
        ],
        [
         "SUBID10092",
         null,
         "Rai",
         "Karan Street",
         "1940-08-22",
         "Others",
         "+91 7498206646",
         "India",
         "Ghaziabad",
         79586,
         "S108",
         "N",
         "1960-08-22",
         "1966-10-06"
        ],
        [
         "SUBID10093",
         "Chandavarman",
         "Singh",
         "Sarkar Circle",
         "1997-05-10",
         "Others",
         "+91 6559031791",
         "India",
         "Navi Mumbai",
         83240,
         "S110",
         "N",
         "2017-05-10",
         "2022-08-27"
        ],
        [
         "SUBID10094",
         "Charanpal",
         "Yadav",
         "Sehgal Circle",
         "1986-10-12",
         "Male",
         "+91 2196055115",
         "India",
         "Gurgaon",
         640326,
         "S109",
         "Y",
         "2006-10-12",
         "2016-05-13"
        ],
        [
         "SUBID10095",
         "Ekaaksh",
         "Rai",
         "Bansal Ganj",
         "1933-12-02",
         "Others",
         null,
         "India",
         "Pimpri-Chinchwad",
         158186,
         "S107",
         "N",
         "1953-12-02",
         "1960-07-29"
        ],
        [
         "SUBID10096",
         "Chanak",
         "Sonkar",
         "Kaur",
         "1959-04-07",
         "Others",
         "+91 7284540687",
         "India",
         "Raurkela Industrial Township",
         899590,
         "S101",
         "Y",
         "1979-04-07",
         "1986-03-07"
        ],
        [
         "SUBID10097",
         null,
         "Sonkar",
         "Rana Ganj",
         "1940-02-04",
         "Others",
         "+91 8908240160",
         "India",
         "Mira-Bhayandar",
         896586,
         "S107",
         "Y",
         "1960-02-04",
         "1965-01-12"
        ],
        [
         "SUBID1098",
         "Pushkar",
         "Kumar",
         "Sodhi Zila",
         "1934-10-05",
         "Others",
         "+91 8956368286",
         "India",
         "Korba",
         910732,
         "S107",
         "Y",
         "1954-10-05",
         "1961-04-05"
        ],
        [
         "SUBID10099",
         "Shikha",
         "Srivastav",
         "Ahuja Road",
         "1970-09-06",
         "Others",
         "+91 3042509956",
         "India",
         "Nanded",
         101500,
         "S109",
         "Y",
         "1990-09-06",
         "1997-11-27"
        ]
       ],
       "datasetInfos": [],
       "dbfsResultPath": null,
       "isJsonSchema": true,
       "metadata": {},
       "overflow": false,
       "plotOptions": {
        "customPlotOptions": {},
        "displayType": "table",
        "pivotAggregation": null,
        "pivotColumns": null,
        "xColumns": null,
        "yColumns": null
       },
       "removedWidgets": [],
       "schema": [
        {
         "metadata": "{}",
         "name": "sub_id",
         "type": "\"string\""
        },
        {
         "metadata": "{}",
         "name": "first_name",
         "type": "\"string\""
        },
        {
         "metadata": "{}",
         "name": "last_name",
         "type": "\"string\""
        },
        {
         "metadata": "{}",
         "name": "Street",
         "type": "\"string\""
        },
        {
         "metadata": "{\"__detected_date_formats\":\"d-M-yyyy\"}",
         "name": "Birth_date",
         "type": "\"date\""
        },
        {
         "metadata": "{}",
         "name": "Gender",
         "type": "\"string\""
        },
        {
         "metadata": "{}",
         "name": "Phone",
         "type": "\"string\""
        },
        {
         "metadata": "{}",
         "name": "Country",
         "type": "\"string\""
        },
        {
         "metadata": "{}",
         "name": "City",
         "type": "\"string\""
        },
        {
         "metadata": "{}",
         "name": "Zip Code",
         "type": "\"integer\""
        },
        {
         "metadata": "{}",
         "name": "Subgrp_id",
         "type": "\"string\""
        },
        {
         "metadata": "{}",
         "name": "Elig_ind",
         "type": "\"string\""
        },
        {
         "metadata": "{\"__detected_date_formats\":\"d-M-yyyy\"}",
         "name": "eff_date",
         "type": "\"date\""
        },
        {
         "metadata": "{\"__detected_date_formats\":\"d-M-yyyy\"}",
         "name": "term_date",
         "type": "\"date\""
        }
       ],
       "type": "table"
      }
     },
     "output_type": "display_data"
    }
   ],
   "source": [
    "df.display()"
   ]
  },
  {
   "cell_type": "code",
   "execution_count": 0,
   "metadata": {
    "application/vnd.databricks.v1+cell": {
     "cellMetadata": {
      "byteLimit": 2048000,
      "rowLimit": 10000
     },
     "inputWidgets": {},
     "nuid": "e8ad996a-3e08-4024-a3c3-fadcd87f6d22",
     "showTitle": false,
     "tableResultSettingsMap": {},
     "title": ""
    }
   },
   "outputs": [
    {
     "output_type": "stream",
     "name": "stdout",
     "output_type": "stream",
     "text": [
      "+------+----------+---------+------+------+-----+-------+----+--------+---------+--------+\n|sub_id|first_name|last_name|Street|Gender|Phone|Country|City|Zip Code|Subgrp_id|Elig_ind|\n+------+----------+---------+------+------+-----+-------+----+--------+---------+--------+\n|     0|        27|        0|     0|     0|    3|      0|   0|       0|        2|       4|\n+------+----------+---------+------+------+-----+-------+----+--------+---------+--------+\n\n"
     ]
    }
   ],
   "source": [
    "df_sel = df.select('sub_id', 'first_name', 'last_name', 'Street', 'Gender', 'Phone', 'Country', 'City', 'Zip Code', 'Subgrp_id', 'Elig_ind') \n",
    "missingvaluecheck(df_sel)"
   ]
  },
  {
   "cell_type": "code",
   "execution_count": 0,
   "metadata": {
    "application/vnd.databricks.v1+cell": {
     "cellMetadata": {
      "byteLimit": 2048000,
      "rowLimit": 10000
     },
     "inputWidgets": {},
     "nuid": "4e26543a-b196-42df-8b06-263c32d1ddec",
     "showTitle": false,
     "tableResultSettingsMap": {},
     "title": ""
    }
   },
   "outputs": [
    {
     "output_type": "stream",
     "name": "stdout",
     "output_type": "stream",
     "text": [
      "+----------+--------+---------+\n|Birth_date|eff_date|term_date|\n+----------+--------+---------+\n|         0|       0|        0|\n+----------+--------+---------+\n\n"
     ]
    }
   ],
   "source": [
    "df_date = df.select('Birth_date','eff_date','term_date')\n",
    "df_date.select([col(c).isNull().cast('int').alias(c) for c in df_date.columns]).agg(*[sum(col(c)).alias(c) for c in df_date.columns]).show()"
   ]
  },
  {
   "cell_type": "code",
   "execution_count": 0,
   "metadata": {
    "application/vnd.databricks.v1+cell": {
     "cellMetadata": {
      "byteLimit": 2048000,
      "rowLimit": 10000
     },
     "inputWidgets": {},
     "nuid": "18bca534-93fa-47e5-8550-06eb344f4b51",
     "showTitle": false,
     "tableResultSettingsMap": {},
     "title": ""
    }
   },
   "outputs": [
    {
     "output_type": "stream",
     "name": "stdout",
     "output_type": "stream",
     "text": [
      "+------+----------+---------+------+----------+------+-----+-------+----+--------+---------+--------+--------+---------+\n|sub_id|first_name|last_name|Street|Birth_date|Gender|Phone|Country|City|Zip Code|Subgrp_id|Elig_ind|eff_date|term_date|\n+------+----------+---------+------+----------+------+-----+-------+----+--------+---------+--------+--------+---------+\n|     0|        27|        0|     0|         0|     0|    3|      0|   0|       0|        2|       4|       0|        0|\n+------+----------+---------+------+----------+------+-----+-------+----+--------+---------+--------+--------+---------+\n\n"
     ]
    }
   ],
   "source": [
    "missingvaluecheck_alldatatypes(df)"
   ]
  },
  {
   "cell_type": "code",
   "execution_count": 0,
   "metadata": {
    "application/vnd.databricks.v1+cell": {
     "cellMetadata": {
      "byteLimit": 2048000,
      "rowLimit": 10000
     },
     "inputWidgets": {},
     "nuid": "f7fec2f7-a22b-4a2f-8f53-8970e7c01608",
     "showTitle": false,
     "tableResultSettingsMap": {},
     "title": ""
    }
   },
   "outputs": [],
   "source": [
    "df = df.fillna({'first_name': 'Visitor/NA', 'Elig_ind': 'N'})\n",
    "df = df.drop('Phone')\n",
    "df = df.withColumn('age', round(months_between(current_date(), df.Birth_date)/12,0).cast('integer'))\n",
    "df = df.drop('Birth_date')"
   ]
  },
  {
   "cell_type": "code",
   "execution_count": 0,
   "metadata": {
    "application/vnd.databricks.v1+cell": {
     "cellMetadata": {
      "byteLimit": 2048000,
      "rowLimit": 10000
     },
     "inputWidgets": {},
     "nuid": "7ef070b6-4af8-450a-94ba-babcd0652893",
     "showTitle": false,
     "tableResultSettingsMap": {},
     "title": ""
    }
   },
   "outputs": [
    {
     "output_type": "stream",
     "name": "stdout",
     "output_type": "stream",
     "text": [
      "+------+----------+---------+------+------+-------+----+--------+---------+--------+--------+---------+---+\n|sub_id|first_name|last_name|Street|Gender|Country|City|Zip Code|Subgrp_id|Elig_ind|eff_date|term_date|age|\n+------+----------+---------+------+------+-------+----+--------+---------+--------+--------+---------+---+\n|     0|         0|        0|     0|     0|      0|   0|       0|        2|       0|       0|        0|  0|\n+------+----------+---------+------+------+-------+----+--------+---------+--------+--------+---------+---+\n\n"
     ]
    }
   ],
   "source": [
    "missingvaluecheck_alldatatypes(df)"
   ]
  },
  {
   "cell_type": "code",
   "execution_count": 0,
   "metadata": {
    "application/vnd.databricks.v1+cell": {
     "cellMetadata": {
      "byteLimit": 2048000,
      "rowLimit": 10000
     },
     "inputWidgets": {},
     "nuid": "51d7dde3-a8f1-4fa2-b657-a09415736efa",
     "showTitle": false,
     "tableResultSettingsMap": {},
     "title": ""
    }
   },
   "outputs": [
    {
     "output_type": "display_data",
     "data": {
      "text/html": [
       "<style scoped>\n",
       "  .table-result-container {\n",
       "    max-height: 300px;\n",
       "    overflow: auto;\n",
       "  }\n",
       "  table, th, td {\n",
       "    border: 1px solid black;\n",
       "    border-collapse: collapse;\n",
       "  }\n",
       "  th, td {\n",
       "    padding: 5px;\n",
       "  }\n",
       "  th {\n",
       "    text-align: left;\n",
       "  }\n",
       "</style><div class='table-result-container'><table class='table-result'><thead style='background-color: white'><tr><th>sub_id</th><th>first_name</th><th>last_name</th><th>Street</th><th>Gender</th><th>Country</th><th>City</th><th>Zip Code</th><th>Subgrp_id</th><th>Elig_ind</th><th>eff_date</th><th>term_date</th><th>age</th></tr></thead><tbody><tr><td>SUBID10000</td><td>Harbir</td><td>Vishwakarma</td><td>Baria Marg</td><td>Female</td><td>India</td><td>Rourkela</td><td>767058</td><td>S107</td><td>Y</td><td>1944-06-30</td><td>1954-01-14</td><td>101</td></tr><tr><td>SUBID10001</td><td>Brahmdev</td><td>Sonkar</td><td>Lala Marg</td><td>Female</td><td>India</td><td>Tiruvottiyur</td><td>34639</td><td>S105</td><td>Y</td><td>1968-12-20</td><td>1970-05-16</td><td>76</td></tr><tr><td>SUBID10002</td><td>Ujjawal</td><td>Devi</td><td>Mammen Zila</td><td>Male</td><td>India</td><td>Berhampur</td><td>914455</td><td>S106</td><td>N</td><td>2000-04-16</td><td>2008-05-04</td><td>45</td></tr><tr><td>SUBID10003</td><td>Ballari</td><td>Mishra</td><td>Sahni Zila</td><td>Female</td><td>India</td><td>Bihar Sharif</td><td>91481</td><td>S104</td><td>N</td><td>1989-09-25</td><td>1995-06-05</td><td>55</td></tr><tr><td>SUBID10004</td><td>Devnath</td><td>Srivastav</td><td>Magar Zila</td><td>Female</td><td>India</td><td>Bidhannagar</td><td>531742</td><td>S110</td><td>N</td><td>1966-05-01</td><td>1970-12-09</td><td>79</td></tr><tr><td>SUBID10005</td><td>Atasi</td><td>Seth</td><td>Khatri Nagar</td><td>Male</td><td>India</td><td>Amravati</td><td>229062</td><td>S104</td><td>Y</td><td>1987-10-02</td><td>1995-02-13</td><td>57</td></tr><tr><td>SUBID1006</td><td>Manish</td><td>Maurya</td><td>Swaminathan Chowk</td><td>Male</td><td>India</td><td>Panvel</td><td>438733</td><td>S109</td><td>N</td><td>1987-06-06</td><td>1995-03-21</td><td>58</td></tr><tr><td>SUBID10007</td><td>Aakar</td><td>Yadav</td><td>Swamy</td><td>Female</td><td>India</td><td>Bihar Sharif</td><td>535907</td><td>S104</td><td>N</td><td>1945-03-05</td><td>1946-11-07</td><td>100</td></tr><tr><td>SUBID10008</td><td>Gurudas</td><td>Gupta</td><td>Sarin Nagar</td><td>Male</td><td>India</td><td>Kamarhati</td><td>933226</td><td>S103</td><td>Y</td><td>1965-05-06</td><td>1970-09-16</td><td>80</td></tr><tr><td>SUBID10009</td><td>Visitor/NA</td><td>Gupta</td><td>Thakur Circle</td><td>Male</td><td>India</td><td>Bangalore</td><td>957469</td><td>S105</td><td>Y</td><td>1945-06-12</td><td>1953-08-30</td><td>100</td></tr><tr><td>SUBID1010</td><td>Visitor/NA</td><td>Divedi</td><td>Dhillon</td><td>Male</td><td>India</td><td>Rajkot</td><td>911319</td><td>S102</td><td>Y</td><td>1996-02-03</td><td>2002-01-27</td><td>49</td></tr><tr><td>SUBID10011</td><td>Visitor/NA</td><td>Vishwakarma</td><td>Rajagopalan</td><td>Female</td><td>India</td><td>Ghaziabad</td><td>337042</td><td>S106</td><td>N</td><td>1975-01-22</td><td>1978-11-02</td><td>70</td></tr><tr><td>SUBID10012</td><td>Dharmadaas</td><td>Tiwari</td><td>Rama</td><td>Male</td><td>India</td><td>Bhalswa Jahangir Pur</td><td>430793</td><td>S103</td><td>N</td><td>1984-04-29</td><td>1988-02-07</td><td>61</td></tr><tr><td>SUBID10013</td><td>Brahmvir</td><td>Rai</td><td>Shah Path</td><td>Male</td><td>India</td><td>Ambala</td><td>249898</td><td>S106</td><td>N</td><td>2011-11-11</td><td>2020-05-23</td><td>33</td></tr><tr><td>SUBID10014</td><td>Visitor/NA</td><td>Srivastav</td><td>Chandra Path</td><td>Female</td><td>India</td><td>Surendranagar Dudhrej</td><td>111966</td><td>S102</td><td>N</td><td>2001-01-25</td><td>2005-07-13</td><td>44</td></tr><tr><td>SUBID10015</td><td>Bhagvan</td><td>Srivastav</td><td>Edwin</td><td>Female</td><td>India</td><td>Bhimavaram</td><td>436513</td><td>S105</td><td>Y</td><td>1986-07-24</td><td>1988-02-04</td><td>59</td></tr><tr><td>SUBID10016</td><td>Amritkala</td><td>Srivastav</td><td>Guha Path</td><td>Female</td><td>India</td><td>Meerut</td><td>863467</td><td>S106</td><td>Y</td><td>1953-11-20</td><td>1955-07-29</td><td>91</td></tr><tr><td>SUBID10017</td><td>Bandhu</td><td>Seth</td><td>Varughese</td><td>Male</td><td>India</td><td>Chinsurah</td><td>136713</td><td>S108</td><td>N</td><td>2016-10-15</td><td>2018-06-08</td><td>28</td></tr><tr><td>SUBID10018</td><td>Bhagavaana</td><td>Kumar</td><td>Kulkarni Zila</td><td>Female</td><td>India</td><td>Shahjahanpur</td><td>597276</td><td>S101</td><td>N</td><td>1955-09-16</td><td>1958-05-31</td><td>90</td></tr><tr><td>SUBID10019</td><td>Visitor/NA</td><td>Maurya</td><td>Sharaf Nagar</td><td>Female</td><td>India</td><td>Jabalpur</td><td>958538</td><td>S104</td><td>N</td><td>1944-11-09</td><td>1951-10-14</td><td>100</td></tr><tr><td>SUBID1020</td><td>Umang</td><td>Srivastav</td><td>Balay Chowk</td><td>Female</td><td>India</td><td>Haridwar</td><td>181692</td><td>S109</td><td>Y</td><td>1983-07-14</td><td>1986-01-15</td><td>62</td></tr><tr><td>SUBID1021</td><td>Darsana</td><td>Yadav</td><td>Upadhyay Zila</td><td>Male</td><td>India</td><td>Dibrugarh</td><td>187414</td><td>S109</td><td>Y</td><td>1952-05-29</td><td>1953-10-14</td><td>93</td></tr><tr><td>SUBID10022</td><td>Prakash</td><td>Rao</td><td>Sachar</td><td>Female</td><td>India</td><td>Kottayam</td><td>180680</td><td>null</td><td>N</td><td>1943-09-15</td><td>1948-10-19</td><td>102</td></tr><tr><td>SUBID10023</td><td>Vaijayanti</td><td>Pratap</td><td>Khalsa Nagar</td><td>Male</td><td>India</td><td>Mira-Bhayandar</td><td>419190</td><td>S102</td><td>Y</td><td>1940-11-13</td><td>1946-03-10</td><td>104</td></tr><tr><td>SUBID10024</td><td>Menakshi</td><td>Seth</td><td>Wable Street</td><td>Male</td><td>India</td><td>Kamarhati</td><td>882577</td><td>S107</td><td>N</td><td>2007-03-06</td><td>2014-02-25</td><td>38</td></tr><tr><td>SUBID10025</td><td>Visitor/NA</td><td>Tiwari</td><td>Sha Chowk</td><td>Male</td><td>India</td><td>Karimnagar</td><td>567762</td><td>S106</td><td>N</td><td>1975-12-24</td><td>1983-02-03</td><td>69</td></tr><tr><td>SUBID10026</td><td>Ekant</td><td>Sonkar</td><td>Walla Road</td><td>Male</td><td>India</td><td>Berhampore</td><td>948589</td><td>S110</td><td>Y</td><td>1963-08-13</td><td>1967-05-29</td><td>82</td></tr><tr><td>SUBID10027</td><td>Chancharik</td><td>Pandey</td><td>Karan Ganj</td><td>Male</td><td>India</td><td>Chapra</td><td>154667</td><td>S109</td><td>N</td><td>2003-09-05</td><td>2011-06-12</td><td>42</td></tr><tr><td>SUBID10028</td><td>Pushti</td><td>Pandit</td><td>Deol Path</td><td>Female</td><td>India</td><td>Morbi</td><td>284168</td><td>S106</td><td>N</td><td>1955-10-15</td><td>1959-06-04</td><td>89</td></tr><tr><td>SUBID10029</td><td>Swati</td><td>Seth</td><td>Kant Marg</td><td>Female</td><td>India</td><td>Amravati</td><td>932221</td><td>S102</td><td>N</td><td>2007-12-11</td><td>2011-10-17</td><td>37</td></tr><tr><td>SUBID1030</td><td>Upasana</td><td>Pandey</td><td>Seth Chowk</td><td>Male</td><td>India</td><td>Hyderabad</td><td>234823</td><td>S102</td><td>N</td><td>1976-06-01</td><td>1981-02-14</td><td>69</td></tr><tr><td>SUBID10031</td><td>Kanhaiya</td><td>Lal</td><td>Savant Nagar</td><td>Female</td><td>India</td><td>Mysore</td><td>638433</td><td>S104</td><td>Y</td><td>1974-10-19</td><td>1977-01-03</td><td>70</td></tr><tr><td>SUBID1032</td><td>Visitor/NA</td><td>Seth</td><td>Sandhu Chowk</td><td>Female</td><td>India</td><td>Gwalior</td><td>611826</td><td>S110</td><td>N</td><td>1988-07-02</td><td>1991-03-14</td><td>57</td></tr><tr><td>SUBID10033</td><td>Gensho</td><td>Srivastav</td><td>Korpal Ganj</td><td>Male</td><td>India</td><td>Ludhiana</td><td>835018</td><td>S101</td><td>N</td><td>2012-06-06</td><td>2022-01-09</td><td>33</td></tr><tr><td>SUBID1034</td><td>Gopal</td><td>Das</td><td>Saini</td><td>Male</td><td>India</td><td>Raebareli</td><td>176221</td><td>S101</td><td>N</td><td>2006-05-14</td><td>2011-04-08</td><td>39</td></tr><tr><td>SUBID10035</td><td>Dheeman</td><td>Tiwari</td><td>Dube Marg</td><td>Male</td><td>India</td><td>Mysore</td><td>811970</td><td>S101</td><td>Y</td><td>1965-05-04</td><td>1973-11-13</td><td>80</td></tr><tr><td>SUBID1036</td><td>Upasana</td><td>Thakur</td><td>Vasa Ganj</td><td>Female</td><td>India</td><td>Ratlam</td><td>326733</td><td>S108</td><td>N</td><td>1947-10-03</td><td>1951-02-20</td><td>97</td></tr><tr><td>SUBID1037</td><td>Visitor/NA</td><td>Rajput</td><td>Shere Chowk</td><td>Male</td><td>India</td><td>Vadodara</td><td>877443</td><td>S101</td><td>Y</td><td>1968-11-10</td><td>1973-12-25</td><td>76</td></tr><tr><td>SUBID1038</td><td>Visitor/NA</td><td>Thakur</td><td>Rastogi Street</td><td>Female</td><td>India</td><td>Vijayawada</td><td>438940</td><td>S104</td><td>N</td><td>1975-04-07</td><td>1982-01-25</td><td>70</td></tr><tr><td>SUBID10039</td><td>Madhubala</td><td>Yadav</td><td>Sangha Marg</td><td>Male</td><td>India</td><td>Jaunpur</td><td>624102</td><td>S104</td><td>Y</td><td>1957-01-11</td><td>1965-10-09</td><td>88</td></tr><tr><td>SUBID10040</td><td>Anjushree</td><td>Pandey</td><td>Vora Ganj</td><td>Male</td><td>India</td><td>Ghaziabad</td><td>782221</td><td>S105</td><td>N</td><td>1996-07-04</td><td>1999-02-17</td><td>49</td></tr><tr><td>SUBID1041</td><td>Visitor/NA</td><td>Rajput</td><td>Sinha Path</td><td>Female</td><td>India</td><td>Agartala</td><td>303503</td><td>S110</td><td>Y</td><td>1950-11-25</td><td>1957-09-14</td><td>94</td></tr><tr><td>SUBID10042</td><td>Chakrika</td><td>Sonkar</td><td>Bansal Circle</td><td>Male</td><td>India</td><td>Ranchi</td><td>503290</td><td>S108</td><td>Y</td><td>1984-08-05</td><td>1992-09-09</td><td>61</td></tr><tr><td>SUBID1043</td><td>Saroj</td><td>Pandit</td><td>Sathe Zila</td><td>Female</td><td>India</td><td>Muzaffarpur</td><td>130486</td><td>S103</td><td>Y</td><td>1962-08-26</td><td>1964-08-29</td><td>83</td></tr><tr><td>SUBID1044</td><td>Ayushmati</td><td>Vishwakarma</td><td>Balakrishnan Street</td><td>Male</td><td>India</td><td>Satna</td><td>131247</td><td>S108</td><td>N</td><td>1952-09-20</td><td>1961-01-24</td><td>92</td></tr><tr><td>SUBID1045</td><td>Drashti</td><td>Divedi</td><td>Wadhwa</td><td>Male</td><td>India</td><td>Saharsa</td><td>581568</td><td>S104</td><td>Y</td><td>1946-07-03</td><td>1952-11-27</td><td>99</td></tr><tr><td>SUBID10046</td><td>Aayushmaan</td><td>Maurya</td><td>Johal Nagar</td><td>Female</td><td>India</td><td>Mehsana</td><td>987281</td><td>S104</td><td>Y</td><td>2003-11-14</td><td>2012-10-22</td><td>41</td></tr><tr><td>SUBID1047</td><td>Visitor/NA</td><td>Rai</td><td>Sagar Chowk</td><td>Male</td><td>India</td><td>Shivpuri</td><td>794170</td><td>S109</td><td>Y</td><td>1951-02-04</td><td>1955-07-14</td><td>94</td></tr><tr><td>SUBID10048</td><td>Chitranjan</td><td>Mishra</td><td>Madan Nagar</td><td>Female</td><td>India</td><td>Morbi</td><td>945697</td><td>S108</td><td>N</td><td>1945-09-09</td><td>1952-06-21</td><td>100</td></tr><tr><td>SUBID10049</td><td>Paridhi</td><td>Yadav</td><td>Sant Path</td><td>Female</td><td>India</td><td>Jabalpur</td><td>883754</td><td>null</td><td>N</td><td>1979-03-27</td><td>1985-06-01</td><td>66</td></tr><tr><td>SUBID10050</td><td>Deependu</td><td>Gupta</td><td>Banik Ganj</td><td>Female</td><td>India</td><td>Bareilly</td><td>417855</td><td>S102</td><td>Y</td><td>1972-02-13</td><td>1976-08-23</td><td>73</td></tr><tr><td>SUBID10051</td><td>Visitor/NA</td><td>Rajput</td><td>Chauhan Chowk</td><td>Male</td><td>India</td><td>Baranagar</td><td>765234</td><td>S103</td><td>Y</td><td>1966-10-17</td><td>1969-06-26</td><td>78</td></tr><tr><td>SUBID10052</td><td>Laksman</td><td>Rao</td><td>Sood Marg</td><td>Female</td><td>India</td><td>Ahmednagar</td><td>117923</td><td>S101</td><td>Y</td><td>1959-05-26</td><td>1960-11-07</td><td>86</td></tr><tr><td>SUBID10053</td><td>Visitor/NA</td><td>Sonkar</td><td>Shetty Marg</td><td>Male</td><td>India</td><td>Pali</td><td>383290</td><td>S102</td><td>Y</td><td>2008-06-27</td><td>2016-10-30</td><td>37</td></tr><tr><td>SUBID10054</td><td>Shivakari</td><td>Pratap</td><td>Dugar Road</td><td>Female</td><td>India</td><td>Hapur</td><td>28202</td><td>S104</td><td>N</td><td>1964-11-02</td><td>1967-06-15</td><td>80</td></tr><tr><td>SUBID10055</td><td>Madhu</td><td>Thakur</td><td>Sule Marg</td><td>Male</td><td>India</td><td>Udaipur</td><td>565423</td><td>S107</td><td>N</td><td>2004-10-23</td><td>2008-07-10</td><td>40</td></tr><tr><td>SUBID10056</td><td>Chanak</td><td>Gupta</td><td>Shetty Nagar</td><td>Male</td><td>India</td><td>Jalandhar</td><td>602989</td><td>S105</td><td>N</td><td>1974-08-27</td><td>1982-06-15</td><td>71</td></tr><tr><td>SUBID10057</td><td>Chittesh</td><td>Pandey</td><td>Mangal Chowk</td><td>Male</td><td>India</td><td>Thoothukudi</td><td>666415</td><td>S109</td><td>Y</td><td>1969-10-17</td><td>1975-10-08</td><td>75</td></tr><tr><td>SUBID1058</td><td>Nawal</td><td>Rajput</td><td>Deol Nagar</td><td>Male</td><td>India</td><td>Bhopal</td><td>791168</td><td>S106</td><td>N</td><td>1960-01-22</td><td>1969-04-18</td><td>85</td></tr><tr><td>SUBID10059</td><td>Gajabahu</td><td>Singh</td><td>Kara</td><td>Male</td><td>India</td><td>Udupi</td><td>637221</td><td>S101</td><td>Y</td><td>1979-03-15</td><td>1986-07-05</td><td>66</td></tr><tr><td>SUBID10060</td><td>Jitesh</td><td>Vishwakarma</td><td>Gopal Path</td><td>Male</td><td>India</td><td>Karimnagar</td><td>124564</td><td>S110</td><td>Y</td><td>2003-02-03</td><td>2008-04-30</td><td>42</td></tr><tr><td>SUBID10061</td><td>Visitor/NA</td><td>Rajput</td><td>Anand Path</td><td>Female</td><td>India</td><td>Kharagpur</td><td>934938</td><td>S103</td><td>N</td><td>1986-09-25</td><td>1991-06-03</td><td>58</td></tr><tr><td>SUBID1062</td><td>Lalit</td><td>Mishra</td><td>Comar Street</td><td>Female</td><td>India</td><td>Tinsukia</td><td>963770</td><td>S103</td><td>N</td><td>1944-02-15</td><td>1947-09-28</td><td>101</td></tr><tr><td>SUBID1063</td><td>Anshuk</td><td>Srivastav</td><td>Sridhar Path</td><td>Male</td><td>India</td><td>Uluberia</td><td>270985</td><td>S105</td><td>N</td><td>2011-06-17</td><td>2014-07-11</td><td>34</td></tr><tr><td>SUBID10064</td><td>Visitor/NA</td><td>Pandey</td><td>Mangat Path</td><td>Male</td><td>India</td><td>Panihati</td><td>643791</td><td>S110</td><td>N</td><td>2014-01-13</td><td>2019-02-24</td><td>31</td></tr><tr><td>SUBID1065</td><td>Dipesh</td><td>Mishra</td><td>Char Path</td><td>Female</td><td>India</td><td>Kochi</td><td>31269</td><td>S103</td><td>Y</td><td>1969-04-01</td><td>1970-06-02</td><td>76</td></tr><tr><td>SUBID10066</td><td>Visitor/NA</td><td>Seth</td><td>Chaudhuri Marg</td><td>Male</td><td>India</td><td>Kolhapur</td><td>597470</td><td>S102</td><td>N</td><td>1950-09-01</td><td>1957-12-01</td><td>95</td></tr><tr><td>SUBID1067</td><td>Kishan</td><td>Rao</td><td>Badal Nagar</td><td>Male</td><td>India</td><td>Srikakulam</td><td>703899</td><td>S110</td><td>Y</td><td>1943-05-12</td><td>1946-09-20</td><td>102</td></tr><tr><td>SUBID10068</td><td>Visitor/NA</td><td>Mishra</td><td>Bath Nagar</td><td>Female</td><td>India</td><td>Ambarnath</td><td>766224</td><td>S110</td><td>N</td><td>1947-02-26</td><td>1948-03-30</td><td>98</td></tr><tr><td>SUBID10069</td><td>Bhageeratha</td><td>Srivastav</td><td>Das Ganj</td><td>Male</td><td>India</td><td>Sonipat</td><td>695316</td><td>S103</td><td>Y</td><td>1993-03-21</td><td>1997-08-01</td><td>52</td></tr><tr><td>SUBID10070</td><td>Balaaditya</td><td>Gupta</td><td>Varty Road</td><td>Male</td><td>India</td><td>Hajipur</td><td>3526</td><td>S109</td><td>N</td><td>1943-11-02</td><td>1952-09-24</td><td>101</td></tr><tr><td>SUBID10071</td><td>Visitor/NA</td><td>Rai</td><td>Choudhury Chowk</td><td>Female</td><td>India</td><td>Vellore</td><td>239532</td><td>S101</td><td>N</td><td>1961-12-26</td><td>1969-02-23</td><td>83</td></tr><tr><td>SUBID10072</td><td>Gopal</td><td>Srivastav</td><td>Desai Street</td><td>Female</td><td>India</td><td>Bidhannagar</td><td>761800</td><td>S103</td><td>Y</td><td>1956-03-11</td><td>1964-07-28</td><td>89</td></tr><tr><td>SUBID1073</td><td>Virender</td><td>Maurrya</td><td>Chakrabarti</td><td>Male</td><td>India</td><td>Bhusawal</td><td>374302</td><td>S104</td><td>N</td><td>1956-10-27</td><td>1961-04-27</td><td>88</td></tr><tr><td>SUBID10074</td><td>Visitor/NA</td><td>Singh</td><td>Kalla Path</td><td>Male</td><td>India</td><td>Bokaro</td><td>866319</td><td>S105</td><td>Y</td><td>1983-11-21</td><td>1985-09-29</td><td>61</td></tr><tr><td>SUBID10075</td><td>Visitor/NA</td><td>Singh</td><td>Iyengar Nagar</td><td>Male</td><td>India</td><td>Navi Mumbai</td><td>836175</td><td>S107</td><td>N</td><td>1976-01-29</td><td>1979-05-25</td><td>69</td></tr><tr><td>SUBID10076</td><td>Mamta</td><td>Tiwari</td><td>Batra</td><td>Female</td><td>India</td><td>Secunderabad</td><td>123181</td><td>S104</td><td>N</td><td>1984-12-21</td><td>1987-01-08</td><td>60</td></tr><tr><td>SUBID10077</td><td>Girija</td><td>Maurrya</td><td>Iyengar Road</td><td>Male</td><td>India</td><td>Jaipur</td><td>204379</td><td>S105</td><td>N</td><td>1953-04-25</td><td>1963-04-18</td><td>92</td></tr><tr><td>SUBID10078</td><td>Aaraadhana</td><td>Rao</td><td>Raval Nagar</td><td>Male</td><td>India</td><td>Jhansi</td><td>429941</td><td>S108</td><td>N</td><td>2000-02-07</td><td>2005-02-06</td><td>45</td></tr><tr><td>SUBID10079</td><td>Shahnawaz</td><td>Mishra</td><td>Agate Path</td><td>Female</td><td>India</td><td>Rampur</td><td>528893</td><td>S102</td><td>Y</td><td>1991-06-24</td><td>2000-09-13</td><td>54</td></tr><tr><td>SUBID10080</td><td>Tej</td><td>Sonkar</td><td>Sarraf Chowk</td><td>Male</td><td>India</td><td>Haridwar</td><td>506221</td><td>S105</td><td>Y</td><td>1962-06-11</td><td>1964-10-14</td><td>83</td></tr><tr><td>SUBID10081</td><td>Mansi</td><td>Divedi</td><td>Bhattacharyya Road</td><td>Female</td><td>India</td><td>Hosur</td><td>995152</td><td>S105</td><td>Y</td><td>1967-03-20</td><td>1971-07-25</td><td>78</td></tr><tr><td>SUBID10082</td><td>Girika</td><td>Thakur</td><td>Sinha Zila</td><td>Female</td><td>India</td><td>Hospet</td><td>683614</td><td>S102</td><td>N</td><td>1988-11-03</td><td>1992-01-21</td><td>56</td></tr><tr><td>SUBID10083</td><td>Bhilangana</td><td>Pandit</td><td>Ramachandran Path</td><td>Female</td><td>India</td><td>Fatehpur</td><td>359466</td><td>S109</td><td>Y</td><td>2015-01-04</td><td>2017-10-05</td><td>30</td></tr><tr><td>SUBID10084</td><td>Visitor/NA</td><td>Thakur</td><td>Raval Zila</td><td>Female</td><td>India</td><td>Bhavnagar</td><td>464111</td><td>S107</td><td>Y</td><td>1944-06-07</td><td>1952-05-22</td><td>101</td></tr><tr><td>SUBID10085</td><td>Sukanya</td><td>Sonkar</td><td>Sangha Street</td><td>Female</td><td>India</td><td>Vijayanagaram</td><td>226215</td><td>S101</td><td>N</td><td>1962-01-16</td><td>1967-04-10</td><td>83</td></tr><tr><td>SUBID1086</td><td>Banita</td><td>Rao</td><td>Thakur</td><td>Male</td><td>India</td><td>Ghaziabad</td><td>907613</td><td>S109</td><td>N</td><td>1999-01-28</td><td>2000-09-05</td><td>46</td></tr><tr><td>SUBID1087</td><td>Visitor/NA</td><td>Pandit</td><td>Srivastava Path</td><td>Female</td><td>India</td><td>Sambhal</td><td>279219</td><td>S103</td><td>N</td><td>1944-12-10</td><td>1951-07-16</td><td>100</td></tr><tr><td>SUBID10088</td><td>Visitor/NA</td><td>Rajput</td><td>Dua Zila</td><td>Female</td><td>India</td><td>Tadipatri</td><td>743449</td><td>S110</td><td>N</td><td>1942-07-30</td><td>1949-06-07</td><td>103</td></tr><tr><td>SUBID10089</td><td>Dhuha</td><td>Tiwari</td><td>Aggarwal Street</td><td>Male</td><td>India</td><td>Rampur</td><td>492137</td><td>S104</td><td>N</td><td>1972-08-21</td><td>1981-05-13</td><td>73</td></tr><tr><td>SUBID10090</td><td>Visitor/NA</td><td>Mishra</td><td>Chandran Nagar</td><td>Female</td><td>India</td><td>Sikar</td><td>564747</td><td>S101</td><td>Y</td><td>1958-06-07</td><td>1967-08-23</td><td>87</td></tr><tr><td>SUBID1091</td><td>Visitor/NA</td><td>Thakur</td><td>Bala</td><td>Male</td><td>India</td><td>Kamarhati</td><td>682652</td><td>S110</td><td>Y</td><td>1950-12-31</td><td>1958-06-21</td><td>94</td></tr><tr><td>SUBID10092</td><td>Visitor/NA</td><td>Rai</td><td>Karan Street</td><td>Others</td><td>India</td><td>Ghaziabad</td><td>79586</td><td>S108</td><td>N</td><td>1960-08-22</td><td>1966-10-06</td><td>85</td></tr><tr><td>SUBID10093</td><td>Chandavarman</td><td>Singh</td><td>Sarkar Circle</td><td>Others</td><td>India</td><td>Navi Mumbai</td><td>83240</td><td>S110</td><td>N</td><td>2017-05-10</td><td>2022-08-27</td><td>28</td></tr><tr><td>SUBID10094</td><td>Charanpal</td><td>Yadav</td><td>Sehgal Circle</td><td>Male</td><td>India</td><td>Gurgaon</td><td>640326</td><td>S109</td><td>Y</td><td>2006-10-12</td><td>2016-05-13</td><td>38</td></tr><tr><td>SUBID10095</td><td>Ekaaksh</td><td>Rai</td><td>Bansal Ganj</td><td>Others</td><td>India</td><td>Pimpri-Chinchwad</td><td>158186</td><td>S107</td><td>N</td><td>1953-12-02</td><td>1960-07-29</td><td>91</td></tr><tr><td>SUBID10096</td><td>Chanak</td><td>Sonkar</td><td>Kaur</td><td>Others</td><td>India</td><td>Raurkela Industrial Township</td><td>899590</td><td>S101</td><td>Y</td><td>1979-04-07</td><td>1986-03-07</td><td>66</td></tr><tr><td>SUBID10097</td><td>Visitor/NA</td><td>Sonkar</td><td>Rana Ganj</td><td>Others</td><td>India</td><td>Mira-Bhayandar</td><td>896586</td><td>S107</td><td>Y</td><td>1960-02-04</td><td>1965-01-12</td><td>85</td></tr><tr><td>SUBID1098</td><td>Pushkar</td><td>Kumar</td><td>Sodhi Zila</td><td>Others</td><td>India</td><td>Korba</td><td>910732</td><td>S107</td><td>Y</td><td>1954-10-05</td><td>1961-04-05</td><td>90</td></tr><tr><td>SUBID10099</td><td>Shikha</td><td>Srivastav</td><td>Ahuja Road</td><td>Others</td><td>India</td><td>Nanded</td><td>101500</td><td>S109</td><td>Y</td><td>1990-09-06</td><td>1997-11-27</td><td>55</td></tr></tbody></table></div>"
      ]
     },
     "metadata": {
      "application/vnd.databricks.v1+output": {
       "addedWidgets": {},
       "aggData": [],
       "aggError": "",
       "aggOverflow": false,
       "aggSchema": [],
       "aggSeriesLimitReached": false,
       "aggType": "",
       "arguments": {},
       "columnCustomDisplayInfos": {},
       "data": [
        [
         "SUBID10000",
         "Harbir",
         "Vishwakarma",
         "Baria Marg",
         "Female",
         "India",
         "Rourkela",
         767058,
         "S107",
         "Y",
         "1944-06-30",
         "1954-01-14",
         101
        ],
        [
         "SUBID10001",
         "Brahmdev",
         "Sonkar",
         "Lala Marg",
         "Female",
         "India",
         "Tiruvottiyur",
         34639,
         "S105",
         "Y",
         "1968-12-20",
         "1970-05-16",
         76
        ],
        [
         "SUBID10002",
         "Ujjawal",
         "Devi",
         "Mammen Zila",
         "Male",
         "India",
         "Berhampur",
         914455,
         "S106",
         "N",
         "2000-04-16",
         "2008-05-04",
         45
        ],
        [
         "SUBID10003",
         "Ballari",
         "Mishra",
         "Sahni Zila",
         "Female",
         "India",
         "Bihar Sharif",
         91481,
         "S104",
         "N",
         "1989-09-25",
         "1995-06-05",
         55
        ],
        [
         "SUBID10004",
         "Devnath",
         "Srivastav",
         "Magar Zila",
         "Female",
         "India",
         "Bidhannagar",
         531742,
         "S110",
         "N",
         "1966-05-01",
         "1970-12-09",
         79
        ],
        [
         "SUBID10005",
         "Atasi",
         "Seth",
         "Khatri Nagar",
         "Male",
         "India",
         "Amravati",
         229062,
         "S104",
         "Y",
         "1987-10-02",
         "1995-02-13",
         57
        ],
        [
         "SUBID1006",
         "Manish",
         "Maurya",
         "Swaminathan Chowk",
         "Male",
         "India",
         "Panvel",
         438733,
         "S109",
         "N",
         "1987-06-06",
         "1995-03-21",
         58
        ],
        [
         "SUBID10007",
         "Aakar",
         "Yadav",
         "Swamy",
         "Female",
         "India",
         "Bihar Sharif",
         535907,
         "S104",
         "N",
         "1945-03-05",
         "1946-11-07",
         100
        ],
        [
         "SUBID10008",
         "Gurudas",
         "Gupta",
         "Sarin Nagar",
         "Male",
         "India",
         "Kamarhati",
         933226,
         "S103",
         "Y",
         "1965-05-06",
         "1970-09-16",
         80
        ],
        [
         "SUBID10009",
         "Visitor/NA",
         "Gupta",
         "Thakur Circle",
         "Male",
         "India",
         "Bangalore",
         957469,
         "S105",
         "Y",
         "1945-06-12",
         "1953-08-30",
         100
        ],
        [
         "SUBID1010",
         "Visitor/NA",
         "Divedi",
         "Dhillon",
         "Male",
         "India",
         "Rajkot",
         911319,
         "S102",
         "Y",
         "1996-02-03",
         "2002-01-27",
         49
        ],
        [
         "SUBID10011",
         "Visitor/NA",
         "Vishwakarma",
         "Rajagopalan",
         "Female",
         "India",
         "Ghaziabad",
         337042,
         "S106",
         "N",
         "1975-01-22",
         "1978-11-02",
         70
        ],
        [
         "SUBID10012",
         "Dharmadaas",
         "Tiwari",
         "Rama",
         "Male",
         "India",
         "Bhalswa Jahangir Pur",
         430793,
         "S103",
         "N",
         "1984-04-29",
         "1988-02-07",
         61
        ],
        [
         "SUBID10013",
         "Brahmvir",
         "Rai",
         "Shah Path",
         "Male",
         "India",
         "Ambala",
         249898,
         "S106",
         "N",
         "2011-11-11",
         "2020-05-23",
         33
        ],
        [
         "SUBID10014",
         "Visitor/NA",
         "Srivastav",
         "Chandra Path",
         "Female",
         "India",
         "Surendranagar Dudhrej",
         111966,
         "S102",
         "N",
         "2001-01-25",
         "2005-07-13",
         44
        ],
        [
         "SUBID10015",
         "Bhagvan",
         "Srivastav",
         "Edwin",
         "Female",
         "India",
         "Bhimavaram",
         436513,
         "S105",
         "Y",
         "1986-07-24",
         "1988-02-04",
         59
        ],
        [
         "SUBID10016",
         "Amritkala",
         "Srivastav",
         "Guha Path",
         "Female",
         "India",
         "Meerut",
         863467,
         "S106",
         "Y",
         "1953-11-20",
         "1955-07-29",
         91
        ],
        [
         "SUBID10017",
         "Bandhu",
         "Seth",
         "Varughese",
         "Male",
         "India",
         "Chinsurah",
         136713,
         "S108",
         "N",
         "2016-10-15",
         "2018-06-08",
         28
        ],
        [
         "SUBID10018",
         "Bhagavaana",
         "Kumar",
         "Kulkarni Zila",
         "Female",
         "India",
         "Shahjahanpur",
         597276,
         "S101",
         "N",
         "1955-09-16",
         "1958-05-31",
         90
        ],
        [
         "SUBID10019",
         "Visitor/NA",
         "Maurya",
         "Sharaf Nagar",
         "Female",
         "India",
         "Jabalpur",
         958538,
         "S104",
         "N",
         "1944-11-09",
         "1951-10-14",
         100
        ],
        [
         "SUBID1020",
         "Umang",
         "Srivastav",
         "Balay Chowk",
         "Female",
         "India",
         "Haridwar",
         181692,
         "S109",
         "Y",
         "1983-07-14",
         "1986-01-15",
         62
        ],
        [
         "SUBID1021",
         "Darsana",
         "Yadav",
         "Upadhyay Zila",
         "Male",
         "India",
         "Dibrugarh",
         187414,
         "S109",
         "Y",
         "1952-05-29",
         "1953-10-14",
         93
        ],
        [
         "SUBID10022",
         "Prakash",
         "Rao",
         "Sachar",
         "Female",
         "India",
         "Kottayam",
         180680,
         null,
         "N",
         "1943-09-15",
         "1948-10-19",
         102
        ],
        [
         "SUBID10023",
         "Vaijayanti",
         "Pratap",
         "Khalsa Nagar",
         "Male",
         "India",
         "Mira-Bhayandar",
         419190,
         "S102",
         "Y",
         "1940-11-13",
         "1946-03-10",
         104
        ],
        [
         "SUBID10024",
         "Menakshi",
         "Seth",
         "Wable Street",
         "Male",
         "India",
         "Kamarhati",
         882577,
         "S107",
         "N",
         "2007-03-06",
         "2014-02-25",
         38
        ],
        [
         "SUBID10025",
         "Visitor/NA",
         "Tiwari",
         "Sha Chowk",
         "Male",
         "India",
         "Karimnagar",
         567762,
         "S106",
         "N",
         "1975-12-24",
         "1983-02-03",
         69
        ],
        [
         "SUBID10026",
         "Ekant",
         "Sonkar",
         "Walla Road",
         "Male",
         "India",
         "Berhampore",
         948589,
         "S110",
         "Y",
         "1963-08-13",
         "1967-05-29",
         82
        ],
        [
         "SUBID10027",
         "Chancharik",
         "Pandey",
         "Karan Ganj",
         "Male",
         "India",
         "Chapra",
         154667,
         "S109",
         "N",
         "2003-09-05",
         "2011-06-12",
         42
        ],
        [
         "SUBID10028",
         "Pushti",
         "Pandit",
         "Deol Path",
         "Female",
         "India",
         "Morbi",
         284168,
         "S106",
         "N",
         "1955-10-15",
         "1959-06-04",
         89
        ],
        [
         "SUBID10029",
         "Swati",
         "Seth",
         "Kant Marg",
         "Female",
         "India",
         "Amravati",
         932221,
         "S102",
         "N",
         "2007-12-11",
         "2011-10-17",
         37
        ],
        [
         "SUBID1030",
         "Upasana",
         "Pandey",
         "Seth Chowk",
         "Male",
         "India",
         "Hyderabad",
         234823,
         "S102",
         "N",
         "1976-06-01",
         "1981-02-14",
         69
        ],
        [
         "SUBID10031",
         "Kanhaiya",
         "Lal",
         "Savant Nagar",
         "Female",
         "India",
         "Mysore",
         638433,
         "S104",
         "Y",
         "1974-10-19",
         "1977-01-03",
         70
        ],
        [
         "SUBID1032",
         "Visitor/NA",
         "Seth",
         "Sandhu Chowk",
         "Female",
         "India",
         "Gwalior",
         611826,
         "S110",
         "N",
         "1988-07-02",
         "1991-03-14",
         57
        ],
        [
         "SUBID10033",
         "Gensho",
         "Srivastav",
         "Korpal Ganj",
         "Male",
         "India",
         "Ludhiana",
         835018,
         "S101",
         "N",
         "2012-06-06",
         "2022-01-09",
         33
        ],
        [
         "SUBID1034",
         "Gopal",
         "Das",
         "Saini",
         "Male",
         "India",
         "Raebareli",
         176221,
         "S101",
         "N",
         "2006-05-14",
         "2011-04-08",
         39
        ],
        [
         "SUBID10035",
         "Dheeman",
         "Tiwari",
         "Dube Marg",
         "Male",
         "India",
         "Mysore",
         811970,
         "S101",
         "Y",
         "1965-05-04",
         "1973-11-13",
         80
        ],
        [
         "SUBID1036",
         "Upasana",
         "Thakur",
         "Vasa Ganj",
         "Female",
         "India",
         "Ratlam",
         326733,
         "S108",
         "N",
         "1947-10-03",
         "1951-02-20",
         97
        ],
        [
         "SUBID1037",
         "Visitor/NA",
         "Rajput",
         "Shere Chowk",
         "Male",
         "India",
         "Vadodara",
         877443,
         "S101",
         "Y",
         "1968-11-10",
         "1973-12-25",
         76
        ],
        [
         "SUBID1038",
         "Visitor/NA",
         "Thakur",
         "Rastogi Street",
         "Female",
         "India",
         "Vijayawada",
         438940,
         "S104",
         "N",
         "1975-04-07",
         "1982-01-25",
         70
        ],
        [
         "SUBID10039",
         "Madhubala",
         "Yadav",
         "Sangha Marg",
         "Male",
         "India",
         "Jaunpur",
         624102,
         "S104",
         "Y",
         "1957-01-11",
         "1965-10-09",
         88
        ],
        [
         "SUBID10040",
         "Anjushree",
         "Pandey",
         "Vora Ganj",
         "Male",
         "India",
         "Ghaziabad",
         782221,
         "S105",
         "N",
         "1996-07-04",
         "1999-02-17",
         49
        ],
        [
         "SUBID1041",
         "Visitor/NA",
         "Rajput",
         "Sinha Path",
         "Female",
         "India",
         "Agartala",
         303503,
         "S110",
         "Y",
         "1950-11-25",
         "1957-09-14",
         94
        ],
        [
         "SUBID10042",
         "Chakrika",
         "Sonkar",
         "Bansal Circle",
         "Male",
         "India",
         "Ranchi",
         503290,
         "S108",
         "Y",
         "1984-08-05",
         "1992-09-09",
         61
        ],
        [
         "SUBID1043",
         "Saroj",
         "Pandit",
         "Sathe Zila",
         "Female",
         "India",
         "Muzaffarpur",
         130486,
         "S103",
         "Y",
         "1962-08-26",
         "1964-08-29",
         83
        ],
        [
         "SUBID1044",
         "Ayushmati",
         "Vishwakarma",
         "Balakrishnan Street",
         "Male",
         "India",
         "Satna",
         131247,
         "S108",
         "N",
         "1952-09-20",
         "1961-01-24",
         92
        ],
        [
         "SUBID1045",
         "Drashti",
         "Divedi",
         "Wadhwa",
         "Male",
         "India",
         "Saharsa",
         581568,
         "S104",
         "Y",
         "1946-07-03",
         "1952-11-27",
         99
        ],
        [
         "SUBID10046",
         "Aayushmaan",
         "Maurya",
         "Johal Nagar",
         "Female",
         "India",
         "Mehsana",
         987281,
         "S104",
         "Y",
         "2003-11-14",
         "2012-10-22",
         41
        ],
        [
         "SUBID1047",
         "Visitor/NA",
         "Rai",
         "Sagar Chowk",
         "Male",
         "India",
         "Shivpuri",
         794170,
         "S109",
         "Y",
         "1951-02-04",
         "1955-07-14",
         94
        ],
        [
         "SUBID10048",
         "Chitranjan",
         "Mishra",
         "Madan Nagar",
         "Female",
         "India",
         "Morbi",
         945697,
         "S108",
         "N",
         "1945-09-09",
         "1952-06-21",
         100
        ],
        [
         "SUBID10049",
         "Paridhi",
         "Yadav",
         "Sant Path",
         "Female",
         "India",
         "Jabalpur",
         883754,
         null,
         "N",
         "1979-03-27",
         "1985-06-01",
         66
        ],
        [
         "SUBID10050",
         "Deependu",
         "Gupta",
         "Banik Ganj",
         "Female",
         "India",
         "Bareilly",
         417855,
         "S102",
         "Y",
         "1972-02-13",
         "1976-08-23",
         73
        ],
        [
         "SUBID10051",
         "Visitor/NA",
         "Rajput",
         "Chauhan Chowk",
         "Male",
         "India",
         "Baranagar",
         765234,
         "S103",
         "Y",
         "1966-10-17",
         "1969-06-26",
         78
        ],
        [
         "SUBID10052",
         "Laksman",
         "Rao",
         "Sood Marg",
         "Female",
         "India",
         "Ahmednagar",
         117923,
         "S101",
         "Y",
         "1959-05-26",
         "1960-11-07",
         86
        ],
        [
         "SUBID10053",
         "Visitor/NA",
         "Sonkar",
         "Shetty Marg",
         "Male",
         "India",
         "Pali",
         383290,
         "S102",
         "Y",
         "2008-06-27",
         "2016-10-30",
         37
        ],
        [
         "SUBID10054",
         "Shivakari",
         "Pratap",
         "Dugar Road",
         "Female",
         "India",
         "Hapur",
         28202,
         "S104",
         "N",
         "1964-11-02",
         "1967-06-15",
         80
        ],
        [
         "SUBID10055",
         "Madhu",
         "Thakur",
         "Sule Marg",
         "Male",
         "India",
         "Udaipur",
         565423,
         "S107",
         "N",
         "2004-10-23",
         "2008-07-10",
         40
        ],
        [
         "SUBID10056",
         "Chanak",
         "Gupta",
         "Shetty Nagar",
         "Male",
         "India",
         "Jalandhar",
         602989,
         "S105",
         "N",
         "1974-08-27",
         "1982-06-15",
         71
        ],
        [
         "SUBID10057",
         "Chittesh",
         "Pandey",
         "Mangal Chowk",
         "Male",
         "India",
         "Thoothukudi",
         666415,
         "S109",
         "Y",
         "1969-10-17",
         "1975-10-08",
         75
        ],
        [
         "SUBID1058",
         "Nawal",
         "Rajput",
         "Deol Nagar",
         "Male",
         "India",
         "Bhopal",
         791168,
         "S106",
         "N",
         "1960-01-22",
         "1969-04-18",
         85
        ],
        [
         "SUBID10059",
         "Gajabahu",
         "Singh",
         "Kara",
         "Male",
         "India",
         "Udupi",
         637221,
         "S101",
         "Y",
         "1979-03-15",
         "1986-07-05",
         66
        ],
        [
         "SUBID10060",
         "Jitesh",
         "Vishwakarma",
         "Gopal Path",
         "Male",
         "India",
         "Karimnagar",
         124564,
         "S110",
         "Y",
         "2003-02-03",
         "2008-04-30",
         42
        ],
        [
         "SUBID10061",
         "Visitor/NA",
         "Rajput",
         "Anand Path",
         "Female",
         "India",
         "Kharagpur",
         934938,
         "S103",
         "N",
         "1986-09-25",
         "1991-06-03",
         58
        ],
        [
         "SUBID1062",
         "Lalit",
         "Mishra",
         "Comar Street",
         "Female",
         "India",
         "Tinsukia",
         963770,
         "S103",
         "N",
         "1944-02-15",
         "1947-09-28",
         101
        ],
        [
         "SUBID1063",
         "Anshuk",
         "Srivastav",
         "Sridhar Path",
         "Male",
         "India",
         "Uluberia",
         270985,
         "S105",
         "N",
         "2011-06-17",
         "2014-07-11",
         34
        ],
        [
         "SUBID10064",
         "Visitor/NA",
         "Pandey",
         "Mangat Path",
         "Male",
         "India",
         "Panihati",
         643791,
         "S110",
         "N",
         "2014-01-13",
         "2019-02-24",
         31
        ],
        [
         "SUBID1065",
         "Dipesh",
         "Mishra",
         "Char Path",
         "Female",
         "India",
         "Kochi",
         31269,
         "S103",
         "Y",
         "1969-04-01",
         "1970-06-02",
         76
        ],
        [
         "SUBID10066",
         "Visitor/NA",
         "Seth",
         "Chaudhuri Marg",
         "Male",
         "India",
         "Kolhapur",
         597470,
         "S102",
         "N",
         "1950-09-01",
         "1957-12-01",
         95
        ],
        [
         "SUBID1067",
         "Kishan",
         "Rao",
         "Badal Nagar",
         "Male",
         "India",
         "Srikakulam",
         703899,
         "S110",
         "Y",
         "1943-05-12",
         "1946-09-20",
         102
        ],
        [
         "SUBID10068",
         "Visitor/NA",
         "Mishra",
         "Bath Nagar",
         "Female",
         "India",
         "Ambarnath",
         766224,
         "S110",
         "N",
         "1947-02-26",
         "1948-03-30",
         98
        ],
        [
         "SUBID10069",
         "Bhageeratha",
         "Srivastav",
         "Das Ganj",
         "Male",
         "India",
         "Sonipat",
         695316,
         "S103",
         "Y",
         "1993-03-21",
         "1997-08-01",
         52
        ],
        [
         "SUBID10070",
         "Balaaditya",
         "Gupta",
         "Varty Road",
         "Male",
         "India",
         "Hajipur",
         3526,
         "S109",
         "N",
         "1943-11-02",
         "1952-09-24",
         101
        ],
        [
         "SUBID10071",
         "Visitor/NA",
         "Rai",
         "Choudhury Chowk",
         "Female",
         "India",
         "Vellore",
         239532,
         "S101",
         "N",
         "1961-12-26",
         "1969-02-23",
         83
        ],
        [
         "SUBID10072",
         "Gopal",
         "Srivastav",
         "Desai Street",
         "Female",
         "India",
         "Bidhannagar",
         761800,
         "S103",
         "Y",
         "1956-03-11",
         "1964-07-28",
         89
        ],
        [
         "SUBID1073",
         "Virender",
         "Maurrya",
         "Chakrabarti",
         "Male",
         "India",
         "Bhusawal",
         374302,
         "S104",
         "N",
         "1956-10-27",
         "1961-04-27",
         88
        ],
        [
         "SUBID10074",
         "Visitor/NA",
         "Singh",
         "Kalla Path",
         "Male",
         "India",
         "Bokaro",
         866319,
         "S105",
         "Y",
         "1983-11-21",
         "1985-09-29",
         61
        ],
        [
         "SUBID10075",
         "Visitor/NA",
         "Singh",
         "Iyengar Nagar",
         "Male",
         "India",
         "Navi Mumbai",
         836175,
         "S107",
         "N",
         "1976-01-29",
         "1979-05-25",
         69
        ],
        [
         "SUBID10076",
         "Mamta",
         "Tiwari",
         "Batra",
         "Female",
         "India",
         "Secunderabad",
         123181,
         "S104",
         "N",
         "1984-12-21",
         "1987-01-08",
         60
        ],
        [
         "SUBID10077",
         "Girija",
         "Maurrya",
         "Iyengar Road",
         "Male",
         "India",
         "Jaipur",
         204379,
         "S105",
         "N",
         "1953-04-25",
         "1963-04-18",
         92
        ],
        [
         "SUBID10078",
         "Aaraadhana",
         "Rao",
         "Raval Nagar",
         "Male",
         "India",
         "Jhansi",
         429941,
         "S108",
         "N",
         "2000-02-07",
         "2005-02-06",
         45
        ],
        [
         "SUBID10079",
         "Shahnawaz",
         "Mishra",
         "Agate Path",
         "Female",
         "India",
         "Rampur",
         528893,
         "S102",
         "Y",
         "1991-06-24",
         "2000-09-13",
         54
        ],
        [
         "SUBID10080",
         "Tej",
         "Sonkar",
         "Sarraf Chowk",
         "Male",
         "India",
         "Haridwar",
         506221,
         "S105",
         "Y",
         "1962-06-11",
         "1964-10-14",
         83
        ],
        [
         "SUBID10081",
         "Mansi",
         "Divedi",
         "Bhattacharyya Road",
         "Female",
         "India",
         "Hosur",
         995152,
         "S105",
         "Y",
         "1967-03-20",
         "1971-07-25",
         78
        ],
        [
         "SUBID10082",
         "Girika",
         "Thakur",
         "Sinha Zila",
         "Female",
         "India",
         "Hospet",
         683614,
         "S102",
         "N",
         "1988-11-03",
         "1992-01-21",
         56
        ],
        [
         "SUBID10083",
         "Bhilangana",
         "Pandit",
         "Ramachandran Path",
         "Female",
         "India",
         "Fatehpur",
         359466,
         "S109",
         "Y",
         "2015-01-04",
         "2017-10-05",
         30
        ],
        [
         "SUBID10084",
         "Visitor/NA",
         "Thakur",
         "Raval Zila",
         "Female",
         "India",
         "Bhavnagar",
         464111,
         "S107",
         "Y",
         "1944-06-07",
         "1952-05-22",
         101
        ],
        [
         "SUBID10085",
         "Sukanya",
         "Sonkar",
         "Sangha Street",
         "Female",
         "India",
         "Vijayanagaram",
         226215,
         "S101",
         "N",
         "1962-01-16",
         "1967-04-10",
         83
        ],
        [
         "SUBID1086",
         "Banita",
         "Rao",
         "Thakur",
         "Male",
         "India",
         "Ghaziabad",
         907613,
         "S109",
         "N",
         "1999-01-28",
         "2000-09-05",
         46
        ],
        [
         "SUBID1087",
         "Visitor/NA",
         "Pandit",
         "Srivastava Path",
         "Female",
         "India",
         "Sambhal",
         279219,
         "S103",
         "N",
         "1944-12-10",
         "1951-07-16",
         100
        ],
        [
         "SUBID10088",
         "Visitor/NA",
         "Rajput",
         "Dua Zila",
         "Female",
         "India",
         "Tadipatri",
         743449,
         "S110",
         "N",
         "1942-07-30",
         "1949-06-07",
         103
        ],
        [
         "SUBID10089",
         "Dhuha",
         "Tiwari",
         "Aggarwal Street",
         "Male",
         "India",
         "Rampur",
         492137,
         "S104",
         "N",
         "1972-08-21",
         "1981-05-13",
         73
        ],
        [
         "SUBID10090",
         "Visitor/NA",
         "Mishra",
         "Chandran Nagar",
         "Female",
         "India",
         "Sikar",
         564747,
         "S101",
         "Y",
         "1958-06-07",
         "1967-08-23",
         87
        ],
        [
         "SUBID1091",
         "Visitor/NA",
         "Thakur",
         "Bala",
         "Male",
         "India",
         "Kamarhati",
         682652,
         "S110",
         "Y",
         "1950-12-31",
         "1958-06-21",
         94
        ],
        [
         "SUBID10092",
         "Visitor/NA",
         "Rai",
         "Karan Street",
         "Others",
         "India",
         "Ghaziabad",
         79586,
         "S108",
         "N",
         "1960-08-22",
         "1966-10-06",
         85
        ],
        [
         "SUBID10093",
         "Chandavarman",
         "Singh",
         "Sarkar Circle",
         "Others",
         "India",
         "Navi Mumbai",
         83240,
         "S110",
         "N",
         "2017-05-10",
         "2022-08-27",
         28
        ],
        [
         "SUBID10094",
         "Charanpal",
         "Yadav",
         "Sehgal Circle",
         "Male",
         "India",
         "Gurgaon",
         640326,
         "S109",
         "Y",
         "2006-10-12",
         "2016-05-13",
         38
        ],
        [
         "SUBID10095",
         "Ekaaksh",
         "Rai",
         "Bansal Ganj",
         "Others",
         "India",
         "Pimpri-Chinchwad",
         158186,
         "S107",
         "N",
         "1953-12-02",
         "1960-07-29",
         91
        ],
        [
         "SUBID10096",
         "Chanak",
         "Sonkar",
         "Kaur",
         "Others",
         "India",
         "Raurkela Industrial Township",
         899590,
         "S101",
         "Y",
         "1979-04-07",
         "1986-03-07",
         66
        ],
        [
         "SUBID10097",
         "Visitor/NA",
         "Sonkar",
         "Rana Ganj",
         "Others",
         "India",
         "Mira-Bhayandar",
         896586,
         "S107",
         "Y",
         "1960-02-04",
         "1965-01-12",
         85
        ],
        [
         "SUBID1098",
         "Pushkar",
         "Kumar",
         "Sodhi Zila",
         "Others",
         "India",
         "Korba",
         910732,
         "S107",
         "Y",
         "1954-10-05",
         "1961-04-05",
         90
        ],
        [
         "SUBID10099",
         "Shikha",
         "Srivastav",
         "Ahuja Road",
         "Others",
         "India",
         "Nanded",
         101500,
         "S109",
         "Y",
         "1990-09-06",
         "1997-11-27",
         55
        ]
       ],
       "datasetInfos": [],
       "dbfsResultPath": null,
       "isJsonSchema": true,
       "metadata": {},
       "overflow": false,
       "plotOptions": {
        "customPlotOptions": {},
        "displayType": "table",
        "pivotAggregation": null,
        "pivotColumns": null,
        "xColumns": null,
        "yColumns": null
       },
       "removedWidgets": [],
       "schema": [
        {
         "metadata": "{}",
         "name": "sub_id",
         "type": "\"string\""
        },
        {
         "metadata": "{}",
         "name": "first_name",
         "type": "\"string\""
        },
        {
         "metadata": "{}",
         "name": "last_name",
         "type": "\"string\""
        },
        {
         "metadata": "{}",
         "name": "Street",
         "type": "\"string\""
        },
        {
         "metadata": "{}",
         "name": "Gender",
         "type": "\"string\""
        },
        {
         "metadata": "{}",
         "name": "Country",
         "type": "\"string\""
        },
        {
         "metadata": "{}",
         "name": "City",
         "type": "\"string\""
        },
        {
         "metadata": "{}",
         "name": "Zip Code",
         "type": "\"integer\""
        },
        {
         "metadata": "{}",
         "name": "Subgrp_id",
         "type": "\"string\""
        },
        {
         "metadata": "{}",
         "name": "Elig_ind",
         "type": "\"string\""
        },
        {
         "metadata": "{\"__detected_date_formats\":\"d-M-yyyy\"}",
         "name": "eff_date",
         "type": "\"date\""
        },
        {
         "metadata": "{\"__detected_date_formats\":\"d-M-yyyy\"}",
         "name": "term_date",
         "type": "\"date\""
        },
        {
         "metadata": "{}",
         "name": "age",
         "type": "\"integer\""
        }
       ],
       "type": "table"
      }
     },
     "output_type": "display_data"
    }
   ],
   "source": [
    "df.display()"
   ]
  },
  {
   "cell_type": "markdown",
   "metadata": {
    "application/vnd.databricks.v1+cell": {
     "cellMetadata": {},
     "inputWidgets": {},
     "nuid": "dffa5676-fbf8-4079-8012-3ea6615827ed",
     "showTitle": false,
     "tableResultSettingsMap": {},
     "title": ""
    }
   },
   "source": [
    "### Lets handle the 2 null values in `Subgrp_id` column"
   ]
  },
  {
   "cell_type": "code",
   "execution_count": 0,
   "metadata": {
    "application/vnd.databricks.v1+cell": {
     "cellMetadata": {
      "byteLimit": 2048000,
      "rowLimit": 10000
     },
     "inputWidgets": {},
     "nuid": "2560de13-ca57-46c4-b993-5ba9a815af93",
     "showTitle": false,
     "tableResultSettingsMap": {},
     "title": ""
    }
   },
   "outputs": [
    {
     "output_type": "stream",
     "name": "stdout",
     "output_type": "stream",
     "text": [
      "+----------+----------+---------+---------+------+-------+--------+--------+---------+--------+----------+----------+---+\n|    sub_id|first_name|last_name|   Street|Gender|Country|    City|Zip Code|Subgrp_id|Elig_ind|  eff_date| term_date|age|\n+----------+----------+---------+---------+------+-------+--------+--------+---------+--------+----------+----------+---+\n|SUBID10022|   Prakash|      Rao|   Sachar|Female|  India|Kottayam|  180680|     NULL|       N|1943-09-15|1948-10-19|102|\n|SUBID10049|   Paridhi|    Yadav|Sant Path|Female|  India|Jabalpur|  883754|     NULL|       N|1979-03-27|1985-06-01| 66|\n+----------+----------+---------+---------+------+-------+--------+--------+---------+--------+----------+----------+---+\n\n"
     ]
    }
   ],
   "source": [
    "df.filter(col('Subgrp_id').isNull()).show()"
   ]
  },
  {
   "cell_type": "code",
   "execution_count": 0,
   "metadata": {
    "application/vnd.databricks.v1+cell": {
     "cellMetadata": {
      "byteLimit": 2048000,
      "rowLimit": 10000
     },
     "inputWidgets": {},
     "nuid": "98f744b3-fed6-450f-a37e-da438ee5d8a9",
     "showTitle": false,
     "tableResultSettingsMap": {},
     "title": ""
    }
   },
   "outputs": [
    {
     "output_type": "stream",
     "name": "stdout",
     "output_type": "stream",
     "text": [
      "adls connection successful\n"
     ]
    }
   ],
   "source": [
    "claims_df = readbronzedata_json(\"claims.json\")"
   ]
  },
  {
   "cell_type": "code",
   "execution_count": 0,
   "metadata": {
    "application/vnd.databricks.v1+cell": {
     "cellMetadata": {
      "byteLimit": 2048000,
      "rowLimit": 10000
     },
     "inputWidgets": {},
     "nuid": "3103968d-a680-4d63-857d-97774c0d8360",
     "showTitle": false,
     "tableResultSettingsMap": {},
     "title": ""
    }
   },
   "outputs": [
    {
     "output_type": "stream",
     "name": "stdout",
     "output_type": "stream",
     "text": [
      "+-----------------+----------+--------------------+------------+----------+--------+---------------+--------------+----------+\n|Claim_Or_Rejected|    SUB_ID|                 _id|claim_amount|claim_date|claim_id|     claim_type|  disease_name|patient_id|\n+-----------------+----------+--------------------+------------+----------+--------+---------------+--------------+----------+\n|                Y|SUBID10022|{67d5bc666ac8fd8f...|       34771|1948-05-23|      22|claims of value|           Flu|    134184|\n|              NaN|SUBID10049|{67d5bc666ac8fd8f...|      159815|1983-06-20|      49| claims of fact|Bladder cancer|    121783|\n+-----------------+----------+--------------------+------------+----------+--------+---------------+--------------+----------+\n\n"
     ]
    }
   ],
   "source": [
    "claims_df.filter(col('SUB_ID').isin(['SUBID10022','SUBID10049'])).show()"
   ]
  },
  {
   "cell_type": "code",
   "execution_count": 0,
   "metadata": {
    "application/vnd.databricks.v1+cell": {
     "cellMetadata": {
      "byteLimit": 2048000,
      "rowLimit": 10000
     },
     "inputWidgets": {},
     "nuid": "9c3465e4-8c1f-4683-ac24-9630e50e6050",
     "showTitle": false,
     "tableResultSettingsMap": {},
     "title": ""
    }
   },
   "outputs": [],
   "source": [
    "# pat_df = readbronzedata('Patient_records.csv')\n",
    "# pat_df.filter(col('patient_id').isin([134184,121783])).show()"
   ]
  },
  {
   "cell_type": "code",
   "execution_count": 0,
   "metadata": {
    "application/vnd.databricks.v1+cell": {
     "cellMetadata": {
      "byteLimit": 2048000,
      "rowLimit": 10000
     },
     "inputWidgets": {},
     "nuid": "0222e75c-ffa9-4078-983c-612ff0ca7838",
     "showTitle": false,
     "tableResultSettingsMap": {},
     "title": ""
    }
   },
   "outputs": [
    {
     "output_type": "stream",
     "name": "stdout",
     "output_type": "stream",
     "text": [
      "adls connection successful\n+---------+----------+--------------+\n|subgrp_id|disease_id|  disease_name|\n+---------+----------+--------------+\n|     S107|    110039|Bladder cancer|\n|     S110|    110059|           Flu|\n+---------+----------+--------------+\n\n"
     ]
    }
   ],
   "source": [
    "disease_df = readbronzedata('disease.csv')\n",
    "disease_df.filter(col('disease_name').isin(['Flu','Bladder cancer'])).show()"
   ]
  },
  {
   "cell_type": "code",
   "execution_count": 0,
   "metadata": {
    "application/vnd.databricks.v1+cell": {
     "cellMetadata": {
      "byteLimit": 2048000,
      "rowLimit": 10000
     },
     "inputWidgets": {},
     "nuid": "d8d11973-5f54-4959-8934-09dc89a45ece",
     "showTitle": false,
     "tableResultSettingsMap": {},
     "title": ""
    }
   },
   "outputs": [
    {
     "output_type": "display_data",
     "data": {
      "text/html": [
       "<style scoped>\n",
       "  .table-result-container {\n",
       "    max-height: 300px;\n",
       "    overflow: auto;\n",
       "  }\n",
       "  table, th, td {\n",
       "    border: 1px solid black;\n",
       "    border-collapse: collapse;\n",
       "  }\n",
       "  th, td {\n",
       "    padding: 5px;\n",
       "  }\n",
       "  th {\n",
       "    text-align: left;\n",
       "  }\n",
       "</style><div class='table-result-container'><table class='table-result'><thead style='background-color: white'><tr><th>sub_id</th><th>first_name</th><th>last_name</th><th>Street</th><th>Gender</th><th>Country</th><th>City</th><th>Zip Code</th><th>Subgrp_id</th><th>Elig_ind</th><th>eff_date</th><th>term_date</th><th>age</th></tr></thead><tbody><tr><td>SUBID10000</td><td>Harbir</td><td>Vishwakarma</td><td>Baria Marg</td><td>Female</td><td>India</td><td>Rourkela</td><td>767058</td><td>S107</td><td>Y</td><td>1944-06-30</td><td>1954-01-14</td><td>101</td></tr><tr><td>SUBID10001</td><td>Brahmdev</td><td>Sonkar</td><td>Lala Marg</td><td>Female</td><td>India</td><td>Tiruvottiyur</td><td>34639</td><td>S105</td><td>Y</td><td>1968-12-20</td><td>1970-05-16</td><td>76</td></tr><tr><td>SUBID10002</td><td>Ujjawal</td><td>Devi</td><td>Mammen Zila</td><td>Male</td><td>India</td><td>Berhampur</td><td>914455</td><td>S106</td><td>N</td><td>2000-04-16</td><td>2008-05-04</td><td>45</td></tr><tr><td>SUBID10003</td><td>Ballari</td><td>Mishra</td><td>Sahni Zila</td><td>Female</td><td>India</td><td>Bihar Sharif</td><td>91481</td><td>S104</td><td>N</td><td>1989-09-25</td><td>1995-06-05</td><td>55</td></tr><tr><td>SUBID10004</td><td>Devnath</td><td>Srivastav</td><td>Magar Zila</td><td>Female</td><td>India</td><td>Bidhannagar</td><td>531742</td><td>S110</td><td>N</td><td>1966-05-01</td><td>1970-12-09</td><td>79</td></tr><tr><td>SUBID10005</td><td>Atasi</td><td>Seth</td><td>Khatri Nagar</td><td>Male</td><td>India</td><td>Amravati</td><td>229062</td><td>S104</td><td>Y</td><td>1987-10-02</td><td>1995-02-13</td><td>57</td></tr><tr><td>SUBID1006</td><td>Manish</td><td>Maurya</td><td>Swaminathan Chowk</td><td>Male</td><td>India</td><td>Panvel</td><td>438733</td><td>S109</td><td>N</td><td>1987-06-06</td><td>1995-03-21</td><td>58</td></tr><tr><td>SUBID10007</td><td>Aakar</td><td>Yadav</td><td>Swamy</td><td>Female</td><td>India</td><td>Bihar Sharif</td><td>535907</td><td>S104</td><td>N</td><td>1945-03-05</td><td>1946-11-07</td><td>100</td></tr><tr><td>SUBID10008</td><td>Gurudas</td><td>Gupta</td><td>Sarin Nagar</td><td>Male</td><td>India</td><td>Kamarhati</td><td>933226</td><td>S103</td><td>Y</td><td>1965-05-06</td><td>1970-09-16</td><td>80</td></tr><tr><td>SUBID10009</td><td>Visitor/NA</td><td>Gupta</td><td>Thakur Circle</td><td>Male</td><td>India</td><td>Bangalore</td><td>957469</td><td>S105</td><td>Y</td><td>1945-06-12</td><td>1953-08-30</td><td>100</td></tr><tr><td>SUBID1010</td><td>Visitor/NA</td><td>Divedi</td><td>Dhillon</td><td>Male</td><td>India</td><td>Rajkot</td><td>911319</td><td>S102</td><td>Y</td><td>1996-02-03</td><td>2002-01-27</td><td>49</td></tr><tr><td>SUBID10011</td><td>Visitor/NA</td><td>Vishwakarma</td><td>Rajagopalan</td><td>Female</td><td>India</td><td>Ghaziabad</td><td>337042</td><td>S106</td><td>N</td><td>1975-01-22</td><td>1978-11-02</td><td>70</td></tr><tr><td>SUBID10012</td><td>Dharmadaas</td><td>Tiwari</td><td>Rama</td><td>Male</td><td>India</td><td>Bhalswa Jahangir Pur</td><td>430793</td><td>S103</td><td>N</td><td>1984-04-29</td><td>1988-02-07</td><td>61</td></tr><tr><td>SUBID10013</td><td>Brahmvir</td><td>Rai</td><td>Shah Path</td><td>Male</td><td>India</td><td>Ambala</td><td>249898</td><td>S106</td><td>N</td><td>2011-11-11</td><td>2020-05-23</td><td>33</td></tr><tr><td>SUBID10014</td><td>Visitor/NA</td><td>Srivastav</td><td>Chandra Path</td><td>Female</td><td>India</td><td>Surendranagar Dudhrej</td><td>111966</td><td>S102</td><td>N</td><td>2001-01-25</td><td>2005-07-13</td><td>44</td></tr><tr><td>SUBID10015</td><td>Bhagvan</td><td>Srivastav</td><td>Edwin</td><td>Female</td><td>India</td><td>Bhimavaram</td><td>436513</td><td>S105</td><td>Y</td><td>1986-07-24</td><td>1988-02-04</td><td>59</td></tr><tr><td>SUBID10016</td><td>Amritkala</td><td>Srivastav</td><td>Guha Path</td><td>Female</td><td>India</td><td>Meerut</td><td>863467</td><td>S106</td><td>Y</td><td>1953-11-20</td><td>1955-07-29</td><td>91</td></tr><tr><td>SUBID10017</td><td>Bandhu</td><td>Seth</td><td>Varughese</td><td>Male</td><td>India</td><td>Chinsurah</td><td>136713</td><td>S108</td><td>N</td><td>2016-10-15</td><td>2018-06-08</td><td>28</td></tr><tr><td>SUBID10018</td><td>Bhagavaana</td><td>Kumar</td><td>Kulkarni Zila</td><td>Female</td><td>India</td><td>Shahjahanpur</td><td>597276</td><td>S101</td><td>N</td><td>1955-09-16</td><td>1958-05-31</td><td>90</td></tr><tr><td>SUBID10019</td><td>Visitor/NA</td><td>Maurya</td><td>Sharaf Nagar</td><td>Female</td><td>India</td><td>Jabalpur</td><td>958538</td><td>S104</td><td>N</td><td>1944-11-09</td><td>1951-10-14</td><td>100</td></tr><tr><td>SUBID1020</td><td>Umang</td><td>Srivastav</td><td>Balay Chowk</td><td>Female</td><td>India</td><td>Haridwar</td><td>181692</td><td>S109</td><td>Y</td><td>1983-07-14</td><td>1986-01-15</td><td>62</td></tr><tr><td>SUBID1021</td><td>Darsana</td><td>Yadav</td><td>Upadhyay Zila</td><td>Male</td><td>India</td><td>Dibrugarh</td><td>187414</td><td>S109</td><td>Y</td><td>1952-05-29</td><td>1953-10-14</td><td>93</td></tr><tr><td>SUBID10022</td><td>Prakash</td><td>Rao</td><td>Sachar</td><td>Female</td><td>India</td><td>Kottayam</td><td>180680</td><td>S110</td><td>N</td><td>1943-09-15</td><td>1948-10-19</td><td>102</td></tr><tr><td>SUBID10023</td><td>Vaijayanti</td><td>Pratap</td><td>Khalsa Nagar</td><td>Male</td><td>India</td><td>Mira-Bhayandar</td><td>419190</td><td>S102</td><td>Y</td><td>1940-11-13</td><td>1946-03-10</td><td>104</td></tr><tr><td>SUBID10024</td><td>Menakshi</td><td>Seth</td><td>Wable Street</td><td>Male</td><td>India</td><td>Kamarhati</td><td>882577</td><td>S107</td><td>N</td><td>2007-03-06</td><td>2014-02-25</td><td>38</td></tr><tr><td>SUBID10025</td><td>Visitor/NA</td><td>Tiwari</td><td>Sha Chowk</td><td>Male</td><td>India</td><td>Karimnagar</td><td>567762</td><td>S106</td><td>N</td><td>1975-12-24</td><td>1983-02-03</td><td>69</td></tr><tr><td>SUBID10026</td><td>Ekant</td><td>Sonkar</td><td>Walla Road</td><td>Male</td><td>India</td><td>Berhampore</td><td>948589</td><td>S110</td><td>Y</td><td>1963-08-13</td><td>1967-05-29</td><td>82</td></tr><tr><td>SUBID10027</td><td>Chancharik</td><td>Pandey</td><td>Karan Ganj</td><td>Male</td><td>India</td><td>Chapra</td><td>154667</td><td>S109</td><td>N</td><td>2003-09-05</td><td>2011-06-12</td><td>42</td></tr><tr><td>SUBID10028</td><td>Pushti</td><td>Pandit</td><td>Deol Path</td><td>Female</td><td>India</td><td>Morbi</td><td>284168</td><td>S106</td><td>N</td><td>1955-10-15</td><td>1959-06-04</td><td>89</td></tr><tr><td>SUBID10029</td><td>Swati</td><td>Seth</td><td>Kant Marg</td><td>Female</td><td>India</td><td>Amravati</td><td>932221</td><td>S102</td><td>N</td><td>2007-12-11</td><td>2011-10-17</td><td>37</td></tr><tr><td>SUBID1030</td><td>Upasana</td><td>Pandey</td><td>Seth Chowk</td><td>Male</td><td>India</td><td>Hyderabad</td><td>234823</td><td>S102</td><td>N</td><td>1976-06-01</td><td>1981-02-14</td><td>69</td></tr><tr><td>SUBID10031</td><td>Kanhaiya</td><td>Lal</td><td>Savant Nagar</td><td>Female</td><td>India</td><td>Mysore</td><td>638433</td><td>S104</td><td>Y</td><td>1974-10-19</td><td>1977-01-03</td><td>70</td></tr><tr><td>SUBID1032</td><td>Visitor/NA</td><td>Seth</td><td>Sandhu Chowk</td><td>Female</td><td>India</td><td>Gwalior</td><td>611826</td><td>S110</td><td>N</td><td>1988-07-02</td><td>1991-03-14</td><td>57</td></tr><tr><td>SUBID10033</td><td>Gensho</td><td>Srivastav</td><td>Korpal Ganj</td><td>Male</td><td>India</td><td>Ludhiana</td><td>835018</td><td>S101</td><td>N</td><td>2012-06-06</td><td>2022-01-09</td><td>33</td></tr><tr><td>SUBID1034</td><td>Gopal</td><td>Das</td><td>Saini</td><td>Male</td><td>India</td><td>Raebareli</td><td>176221</td><td>S101</td><td>N</td><td>2006-05-14</td><td>2011-04-08</td><td>39</td></tr><tr><td>SUBID10035</td><td>Dheeman</td><td>Tiwari</td><td>Dube Marg</td><td>Male</td><td>India</td><td>Mysore</td><td>811970</td><td>S101</td><td>Y</td><td>1965-05-04</td><td>1973-11-13</td><td>80</td></tr><tr><td>SUBID1036</td><td>Upasana</td><td>Thakur</td><td>Vasa Ganj</td><td>Female</td><td>India</td><td>Ratlam</td><td>326733</td><td>S108</td><td>N</td><td>1947-10-03</td><td>1951-02-20</td><td>97</td></tr><tr><td>SUBID1037</td><td>Visitor/NA</td><td>Rajput</td><td>Shere Chowk</td><td>Male</td><td>India</td><td>Vadodara</td><td>877443</td><td>S101</td><td>Y</td><td>1968-11-10</td><td>1973-12-25</td><td>76</td></tr><tr><td>SUBID1038</td><td>Visitor/NA</td><td>Thakur</td><td>Rastogi Street</td><td>Female</td><td>India</td><td>Vijayawada</td><td>438940</td><td>S104</td><td>N</td><td>1975-04-07</td><td>1982-01-25</td><td>70</td></tr><tr><td>SUBID10039</td><td>Madhubala</td><td>Yadav</td><td>Sangha Marg</td><td>Male</td><td>India</td><td>Jaunpur</td><td>624102</td><td>S104</td><td>Y</td><td>1957-01-11</td><td>1965-10-09</td><td>88</td></tr><tr><td>SUBID10040</td><td>Anjushree</td><td>Pandey</td><td>Vora Ganj</td><td>Male</td><td>India</td><td>Ghaziabad</td><td>782221</td><td>S105</td><td>N</td><td>1996-07-04</td><td>1999-02-17</td><td>49</td></tr><tr><td>SUBID1041</td><td>Visitor/NA</td><td>Rajput</td><td>Sinha Path</td><td>Female</td><td>India</td><td>Agartala</td><td>303503</td><td>S110</td><td>Y</td><td>1950-11-25</td><td>1957-09-14</td><td>94</td></tr><tr><td>SUBID10042</td><td>Chakrika</td><td>Sonkar</td><td>Bansal Circle</td><td>Male</td><td>India</td><td>Ranchi</td><td>503290</td><td>S108</td><td>Y</td><td>1984-08-05</td><td>1992-09-09</td><td>61</td></tr><tr><td>SUBID1043</td><td>Saroj</td><td>Pandit</td><td>Sathe Zila</td><td>Female</td><td>India</td><td>Muzaffarpur</td><td>130486</td><td>S103</td><td>Y</td><td>1962-08-26</td><td>1964-08-29</td><td>83</td></tr><tr><td>SUBID1044</td><td>Ayushmati</td><td>Vishwakarma</td><td>Balakrishnan Street</td><td>Male</td><td>India</td><td>Satna</td><td>131247</td><td>S108</td><td>N</td><td>1952-09-20</td><td>1961-01-24</td><td>92</td></tr><tr><td>SUBID1045</td><td>Drashti</td><td>Divedi</td><td>Wadhwa</td><td>Male</td><td>India</td><td>Saharsa</td><td>581568</td><td>S104</td><td>Y</td><td>1946-07-03</td><td>1952-11-27</td><td>99</td></tr><tr><td>SUBID10046</td><td>Aayushmaan</td><td>Maurya</td><td>Johal Nagar</td><td>Female</td><td>India</td><td>Mehsana</td><td>987281</td><td>S104</td><td>Y</td><td>2003-11-14</td><td>2012-10-22</td><td>41</td></tr><tr><td>SUBID1047</td><td>Visitor/NA</td><td>Rai</td><td>Sagar Chowk</td><td>Male</td><td>India</td><td>Shivpuri</td><td>794170</td><td>S109</td><td>Y</td><td>1951-02-04</td><td>1955-07-14</td><td>94</td></tr><tr><td>SUBID10048</td><td>Chitranjan</td><td>Mishra</td><td>Madan Nagar</td><td>Female</td><td>India</td><td>Morbi</td><td>945697</td><td>S108</td><td>N</td><td>1945-09-09</td><td>1952-06-21</td><td>100</td></tr><tr><td>SUBID10049</td><td>Paridhi</td><td>Yadav</td><td>Sant Path</td><td>Female</td><td>India</td><td>Jabalpur</td><td>883754</td><td>S107</td><td>N</td><td>1979-03-27</td><td>1985-06-01</td><td>66</td></tr><tr><td>SUBID10050</td><td>Deependu</td><td>Gupta</td><td>Banik Ganj</td><td>Female</td><td>India</td><td>Bareilly</td><td>417855</td><td>S102</td><td>Y</td><td>1972-02-13</td><td>1976-08-23</td><td>73</td></tr><tr><td>SUBID10051</td><td>Visitor/NA</td><td>Rajput</td><td>Chauhan Chowk</td><td>Male</td><td>India</td><td>Baranagar</td><td>765234</td><td>S103</td><td>Y</td><td>1966-10-17</td><td>1969-06-26</td><td>78</td></tr><tr><td>SUBID10052</td><td>Laksman</td><td>Rao</td><td>Sood Marg</td><td>Female</td><td>India</td><td>Ahmednagar</td><td>117923</td><td>S101</td><td>Y</td><td>1959-05-26</td><td>1960-11-07</td><td>86</td></tr><tr><td>SUBID10053</td><td>Visitor/NA</td><td>Sonkar</td><td>Shetty Marg</td><td>Male</td><td>India</td><td>Pali</td><td>383290</td><td>S102</td><td>Y</td><td>2008-06-27</td><td>2016-10-30</td><td>37</td></tr><tr><td>SUBID10054</td><td>Shivakari</td><td>Pratap</td><td>Dugar Road</td><td>Female</td><td>India</td><td>Hapur</td><td>28202</td><td>S104</td><td>N</td><td>1964-11-02</td><td>1967-06-15</td><td>80</td></tr><tr><td>SUBID10055</td><td>Madhu</td><td>Thakur</td><td>Sule Marg</td><td>Male</td><td>India</td><td>Udaipur</td><td>565423</td><td>S107</td><td>N</td><td>2004-10-23</td><td>2008-07-10</td><td>40</td></tr><tr><td>SUBID10056</td><td>Chanak</td><td>Gupta</td><td>Shetty Nagar</td><td>Male</td><td>India</td><td>Jalandhar</td><td>602989</td><td>S105</td><td>N</td><td>1974-08-27</td><td>1982-06-15</td><td>71</td></tr><tr><td>SUBID10057</td><td>Chittesh</td><td>Pandey</td><td>Mangal Chowk</td><td>Male</td><td>India</td><td>Thoothukudi</td><td>666415</td><td>S109</td><td>Y</td><td>1969-10-17</td><td>1975-10-08</td><td>75</td></tr><tr><td>SUBID1058</td><td>Nawal</td><td>Rajput</td><td>Deol Nagar</td><td>Male</td><td>India</td><td>Bhopal</td><td>791168</td><td>S106</td><td>N</td><td>1960-01-22</td><td>1969-04-18</td><td>85</td></tr><tr><td>SUBID10059</td><td>Gajabahu</td><td>Singh</td><td>Kara</td><td>Male</td><td>India</td><td>Udupi</td><td>637221</td><td>S101</td><td>Y</td><td>1979-03-15</td><td>1986-07-05</td><td>66</td></tr><tr><td>SUBID10060</td><td>Jitesh</td><td>Vishwakarma</td><td>Gopal Path</td><td>Male</td><td>India</td><td>Karimnagar</td><td>124564</td><td>S110</td><td>Y</td><td>2003-02-03</td><td>2008-04-30</td><td>42</td></tr><tr><td>SUBID10061</td><td>Visitor/NA</td><td>Rajput</td><td>Anand Path</td><td>Female</td><td>India</td><td>Kharagpur</td><td>934938</td><td>S103</td><td>N</td><td>1986-09-25</td><td>1991-06-03</td><td>58</td></tr><tr><td>SUBID1062</td><td>Lalit</td><td>Mishra</td><td>Comar Street</td><td>Female</td><td>India</td><td>Tinsukia</td><td>963770</td><td>S103</td><td>N</td><td>1944-02-15</td><td>1947-09-28</td><td>101</td></tr><tr><td>SUBID1063</td><td>Anshuk</td><td>Srivastav</td><td>Sridhar Path</td><td>Male</td><td>India</td><td>Uluberia</td><td>270985</td><td>S105</td><td>N</td><td>2011-06-17</td><td>2014-07-11</td><td>34</td></tr><tr><td>SUBID10064</td><td>Visitor/NA</td><td>Pandey</td><td>Mangat Path</td><td>Male</td><td>India</td><td>Panihati</td><td>643791</td><td>S110</td><td>N</td><td>2014-01-13</td><td>2019-02-24</td><td>31</td></tr><tr><td>SUBID1065</td><td>Dipesh</td><td>Mishra</td><td>Char Path</td><td>Female</td><td>India</td><td>Kochi</td><td>31269</td><td>S103</td><td>Y</td><td>1969-04-01</td><td>1970-06-02</td><td>76</td></tr><tr><td>SUBID10066</td><td>Visitor/NA</td><td>Seth</td><td>Chaudhuri Marg</td><td>Male</td><td>India</td><td>Kolhapur</td><td>597470</td><td>S102</td><td>N</td><td>1950-09-01</td><td>1957-12-01</td><td>95</td></tr><tr><td>SUBID1067</td><td>Kishan</td><td>Rao</td><td>Badal Nagar</td><td>Male</td><td>India</td><td>Srikakulam</td><td>703899</td><td>S110</td><td>Y</td><td>1943-05-12</td><td>1946-09-20</td><td>102</td></tr><tr><td>SUBID10068</td><td>Visitor/NA</td><td>Mishra</td><td>Bath Nagar</td><td>Female</td><td>India</td><td>Ambarnath</td><td>766224</td><td>S110</td><td>N</td><td>1947-02-26</td><td>1948-03-30</td><td>98</td></tr><tr><td>SUBID10069</td><td>Bhageeratha</td><td>Srivastav</td><td>Das Ganj</td><td>Male</td><td>India</td><td>Sonipat</td><td>695316</td><td>S103</td><td>Y</td><td>1993-03-21</td><td>1997-08-01</td><td>52</td></tr><tr><td>SUBID10070</td><td>Balaaditya</td><td>Gupta</td><td>Varty Road</td><td>Male</td><td>India</td><td>Hajipur</td><td>3526</td><td>S109</td><td>N</td><td>1943-11-02</td><td>1952-09-24</td><td>101</td></tr><tr><td>SUBID10071</td><td>Visitor/NA</td><td>Rai</td><td>Choudhury Chowk</td><td>Female</td><td>India</td><td>Vellore</td><td>239532</td><td>S101</td><td>N</td><td>1961-12-26</td><td>1969-02-23</td><td>83</td></tr><tr><td>SUBID10072</td><td>Gopal</td><td>Srivastav</td><td>Desai Street</td><td>Female</td><td>India</td><td>Bidhannagar</td><td>761800</td><td>S103</td><td>Y</td><td>1956-03-11</td><td>1964-07-28</td><td>89</td></tr><tr><td>SUBID1073</td><td>Virender</td><td>Maurrya</td><td>Chakrabarti</td><td>Male</td><td>India</td><td>Bhusawal</td><td>374302</td><td>S104</td><td>N</td><td>1956-10-27</td><td>1961-04-27</td><td>88</td></tr><tr><td>SUBID10074</td><td>Visitor/NA</td><td>Singh</td><td>Kalla Path</td><td>Male</td><td>India</td><td>Bokaro</td><td>866319</td><td>S105</td><td>Y</td><td>1983-11-21</td><td>1985-09-29</td><td>61</td></tr><tr><td>SUBID10075</td><td>Visitor/NA</td><td>Singh</td><td>Iyengar Nagar</td><td>Male</td><td>India</td><td>Navi Mumbai</td><td>836175</td><td>S107</td><td>N</td><td>1976-01-29</td><td>1979-05-25</td><td>69</td></tr><tr><td>SUBID10076</td><td>Mamta</td><td>Tiwari</td><td>Batra</td><td>Female</td><td>India</td><td>Secunderabad</td><td>123181</td><td>S104</td><td>N</td><td>1984-12-21</td><td>1987-01-08</td><td>60</td></tr><tr><td>SUBID10077</td><td>Girija</td><td>Maurrya</td><td>Iyengar Road</td><td>Male</td><td>India</td><td>Jaipur</td><td>204379</td><td>S105</td><td>N</td><td>1953-04-25</td><td>1963-04-18</td><td>92</td></tr><tr><td>SUBID10078</td><td>Aaraadhana</td><td>Rao</td><td>Raval Nagar</td><td>Male</td><td>India</td><td>Jhansi</td><td>429941</td><td>S108</td><td>N</td><td>2000-02-07</td><td>2005-02-06</td><td>45</td></tr><tr><td>SUBID10079</td><td>Shahnawaz</td><td>Mishra</td><td>Agate Path</td><td>Female</td><td>India</td><td>Rampur</td><td>528893</td><td>S102</td><td>Y</td><td>1991-06-24</td><td>2000-09-13</td><td>54</td></tr><tr><td>SUBID10080</td><td>Tej</td><td>Sonkar</td><td>Sarraf Chowk</td><td>Male</td><td>India</td><td>Haridwar</td><td>506221</td><td>S105</td><td>Y</td><td>1962-06-11</td><td>1964-10-14</td><td>83</td></tr><tr><td>SUBID10081</td><td>Mansi</td><td>Divedi</td><td>Bhattacharyya Road</td><td>Female</td><td>India</td><td>Hosur</td><td>995152</td><td>S105</td><td>Y</td><td>1967-03-20</td><td>1971-07-25</td><td>78</td></tr><tr><td>SUBID10082</td><td>Girika</td><td>Thakur</td><td>Sinha Zila</td><td>Female</td><td>India</td><td>Hospet</td><td>683614</td><td>S102</td><td>N</td><td>1988-11-03</td><td>1992-01-21</td><td>56</td></tr><tr><td>SUBID10083</td><td>Bhilangana</td><td>Pandit</td><td>Ramachandran Path</td><td>Female</td><td>India</td><td>Fatehpur</td><td>359466</td><td>S109</td><td>Y</td><td>2015-01-04</td><td>2017-10-05</td><td>30</td></tr><tr><td>SUBID10084</td><td>Visitor/NA</td><td>Thakur</td><td>Raval Zila</td><td>Female</td><td>India</td><td>Bhavnagar</td><td>464111</td><td>S107</td><td>Y</td><td>1944-06-07</td><td>1952-05-22</td><td>101</td></tr><tr><td>SUBID10085</td><td>Sukanya</td><td>Sonkar</td><td>Sangha Street</td><td>Female</td><td>India</td><td>Vijayanagaram</td><td>226215</td><td>S101</td><td>N</td><td>1962-01-16</td><td>1967-04-10</td><td>83</td></tr><tr><td>SUBID1086</td><td>Banita</td><td>Rao</td><td>Thakur</td><td>Male</td><td>India</td><td>Ghaziabad</td><td>907613</td><td>S109</td><td>N</td><td>1999-01-28</td><td>2000-09-05</td><td>46</td></tr><tr><td>SUBID1087</td><td>Visitor/NA</td><td>Pandit</td><td>Srivastava Path</td><td>Female</td><td>India</td><td>Sambhal</td><td>279219</td><td>S103</td><td>N</td><td>1944-12-10</td><td>1951-07-16</td><td>100</td></tr><tr><td>SUBID10088</td><td>Visitor/NA</td><td>Rajput</td><td>Dua Zila</td><td>Female</td><td>India</td><td>Tadipatri</td><td>743449</td><td>S110</td><td>N</td><td>1942-07-30</td><td>1949-06-07</td><td>103</td></tr><tr><td>SUBID10089</td><td>Dhuha</td><td>Tiwari</td><td>Aggarwal Street</td><td>Male</td><td>India</td><td>Rampur</td><td>492137</td><td>S104</td><td>N</td><td>1972-08-21</td><td>1981-05-13</td><td>73</td></tr><tr><td>SUBID10090</td><td>Visitor/NA</td><td>Mishra</td><td>Chandran Nagar</td><td>Female</td><td>India</td><td>Sikar</td><td>564747</td><td>S101</td><td>Y</td><td>1958-06-07</td><td>1967-08-23</td><td>87</td></tr><tr><td>SUBID1091</td><td>Visitor/NA</td><td>Thakur</td><td>Bala</td><td>Male</td><td>India</td><td>Kamarhati</td><td>682652</td><td>S110</td><td>Y</td><td>1950-12-31</td><td>1958-06-21</td><td>94</td></tr><tr><td>SUBID10092</td><td>Visitor/NA</td><td>Rai</td><td>Karan Street</td><td>Others</td><td>India</td><td>Ghaziabad</td><td>79586</td><td>S108</td><td>N</td><td>1960-08-22</td><td>1966-10-06</td><td>85</td></tr><tr><td>SUBID10093</td><td>Chandavarman</td><td>Singh</td><td>Sarkar Circle</td><td>Others</td><td>India</td><td>Navi Mumbai</td><td>83240</td><td>S110</td><td>N</td><td>2017-05-10</td><td>2022-08-27</td><td>28</td></tr><tr><td>SUBID10094</td><td>Charanpal</td><td>Yadav</td><td>Sehgal Circle</td><td>Male</td><td>India</td><td>Gurgaon</td><td>640326</td><td>S109</td><td>Y</td><td>2006-10-12</td><td>2016-05-13</td><td>38</td></tr><tr><td>SUBID10095</td><td>Ekaaksh</td><td>Rai</td><td>Bansal Ganj</td><td>Others</td><td>India</td><td>Pimpri-Chinchwad</td><td>158186</td><td>S107</td><td>N</td><td>1953-12-02</td><td>1960-07-29</td><td>91</td></tr><tr><td>SUBID10096</td><td>Chanak</td><td>Sonkar</td><td>Kaur</td><td>Others</td><td>India</td><td>Raurkela Industrial Township</td><td>899590</td><td>S101</td><td>Y</td><td>1979-04-07</td><td>1986-03-07</td><td>66</td></tr><tr><td>SUBID10097</td><td>Visitor/NA</td><td>Sonkar</td><td>Rana Ganj</td><td>Others</td><td>India</td><td>Mira-Bhayandar</td><td>896586</td><td>S107</td><td>Y</td><td>1960-02-04</td><td>1965-01-12</td><td>85</td></tr><tr><td>SUBID1098</td><td>Pushkar</td><td>Kumar</td><td>Sodhi Zila</td><td>Others</td><td>India</td><td>Korba</td><td>910732</td><td>S107</td><td>Y</td><td>1954-10-05</td><td>1961-04-05</td><td>90</td></tr><tr><td>SUBID10099</td><td>Shikha</td><td>Srivastav</td><td>Ahuja Road</td><td>Others</td><td>India</td><td>Nanded</td><td>101500</td><td>S109</td><td>Y</td><td>1990-09-06</td><td>1997-11-27</td><td>55</td></tr></tbody></table></div>"
      ]
     },
     "metadata": {
      "application/vnd.databricks.v1+output": {
       "addedWidgets": {},
       "aggData": [],
       "aggError": "",
       "aggOverflow": false,
       "aggSchema": [],
       "aggSeriesLimitReached": false,
       "aggType": "",
       "arguments": {},
       "columnCustomDisplayInfos": {},
       "data": [
        [
         "SUBID10000",
         "Harbir",
         "Vishwakarma",
         "Baria Marg",
         "Female",
         "India",
         "Rourkela",
         767058,
         "S107",
         "Y",
         "1944-06-30",
         "1954-01-14",
         101
        ],
        [
         "SUBID10001",
         "Brahmdev",
         "Sonkar",
         "Lala Marg",
         "Female",
         "India",
         "Tiruvottiyur",
         34639,
         "S105",
         "Y",
         "1968-12-20",
         "1970-05-16",
         76
        ],
        [
         "SUBID10002",
         "Ujjawal",
         "Devi",
         "Mammen Zila",
         "Male",
         "India",
         "Berhampur",
         914455,
         "S106",
         "N",
         "2000-04-16",
         "2008-05-04",
         45
        ],
        [
         "SUBID10003",
         "Ballari",
         "Mishra",
         "Sahni Zila",
         "Female",
         "India",
         "Bihar Sharif",
         91481,
         "S104",
         "N",
         "1989-09-25",
         "1995-06-05",
         55
        ],
        [
         "SUBID10004",
         "Devnath",
         "Srivastav",
         "Magar Zila",
         "Female",
         "India",
         "Bidhannagar",
         531742,
         "S110",
         "N",
         "1966-05-01",
         "1970-12-09",
         79
        ],
        [
         "SUBID10005",
         "Atasi",
         "Seth",
         "Khatri Nagar",
         "Male",
         "India",
         "Amravati",
         229062,
         "S104",
         "Y",
         "1987-10-02",
         "1995-02-13",
         57
        ],
        [
         "SUBID1006",
         "Manish",
         "Maurya",
         "Swaminathan Chowk",
         "Male",
         "India",
         "Panvel",
         438733,
         "S109",
         "N",
         "1987-06-06",
         "1995-03-21",
         58
        ],
        [
         "SUBID10007",
         "Aakar",
         "Yadav",
         "Swamy",
         "Female",
         "India",
         "Bihar Sharif",
         535907,
         "S104",
         "N",
         "1945-03-05",
         "1946-11-07",
         100
        ],
        [
         "SUBID10008",
         "Gurudas",
         "Gupta",
         "Sarin Nagar",
         "Male",
         "India",
         "Kamarhati",
         933226,
         "S103",
         "Y",
         "1965-05-06",
         "1970-09-16",
         80
        ],
        [
         "SUBID10009",
         "Visitor/NA",
         "Gupta",
         "Thakur Circle",
         "Male",
         "India",
         "Bangalore",
         957469,
         "S105",
         "Y",
         "1945-06-12",
         "1953-08-30",
         100
        ],
        [
         "SUBID1010",
         "Visitor/NA",
         "Divedi",
         "Dhillon",
         "Male",
         "India",
         "Rajkot",
         911319,
         "S102",
         "Y",
         "1996-02-03",
         "2002-01-27",
         49
        ],
        [
         "SUBID10011",
         "Visitor/NA",
         "Vishwakarma",
         "Rajagopalan",
         "Female",
         "India",
         "Ghaziabad",
         337042,
         "S106",
         "N",
         "1975-01-22",
         "1978-11-02",
         70
        ],
        [
         "SUBID10012",
         "Dharmadaas",
         "Tiwari",
         "Rama",
         "Male",
         "India",
         "Bhalswa Jahangir Pur",
         430793,
         "S103",
         "N",
         "1984-04-29",
         "1988-02-07",
         61
        ],
        [
         "SUBID10013",
         "Brahmvir",
         "Rai",
         "Shah Path",
         "Male",
         "India",
         "Ambala",
         249898,
         "S106",
         "N",
         "2011-11-11",
         "2020-05-23",
         33
        ],
        [
         "SUBID10014",
         "Visitor/NA",
         "Srivastav",
         "Chandra Path",
         "Female",
         "India",
         "Surendranagar Dudhrej",
         111966,
         "S102",
         "N",
         "2001-01-25",
         "2005-07-13",
         44
        ],
        [
         "SUBID10015",
         "Bhagvan",
         "Srivastav",
         "Edwin",
         "Female",
         "India",
         "Bhimavaram",
         436513,
         "S105",
         "Y",
         "1986-07-24",
         "1988-02-04",
         59
        ],
        [
         "SUBID10016",
         "Amritkala",
         "Srivastav",
         "Guha Path",
         "Female",
         "India",
         "Meerut",
         863467,
         "S106",
         "Y",
         "1953-11-20",
         "1955-07-29",
         91
        ],
        [
         "SUBID10017",
         "Bandhu",
         "Seth",
         "Varughese",
         "Male",
         "India",
         "Chinsurah",
         136713,
         "S108",
         "N",
         "2016-10-15",
         "2018-06-08",
         28
        ],
        [
         "SUBID10018",
         "Bhagavaana",
         "Kumar",
         "Kulkarni Zila",
         "Female",
         "India",
         "Shahjahanpur",
         597276,
         "S101",
         "N",
         "1955-09-16",
         "1958-05-31",
         90
        ],
        [
         "SUBID10019",
         "Visitor/NA",
         "Maurya",
         "Sharaf Nagar",
         "Female",
         "India",
         "Jabalpur",
         958538,
         "S104",
         "N",
         "1944-11-09",
         "1951-10-14",
         100
        ],
        [
         "SUBID1020",
         "Umang",
         "Srivastav",
         "Balay Chowk",
         "Female",
         "India",
         "Haridwar",
         181692,
         "S109",
         "Y",
         "1983-07-14",
         "1986-01-15",
         62
        ],
        [
         "SUBID1021",
         "Darsana",
         "Yadav",
         "Upadhyay Zila",
         "Male",
         "India",
         "Dibrugarh",
         187414,
         "S109",
         "Y",
         "1952-05-29",
         "1953-10-14",
         93
        ],
        [
         "SUBID10022",
         "Prakash",
         "Rao",
         "Sachar",
         "Female",
         "India",
         "Kottayam",
         180680,
         "S110",
         "N",
         "1943-09-15",
         "1948-10-19",
         102
        ],
        [
         "SUBID10023",
         "Vaijayanti",
         "Pratap",
         "Khalsa Nagar",
         "Male",
         "India",
         "Mira-Bhayandar",
         419190,
         "S102",
         "Y",
         "1940-11-13",
         "1946-03-10",
         104
        ],
        [
         "SUBID10024",
         "Menakshi",
         "Seth",
         "Wable Street",
         "Male",
         "India",
         "Kamarhati",
         882577,
         "S107",
         "N",
         "2007-03-06",
         "2014-02-25",
         38
        ],
        [
         "SUBID10025",
         "Visitor/NA",
         "Tiwari",
         "Sha Chowk",
         "Male",
         "India",
         "Karimnagar",
         567762,
         "S106",
         "N",
         "1975-12-24",
         "1983-02-03",
         69
        ],
        [
         "SUBID10026",
         "Ekant",
         "Sonkar",
         "Walla Road",
         "Male",
         "India",
         "Berhampore",
         948589,
         "S110",
         "Y",
         "1963-08-13",
         "1967-05-29",
         82
        ],
        [
         "SUBID10027",
         "Chancharik",
         "Pandey",
         "Karan Ganj",
         "Male",
         "India",
         "Chapra",
         154667,
         "S109",
         "N",
         "2003-09-05",
         "2011-06-12",
         42
        ],
        [
         "SUBID10028",
         "Pushti",
         "Pandit",
         "Deol Path",
         "Female",
         "India",
         "Morbi",
         284168,
         "S106",
         "N",
         "1955-10-15",
         "1959-06-04",
         89
        ],
        [
         "SUBID10029",
         "Swati",
         "Seth",
         "Kant Marg",
         "Female",
         "India",
         "Amravati",
         932221,
         "S102",
         "N",
         "2007-12-11",
         "2011-10-17",
         37
        ],
        [
         "SUBID1030",
         "Upasana",
         "Pandey",
         "Seth Chowk",
         "Male",
         "India",
         "Hyderabad",
         234823,
         "S102",
         "N",
         "1976-06-01",
         "1981-02-14",
         69
        ],
        [
         "SUBID10031",
         "Kanhaiya",
         "Lal",
         "Savant Nagar",
         "Female",
         "India",
         "Mysore",
         638433,
         "S104",
         "Y",
         "1974-10-19",
         "1977-01-03",
         70
        ],
        [
         "SUBID1032",
         "Visitor/NA",
         "Seth",
         "Sandhu Chowk",
         "Female",
         "India",
         "Gwalior",
         611826,
         "S110",
         "N",
         "1988-07-02",
         "1991-03-14",
         57
        ],
        [
         "SUBID10033",
         "Gensho",
         "Srivastav",
         "Korpal Ganj",
         "Male",
         "India",
         "Ludhiana",
         835018,
         "S101",
         "N",
         "2012-06-06",
         "2022-01-09",
         33
        ],
        [
         "SUBID1034",
         "Gopal",
         "Das",
         "Saini",
         "Male",
         "India",
         "Raebareli",
         176221,
         "S101",
         "N",
         "2006-05-14",
         "2011-04-08",
         39
        ],
        [
         "SUBID10035",
         "Dheeman",
         "Tiwari",
         "Dube Marg",
         "Male",
         "India",
         "Mysore",
         811970,
         "S101",
         "Y",
         "1965-05-04",
         "1973-11-13",
         80
        ],
        [
         "SUBID1036",
         "Upasana",
         "Thakur",
         "Vasa Ganj",
         "Female",
         "India",
         "Ratlam",
         326733,
         "S108",
         "N",
         "1947-10-03",
         "1951-02-20",
         97
        ],
        [
         "SUBID1037",
         "Visitor/NA",
         "Rajput",
         "Shere Chowk",
         "Male",
         "India",
         "Vadodara",
         877443,
         "S101",
         "Y",
         "1968-11-10",
         "1973-12-25",
         76
        ],
        [
         "SUBID1038",
         "Visitor/NA",
         "Thakur",
         "Rastogi Street",
         "Female",
         "India",
         "Vijayawada",
         438940,
         "S104",
         "N",
         "1975-04-07",
         "1982-01-25",
         70
        ],
        [
         "SUBID10039",
         "Madhubala",
         "Yadav",
         "Sangha Marg",
         "Male",
         "India",
         "Jaunpur",
         624102,
         "S104",
         "Y",
         "1957-01-11",
         "1965-10-09",
         88
        ],
        [
         "SUBID10040",
         "Anjushree",
         "Pandey",
         "Vora Ganj",
         "Male",
         "India",
         "Ghaziabad",
         782221,
         "S105",
         "N",
         "1996-07-04",
         "1999-02-17",
         49
        ],
        [
         "SUBID1041",
         "Visitor/NA",
         "Rajput",
         "Sinha Path",
         "Female",
         "India",
         "Agartala",
         303503,
         "S110",
         "Y",
         "1950-11-25",
         "1957-09-14",
         94
        ],
        [
         "SUBID10042",
         "Chakrika",
         "Sonkar",
         "Bansal Circle",
         "Male",
         "India",
         "Ranchi",
         503290,
         "S108",
         "Y",
         "1984-08-05",
         "1992-09-09",
         61
        ],
        [
         "SUBID1043",
         "Saroj",
         "Pandit",
         "Sathe Zila",
         "Female",
         "India",
         "Muzaffarpur",
         130486,
         "S103",
         "Y",
         "1962-08-26",
         "1964-08-29",
         83
        ],
        [
         "SUBID1044",
         "Ayushmati",
         "Vishwakarma",
         "Balakrishnan Street",
         "Male",
         "India",
         "Satna",
         131247,
         "S108",
         "N",
         "1952-09-20",
         "1961-01-24",
         92
        ],
        [
         "SUBID1045",
         "Drashti",
         "Divedi",
         "Wadhwa",
         "Male",
         "India",
         "Saharsa",
         581568,
         "S104",
         "Y",
         "1946-07-03",
         "1952-11-27",
         99
        ],
        [
         "SUBID10046",
         "Aayushmaan",
         "Maurya",
         "Johal Nagar",
         "Female",
         "India",
         "Mehsana",
         987281,
         "S104",
         "Y",
         "2003-11-14",
         "2012-10-22",
         41
        ],
        [
         "SUBID1047",
         "Visitor/NA",
         "Rai",
         "Sagar Chowk",
         "Male",
         "India",
         "Shivpuri",
         794170,
         "S109",
         "Y",
         "1951-02-04",
         "1955-07-14",
         94
        ],
        [
         "SUBID10048",
         "Chitranjan",
         "Mishra",
         "Madan Nagar",
         "Female",
         "India",
         "Morbi",
         945697,
         "S108",
         "N",
         "1945-09-09",
         "1952-06-21",
         100
        ],
        [
         "SUBID10049",
         "Paridhi",
         "Yadav",
         "Sant Path",
         "Female",
         "India",
         "Jabalpur",
         883754,
         "S107",
         "N",
         "1979-03-27",
         "1985-06-01",
         66
        ],
        [
         "SUBID10050",
         "Deependu",
         "Gupta",
         "Banik Ganj",
         "Female",
         "India",
         "Bareilly",
         417855,
         "S102",
         "Y",
         "1972-02-13",
         "1976-08-23",
         73
        ],
        [
         "SUBID10051",
         "Visitor/NA",
         "Rajput",
         "Chauhan Chowk",
         "Male",
         "India",
         "Baranagar",
         765234,
         "S103",
         "Y",
         "1966-10-17",
         "1969-06-26",
         78
        ],
        [
         "SUBID10052",
         "Laksman",
         "Rao",
         "Sood Marg",
         "Female",
         "India",
         "Ahmednagar",
         117923,
         "S101",
         "Y",
         "1959-05-26",
         "1960-11-07",
         86
        ],
        [
         "SUBID10053",
         "Visitor/NA",
         "Sonkar",
         "Shetty Marg",
         "Male",
         "India",
         "Pali",
         383290,
         "S102",
         "Y",
         "2008-06-27",
         "2016-10-30",
         37
        ],
        [
         "SUBID10054",
         "Shivakari",
         "Pratap",
         "Dugar Road",
         "Female",
         "India",
         "Hapur",
         28202,
         "S104",
         "N",
         "1964-11-02",
         "1967-06-15",
         80
        ],
        [
         "SUBID10055",
         "Madhu",
         "Thakur",
         "Sule Marg",
         "Male",
         "India",
         "Udaipur",
         565423,
         "S107",
         "N",
         "2004-10-23",
         "2008-07-10",
         40
        ],
        [
         "SUBID10056",
         "Chanak",
         "Gupta",
         "Shetty Nagar",
         "Male",
         "India",
         "Jalandhar",
         602989,
         "S105",
         "N",
         "1974-08-27",
         "1982-06-15",
         71
        ],
        [
         "SUBID10057",
         "Chittesh",
         "Pandey",
         "Mangal Chowk",
         "Male",
         "India",
         "Thoothukudi",
         666415,
         "S109",
         "Y",
         "1969-10-17",
         "1975-10-08",
         75
        ],
        [
         "SUBID1058",
         "Nawal",
         "Rajput",
         "Deol Nagar",
         "Male",
         "India",
         "Bhopal",
         791168,
         "S106",
         "N",
         "1960-01-22",
         "1969-04-18",
         85
        ],
        [
         "SUBID10059",
         "Gajabahu",
         "Singh",
         "Kara",
         "Male",
         "India",
         "Udupi",
         637221,
         "S101",
         "Y",
         "1979-03-15",
         "1986-07-05",
         66
        ],
        [
         "SUBID10060",
         "Jitesh",
         "Vishwakarma",
         "Gopal Path",
         "Male",
         "India",
         "Karimnagar",
         124564,
         "S110",
         "Y",
         "2003-02-03",
         "2008-04-30",
         42
        ],
        [
         "SUBID10061",
         "Visitor/NA",
         "Rajput",
         "Anand Path",
         "Female",
         "India",
         "Kharagpur",
         934938,
         "S103",
         "N",
         "1986-09-25",
         "1991-06-03",
         58
        ],
        [
         "SUBID1062",
         "Lalit",
         "Mishra",
         "Comar Street",
         "Female",
         "India",
         "Tinsukia",
         963770,
         "S103",
         "N",
         "1944-02-15",
         "1947-09-28",
         101
        ],
        [
         "SUBID1063",
         "Anshuk",
         "Srivastav",
         "Sridhar Path",
         "Male",
         "India",
         "Uluberia",
         270985,
         "S105",
         "N",
         "2011-06-17",
         "2014-07-11",
         34
        ],
        [
         "SUBID10064",
         "Visitor/NA",
         "Pandey",
         "Mangat Path",
         "Male",
         "India",
         "Panihati",
         643791,
         "S110",
         "N",
         "2014-01-13",
         "2019-02-24",
         31
        ],
        [
         "SUBID1065",
         "Dipesh",
         "Mishra",
         "Char Path",
         "Female",
         "India",
         "Kochi",
         31269,
         "S103",
         "Y",
         "1969-04-01",
         "1970-06-02",
         76
        ],
        [
         "SUBID10066",
         "Visitor/NA",
         "Seth",
         "Chaudhuri Marg",
         "Male",
         "India",
         "Kolhapur",
         597470,
         "S102",
         "N",
         "1950-09-01",
         "1957-12-01",
         95
        ],
        [
         "SUBID1067",
         "Kishan",
         "Rao",
         "Badal Nagar",
         "Male",
         "India",
         "Srikakulam",
         703899,
         "S110",
         "Y",
         "1943-05-12",
         "1946-09-20",
         102
        ],
        [
         "SUBID10068",
         "Visitor/NA",
         "Mishra",
         "Bath Nagar",
         "Female",
         "India",
         "Ambarnath",
         766224,
         "S110",
         "N",
         "1947-02-26",
         "1948-03-30",
         98
        ],
        [
         "SUBID10069",
         "Bhageeratha",
         "Srivastav",
         "Das Ganj",
         "Male",
         "India",
         "Sonipat",
         695316,
         "S103",
         "Y",
         "1993-03-21",
         "1997-08-01",
         52
        ],
        [
         "SUBID10070",
         "Balaaditya",
         "Gupta",
         "Varty Road",
         "Male",
         "India",
         "Hajipur",
         3526,
         "S109",
         "N",
         "1943-11-02",
         "1952-09-24",
         101
        ],
        [
         "SUBID10071",
         "Visitor/NA",
         "Rai",
         "Choudhury Chowk",
         "Female",
         "India",
         "Vellore",
         239532,
         "S101",
         "N",
         "1961-12-26",
         "1969-02-23",
         83
        ],
        [
         "SUBID10072",
         "Gopal",
         "Srivastav",
         "Desai Street",
         "Female",
         "India",
         "Bidhannagar",
         761800,
         "S103",
         "Y",
         "1956-03-11",
         "1964-07-28",
         89
        ],
        [
         "SUBID1073",
         "Virender",
         "Maurrya",
         "Chakrabarti",
         "Male",
         "India",
         "Bhusawal",
         374302,
         "S104",
         "N",
         "1956-10-27",
         "1961-04-27",
         88
        ],
        [
         "SUBID10074",
         "Visitor/NA",
         "Singh",
         "Kalla Path",
         "Male",
         "India",
         "Bokaro",
         866319,
         "S105",
         "Y",
         "1983-11-21",
         "1985-09-29",
         61
        ],
        [
         "SUBID10075",
         "Visitor/NA",
         "Singh",
         "Iyengar Nagar",
         "Male",
         "India",
         "Navi Mumbai",
         836175,
         "S107",
         "N",
         "1976-01-29",
         "1979-05-25",
         69
        ],
        [
         "SUBID10076",
         "Mamta",
         "Tiwari",
         "Batra",
         "Female",
         "India",
         "Secunderabad",
         123181,
         "S104",
         "N",
         "1984-12-21",
         "1987-01-08",
         60
        ],
        [
         "SUBID10077",
         "Girija",
         "Maurrya",
         "Iyengar Road",
         "Male",
         "India",
         "Jaipur",
         204379,
         "S105",
         "N",
         "1953-04-25",
         "1963-04-18",
         92
        ],
        [
         "SUBID10078",
         "Aaraadhana",
         "Rao",
         "Raval Nagar",
         "Male",
         "India",
         "Jhansi",
         429941,
         "S108",
         "N",
         "2000-02-07",
         "2005-02-06",
         45
        ],
        [
         "SUBID10079",
         "Shahnawaz",
         "Mishra",
         "Agate Path",
         "Female",
         "India",
         "Rampur",
         528893,
         "S102",
         "Y",
         "1991-06-24",
         "2000-09-13",
         54
        ],
        [
         "SUBID10080",
         "Tej",
         "Sonkar",
         "Sarraf Chowk",
         "Male",
         "India",
         "Haridwar",
         506221,
         "S105",
         "Y",
         "1962-06-11",
         "1964-10-14",
         83
        ],
        [
         "SUBID10081",
         "Mansi",
         "Divedi",
         "Bhattacharyya Road",
         "Female",
         "India",
         "Hosur",
         995152,
         "S105",
         "Y",
         "1967-03-20",
         "1971-07-25",
         78
        ],
        [
         "SUBID10082",
         "Girika",
         "Thakur",
         "Sinha Zila",
         "Female",
         "India",
         "Hospet",
         683614,
         "S102",
         "N",
         "1988-11-03",
         "1992-01-21",
         56
        ],
        [
         "SUBID10083",
         "Bhilangana",
         "Pandit",
         "Ramachandran Path",
         "Female",
         "India",
         "Fatehpur",
         359466,
         "S109",
         "Y",
         "2015-01-04",
         "2017-10-05",
         30
        ],
        [
         "SUBID10084",
         "Visitor/NA",
         "Thakur",
         "Raval Zila",
         "Female",
         "India",
         "Bhavnagar",
         464111,
         "S107",
         "Y",
         "1944-06-07",
         "1952-05-22",
         101
        ],
        [
         "SUBID10085",
         "Sukanya",
         "Sonkar",
         "Sangha Street",
         "Female",
         "India",
         "Vijayanagaram",
         226215,
         "S101",
         "N",
         "1962-01-16",
         "1967-04-10",
         83
        ],
        [
         "SUBID1086",
         "Banita",
         "Rao",
         "Thakur",
         "Male",
         "India",
         "Ghaziabad",
         907613,
         "S109",
         "N",
         "1999-01-28",
         "2000-09-05",
         46
        ],
        [
         "SUBID1087",
         "Visitor/NA",
         "Pandit",
         "Srivastava Path",
         "Female",
         "India",
         "Sambhal",
         279219,
         "S103",
         "N",
         "1944-12-10",
         "1951-07-16",
         100
        ],
        [
         "SUBID10088",
         "Visitor/NA",
         "Rajput",
         "Dua Zila",
         "Female",
         "India",
         "Tadipatri",
         743449,
         "S110",
         "N",
         "1942-07-30",
         "1949-06-07",
         103
        ],
        [
         "SUBID10089",
         "Dhuha",
         "Tiwari",
         "Aggarwal Street",
         "Male",
         "India",
         "Rampur",
         492137,
         "S104",
         "N",
         "1972-08-21",
         "1981-05-13",
         73
        ],
        [
         "SUBID10090",
         "Visitor/NA",
         "Mishra",
         "Chandran Nagar",
         "Female",
         "India",
         "Sikar",
         564747,
         "S101",
         "Y",
         "1958-06-07",
         "1967-08-23",
         87
        ],
        [
         "SUBID1091",
         "Visitor/NA",
         "Thakur",
         "Bala",
         "Male",
         "India",
         "Kamarhati",
         682652,
         "S110",
         "Y",
         "1950-12-31",
         "1958-06-21",
         94
        ],
        [
         "SUBID10092",
         "Visitor/NA",
         "Rai",
         "Karan Street",
         "Others",
         "India",
         "Ghaziabad",
         79586,
         "S108",
         "N",
         "1960-08-22",
         "1966-10-06",
         85
        ],
        [
         "SUBID10093",
         "Chandavarman",
         "Singh",
         "Sarkar Circle",
         "Others",
         "India",
         "Navi Mumbai",
         83240,
         "S110",
         "N",
         "2017-05-10",
         "2022-08-27",
         28
        ],
        [
         "SUBID10094",
         "Charanpal",
         "Yadav",
         "Sehgal Circle",
         "Male",
         "India",
         "Gurgaon",
         640326,
         "S109",
         "Y",
         "2006-10-12",
         "2016-05-13",
         38
        ],
        [
         "SUBID10095",
         "Ekaaksh",
         "Rai",
         "Bansal Ganj",
         "Others",
         "India",
         "Pimpri-Chinchwad",
         158186,
         "S107",
         "N",
         "1953-12-02",
         "1960-07-29",
         91
        ],
        [
         "SUBID10096",
         "Chanak",
         "Sonkar",
         "Kaur",
         "Others",
         "India",
         "Raurkela Industrial Township",
         899590,
         "S101",
         "Y",
         "1979-04-07",
         "1986-03-07",
         66
        ],
        [
         "SUBID10097",
         "Visitor/NA",
         "Sonkar",
         "Rana Ganj",
         "Others",
         "India",
         "Mira-Bhayandar",
         896586,
         "S107",
         "Y",
         "1960-02-04",
         "1965-01-12",
         85
        ],
        [
         "SUBID1098",
         "Pushkar",
         "Kumar",
         "Sodhi Zila",
         "Others",
         "India",
         "Korba",
         910732,
         "S107",
         "Y",
         "1954-10-05",
         "1961-04-05",
         90
        ],
        [
         "SUBID10099",
         "Shikha",
         "Srivastav",
         "Ahuja Road",
         "Others",
         "India",
         "Nanded",
         101500,
         "S109",
         "Y",
         "1990-09-06",
         "1997-11-27",
         55
        ]
       ],
       "datasetInfos": [],
       "dbfsResultPath": null,
       "isJsonSchema": true,
       "metadata": {},
       "overflow": false,
       "plotOptions": {
        "customPlotOptions": {},
        "displayType": "table",
        "pivotAggregation": null,
        "pivotColumns": null,
        "xColumns": null,
        "yColumns": null
       },
       "removedWidgets": [],
       "schema": [
        {
         "metadata": "{}",
         "name": "sub_id",
         "type": "\"string\""
        },
        {
         "metadata": "{}",
         "name": "first_name",
         "type": "\"string\""
        },
        {
         "metadata": "{}",
         "name": "last_name",
         "type": "\"string\""
        },
        {
         "metadata": "{}",
         "name": "Street",
         "type": "\"string\""
        },
        {
         "metadata": "{}",
         "name": "Gender",
         "type": "\"string\""
        },
        {
         "metadata": "{}",
         "name": "Country",
         "type": "\"string\""
        },
        {
         "metadata": "{}",
         "name": "City",
         "type": "\"string\""
        },
        {
         "metadata": "{}",
         "name": "Zip Code",
         "type": "\"integer\""
        },
        {
         "metadata": "{}",
         "name": "Subgrp_id",
         "type": "\"string\""
        },
        {
         "metadata": "{}",
         "name": "Elig_ind",
         "type": "\"string\""
        },
        {
         "metadata": "{\"__detected_date_formats\":\"d-M-yyyy\"}",
         "name": "eff_date",
         "type": "\"date\""
        },
        {
         "metadata": "{\"__detected_date_formats\":\"d-M-yyyy\"}",
         "name": "term_date",
         "type": "\"date\""
        },
        {
         "metadata": "{}",
         "name": "age",
         "type": "\"integer\""
        }
       ],
       "type": "table"
      }
     },
     "output_type": "display_data"
    }
   ],
   "source": [
    "df = df.withColumn('Subgrp_id', \n",
    "        when((col('Subgrp_id').isNull()) & (col('sub_id') == 'SUBID10022'), 'S110')\\\n",
    "        .when((col('Subgrp_id').isNull()) & (col('sub_id') == 'SUBID10049'), 'S107')\\\n",
    "        .otherwise(col('Subgrp_id'))\n",
    ")\n",
    "\n",
    "df.display()"
   ]
  },
  {
   "cell_type": "code",
   "execution_count": 0,
   "metadata": {
    "application/vnd.databricks.v1+cell": {
     "cellMetadata": {
      "byteLimit": 2048000,
      "rowLimit": 10000
     },
     "inputWidgets": {},
     "nuid": "7120129f-47d1-49d3-aee5-5c3d4b11989c",
     "showTitle": false,
     "tableResultSettingsMap": {},
     "title": ""
    }
   },
   "outputs": [
    {
     "output_type": "stream",
     "name": "stdout",
     "output_type": "stream",
     "text": [
      "+------+----------+---------+------+------+-------+----+--------+---------+--------+--------+---------+---+\n|sub_id|first_name|last_name|Street|Gender|Country|City|Zip Code|Subgrp_id|Elig_ind|eff_date|term_date|age|\n+------+----------+---------+------+------+-------+----+--------+---------+--------+--------+---------+---+\n|     0|         0|        0|     0|     0|      0|   0|       0|        0|       0|       0|        0|  0|\n+------+----------+---------+------+------+-------+----+--------+---------+--------+--------+---------+---+\n\n"
     ]
    }
   ],
   "source": [
    "missingvaluecheck_alldatatypes(df)"
   ]
  },
  {
   "cell_type": "code",
   "execution_count": 0,
   "metadata": {
    "application/vnd.databricks.v1+cell": {
     "cellMetadata": {},
     "inputWidgets": {},
     "nuid": "b9baaf6e-6a7f-4958-8123-83667d546a09",
     "showTitle": false,
     "tableResultSettingsMap": {},
     "title": ""
    }
   },
   "outputs": [],
   "source": []
  }
 ],
 "metadata": {
  "application/vnd.databricks.v1+notebook": {
   "computePreferences": null,
   "dashboards": [],
   "environmentMetadata": {
    "base_environment": "",
    "environment_version": "2"
   },
   "language": "python",
   "notebookMetadata": {
    "pythonIndentUnit": 4
   },
   "notebookName": "optum_pi_workspace",
   "widgets": {}
  },
  "language_info": {
   "name": "python"
  }
 },
 "nbformat": 4,
 "nbformat_minor": 0
}