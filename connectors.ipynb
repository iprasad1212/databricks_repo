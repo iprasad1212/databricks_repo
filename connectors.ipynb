{
 "cells": [
  {
   "cell_type": "code",
   "execution_count": 0,
   "metadata": {
    "application/vnd.databricks.v1+cell": {
     "cellMetadata": {
      "byteLimit": 2048000,
      "rowLimit": 10000
     },
     "inputWidgets": {},
     "nuid": "3bd1a1a1-e834-4d0c-ab47-6deb16a6ce92",
     "showTitle": false,
     "tableResultSettingsMap": {},
     "title": ""
    }
   },
   "outputs": [],
   "source": [
    "def adlsconnector():\n",
    "    spark.conf.set(\"fs.azure.account.key.optumadlsstrg.dfs.core.windows.net\",\n",
    "    dbutils.secrets.get(scope=\"optumscope\", key=\"optum-adlskey\"))\n",
    "    print(\"adls connection successful\")"
   ]
  },
  {
   "cell_type": "code",
   "execution_count": 0,
   "metadata": {
    "application/vnd.databricks.v1+cell": {
     "cellMetadata": {
      "byteLimit": 2048000,
      "rowLimit": 10000
     },
     "inputWidgets": {},
     "nuid": "fd1c5f96-fa5d-4252-bafd-3e5e39a22204",
     "showTitle": false,
     "tableResultSettingsMap": {},
     "title": ""
    }
   },
   "outputs": [],
   "source": [
    "def readbronzedata(fn):\n",
    "    adlsconnector()\n",
    "    df = spark.read.format(\"csv\").option(\"header\", \"true\").option(\"inferSchema\",\"true\").load(\"abfss://optum@optumadlsstrg.dfs.core.windows.net/bronze/\"+fn)\n",
    "    return(df)"
   ]
  },
  {
   "cell_type": "code",
   "execution_count": 0,
   "metadata": {
    "application/vnd.databricks.v1+cell": {
     "cellMetadata": {
      "byteLimit": 2048000,
      "rowLimit": 10000
     },
     "inputWidgets": {},
     "nuid": "2c922536-acbd-4bbb-bc6b-b2e408577a0c",
     "showTitle": false,
     "tableResultSettingsMap": {},
     "title": ""
    }
   },
   "outputs": [],
   "source": [
    "def readsilverdata(fn):\n",
    "    adlsconnector()\n",
    "    df = spark.read.format(\"csv\").option(\"header\", \"true\").option(\"inferSchema\",\"true\").load(\"abfss://optum@optumadlsstrg.dfs.core.windows.net/silver/\"+fn)\n",
    "    return(df)"
   ]
  },
  {
   "cell_type": "code",
   "execution_count": 0,
   "metadata": {
    "application/vnd.databricks.v1+cell": {
     "cellMetadata": {
      "byteLimit": 2048000,
      "rowLimit": 10000
     },
     "inputWidgets": {},
     "nuid": "af000189-e1f2-4582-8179-8e3e9daf9c5a",
     "showTitle": false,
     "tableResultSettingsMap": {},
     "title": ""
    }
   },
   "outputs": [],
   "source": [
    "def readbronzedata_json(fn):\n",
    "    adlsconnector()\n",
    "    df = spark.read.format(\"json\").load(\"abfss://optum@optumadlsstrg.dfs.core.windows.net/bronze/\"+fn)\n",
    "    return(df)"
   ]
  },
  {
   "cell_type": "code",
   "execution_count": 0,
   "metadata": {
    "application/vnd.databricks.v1+cell": {
     "cellMetadata": {
      "byteLimit": 2048000,
      "rowLimit": 10000
     },
     "inputWidgets": {},
     "nuid": "cc4dacbe-57c8-437e-bea0-7de526bee2e8",
     "showTitle": false,
     "tableResultSettingsMap": {},
     "title": ""
    }
   },
   "outputs": [],
   "source": [
    "def write2silver(df,file_name):\n",
    "    silver_path = \"abfss://optum@optumadlsstrg.dfs.core.windows.net/silver/\"\n",
    "    temp_path = f\"{silver_path}/output_temp\"\n",
    "    final_path = f\"{silver_path}/{file_name}\"\n",
    "    df.coalesce(1).write.mode(\"overwrite\").option(\"header\",\"true\").csv(temp_path)\n",
    "    files = dbutils.fs.ls(temp_path)\n",
    "    csv_file = [f.path for f in files if f.path.endswith(\".csv\")][0]\n",
    "    dbutils.fs.mv(csv_file, final_path)\n",
    "    dbutils.fs.rm(temp_path, recurse = True)\n",
    "    print(f\"CSV file successfully written to {final_path}\")\n",
    "    return final_path"
   ]
  },
  {
   "cell_type": "code",
   "execution_count": 0,
   "metadata": {
    "application/vnd.databricks.v1+cell": {
     "cellMetadata": {
      "byteLimit": 2048000,
      "rowLimit": 10000
     },
     "inputWidgets": {},
     "nuid": "776a4752-c50a-4a2f-af48-221ce25552b9",
     "showTitle": false,
     "tableResultSettingsMap": {},
     "title": ""
    }
   },
   "outputs": [],
   "source": [
    "def write2gold(df,file_name):\n",
    "    gold_path = \"abfss://optum@optumadlsstrg.dfs.core.windows.net/gold/\"\n",
    "    temp_path = f\"{gold_path}/output_temp\"\n",
    "    final_path = f\"{gold_path}/{file_name}\"\n",
    "    df.coalesce(1).write.mode(\"overwrite\").option(\"header\",\"true\").csv(temp_path)\n",
    "    files = dbutils.fs.ls(temp_path)\n",
    "    csv_file = [f.path for f in files if f.path.endswith(\".csv\")][0]\n",
    "    dbutils.fs.mv(csv_file, final_path)\n",
    "    dbutils.fs.rm(temp_path, recurse = True)\n",
    "    print(f\"CSV file successfully written to {final_path}\")\n",
    "    return final_path"
   ]
  },
  {
   "cell_type": "code",
   "execution_count": 0,
   "metadata": {
    "application/vnd.databricks.v1+cell": {
     "cellMetadata": {},
     "inputWidgets": {},
     "nuid": "17792d50-5ba3-4f82-8ebb-f0662e19bf4c",
     "showTitle": false,
     "tableResultSettingsMap": {},
     "title": ""
    }
   },
   "outputs": [],
   "source": []
  }
 ],
 "metadata": {
  "application/vnd.databricks.v1+notebook": {
   "computePreferences": null,
   "dashboards": [],
   "environmentMetadata": {
    "base_environment": "",
    "environment_version": "2"
   },
   "language": "python",
   "notebookMetadata": {
    "pythonIndentUnit": 4
   },
   "notebookName": "connectors",
   "widgets": {}
  },
  "language_info": {
   "name": "python"
  }
 },
 "nbformat": 4,
 "nbformat_minor": 0
}